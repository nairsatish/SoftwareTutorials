{
  "nbformat": 4,
  "nbformat_minor": 0,
  "metadata": {
    "colab": {
      "provenance": [],
      "authorship_tag": "ABX9TyNfORDcgXElLsUwN+zuf+cf",
      "include_colab_link": true
    },
    "kernelspec": {
      "name": "python3",
      "display_name": "Python 3"
    },
    "language_info": {
      "name": "python"
    },
    "widgets": {
      "application/vnd.jupyter.widget-state+json": {
        "95da3657b7f94fb5aa52cbe1e7425d4c": {
          "model_module": "@jupyter-widgets/controls",
          "model_name": "HBoxModel",
          "model_module_version": "1.5.0",
          "state": {
            "_dom_classes": [],
            "_model_module": "@jupyter-widgets/controls",
            "_model_module_version": "1.5.0",
            "_model_name": "HBoxModel",
            "_view_count": null,
            "_view_module": "@jupyter-widgets/controls",
            "_view_module_version": "1.5.0",
            "_view_name": "HBoxView",
            "box_style": "",
            "children": [
              "IPY_MODEL_f94a5b511e6d4964abf33971abb46925",
              "IPY_MODEL_72626f26b17f41d5a896f94020de29db",
              "IPY_MODEL_cb7ac48567094b7380a675adc1cef06f",
              "IPY_MODEL_2e05b3ade0ac45fa8cd8775df9afd517"
            ],
            "layout": "IPY_MODEL_de26984ac4d74424bf02be7f8d3cd016"
          }
        },
        "f94a5b511e6d4964abf33971abb46925": {
          "model_module": "@jupyter-widgets/controls",
          "model_name": "ButtonModel",
          "model_module_version": "1.5.0",
          "state": {
            "_dom_classes": [],
            "_model_module": "@jupyter-widgets/controls",
            "_model_module_version": "1.5.0",
            "_model_name": "ButtonModel",
            "_view_count": null,
            "_view_module": "@jupyter-widgets/controls",
            "_view_module_version": "1.5.0",
            "_view_name": "ButtonView",
            "button_style": "primary",
            "description": "Reset",
            "disabled": false,
            "icon": "history",
            "layout": "IPY_MODEL_bf6b0f114e78455891c83213278b7217",
            "style": "IPY_MODEL_e589dd17580640a8b6b12c19f126099b",
            "tooltip": ""
          }
        },
        "72626f26b17f41d5a896f94020de29db": {
          "model_module": "@jupyter-widgets/controls",
          "model_name": "VBoxModel",
          "model_module_version": "1.5.0",
          "state": {
            "_dom_classes": [],
            "_model_module": "@jupyter-widgets/controls",
            "_model_module_version": "1.5.0",
            "_model_name": "VBoxModel",
            "_view_count": null,
            "_view_module": "@jupyter-widgets/controls",
            "_view_module_version": "1.5.0",
            "_view_name": "VBoxView",
            "box_style": "",
            "children": [
              "IPY_MODEL_e1bff92b957b4f5a8ed0533a5a59ff2a",
              "IPY_MODEL_ae46d0a2e8a740dca164c77c2a78e288"
            ],
            "layout": "IPY_MODEL_a16cda64c07e4c1591a30cf51f6709bb"
          }
        },
        "cb7ac48567094b7380a675adc1cef06f": {
          "model_module": "@jupyter-widgets/controls",
          "model_name": "VBoxModel",
          "model_module_version": "1.5.0",
          "state": {
            "_dom_classes": [],
            "_model_module": "@jupyter-widgets/controls",
            "_model_module_version": "1.5.0",
            "_model_name": "VBoxModel",
            "_view_count": null,
            "_view_module": "@jupyter-widgets/controls",
            "_view_module_version": "1.5.0",
            "_view_name": "VBoxView",
            "box_style": "",
            "children": [
              "IPY_MODEL_395ae000bb794c79a9a1780e28b3b017",
              "IPY_MODEL_57baa02057544a3699c0a8c41540e5bf",
              "IPY_MODEL_efe5507a890b468bbb144eea27c1aaf2"
            ],
            "layout": "IPY_MODEL_741c3dc5bbba41a68d5f24ddf6fcb151"
          }
        },
        "2e05b3ade0ac45fa8cd8775df9afd517": {
          "model_module": "@jupyter-widgets/controls",
          "model_name": "VBoxModel",
          "model_module_version": "1.5.0",
          "state": {
            "_dom_classes": [],
            "_model_module": "@jupyter-widgets/controls",
            "_model_module_version": "1.5.0",
            "_model_name": "VBoxModel",
            "_view_count": null,
            "_view_module": "@jupyter-widgets/controls",
            "_view_module_version": "1.5.0",
            "_view_name": "VBoxView",
            "box_style": "",
            "children": [
              "IPY_MODEL_0cdedd62c2bb4c97b17b303dd3381c2a",
              "IPY_MODEL_172bf7418fc242c99d1f14916aa19a9b",
              "IPY_MODEL_f32d13a12aba4669bdb7e490e77868a0",
              "IPY_MODEL_28d5f7870f3248fdb9c7948aa6d136cd"
            ],
            "layout": "IPY_MODEL_91479fbe3ff245048edf35de9a3f57a0"
          }
        },
        "de26984ac4d74424bf02be7f8d3cd016": {
          "model_module": "@jupyter-widgets/base",
          "model_name": "LayoutModel",
          "model_module_version": "1.2.0",
          "state": {
            "_model_module": "@jupyter-widgets/base",
            "_model_module_version": "1.2.0",
            "_model_name": "LayoutModel",
            "_view_count": null,
            "_view_module": "@jupyter-widgets/base",
            "_view_module_version": "1.2.0",
            "_view_name": "LayoutView",
            "align_content": null,
            "align_items": null,
            "align_self": null,
            "border": null,
            "bottom": null,
            "display": null,
            "flex": null,
            "flex_flow": null,
            "grid_area": null,
            "grid_auto_columns": null,
            "grid_auto_flow": null,
            "grid_auto_rows": null,
            "grid_column": null,
            "grid_gap": null,
            "grid_row": null,
            "grid_template_areas": null,
            "grid_template_columns": null,
            "grid_template_rows": null,
            "height": null,
            "justify_content": null,
            "justify_items": null,
            "left": null,
            "margin": null,
            "max_height": null,
            "max_width": null,
            "min_height": null,
            "min_width": null,
            "object_fit": null,
            "object_position": null,
            "order": null,
            "overflow": null,
            "overflow_x": null,
            "overflow_y": null,
            "padding": null,
            "right": null,
            "top": null,
            "visibility": null,
            "width": null
          }
        },
        "bf6b0f114e78455891c83213278b7217": {
          "model_module": "@jupyter-widgets/base",
          "model_name": "LayoutModel",
          "model_module_version": "1.2.0",
          "state": {
            "_model_module": "@jupyter-widgets/base",
            "_model_module_version": "1.2.0",
            "_model_name": "LayoutModel",
            "_view_count": null,
            "_view_module": "@jupyter-widgets/base",
            "_view_module_version": "1.2.0",
            "_view_name": "LayoutView",
            "align_content": null,
            "align_items": null,
            "align_self": null,
            "border": null,
            "bottom": null,
            "display": null,
            "flex": null,
            "flex_flow": null,
            "grid_area": null,
            "grid_auto_columns": null,
            "grid_auto_flow": null,
            "grid_auto_rows": null,
            "grid_column": null,
            "grid_gap": null,
            "grid_row": null,
            "grid_template_areas": null,
            "grid_template_columns": null,
            "grid_template_rows": null,
            "height": null,
            "justify_content": null,
            "justify_items": null,
            "left": null,
            "margin": null,
            "max_height": null,
            "max_width": null,
            "min_height": null,
            "min_width": null,
            "object_fit": null,
            "object_position": null,
            "order": null,
            "overflow": null,
            "overflow_x": null,
            "overflow_y": null,
            "padding": null,
            "right": null,
            "top": null,
            "visibility": null,
            "width": null
          }
        },
        "e589dd17580640a8b6b12c19f126099b": {
          "model_module": "@jupyter-widgets/controls",
          "model_name": "ButtonStyleModel",
          "model_module_version": "1.5.0",
          "state": {
            "_model_module": "@jupyter-widgets/controls",
            "_model_module_version": "1.5.0",
            "_model_name": "ButtonStyleModel",
            "_view_count": null,
            "_view_module": "@jupyter-widgets/base",
            "_view_module_version": "1.2.0",
            "_view_name": "StyleView",
            "button_color": null,
            "font_weight": ""
          }
        },
        "e1bff92b957b4f5a8ed0533a5a59ff2a": {
          "model_module": "@jupyter-widgets/controls",
          "model_name": "BoundedFloatTextModel",
          "model_module_version": "1.5.0",
          "state": {
            "_dom_classes": [],
            "_model_module": "@jupyter-widgets/controls",
            "_model_module_version": "1.5.0",
            "_model_name": "BoundedFloatTextModel",
            "_view_count": null,
            "_view_module": "@jupyter-widgets/controls",
            "_view_module_version": "1.5.0",
            "_view_name": "FloatTextView",
            "continuous_update": false,
            "description": "Length(um)",
            "description_tooltip": null,
            "disabled": false,
            "layout": "IPY_MODEL_534ba30a9b6c4f6da3979e813a5352e0",
            "max": 10000,
            "min": 1,
            "step": null,
            "style": "IPY_MODEL_5cc396e2422c42119de62c21a31f2dc8",
            "value": 35
          }
        },
        "ae46d0a2e8a740dca164c77c2a78e288": {
          "model_module": "@jupyter-widgets/controls",
          "model_name": "BoundedFloatTextModel",
          "model_module_version": "1.5.0",
          "state": {
            "_dom_classes": [],
            "_model_module": "@jupyter-widgets/controls",
            "_model_module_version": "1.5.0",
            "_model_name": "BoundedFloatTextModel",
            "_view_count": null,
            "_view_module": "@jupyter-widgets/controls",
            "_view_module_version": "1.5.0",
            "_view_name": "FloatTextView",
            "continuous_update": false,
            "description": "Diameter(um)",
            "description_tooltip": null,
            "disabled": false,
            "layout": "IPY_MODEL_edc612736acb4868848ae5a952ca348a",
            "max": 10000,
            "min": 1,
            "step": null,
            "style": "IPY_MODEL_fbecf60c290f4fedb08ea0939e6f5c08",
            "value": 35
          }
        },
        "a16cda64c07e4c1591a30cf51f6709bb": {
          "model_module": "@jupyter-widgets/base",
          "model_name": "LayoutModel",
          "model_module_version": "1.2.0",
          "state": {
            "_model_module": "@jupyter-widgets/base",
            "_model_module_version": "1.2.0",
            "_model_name": "LayoutModel",
            "_view_count": null,
            "_view_module": "@jupyter-widgets/base",
            "_view_module_version": "1.2.0",
            "_view_name": "LayoutView",
            "align_content": null,
            "align_items": null,
            "align_self": null,
            "border": null,
            "bottom": null,
            "display": null,
            "flex": null,
            "flex_flow": null,
            "grid_area": null,
            "grid_auto_columns": null,
            "grid_auto_flow": null,
            "grid_auto_rows": null,
            "grid_column": null,
            "grid_gap": null,
            "grid_row": null,
            "grid_template_areas": null,
            "grid_template_columns": null,
            "grid_template_rows": null,
            "height": null,
            "justify_content": null,
            "justify_items": null,
            "left": null,
            "margin": null,
            "max_height": null,
            "max_width": null,
            "min_height": null,
            "min_width": null,
            "object_fit": null,
            "object_position": null,
            "order": null,
            "overflow": null,
            "overflow_x": null,
            "overflow_y": null,
            "padding": null,
            "right": null,
            "top": null,
            "visibility": null,
            "width": null
          }
        },
        "395ae000bb794c79a9a1780e28b3b017": {
          "model_module": "@jupyter-widgets/controls",
          "model_name": "RadioButtonsModel",
          "model_module_version": "1.5.0",
          "state": {
            "_dom_classes": [],
            "_model_module": "@jupyter-widgets/controls",
            "_model_module_version": "1.5.0",
            "_model_name": "RadioButtonsModel",
            "_options_labels": [
              "Na+ Channels",
              "No Na+ Channels"
            ],
            "_view_count": null,
            "_view_module": "@jupyter-widgets/controls",
            "_view_module_version": "1.5.0",
            "_view_name": "RadioButtonsView",
            "description": "Na+:",
            "description_tooltip": null,
            "disabled": false,
            "index": 1,
            "layout": "IPY_MODEL_06c4d70b835b4c41b85c8ddeb1b720c7",
            "style": "IPY_MODEL_ae4c5a1511bc42f48991c32d79d6e0b7"
          }
        },
        "57baa02057544a3699c0a8c41540e5bf": {
          "model_module": "@jupyter-widgets/controls",
          "model_name": "RadioButtonsModel",
          "model_module_version": "1.5.0",
          "state": {
            "_dom_classes": [],
            "_model_module": "@jupyter-widgets/controls",
            "_model_module_version": "1.5.0",
            "_model_name": "RadioButtonsModel",
            "_options_labels": [
              "K+ Channels",
              "No K+ Channels"
            ],
            "_view_count": null,
            "_view_module": "@jupyter-widgets/controls",
            "_view_module_version": "1.5.0",
            "_view_name": "RadioButtonsView",
            "description": "K+:",
            "description_tooltip": null,
            "disabled": false,
            "index": 1,
            "layout": "IPY_MODEL_efc07f4c71984e0eabd7e04c1f088c5e",
            "style": "IPY_MODEL_f68dd436f17b4129a942e10828b5087f"
          }
        },
        "efe5507a890b468bbb144eea27c1aaf2": {
          "model_module": "@jupyter-widgets/controls",
          "model_name": "RadioButtonsModel",
          "model_module_version": "1.5.0",
          "state": {
            "_dom_classes": [],
            "_model_module": "@jupyter-widgets/controls",
            "_model_module_version": "1.5.0",
            "_model_name": "RadioButtonsModel",
            "_options_labels": [
              "Leak Channels",
              "No Leak Channels"
            ],
            "_view_count": null,
            "_view_module": "@jupyter-widgets/controls",
            "_view_module_version": "1.5.0",
            "_view_name": "RadioButtonsView",
            "description": "Leak:",
            "description_tooltip": null,
            "disabled": false,
            "index": 1,
            "layout": "IPY_MODEL_e2b6c66036694257969820c6b18e666a",
            "style": "IPY_MODEL_e5018fff04e94929a8220b699587aa86"
          }
        },
        "741c3dc5bbba41a68d5f24ddf6fcb151": {
          "model_module": "@jupyter-widgets/base",
          "model_name": "LayoutModel",
          "model_module_version": "1.2.0",
          "state": {
            "_model_module": "@jupyter-widgets/base",
            "_model_module_version": "1.2.0",
            "_model_name": "LayoutModel",
            "_view_count": null,
            "_view_module": "@jupyter-widgets/base",
            "_view_module_version": "1.2.0",
            "_view_name": "LayoutView",
            "align_content": null,
            "align_items": null,
            "align_self": null,
            "border": null,
            "bottom": null,
            "display": null,
            "flex": null,
            "flex_flow": null,
            "grid_area": null,
            "grid_auto_columns": null,
            "grid_auto_flow": null,
            "grid_auto_rows": null,
            "grid_column": null,
            "grid_gap": null,
            "grid_row": null,
            "grid_template_areas": null,
            "grid_template_columns": null,
            "grid_template_rows": null,
            "height": null,
            "justify_content": null,
            "justify_items": null,
            "left": null,
            "margin": null,
            "max_height": null,
            "max_width": null,
            "min_height": null,
            "min_width": null,
            "object_fit": null,
            "object_position": null,
            "order": null,
            "overflow": null,
            "overflow_x": null,
            "overflow_y": null,
            "padding": null,
            "right": null,
            "top": null,
            "visibility": null,
            "width": null
          }
        },
        "0cdedd62c2bb4c97b17b303dd3381c2a": {
          "model_module": "@jupyter-widgets/controls",
          "model_name": "BoundedFloatTextModel",
          "model_module_version": "1.5.0",
          "state": {
            "_dom_classes": [],
            "_model_module": "@jupyter-widgets/controls",
            "_model_module_version": "1.5.0",
            "_model_name": "BoundedFloatTextModel",
            "_view_count": null,
            "_view_module": "@jupyter-widgets/controls",
            "_view_module_version": "1.5.0",
            "_view_name": "FloatTextView",
            "continuous_update": false,
            "description": "Tstop(ms)",
            "description_tooltip": null,
            "disabled": false,
            "layout": "IPY_MODEL_5a1f89ba693848ec8d61c74dc6bf3489",
            "max": 1000,
            "min": 5,
            "step": null,
            "style": "IPY_MODEL_53ca5b2aa7fb4cfb9183a2dd71da971a",
            "value": 200
          }
        },
        "172bf7418fc242c99d1f14916aa19a9b": {
          "model_module": "@jupyter-widgets/controls",
          "model_name": "BoundedFloatTextModel",
          "model_module_version": "1.5.0",
          "state": {
            "_dom_classes": [],
            "_model_module": "@jupyter-widgets/controls",
            "_model_module_version": "1.5.0",
            "_model_name": "BoundedFloatTextModel",
            "_view_count": null,
            "_view_module": "@jupyter-widgets/controls",
            "_view_module_version": "1.5.0",
            "_view_name": "FloatTextView",
            "continuous_update": false,
            "description": "Injection(ms)",
            "description_tooltip": null,
            "disabled": false,
            "layout": "IPY_MODEL_7f8af5f5d8c34c8f96187ff50d7d8895",
            "max": 500,
            "min": 1,
            "step": null,
            "style": "IPY_MODEL_cb28e9ea4c744f8a8b0f76d3f98fdc39",
            "value": 2.5
          }
        },
        "f32d13a12aba4669bdb7e490e77868a0": {
          "model_module": "@jupyter-widgets/controls",
          "model_name": "BoundedFloatTextModel",
          "model_module_version": "1.5.0",
          "state": {
            "_dom_classes": [],
            "_model_module": "@jupyter-widgets/controls",
            "_model_module_version": "1.5.0",
            "_model_name": "BoundedFloatTextModel",
            "_view_count": null,
            "_view_module": "@jupyter-widgets/controls",
            "_view_module_version": "1.5.0",
            "_view_name": "FloatTextView",
            "continuous_update": false,
            "description": "Amp(nA)",
            "description_tooltip": null,
            "disabled": false,
            "layout": "IPY_MODEL_bca3c7a8b16a45ee90c5989c430ffcb2",
            "max": 100,
            "min": -100,
            "step": null,
            "style": "IPY_MODEL_e98b83fe907b4066b6b3143e748daeb2",
            "value": 50
          }
        },
        "28d5f7870f3248fdb9c7948aa6d136cd": {
          "model_module": "@jupyter-widgets/controls",
          "model_name": "BoundedFloatTextModel",
          "model_module_version": "1.5.0",
          "state": {
            "_dom_classes": [],
            "_model_module": "@jupyter-widgets/controls",
            "_model_module_version": "1.5.0",
            "_model_name": "BoundedFloatTextModel",
            "_view_count": null,
            "_view_module": "@jupyter-widgets/controls",
            "_view_module_version": "1.5.0",
            "_view_name": "FloatTextView",
            "continuous_update": false,
            "description": "Delay(ms)",
            "description_tooltip": null,
            "disabled": false,
            "layout": "IPY_MODEL_f2441b9c9ec44788aed14b5fd7bf035f",
            "max": 400,
            "min": 1,
            "step": null,
            "style": "IPY_MODEL_d415d355f0f4433b9c159d7d1fa7e28d",
            "value": 100
          }
        },
        "91479fbe3ff245048edf35de9a3f57a0": {
          "model_module": "@jupyter-widgets/base",
          "model_name": "LayoutModel",
          "model_module_version": "1.2.0",
          "state": {
            "_model_module": "@jupyter-widgets/base",
            "_model_module_version": "1.2.0",
            "_model_name": "LayoutModel",
            "_view_count": null,
            "_view_module": "@jupyter-widgets/base",
            "_view_module_version": "1.2.0",
            "_view_name": "LayoutView",
            "align_content": null,
            "align_items": null,
            "align_self": null,
            "border": null,
            "bottom": null,
            "display": null,
            "flex": null,
            "flex_flow": null,
            "grid_area": null,
            "grid_auto_columns": null,
            "grid_auto_flow": null,
            "grid_auto_rows": null,
            "grid_column": null,
            "grid_gap": null,
            "grid_row": null,
            "grid_template_areas": null,
            "grid_template_columns": null,
            "grid_template_rows": null,
            "height": null,
            "justify_content": null,
            "justify_items": null,
            "left": null,
            "margin": null,
            "max_height": null,
            "max_width": null,
            "min_height": null,
            "min_width": null,
            "object_fit": null,
            "object_position": null,
            "order": null,
            "overflow": null,
            "overflow_x": null,
            "overflow_y": null,
            "padding": null,
            "right": null,
            "top": null,
            "visibility": null,
            "width": null
          }
        },
        "534ba30a9b6c4f6da3979e813a5352e0": {
          "model_module": "@jupyter-widgets/base",
          "model_name": "LayoutModel",
          "model_module_version": "1.2.0",
          "state": {
            "_model_module": "@jupyter-widgets/base",
            "_model_module_version": "1.2.0",
            "_model_name": "LayoutModel",
            "_view_count": null,
            "_view_module": "@jupyter-widgets/base",
            "_view_module_version": "1.2.0",
            "_view_name": "LayoutView",
            "align_content": null,
            "align_items": null,
            "align_self": null,
            "border": null,
            "bottom": null,
            "display": null,
            "flex": null,
            "flex_flow": null,
            "grid_area": null,
            "grid_auto_columns": null,
            "grid_auto_flow": null,
            "grid_auto_rows": null,
            "grid_column": null,
            "grid_gap": null,
            "grid_row": null,
            "grid_template_areas": null,
            "grid_template_columns": null,
            "grid_template_rows": null,
            "height": null,
            "justify_content": null,
            "justify_items": null,
            "left": null,
            "margin": null,
            "max_height": null,
            "max_width": null,
            "min_height": null,
            "min_width": null,
            "object_fit": null,
            "object_position": null,
            "order": null,
            "overflow": null,
            "overflow_x": null,
            "overflow_y": null,
            "padding": null,
            "right": null,
            "top": null,
            "visibility": null,
            "width": null
          }
        },
        "5cc396e2422c42119de62c21a31f2dc8": {
          "model_module": "@jupyter-widgets/controls",
          "model_name": "DescriptionStyleModel",
          "model_module_version": "1.5.0",
          "state": {
            "_model_module": "@jupyter-widgets/controls",
            "_model_module_version": "1.5.0",
            "_model_name": "DescriptionStyleModel",
            "_view_count": null,
            "_view_module": "@jupyter-widgets/base",
            "_view_module_version": "1.2.0",
            "_view_name": "StyleView",
            "description_width": ""
          }
        },
        "edc612736acb4868848ae5a952ca348a": {
          "model_module": "@jupyter-widgets/base",
          "model_name": "LayoutModel",
          "model_module_version": "1.2.0",
          "state": {
            "_model_module": "@jupyter-widgets/base",
            "_model_module_version": "1.2.0",
            "_model_name": "LayoutModel",
            "_view_count": null,
            "_view_module": "@jupyter-widgets/base",
            "_view_module_version": "1.2.0",
            "_view_name": "LayoutView",
            "align_content": null,
            "align_items": null,
            "align_self": null,
            "border": null,
            "bottom": null,
            "display": null,
            "flex": null,
            "flex_flow": null,
            "grid_area": null,
            "grid_auto_columns": null,
            "grid_auto_flow": null,
            "grid_auto_rows": null,
            "grid_column": null,
            "grid_gap": null,
            "grid_row": null,
            "grid_template_areas": null,
            "grid_template_columns": null,
            "grid_template_rows": null,
            "height": null,
            "justify_content": null,
            "justify_items": null,
            "left": null,
            "margin": null,
            "max_height": null,
            "max_width": null,
            "min_height": null,
            "min_width": null,
            "object_fit": null,
            "object_position": null,
            "order": null,
            "overflow": null,
            "overflow_x": null,
            "overflow_y": null,
            "padding": null,
            "right": null,
            "top": null,
            "visibility": null,
            "width": null
          }
        },
        "fbecf60c290f4fedb08ea0939e6f5c08": {
          "model_module": "@jupyter-widgets/controls",
          "model_name": "DescriptionStyleModel",
          "model_module_version": "1.5.0",
          "state": {
            "_model_module": "@jupyter-widgets/controls",
            "_model_module_version": "1.5.0",
            "_model_name": "DescriptionStyleModel",
            "_view_count": null,
            "_view_module": "@jupyter-widgets/base",
            "_view_module_version": "1.2.0",
            "_view_name": "StyleView",
            "description_width": ""
          }
        },
        "06c4d70b835b4c41b85c8ddeb1b720c7": {
          "model_module": "@jupyter-widgets/base",
          "model_name": "LayoutModel",
          "model_module_version": "1.2.0",
          "state": {
            "_model_module": "@jupyter-widgets/base",
            "_model_module_version": "1.2.0",
            "_model_name": "LayoutModel",
            "_view_count": null,
            "_view_module": "@jupyter-widgets/base",
            "_view_module_version": "1.2.0",
            "_view_name": "LayoutView",
            "align_content": null,
            "align_items": null,
            "align_self": null,
            "border": null,
            "bottom": null,
            "display": null,
            "flex": null,
            "flex_flow": null,
            "grid_area": null,
            "grid_auto_columns": null,
            "grid_auto_flow": null,
            "grid_auto_rows": null,
            "grid_column": null,
            "grid_gap": null,
            "grid_row": null,
            "grid_template_areas": null,
            "grid_template_columns": null,
            "grid_template_rows": null,
            "height": null,
            "justify_content": null,
            "justify_items": null,
            "left": null,
            "margin": null,
            "max_height": null,
            "max_width": null,
            "min_height": null,
            "min_width": null,
            "object_fit": null,
            "object_position": null,
            "order": null,
            "overflow": null,
            "overflow_x": null,
            "overflow_y": null,
            "padding": null,
            "right": null,
            "top": null,
            "visibility": null,
            "width": null
          }
        },
        "ae4c5a1511bc42f48991c32d79d6e0b7": {
          "model_module": "@jupyter-widgets/controls",
          "model_name": "DescriptionStyleModel",
          "model_module_version": "1.5.0",
          "state": {
            "_model_module": "@jupyter-widgets/controls",
            "_model_module_version": "1.5.0",
            "_model_name": "DescriptionStyleModel",
            "_view_count": null,
            "_view_module": "@jupyter-widgets/base",
            "_view_module_version": "1.2.0",
            "_view_name": "StyleView",
            "description_width": ""
          }
        },
        "efc07f4c71984e0eabd7e04c1f088c5e": {
          "model_module": "@jupyter-widgets/base",
          "model_name": "LayoutModel",
          "model_module_version": "1.2.0",
          "state": {
            "_model_module": "@jupyter-widgets/base",
            "_model_module_version": "1.2.0",
            "_model_name": "LayoutModel",
            "_view_count": null,
            "_view_module": "@jupyter-widgets/base",
            "_view_module_version": "1.2.0",
            "_view_name": "LayoutView",
            "align_content": null,
            "align_items": null,
            "align_self": null,
            "border": null,
            "bottom": null,
            "display": null,
            "flex": null,
            "flex_flow": null,
            "grid_area": null,
            "grid_auto_columns": null,
            "grid_auto_flow": null,
            "grid_auto_rows": null,
            "grid_column": null,
            "grid_gap": null,
            "grid_row": null,
            "grid_template_areas": null,
            "grid_template_columns": null,
            "grid_template_rows": null,
            "height": null,
            "justify_content": null,
            "justify_items": null,
            "left": null,
            "margin": null,
            "max_height": null,
            "max_width": null,
            "min_height": null,
            "min_width": null,
            "object_fit": null,
            "object_position": null,
            "order": null,
            "overflow": null,
            "overflow_x": null,
            "overflow_y": null,
            "padding": null,
            "right": null,
            "top": null,
            "visibility": null,
            "width": null
          }
        },
        "f68dd436f17b4129a942e10828b5087f": {
          "model_module": "@jupyter-widgets/controls",
          "model_name": "DescriptionStyleModel",
          "model_module_version": "1.5.0",
          "state": {
            "_model_module": "@jupyter-widgets/controls",
            "_model_module_version": "1.5.0",
            "_model_name": "DescriptionStyleModel",
            "_view_count": null,
            "_view_module": "@jupyter-widgets/base",
            "_view_module_version": "1.2.0",
            "_view_name": "StyleView",
            "description_width": ""
          }
        },
        "e2b6c66036694257969820c6b18e666a": {
          "model_module": "@jupyter-widgets/base",
          "model_name": "LayoutModel",
          "model_module_version": "1.2.0",
          "state": {
            "_model_module": "@jupyter-widgets/base",
            "_model_module_version": "1.2.0",
            "_model_name": "LayoutModel",
            "_view_count": null,
            "_view_module": "@jupyter-widgets/base",
            "_view_module_version": "1.2.0",
            "_view_name": "LayoutView",
            "align_content": null,
            "align_items": null,
            "align_self": null,
            "border": null,
            "bottom": null,
            "display": null,
            "flex": null,
            "flex_flow": null,
            "grid_area": null,
            "grid_auto_columns": null,
            "grid_auto_flow": null,
            "grid_auto_rows": null,
            "grid_column": null,
            "grid_gap": null,
            "grid_row": null,
            "grid_template_areas": null,
            "grid_template_columns": null,
            "grid_template_rows": null,
            "height": null,
            "justify_content": null,
            "justify_items": null,
            "left": null,
            "margin": null,
            "max_height": null,
            "max_width": null,
            "min_height": null,
            "min_width": null,
            "object_fit": null,
            "object_position": null,
            "order": null,
            "overflow": null,
            "overflow_x": null,
            "overflow_y": null,
            "padding": null,
            "right": null,
            "top": null,
            "visibility": null,
            "width": null
          }
        },
        "e5018fff04e94929a8220b699587aa86": {
          "model_module": "@jupyter-widgets/controls",
          "model_name": "DescriptionStyleModel",
          "model_module_version": "1.5.0",
          "state": {
            "_model_module": "@jupyter-widgets/controls",
            "_model_module_version": "1.5.0",
            "_model_name": "DescriptionStyleModel",
            "_view_count": null,
            "_view_module": "@jupyter-widgets/base",
            "_view_module_version": "1.2.0",
            "_view_name": "StyleView",
            "description_width": ""
          }
        },
        "5a1f89ba693848ec8d61c74dc6bf3489": {
          "model_module": "@jupyter-widgets/base",
          "model_name": "LayoutModel",
          "model_module_version": "1.2.0",
          "state": {
            "_model_module": "@jupyter-widgets/base",
            "_model_module_version": "1.2.0",
            "_model_name": "LayoutModel",
            "_view_count": null,
            "_view_module": "@jupyter-widgets/base",
            "_view_module_version": "1.2.0",
            "_view_name": "LayoutView",
            "align_content": null,
            "align_items": null,
            "align_self": null,
            "border": null,
            "bottom": null,
            "display": null,
            "flex": null,
            "flex_flow": null,
            "grid_area": null,
            "grid_auto_columns": null,
            "grid_auto_flow": null,
            "grid_auto_rows": null,
            "grid_column": null,
            "grid_gap": null,
            "grid_row": null,
            "grid_template_areas": null,
            "grid_template_columns": null,
            "grid_template_rows": null,
            "height": null,
            "justify_content": null,
            "justify_items": null,
            "left": null,
            "margin": null,
            "max_height": null,
            "max_width": null,
            "min_height": null,
            "min_width": null,
            "object_fit": null,
            "object_position": null,
            "order": null,
            "overflow": null,
            "overflow_x": null,
            "overflow_y": null,
            "padding": null,
            "right": null,
            "top": null,
            "visibility": null,
            "width": null
          }
        },
        "53ca5b2aa7fb4cfb9183a2dd71da971a": {
          "model_module": "@jupyter-widgets/controls",
          "model_name": "DescriptionStyleModel",
          "model_module_version": "1.5.0",
          "state": {
            "_model_module": "@jupyter-widgets/controls",
            "_model_module_version": "1.5.0",
            "_model_name": "DescriptionStyleModel",
            "_view_count": null,
            "_view_module": "@jupyter-widgets/base",
            "_view_module_version": "1.2.0",
            "_view_name": "StyleView",
            "description_width": ""
          }
        },
        "7f8af5f5d8c34c8f96187ff50d7d8895": {
          "model_module": "@jupyter-widgets/base",
          "model_name": "LayoutModel",
          "model_module_version": "1.2.0",
          "state": {
            "_model_module": "@jupyter-widgets/base",
            "_model_module_version": "1.2.0",
            "_model_name": "LayoutModel",
            "_view_count": null,
            "_view_module": "@jupyter-widgets/base",
            "_view_module_version": "1.2.0",
            "_view_name": "LayoutView",
            "align_content": null,
            "align_items": null,
            "align_self": null,
            "border": null,
            "bottom": null,
            "display": null,
            "flex": null,
            "flex_flow": null,
            "grid_area": null,
            "grid_auto_columns": null,
            "grid_auto_flow": null,
            "grid_auto_rows": null,
            "grid_column": null,
            "grid_gap": null,
            "grid_row": null,
            "grid_template_areas": null,
            "grid_template_columns": null,
            "grid_template_rows": null,
            "height": null,
            "justify_content": null,
            "justify_items": null,
            "left": null,
            "margin": null,
            "max_height": null,
            "max_width": null,
            "min_height": null,
            "min_width": null,
            "object_fit": null,
            "object_position": null,
            "order": null,
            "overflow": null,
            "overflow_x": null,
            "overflow_y": null,
            "padding": null,
            "right": null,
            "top": null,
            "visibility": null,
            "width": null
          }
        },
        "cb28e9ea4c744f8a8b0f76d3f98fdc39": {
          "model_module": "@jupyter-widgets/controls",
          "model_name": "DescriptionStyleModel",
          "model_module_version": "1.5.0",
          "state": {
            "_model_module": "@jupyter-widgets/controls",
            "_model_module_version": "1.5.0",
            "_model_name": "DescriptionStyleModel",
            "_view_count": null,
            "_view_module": "@jupyter-widgets/base",
            "_view_module_version": "1.2.0",
            "_view_name": "StyleView",
            "description_width": ""
          }
        },
        "bca3c7a8b16a45ee90c5989c430ffcb2": {
          "model_module": "@jupyter-widgets/base",
          "model_name": "LayoutModel",
          "model_module_version": "1.2.0",
          "state": {
            "_model_module": "@jupyter-widgets/base",
            "_model_module_version": "1.2.0",
            "_model_name": "LayoutModel",
            "_view_count": null,
            "_view_module": "@jupyter-widgets/base",
            "_view_module_version": "1.2.0",
            "_view_name": "LayoutView",
            "align_content": null,
            "align_items": null,
            "align_self": null,
            "border": null,
            "bottom": null,
            "display": null,
            "flex": null,
            "flex_flow": null,
            "grid_area": null,
            "grid_auto_columns": null,
            "grid_auto_flow": null,
            "grid_auto_rows": null,
            "grid_column": null,
            "grid_gap": null,
            "grid_row": null,
            "grid_template_areas": null,
            "grid_template_columns": null,
            "grid_template_rows": null,
            "height": null,
            "justify_content": null,
            "justify_items": null,
            "left": null,
            "margin": null,
            "max_height": null,
            "max_width": null,
            "min_height": null,
            "min_width": null,
            "object_fit": null,
            "object_position": null,
            "order": null,
            "overflow": null,
            "overflow_x": null,
            "overflow_y": null,
            "padding": null,
            "right": null,
            "top": null,
            "visibility": null,
            "width": null
          }
        },
        "e98b83fe907b4066b6b3143e748daeb2": {
          "model_module": "@jupyter-widgets/controls",
          "model_name": "DescriptionStyleModel",
          "model_module_version": "1.5.0",
          "state": {
            "_model_module": "@jupyter-widgets/controls",
            "_model_module_version": "1.5.0",
            "_model_name": "DescriptionStyleModel",
            "_view_count": null,
            "_view_module": "@jupyter-widgets/base",
            "_view_module_version": "1.2.0",
            "_view_name": "StyleView",
            "description_width": ""
          }
        },
        "f2441b9c9ec44788aed14b5fd7bf035f": {
          "model_module": "@jupyter-widgets/base",
          "model_name": "LayoutModel",
          "model_module_version": "1.2.0",
          "state": {
            "_model_module": "@jupyter-widgets/base",
            "_model_module_version": "1.2.0",
            "_model_name": "LayoutModel",
            "_view_count": null,
            "_view_module": "@jupyter-widgets/base",
            "_view_module_version": "1.2.0",
            "_view_name": "LayoutView",
            "align_content": null,
            "align_items": null,
            "align_self": null,
            "border": null,
            "bottom": null,
            "display": null,
            "flex": null,
            "flex_flow": null,
            "grid_area": null,
            "grid_auto_columns": null,
            "grid_auto_flow": null,
            "grid_auto_rows": null,
            "grid_column": null,
            "grid_gap": null,
            "grid_row": null,
            "grid_template_areas": null,
            "grid_template_columns": null,
            "grid_template_rows": null,
            "height": null,
            "justify_content": null,
            "justify_items": null,
            "left": null,
            "margin": null,
            "max_height": null,
            "max_width": null,
            "min_height": null,
            "min_width": null,
            "object_fit": null,
            "object_position": null,
            "order": null,
            "overflow": null,
            "overflow_x": null,
            "overflow_y": null,
            "padding": null,
            "right": null,
            "top": null,
            "visibility": null,
            "width": null
          }
        },
        "d415d355f0f4433b9c159d7d1fa7e28d": {
          "model_module": "@jupyter-widgets/controls",
          "model_name": "DescriptionStyleModel",
          "model_module_version": "1.5.0",
          "state": {
            "_model_module": "@jupyter-widgets/controls",
            "_model_module_version": "1.5.0",
            "_model_name": "DescriptionStyleModel",
            "_view_count": null,
            "_view_module": "@jupyter-widgets/base",
            "_view_module_version": "1.2.0",
            "_view_name": "StyleView",
            "description_width": ""
          }
        },
        "9d7875e677504f2d880c003b8613710b": {
          "model_module": "@jupyter-widgets/output",
          "model_name": "OutputModel",
          "model_module_version": "1.0.0",
          "state": {
            "_dom_classes": [],
            "_model_module": "@jupyter-widgets/output",
            "_model_module_version": "1.0.0",
            "_model_name": "OutputModel",
            "_view_count": null,
            "_view_module": "@jupyter-widgets/output",
            "_view_module_version": "1.0.0",
            "_view_name": "OutputView",
            "layout": "IPY_MODEL_a3aa773fd4764117879b8c1502b4eeb1",
            "msg_id": "a0427e25-8725-429b-c3d0-645b564881d6",
            "outputs": [
              {
                "output_type": "display_data",
                "data": {
                  "text/plain": "<Figure size 1000x800 with 3 Axes>",
                  "image/png": "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\n"
                },
                "metadata": {}
              }
            ]
          }
        },
        "a3aa773fd4764117879b8c1502b4eeb1": {
          "model_module": "@jupyter-widgets/base",
          "model_name": "LayoutModel",
          "model_module_version": "1.2.0",
          "state": {
            "_model_module": "@jupyter-widgets/base",
            "_model_module_version": "1.2.0",
            "_model_name": "LayoutModel",
            "_view_count": null,
            "_view_module": "@jupyter-widgets/base",
            "_view_module_version": "1.2.0",
            "_view_name": "LayoutView",
            "align_content": null,
            "align_items": null,
            "align_self": null,
            "border": null,
            "bottom": null,
            "display": null,
            "flex": null,
            "flex_flow": null,
            "grid_area": null,
            "grid_auto_columns": null,
            "grid_auto_flow": null,
            "grid_auto_rows": null,
            "grid_column": null,
            "grid_gap": null,
            "grid_row": null,
            "grid_template_areas": null,
            "grid_template_columns": null,
            "grid_template_rows": null,
            "height": null,
            "justify_content": null,
            "justify_items": null,
            "left": null,
            "margin": null,
            "max_height": null,
            "max_width": null,
            "min_height": null,
            "min_width": null,
            "object_fit": null,
            "object_position": null,
            "order": null,
            "overflow": null,
            "overflow_x": null,
            "overflow_y": null,
            "padding": null,
            "right": null,
            "top": null,
            "visibility": null,
            "width": null
          }
        }
      }
    }
  },
  "cells": [
    {
      "cell_type": "markdown",
      "metadata": {
        "id": "view-in-github",
        "colab_type": "text"
      },
      "source": [
        "<a href=\"https://colab.research.google.com/github/KhuramC/SoftwareTutorials/blob/main/B1_Creating_A_Single_Cell_Model_v2.ipynb\" target=\"_parent\"><img src=\"https://colab.research.google.com/assets/colab-badge.svg\" alt=\"Open In Colab\"/></a>"
      ]
    },
    {
      "cell_type": "markdown",
      "source": [
        "# Creating A Single Cell in NEURON\n",
        "This lab will go over the morphology of a cell and how it is simulated in NEURON. It will also go over how to change the morphology by adding channels. Lastly it will go over how to make a simulation of the cell using either voltage/current clamps in NEURON."
      ],
      "metadata": {
        "id": "t9TP_julMyQE"
      }
    },
    {
      "cell_type": "markdown",
      "source": [
        "#Components of a Neuron\n",
        "Before we get to simulating a neuron, we need to know what to put in the soma of the neuron.\n",
        "Create a list of all the necessary components of the soma and then draw the\n",
        "\n",
        "1.   Create a list of the all necessary components for the soma.\n",
        "2.   Draw the soma and label it with all of the components.\n",
        "Hint: Draw the electrical circuit of the soma and show the 1:1 pairing to help make sure you have everything.\n",
        "\n",
        "In the meantime, we will install NEURON and import some libraries that will be useful later. A refresher on the electrical circuit model and how neurons are electrical circuits is provided below.\n"
      ],
      "metadata": {
        "id": "QGe4-V-8KSX1"
      }
    },
    {
      "cell_type": "code",
      "execution_count": 1,
      "metadata": {
        "colab": {
          "base_uri": "https://localhost:8080/",
          "height": 356
        },
        "id": "-7Ms6GYDvszj",
        "outputId": "2acdc9ed-92a3-4079-d0bf-a77c6e035887"
      },
      "outputs": [
        {
          "output_type": "stream",
          "name": "stdout",
          "text": [
            "Requirement already satisfied: neuron in /usr/local/lib/python3.10/dist-packages (8.2.3)\n",
            "Requirement already satisfied: numpy>=1.9.3 in /usr/local/lib/python3.10/dist-packages (from neuron) (1.23.5)\n"
          ]
        },
        {
          "output_type": "execute_result",
          "data": {
            "text/plain": [
              "<IPython.lib.display.YouTubeVideo at 0x7cbf813ba560>"
            ],
            "text/html": [
              "\n",
              "        <iframe\n",
              "            width=\"400\"\n",
              "            height=\"300\"\n",
              "            src=\"https://www.youtube.com/embed/LdumhvDBpzQ\"\n",
              "            frameborder=\"0\"\n",
              "            allowfullscreen\n",
              "            \n",
              "        ></iframe>\n",
              "        "
            ],
            "image/jpeg": "[encoded data removed]"
          },
          "metadata": {},
          "execution_count": 1
        }
      ],
      "source": [
        "RunningInCOLAB = 'google.colab' in str(get_ipython())\n",
        "if RunningInCOLAB:\n",
        "  !pip install neuron #installs NEURON if in google Colab\n",
        "\n",
        "from IPython.display import YouTubeVideo\n",
        "YouTubeVideo('LdumhvDBpzQ')"
      ]
    },
    {
      "cell_type": "code",
      "source": [
        "YouTubeVideo('YQsSrW5oX80')"
      ],
      "metadata": {
        "colab": {
          "base_uri": "https://localhost:8080/",
          "height": 321
        },
        "id": "oPyWPzu7AcAR",
        "outputId": "6acc2d3d-07d3-42d0-accf-948a1e7310c4"
      },
      "execution_count": 2,
      "outputs": [
        {
          "output_type": "execute_result",
          "data": {
            "text/plain": [
              "<IPython.lib.display.YouTubeVideo at 0x7cbf813bbac0>"
            ],
            "text/html": [
              "\n",
              "        <iframe\n",
              "            width=\"400\"\n",
              "            height=\"300\"\n",
              "            src=\"https://www.youtube.com/embed/YQsSrW5oX80\"\n",
              "            frameborder=\"0\"\n",
              "            allowfullscreen\n",
              "            \n",
              "        ></iframe>\n",
              "        "
            ],
            "image/jpeg": "[encoded data removed]"
          },
          "metadata": {},
          "execution_count": 2
        }
      ]
    },
    {
      "cell_type": "code",
      "source": [
        "from neuron import h\n",
        "import matplotlib.pyplot as plt\n",
        "import numpy as np\n",
        "h.load_file('stdrun.hoc') #necessary to later do a simulation"
      ],
      "metadata": {
        "colab": {
          "base_uri": "https://localhost:8080/"
        },
        "id": "YLqBiEU2qxGY",
        "outputId": "2ca5c3ec-941c-4658-d8ea-f635cce53eb5"
      },
      "execution_count": 3,
      "outputs": [
        {
          "output_type": "execute_result",
          "data": {
            "text/plain": [
              "1.0"
            ]
          },
          "metadata": {},
          "execution_count": 3
        }
      ]
    },
    {
      "cell_type": "markdown",
      "source": [
        "# Components of a Neuron Continued\n",
        "Your drawing should highlight the current injection into the soma, the neuron as a capacitor with liquid plates, the leak channel acting as a resistor and battery based off its reversal potential, amongst a couple of more concepts. An example of a drawing of the biological model of a neuron is given here:\n",
        "![thumbnail_4590 Neuron as an electrical circuit Jingsong Tan 2022-3.png](data:image/png;base64,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)"
      ],
      "metadata": {
        "id": "IvI5-yRRP9HE"
      }
    },
    {
      "cell_type": "markdown",
      "source": [
        "This video goes over the the lipid bilayer surrounding the cell real quick as a review as well."
      ],
      "metadata": {
        "id": "Ajw69eI5TOtm"
      }
    },
    {
      "cell_type": "code",
      "source": [
        "YouTubeVideo('x8ROEj2SFes')"
      ],
      "metadata": {
        "colab": {
          "base_uri": "https://localhost:8080/",
          "height": 321
        },
        "id": "cZ1guTpyTWxk",
        "outputId": "56d6f74e-aed0-44db-df52-8ff8fab7b856"
      },
      "execution_count": 4,
      "outputs": [
        {
          "output_type": "execute_result",
          "data": {
            "text/plain": [
              "<IPython.lib.display.YouTubeVideo at 0x7cbf813bba00>"
            ],
            "text/html": [
              "\n",
              "        <iframe\n",
              "            width=\"400\"\n",
              "            height=\"300\"\n",
              "            src=\"https://www.youtube.com/embed/x8ROEj2SFes\"\n",
              "            frameborder=\"0\"\n",
              "            allowfullscreen\n",
              "            \n",
              "        ></iframe>\n",
              "        "
            ],
            "image/jpeg": "[encoded data removed]"
          },
          "metadata": {},
          "execution_count": 4
        }
      ]
    },
    {
      "cell_type": "markdown",
      "source": [
        "# From Drawings to Code\n",
        "So how do we create the soma with these things within NEURON? It's actually very simple. NEURON defines parts of the cell as sections. NEURON defines sections as cylindrical sections, with a diameter and a length.  A dendrite would be one section, the soma another, and the axon would be the last. When created, such sections are populated by default values.\n",
        "\n",
        "![image](https://raw.githubusercontent.com/chenziao/Software_Tutorials_Colab/main/S1_PassiveMembrane/cylinder.png)\n",
        "\n",
        "Every section can then be further subdivided into segments, which are equally lengthed segments that divide the section. Since nothing special is occuring in this notebook, we will divide the soma into three segments.\n",
        "\n"
      ],
      "metadata": {
        "id": "ud2WmGp_UdVe"
      }
    },
    {
      "cell_type": "code",
      "source": [
        "soma = h.Section(name='Soma') #creates soma\n",
        "soma.nseg = 3 #defines how many segments to divide soma into\n",
        "print(\"The default length is \" + str(soma.L) + \" microns\")\n",
        "print(\"The default diameter is \" + str(soma.diam) + \" microns\")\n",
        "print(\"The default capacitance is \" + str(soma.cm) + \" microFarad / cm^2\")\n",
        "print(\"The default cytoplasmic resistivity is \" + str(soma.Ra) + \" ohm-cm\")\n",
        "soma.L = 35\n",
        "soma.diam = 35\n",
        "soma_length = soma.L\n",
        "soma_diam = soma.diam\n"
      ],
      "metadata": {
        "id": "ICK852Tkq0tM",
        "colab": {
          "base_uri": "https://localhost:8080/"
        },
        "outputId": "5bc7c6b9-2425-442b-b4af-c029778f4bb7"
      },
      "execution_count": 5,
      "outputs": [
        {
          "output_type": "stream",
          "name": "stdout",
          "text": [
            "The default length is 100.0 microns\n",
            "The default diameter is 500.0 microns\n",
            "The default capacitance is 1.0 microFarad / cm^2\n",
            "The default cytoplasmic resistivity is 35.4 ohm-cm\n"
          ]
        }
      ]
    },
    {
      "cell_type": "markdown",
      "source": [
        "These values are unrealistic for mammalian neurons since they come from Hodgkin and Huxley's experiments with a squid giant axon. However, we can always change them to something different. Here we change the diameter and length to be 35 microns.\n",
        "For more information on some neurons' typical geometries, click [here.](https://synapseweb.clm.utexas.edu/dimensions-dendrites)"
      ],
      "metadata": {
        "id": "EbXSEVWfBFLy"
      }
    },
    {
      "cell_type": "markdown",
      "source": [
        "# Adding Leak/Passive Channels\n",
        "One might notice that there is many things missing from our model so far. We have no channels, and as a result there is not even a resting membrane potential. So first, let's add the passive/leak channels to our soma.\n"
      ],
      "metadata": {
        "id": "AAa26wkHCHWP"
      }
    },
    {
      "cell_type": "code",
      "source": [
        "soma.insert('pas') #inserts passive channel\n",
        "print(\"Default E_leak = \" +str(soma.e_pas) + \" mV\")\n",
        "print(\"Default g_leak = \" + str(soma.g_pas) + \" S/cm^2\")"
      ],
      "metadata": {
        "id": "jECW0hoB8iiS",
        "colab": {
          "base_uri": "https://localhost:8080/"
        },
        "outputId": "7317a1de-cf41-434b-b27b-a4e81bcaa152"
      },
      "execution_count": 6,
      "outputs": [
        {
          "output_type": "stream",
          "name": "stdout",
          "text": [
            "Default E_leak = -70.0 mV\n",
            "Default g_leak = 0.001 S/cm^2\n"
          ]
        }
      ]
    },
    {
      "cell_type": "markdown",
      "source": [
        "The resting membrane potential is just e_leak. In this case, the default values are realistic."
      ],
      "metadata": {
        "id": "eeiC5qARFse-"
      }
    },
    {
      "cell_type": "markdown",
      "source": [
        "# Adding Active Channels\n",
        "We have everything to model a passive membrane. However, active channels do exist, and can also be added. We will be inserting Hodgkin-Huxley channels to the soma, so their defaults will also be based off the squid giant axon. These hh channels also include a leak channel based off the squid giant axon, which we will not be using since we already have leak channels.\n",
        "\n"
      ],
      "metadata": {
        "id": "44E9tu-6k1KB"
      }
    },
    {
      "cell_type": "code",
      "source": [
        "soma.insert('hh') #insert Hodgkin-Huxley channels\n",
        "print(\"Default El_hh = \" +str(soma.el_hh) + \" mV\")\n",
        "print(\"Default gl_hh = \" + str(soma.gl_hh) + \" S/cm^2\")\n",
        "print(\"Default Ek = \" +str(soma.ek) + \" mV\")\n",
        "print(\"Default gkbar_hh = \" + str(soma.gkbar_hh) + \" S/cm^2\")\n",
        "print(\"Default Ena = \" +str(soma.ena) + \" mV\")\n",
        "print(\"Default gnabar_hh = \" + str(soma.gnabar_hh) + \" S/cm^2\")\n",
        "soma.gl_hh = 0 #changing soma's gleak_hh to be 0 as we already have passive channels, effectively disabling it."
      ],
      "metadata": {
        "id": "FHbWMktSk1gx",
        "colab": {
          "base_uri": "https://localhost:8080/"
        },
        "outputId": "c3ce0919-45fc-4906-e5fb-b7419a763804"
      },
      "execution_count": 7,
      "outputs": [
        {
          "output_type": "stream",
          "name": "stdout",
          "text": [
            "Default El_hh = -54.3 mV\n",
            "Default gl_hh = 0.0003 S/cm^2\n",
            "Default Ek = -77.0 mV\n",
            "Default gkbar_hh = 0.036 S/cm^2\n",
            "Default Ena = 50.0 mV\n",
            "Default gnabar_hh = 0.12 S/cm^2\n"
          ]
        }
      ]
    },
    {
      "cell_type": "markdown",
      "source": [
        "#Current Clamp\n",
        "A current clamp injects a steady current into the soma and is typically used to measure the change in voltage. Current Clamps have four parameters: the location(so where in the soma on a 0-1 scale), the duration(how long you will be injecting current for), the amplitude(how much current), and delay(how long will you wait until you inject)."
      ],
      "metadata": {
        "id": "Ci661pi0s69c"
      }
    },
    {
      "cell_type": "code",
      "source": [
        "ic = h.IClamp(soma(0.5)) # middle of soma\n",
        "ic.dur = 2.5 #ms\n",
        "ic.amp = 50 #nA\n",
        "ic.delay = 100 #ms"
      ],
      "metadata": {
        "id": "sb0a20OQtMpd"
      },
      "execution_count": 8,
      "outputs": []
    },
    {
      "cell_type": "markdown",
      "source": [
        "#Extras: Voltage Clamp\n",
        "A voltage clamp holds the voltage at a steady state value and is used to measure the current. Voltage clamps do not have a delay parameter. We will only be showcasing current clamp in this lab, but the commented code below shows how one could implement a voltage clamp."
      ],
      "metadata": {
        "id": "nZqPxIu4Itz8"
      }
    },
    {
      "cell_type": "code",
      "source": [
        "#vc = h.VClamp(soma(0.5)) #middle of soma\n",
        "#vc.dur[0] = 500 #ms\n",
        "#vc.amp[0] = -10 #mV"
      ],
      "metadata": {
        "id": "9wuIDocMNxtP"
      },
      "execution_count": 9,
      "outputs": []
    },
    {
      "cell_type": "markdown",
      "source": [
        "# Running a Simulation\n",
        "Now we have a full cell with the necessary things. But how is the voltage going to change due to our clamps? If we start a simulation, we can find out. But we need to define how long the simulation is, how long each step forward in the simulation, and record the values throughout the simulation."
      ],
      "metadata": {
        "id": "5aEP6mh72tzC"
      }
    },
    {
      "cell_type": "code",
      "source": [
        "h.v_init= soma.e_pas #initial voltage is the resting membrane potential of the soma\n",
        "h.tstop = tstop = 200 # how long to run the simulation in ms\n",
        "h.dt = 0.025 # time step (resolution) of the simulation in ms\n",
        "\n",
        "# define two vectors for recording variables\n",
        "t_vec = h.Vector()\n",
        "soma_v_vec = h.Vector()\n",
        "# record the voltage (_ref_v) and time (_ref_t) and voltage(_ref_v) into the vectors we just created\n",
        "t_vec.record(h._ref_t)\n",
        "soma_v_vec.record(soma(0.5)._ref_v)\n",
        "h.run()"
      ],
      "metadata": {
        "id": "7tNzaEcF2YzV",
        "colab": {
          "base_uri": "https://localhost:8080/"
        },
        "outputId": "4b5fe50f-3a00-49f1-fbc6-3f0f93f4f5eb"
      },
      "execution_count": 10,
      "outputs": [
        {
          "output_type": "execute_result",
          "data": {
            "text/plain": [
              "0.0"
            ]
          },
          "metadata": {},
          "execution_count": 10
        }
      ]
    },
    {
      "cell_type": "markdown",
      "source": [
        "# Plotting Results\n",
        "Even though we've ran the simulation, we need to show the results. Matplotlib allows us to graph our results with respect to time.\n",
        "What do you think will happen to the soma's voltage throughout the simulation?\n"
      ],
      "metadata": {
        "id": "qTOR0-1f5Z7W"
      }
    },
    {
      "cell_type": "code",
      "source": [
        "fig, axs = plt.subplots(1,1,figsize=(6, 6))\n",
        "axs.plot(t_vec,soma_v_vec, color = 'black') #plotting time vs current\n",
        "axs.set_title(str(soma) + ' Voltage')\n",
        "axs.set_xlabel('Time(ms)')\n",
        "axs.set_ylabel('Current (mV)')\n",
        "plt.show()"
      ],
      "metadata": {
        "id": "NZcK8cR05ukC",
        "colab": {
          "base_uri": "https://localhost:8080/",
          "height": 564
        },
        "outputId": "3ac447dd-bd23-4a5a-9660-6be671a839c7"
      },
      "execution_count": 11,
      "outputs": [
        {
          "output_type": "display_data",
          "data": {
            "text/plain": [
              "<Figure size 600x600 with 1 Axes>"
            ],
            "image/png": "[encoded data removed]"
          },
          "metadata": {}
        }
      ]
    },
    {
      "cell_type": "markdown",
      "source": [
        "An action potential occurs with the default values."
      ],
      "metadata": {
        "id": "uU8BvdJT9K4J"
      }
    },
    {
      "cell_type": "markdown",
      "source": [
        "#But What does the Soma with Channels Actually Look Like?\n",
        "Below is an interactive tool that allows you too see how the morphology of the soma changes depending on the soma's length, diameter, and what channels are inserted in. You can then also see how that will change what happens to the soma's voltage throughout the simulation.\n"
      ],
      "metadata": {
        "id": "nPRMrk_M52Uh"
      }
    },
    {
      "cell_type": "code",
      "source": [
        "#function for graphing soma morphology and voltage\n",
        "def graph(soma_length,soma_diam,leak_channel,k_channel,na_channel,t_vec,soma_v_vec,ileak_vec,ik_vec,ina_vec):\n",
        "  #Create the plot\n",
        "  fig, axs = plt.subplots(3,1,figsize=(10, 8)) # 3 subplots of the same size\n",
        "\n",
        "  #colors for the three different currents\n",
        "  leak_color = 'purple'\n",
        "  k_color = 'blue'\n",
        "  na_color = 'red'\n",
        "  soma_color = 'black'\n",
        "\n",
        "  #Soma morphology\n",
        "  #Make Soma\n",
        "  #outer lines\n",
        "  soma_xcoords = [0,soma_length]\n",
        "  soma_ycoords = [-soma_diam/2,soma_diam/2]\n",
        "  axs[0].plot(soma_xcoords,[-soma_diam/2,-soma_diam/2], color = soma_color) #bottom line\n",
        "  axs[0].plot(soma_xcoords,[soma_diam/2,soma_diam/2], color = soma_color) #upper line\n",
        "  axs[0].plot([0,0],soma_ycoords, color = soma_color) #left line\n",
        "  axs[0].plot([soma_length,soma_length],soma_ycoords, color = soma_color) #right line\n",
        "\n",
        "  #inner lines to indicate bilayer\n",
        "  in_soma_xcoords = [soma_length*0.01, soma_length*0.99]\n",
        "  in_soma_ycoords = [-soma_diam/2*0.77, soma_diam/2*0.77]\n",
        "  axs[0].plot(in_soma_xcoords,[soma_diam/2*0.77,soma_diam/2*0.77],color = soma_color) #upper line\n",
        "  axs[0].plot(in_soma_xcoords,[-soma_diam/2*0.77,-soma_diam/2*0.77],color = soma_color) #bottom line\n",
        "  axs[0].plot([soma_length*0.01,soma_length*0.01],in_soma_ycoords,color = soma_color) #left line\n",
        "  axs[0].plot([soma_length*0.99,soma_length*0.99],in_soma_ycoords,color = soma_color) #right line\n",
        "\n",
        "  #axs[0].fill_between(soma_xcoords, soma_diam/2,-soma_diam/2, color = soma_color) #soma rectangle\n",
        "\n",
        "\n",
        "\n",
        "  #Adding + and - to show that cell is naturally polarized.\n",
        "  for i in range(int(soma_length)):\n",
        "    if(i % int(soma_length/14+4) == 0 and i > 0 and i < (soma_length * 0.98)):\n",
        "      axs[0].plot(i, soma_diam/2+soma_diam/3, marker = '+', color = 'black') #upper +\n",
        "      axs[0].plot(i,soma_diam/2 * 0.25, marker = '_', color = 'black') #upper -\n",
        "\n",
        "      axs[0].plot(i, -(soma_diam/2+ soma_diam/3), marker= '+', color = 'black') #lower +\n",
        "      axs[0].plot(i,-(soma_diam/2 * 0.25), marker = '_', color = 'black') #lower -\n",
        "\n",
        "  #Adding + and - to the sides of the cell\n",
        "  axs[0].plot(soma_length*-0.025,0, marker = '+', color = 'black') #left +\n",
        "  axs[0].plot(soma_length* 0.030,0, marker = '_', color = 'black') #left -\n",
        "\n",
        "  axs[0].plot(soma_length* 1.025,0, marker = '+', color = 'black') #right +\n",
        "  axs[0].plot(soma_length* 0.970,0, marker = '_', color = 'black') #right -\n",
        "\n",
        "  #Add channels if they exist.\n",
        "  if(leak_channel == 'Leak Channels'):\n",
        "    for i in range(int(soma_length)):\n",
        "      if(i % int(soma_length / 6 + 1) == 0 and i > 0):\n",
        "        axs[0].plot(i, soma_diam/2*0.9, marker = 's', color = leak_color)\n",
        "        axs[0].plot(i, -(soma_diam/2*0.85), marker= 's', color = leak_color)\n",
        "  if(k_channel == 'K+ Channels'):\n",
        "    for i in range(int(soma_length)):\n",
        "      if(i % int(soma_length / 4 + 6) == 0 and i > 0):\n",
        "        axs[0].plot(i, soma_diam/2*0.9, marker = 's', color = k_color)\n",
        "        axs[0].plot(i, -(soma_diam/2*0.85), marker= 's', color = k_color)\n",
        "  if(na_channel == 'Na+ Channels'):\n",
        "    for i in range(int(soma_length)):\n",
        "      if(i % int(soma_length / 5 + 3) == 0 and i > 0):\n",
        "        axs[0].plot(i, soma_diam/2*0.9, marker = 's', color = na_color)\n",
        "        axs[0].plot(i, -(soma_diam/2*0.85), marker= 's', color = na_color)\n",
        "        continue\n",
        "\n",
        "\n",
        "  # Add title and labels\n",
        "  axs[0].set_title(str(soma) + ' Morphology')\n",
        "  axs[0].set_xlabel('Length(um)')\n",
        "  axs[0].set_ylabel('Height(um)')\n",
        "  axs[0].set_ylim(-soma_diam*2,soma_diam*2)\n",
        "  axs[0].set_xlim(-(soma_length*0.1),soma_length *1.1)\n",
        "\n",
        "\n",
        "\n",
        "  #Soma Voltage\n",
        "  axs[1].plot(t_vec,soma_v_vec, color = 'black') #plotting time vs voltage\n",
        "  axs[1].set_title(str(soma) + ' Voltage')\n",
        "  axs[1].set_xlabel('Time(ms)')\n",
        "  axs[1].set_ylabel('Voltage (mV)')\n",
        "\n",
        "\n",
        "  #Soma channel's currents.\n",
        "  axs[2].plot(t_vec,ina_vec, color = na_color, label = 'Na+')\n",
        "  axs[2].plot(t_vec,ik_vec, color = k_color, label = 'K+')\n",
        "  axs[2].plot(t_vec,ileak_vec, color = leak_color, label = 'Leak')\n",
        "  axs[2].legend(loc = 'upper right')\n",
        "  axs[2].set_title(str(soma) + ' Currents')\n",
        "  axs[2].set_xlabel('Time(ms)')\n",
        "  axs[2].set_ylabel('Current (nA)')\n",
        "\n",
        "  # Show the plot\n",
        "  plt.tight_layout()\n",
        "  plt.show()"
      ],
      "metadata": {
        "id": "_UN6q9j454y-"
      },
      "execution_count": 18,
      "outputs": []
    },
    {
      "cell_type": "code",
      "source": [
        "def activemodel(soma_length,soma_diam,tstop, ic_dur,ic_amp,ic_delay,leak_channel,k_channel,na_channel):\n",
        "  h.v_init= soma.e_pas #initial voltage is the resting membrane potential of the soma\n",
        "  soma.diam = soma_diam\n",
        "  soma.L = soma_length\n",
        "  h.dt = 0.025 # time step (resolution) of the simulation in ms\n",
        "  # define vectors for recording variables\n",
        "  t_vec = h.Vector()\n",
        "  soma_v_vec = h.Vector()\n",
        "  ileak_vec = h.Vector()\n",
        "  ik_vec = h.Vector()\n",
        "  ina_vec = h.Vector()\n",
        "\n",
        "  # record the voltage, time, and currents into the vectors we just created\n",
        "  t_vec.record(h._ref_t)\n",
        "  soma_v_vec.record(soma(0.5)._ref_v)\n",
        "  ileak_vec.record(soma(0.5)._ref_i_pas)\n",
        "  ik_vec.record(soma(0.5)._ref_ik)\n",
        "  ina_vec.record(soma(0.5)._ref_ina)\n",
        "\n",
        "\n",
        "  h.tstop = tstop\n",
        "  ic.dur = ic_dur\n",
        "  ic.amp = ic.amp\n",
        "  ic.delay = ic_delay\n",
        "\n",
        "  #check for if channels are open\n",
        "  if(leak_channel == 'Leak Channels'):\n",
        "    soma.g_pas = 0.001 #S/cm^2\n",
        "  else:\n",
        "    soma.g_pas = 0\n",
        "  if(k_channel == 'K+ Channels'):\n",
        "    soma.gkbar_hh = 0.036 #S/cm^2\n",
        "  else:\n",
        "    soma.gkbar_hh = 0\n",
        "  if(na_channel == 'Na+ Channels'):\n",
        "    soma.gnabar_hh = 0.12 #S/cm^2\n",
        "  else:\n",
        "    soma.gnabar_hh = 0\n",
        "  h.run()\n",
        "  plt.close('all')\n",
        "  graph(soma_length,soma_diam,leak_channel,k_channel,na_channel,t_vec,soma_v_vec,ileak_vec,ik_vec,ina_vec)\n"
      ],
      "metadata": {
        "id": "qWJt0nVcAHVi"
      },
      "execution_count": 13,
      "outputs": []
    },
    {
      "cell_type": "code",
      "source": [
        "import ipywidgets as widgets\n",
        "from ipywidgets import interactive_output,HBox,VBox,Label,Layout\n",
        "from IPython.display import display\n",
        "\n",
        "#default settings\n",
        "default_soma_length = 35 #microns\n",
        "default_soma_diam = 35 #microns\n",
        "default_leak_channel = 'No Leak Channels' #S/cm^2\n",
        "#default_g_pas = 0.001 #S/cm^2\n",
        "default_k_channel = 'No K+ Channels' #S/cm^2\n",
        "default_na_channel = 'No Na+ Channels' #S/cm^2\n",
        "default_tstop = 200 # how long to run the simulation in ms\n",
        "default_ic_dur = 2.5 #ms\n",
        "default_ic_amp = 50 #nA\n",
        "default_ic_delay = 100 #ms\n",
        "\n",
        "#Reset button\n",
        "w_reset = widgets.Button(description ='Reset', icon = 'history', button_style ='primary')\n",
        "\n",
        "#Textboxes\n",
        "w_soma_length = widgets.BoundedFloatText(value = default_soma_length, min = 1, max = 10000, description = 'Length(um)')\n",
        "w_soma_diam = widgets.BoundedFloatText(value = default_soma_diam, min = 1, max = 10000, description = 'Diameter(um)')\n",
        "w_tstop = widgets.BoundedFloatText(value = default_tstop, min = 5, max = 1000, description = 'Tstop(ms)')\n",
        "w_ic_dur = widgets.BoundedFloatText(value = default_ic_dur,min = 1, max = 500, description = 'Injection(ms)')\n",
        "w_ic_amp = widgets.BoundedFloatText(value = default_ic_amp, min = -100, max = 100, description = 'Amp(nA)')\n",
        "w_ic_delay = widgets.BoundedFloatText(value = default_ic_delay,min = 1, max = 400, description = 'Delay(ms)')\n",
        "\n",
        "#defining reset\n",
        "def reset_default(*args):\n",
        "  w_soma_length.value = default_soma_length\n",
        "  w_soma_diam.value = default_soma_diam\n",
        "  passive_select.value = 'No Leak Channels'\n",
        "  k_select.value = 'No K+ Channels'\n",
        "  na_select.value = 'No Na+ Channels'\n",
        "  w_tstop.value = default_tstop\n",
        "  w_ic_dur.value = default_ic_dur\n",
        "  w_ic_amp.value = default_ic_amp\n",
        "  w_ic_delay.value = default_ic_delay\n",
        "w_reset.on_click(reset_default)\n",
        "\n",
        "#radio buttons for channel selections\n",
        "passive_select = widgets.RadioButtons(options = ['Leak Channels', 'No Leak Channels'], value = 'No Leak Channels',description = 'Leak:', disabled = False)\n",
        "k_select = widgets.RadioButtons(options = ['K+ Channels', 'No K+ Channels'], value = 'No K+ Channels', description = 'K+:', disabled = False)\n",
        "na_select = widgets.RadioButtons(options = ['Na+ Channels', 'No Na+ Channels'], value = 'No Na+ Channels', description = 'Na+:', disabled = False)\n",
        "\n",
        "#saying what function to be done based on the widget values\n",
        "out = interactive_output(activemodel,{'soma_length': w_soma_length,'soma_diam':w_soma_diam,'tstop':w_tstop,'ic_dur':w_ic_dur,'ic_amp':w_ic_amp,'ic_delay':w_ic_delay,'leak_channel':passive_select,'k_channel':k_select,'na_channel':na_select})\n",
        "#how to display the buttons/widgets\n",
        "ui = HBox([w_reset,VBox([w_soma_length,w_soma_diam]),VBox([na_select,k_select,passive_select]),VBox([w_tstop,w_ic_dur,w_ic_amp,w_ic_delay])])\n",
        "\n",
        "\n",
        "display(ui,out)"
      ],
      "metadata": {
        "colab": {
          "base_uri": "https://localhost:8080/",
          "height": 999,
          "referenced_widgets": [
            "95da3657b7f94fb5aa52cbe1e7425d4c",
            "f94a5b511e6d4964abf33971abb46925",
            "72626f26b17f41d5a896f94020de29db",
            "cb7ac48567094b7380a675adc1cef06f",
            "2e05b3ade0ac45fa8cd8775df9afd517",
            "de26984ac4d74424bf02be7f8d3cd016",
            "bf6b0f114e78455891c83213278b7217",
            "e589dd17580640a8b6b12c19f126099b",
            "e1bff92b957b4f5a8ed0533a5a59ff2a",
            "ae46d0a2e8a740dca164c77c2a78e288",
            "a16cda64c07e4c1591a30cf51f6709bb",
            "395ae000bb794c79a9a1780e28b3b017",
            "57baa02057544a3699c0a8c41540e5bf",
            "efe5507a890b468bbb144eea27c1aaf2",
            "741c3dc5bbba41a68d5f24ddf6fcb151",
            "0cdedd62c2bb4c97b17b303dd3381c2a",
            "172bf7418fc242c99d1f14916aa19a9b",
            "f32d13a12aba4669bdb7e490e77868a0",
            "28d5f7870f3248fdb9c7948aa6d136cd",
            "91479fbe3ff245048edf35de9a3f57a0",
            "534ba30a9b6c4f6da3979e813a5352e0",
            "5cc396e2422c42119de62c21a31f2dc8",
            "edc612736acb4868848ae5a952ca348a",
            "fbecf60c290f4fedb08ea0939e6f5c08",
            "06c4d70b835b4c41b85c8ddeb1b720c7",
            "ae4c5a1511bc42f48991c32d79d6e0b7",
            "efc07f4c71984e0eabd7e04c1f088c5e",
            "f68dd436f17b4129a942e10828b5087f",
            "e2b6c66036694257969820c6b18e666a",
            "e5018fff04e94929a8220b699587aa86",
            "5a1f89ba693848ec8d61c74dc6bf3489",
            "53ca5b2aa7fb4cfb9183a2dd71da971a",
            "7f8af5f5d8c34c8f96187ff50d7d8895",
            "cb28e9ea4c744f8a8b0f76d3f98fdc39",
            "bca3c7a8b16a45ee90c5989c430ffcb2",
            "e98b83fe907b4066b6b3143e748daeb2",
            "f2441b9c9ec44788aed14b5fd7bf035f",
            "d415d355f0f4433b9c159d7d1fa7e28d",
            "9d7875e677504f2d880c003b8613710b",
            "a3aa773fd4764117879b8c1502b4eeb1"
          ]
        },
        "id": "S1KrXyo_55A4",
        "outputId": "c4c32ead-355d-45b0-dc2e-a8d1ffcb24ef"
      },
      "execution_count": 19,
      "outputs": [
        {
          "output_type": "display_data",
          "data": {
            "text/plain": [
              "HBox(children=(Button(button_style='primary', description='Reset', icon='history', style=ButtonStyle()), VBox(…"
            ],
            "application/vnd.jupyter.widget-view+json": {
              "version_major": 2,
              "version_minor": 0,
              "model_id": "95da3657b7f94fb5aa52cbe1e7425d4c"
            }
          },
          "metadata": {}
        },
        {
          "output_type": "display_data",
          "data": {
            "text/plain": [
              "Output()"
            ],
            "application/vnd.jupyter.widget-view+json": {
              "version_major": 2,
              "version_minor": 0,
              "model_id": "9d7875e677504f2d880c003b8613710b"
            }
          },
          "metadata": {}
        }
      ]
    },
    {
      "cell_type": "markdown",
      "source": [
        "# Questions\n",
        "1. What do the + and - signs represent for the soma morphology?\n",
        "2. Why is the soma divided into two parts?\n",
        "3. Why does the soma look like a rectangle when it is supposed to be modeled as a cylinder in NEURON?\n"
      ],
      "metadata": {
        "id": "k4QQfalGg6UQ"
      }
    },
    {
      "cell_type": "markdown",
      "source": [
        "# Extras: Adding More Sections\n",
        "A neuron is more than just a soma, why not add something else, like an axon.\n",
        "An axon is also just a section and can be created in the same way, but it does need to be connected to the soma. Here we demonstrate how to add an axon and connect it to the soma, but we will not be focusing on it really in this lab. A video going over the full structure of the neuron, including all the sections is available here though."
      ],
      "metadata": {
        "id": "MT33CSH3j4vo"
      }
    },
    {
      "cell_type": "code",
      "source": [
        "#axon = h.Section('axon')\n",
        "#axon.L = 40\n",
        "#axon.nseg = 3 # divided into 3 equally lengthed segments\n",
        "#axon.connect(soma(1)) #connect axon to the right end of the soma\n",
        "#h.topology() # shows topology of full cell\n",
        "YouTubeVideo('HZh0A-lWSmY')"
      ],
      "metadata": {
        "id": "J4pOjOrskPap",
        "colab": {
          "base_uri": "https://localhost:8080/",
          "height": 321
        },
        "outputId": "c903891e-b8cd-4a67-9cdb-2218c55a76c2"
      },
      "execution_count": 15,
      "outputs": [
        {
          "output_type": "execute_result",
          "data": {
            "text/plain": [
              "<IPython.lib.display.YouTubeVideo at 0x7cbf703220e0>"
            ],
            "text/html": [
              "\n",
              "        <iframe\n",
              "            width=\"400\"\n",
              "            height=\"300\"\n",
              "            src=\"https://www.youtube.com/embed/HZh0A-lWSmY\"\n",
              "            frameborder=\"0\"\n",
              "            allowfullscreen\n",
              "            \n",
              "        ></iframe>\n",
              "        "
            ],
            "image/jpeg": "[encoded data removed]"
          },
          "metadata": {},
          "execution_count": 15
        }
      ]
    },
    {
      "cell_type": "markdown",
      "source": [
        "# Conclusion\n",
        "You should now know how NEURON simulates a neuron, how to create a single cell model with channels using NEURON, the morphology of the soma, and how to use NEURON to conduct experiments/simulations of your own. For more help on how to use NEURON, click [here](http://web.mit.edu/neuron_v7.4/nrntuthtml/tutorial/tutA.html) and [here.](https://nrn.readthedocs.io/en/latest/tutorials/scripting-neuron-basics.html)"
      ],
      "metadata": {
        "id": "cTYQv8Ok-dWx"
      }
    }
  ]
}