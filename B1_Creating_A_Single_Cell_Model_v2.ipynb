{
  "nbformat": 4,
  "nbformat_minor": 0,
  "metadata": {
    "colab": {
      "provenance": [],
      "authorship_tag": "ABX9TyNYBlsNbBWxCeBNlxt2rTuF",
      "include_colab_link": true
    },
    "kernelspec": {
      "name": "python3",
      "display_name": "Python 3"
    },
    "language_info": {
      "name": "python"
    },
    "widgets": {
      "application/vnd.jupyter.widget-state+json": {
        "e82c12047a33468c91878e7156a25570": {
          "model_module": "@jupyter-widgets/controls",
          "model_name": "HBoxModel",
          "model_module_version": "1.5.0",
          "state": {
            "_dom_classes": [],
            "_model_module": "@jupyter-widgets/controls",
            "_model_module_version": "1.5.0",
            "_model_name": "HBoxModel",
            "_view_count": null,
            "_view_module": "@jupyter-widgets/controls",
            "_view_module_version": "1.5.0",
            "_view_name": "HBoxView",
            "box_style": "",
            "children": [
              "IPY_MODEL_f643461a36f84ccea4bf2b654e69923f",
              "IPY_MODEL_47551b13e038482a868e8e5fcb316b9b",
              "IPY_MODEL_436cefce133d49eb9b722e654dbc77f8",
              "IPY_MODEL_8fdb1554479e449b89fda2fdaf4cf727"
            ],
            "layout": "IPY_MODEL_f571da1553494dabbf9bf8083b4f1e84"
          }
        },
        "f643461a36f84ccea4bf2b654e69923f": {
          "model_module": "@jupyter-widgets/controls",
          "model_name": "ButtonModel",
          "model_module_version": "1.5.0",
          "state": {
            "_dom_classes": [],
            "_model_module": "@jupyter-widgets/controls",
            "_model_module_version": "1.5.0",
            "_model_name": "ButtonModel",
            "_view_count": null,
            "_view_module": "@jupyter-widgets/controls",
            "_view_module_version": "1.5.0",
            "_view_name": "ButtonView",
            "button_style": "primary",
            "description": "Reset",
            "disabled": false,
            "icon": "history",
            "layout": "IPY_MODEL_12c785c45bfd4b1fa9f2187be0c4c509",
            "style": "IPY_MODEL_1c49a6c13ff24267bf14220f1c1f99de",
            "tooltip": ""
          }
        },
        "47551b13e038482a868e8e5fcb316b9b": {
          "model_module": "@jupyter-widgets/controls",
          "model_name": "VBoxModel",
          "model_module_version": "1.5.0",
          "state": {
            "_dom_classes": [],
            "_model_module": "@jupyter-widgets/controls",
            "_model_module_version": "1.5.0",
            "_model_name": "VBoxModel",
            "_view_count": null,
            "_view_module": "@jupyter-widgets/controls",
            "_view_module_version": "1.5.0",
            "_view_name": "VBoxView",
            "box_style": "",
            "children": [
              "IPY_MODEL_29a1e2e4e2374a498d1069f3dd76967a",
              "IPY_MODEL_113e3fbe8836473095d1932672a1750c"
            ],
            "layout": "IPY_MODEL_cd98acfac9d14222b2c1630a19c9d116"
          }
        },
        "436cefce133d49eb9b722e654dbc77f8": {
          "model_module": "@jupyter-widgets/controls",
          "model_name": "VBoxModel",
          "model_module_version": "1.5.0",
          "state": {
            "_dom_classes": [],
            "_model_module": "@jupyter-widgets/controls",
            "_model_module_version": "1.5.0",
            "_model_name": "VBoxModel",
            "_view_count": null,
            "_view_module": "@jupyter-widgets/controls",
            "_view_module_version": "1.5.0",
            "_view_name": "VBoxView",
            "box_style": "",
            "children": [
              "IPY_MODEL_403b5edfba4144968cfcb476a662c1ed",
              "IPY_MODEL_6254f34fdeb648b89d024d52664b5d07",
              "IPY_MODEL_89c4df3fdebc41dab7cb49fd9c7b160b"
            ],
            "layout": "IPY_MODEL_9a0febc53bc3477597d0b6287d5101f6"
          }
        },
        "8fdb1554479e449b89fda2fdaf4cf727": {
          "model_module": "@jupyter-widgets/controls",
          "model_name": "VBoxModel",
          "model_module_version": "1.5.0",
          "state": {
            "_dom_classes": [],
            "_model_module": "@jupyter-widgets/controls",
            "_model_module_version": "1.5.0",
            "_model_name": "VBoxModel",
            "_view_count": null,
            "_view_module": "@jupyter-widgets/controls",
            "_view_module_version": "1.5.0",
            "_view_name": "VBoxView",
            "box_style": "",
            "children": [
              "IPY_MODEL_a5e728dd6b1540f88b3f0bc15d2c9beb",
              "IPY_MODEL_95a001f5b0f84cd1a54b3ce037c5ced5",
              "IPY_MODEL_9f1167ed6092402fba8514800cb7a488",
              "IPY_MODEL_712e2d7a51f94b90a1b893f5da6c3c21"
            ],
            "layout": "IPY_MODEL_5bef7b409fb64f9f917d2c7ba6d44369"
          }
        },
        "f571da1553494dabbf9bf8083b4f1e84": {
          "model_module": "@jupyter-widgets/base",
          "model_name": "LayoutModel",
          "model_module_version": "1.2.0",
          "state": {
            "_model_module": "@jupyter-widgets/base",
            "_model_module_version": "1.2.0",
            "_model_name": "LayoutModel",
            "_view_count": null,
            "_view_module": "@jupyter-widgets/base",
            "_view_module_version": "1.2.0",
            "_view_name": "LayoutView",
            "align_content": null,
            "align_items": null,
            "align_self": null,
            "border": null,
            "bottom": null,
            "display": null,
            "flex": null,
            "flex_flow": null,
            "grid_area": null,
            "grid_auto_columns": null,
            "grid_auto_flow": null,
            "grid_auto_rows": null,
            "grid_column": null,
            "grid_gap": null,
            "grid_row": null,
            "grid_template_areas": null,
            "grid_template_columns": null,
            "grid_template_rows": null,
            "height": null,
            "justify_content": null,
            "justify_items": null,
            "left": null,
            "margin": null,
            "max_height": null,
            "max_width": null,
            "min_height": null,
            "min_width": null,
            "object_fit": null,
            "object_position": null,
            "order": null,
            "overflow": null,
            "overflow_x": null,
            "overflow_y": null,
            "padding": null,
            "right": null,
            "top": null,
            "visibility": null,
            "width": null
          }
        },
        "12c785c45bfd4b1fa9f2187be0c4c509": {
          "model_module": "@jupyter-widgets/base",
          "model_name": "LayoutModel",
          "model_module_version": "1.2.0",
          "state": {
            "_model_module": "@jupyter-widgets/base",
            "_model_module_version": "1.2.0",
            "_model_name": "LayoutModel",
            "_view_count": null,
            "_view_module": "@jupyter-widgets/base",
            "_view_module_version": "1.2.0",
            "_view_name": "LayoutView",
            "align_content": null,
            "align_items": null,
            "align_self": null,
            "border": null,
            "bottom": null,
            "display": null,
            "flex": null,
            "flex_flow": null,
            "grid_area": null,
            "grid_auto_columns": null,
            "grid_auto_flow": null,
            "grid_auto_rows": null,
            "grid_column": null,
            "grid_gap": null,
            "grid_row": null,
            "grid_template_areas": null,
            "grid_template_columns": null,
            "grid_template_rows": null,
            "height": null,
            "justify_content": null,
            "justify_items": null,
            "left": null,
            "margin": null,
            "max_height": null,
            "max_width": null,
            "min_height": null,
            "min_width": null,
            "object_fit": null,
            "object_position": null,
            "order": null,
            "overflow": null,
            "overflow_x": null,
            "overflow_y": null,
            "padding": null,
            "right": null,
            "top": null,
            "visibility": null,
            "width": null
          }
        },
        "1c49a6c13ff24267bf14220f1c1f99de": {
          "model_module": "@jupyter-widgets/controls",
          "model_name": "ButtonStyleModel",
          "model_module_version": "1.5.0",
          "state": {
            "_model_module": "@jupyter-widgets/controls",
            "_model_module_version": "1.5.0",
            "_model_name": "ButtonStyleModel",
            "_view_count": null,
            "_view_module": "@jupyter-widgets/base",
            "_view_module_version": "1.2.0",
            "_view_name": "StyleView",
            "button_color": null,
            "font_weight": ""
          }
        },
        "29a1e2e4e2374a498d1069f3dd76967a": {
          "model_module": "@jupyter-widgets/controls",
          "model_name": "BoundedFloatTextModel",
          "model_module_version": "1.5.0",
          "state": {
            "_dom_classes": [],
            "_model_module": "@jupyter-widgets/controls",
            "_model_module_version": "1.5.0",
            "_model_name": "BoundedFloatTextModel",
            "_view_count": null,
            "_view_module": "@jupyter-widgets/controls",
            "_view_module_version": "1.5.0",
            "_view_name": "FloatTextView",
            "continuous_update": false,
            "description": "Length(um)",
            "description_tooltip": null,
            "disabled": false,
            "layout": "IPY_MODEL_86de8f140af0407db2d4d81144d7469b",
            "max": 10000,
            "min": 1,
            "step": null,
            "style": "IPY_MODEL_4ecca1cd4452403c93a486fc487a720e",
            "value": 35
          }
        },
        "113e3fbe8836473095d1932672a1750c": {
          "model_module": "@jupyter-widgets/controls",
          "model_name": "BoundedFloatTextModel",
          "model_module_version": "1.5.0",
          "state": {
            "_dom_classes": [],
            "_model_module": "@jupyter-widgets/controls",
            "_model_module_version": "1.5.0",
            "_model_name": "BoundedFloatTextModel",
            "_view_count": null,
            "_view_module": "@jupyter-widgets/controls",
            "_view_module_version": "1.5.0",
            "_view_name": "FloatTextView",
            "continuous_update": false,
            "description": "Diameter(um)",
            "description_tooltip": null,
            "disabled": false,
            "layout": "IPY_MODEL_e35166763a924478a276253dc572224c",
            "max": 10000,
            "min": 1,
            "step": null,
            "style": "IPY_MODEL_99c3c0cc6c08405693724998c70818a8",
            "value": 35
          }
        },
        "cd98acfac9d14222b2c1630a19c9d116": {
          "model_module": "@jupyter-widgets/base",
          "model_name": "LayoutModel",
          "model_module_version": "1.2.0",
          "state": {
            "_model_module": "@jupyter-widgets/base",
            "_model_module_version": "1.2.0",
            "_model_name": "LayoutModel",
            "_view_count": null,
            "_view_module": "@jupyter-widgets/base",
            "_view_module_version": "1.2.0",
            "_view_name": "LayoutView",
            "align_content": null,
            "align_items": null,
            "align_self": null,
            "border": null,
            "bottom": null,
            "display": null,
            "flex": null,
            "flex_flow": null,
            "grid_area": null,
            "grid_auto_columns": null,
            "grid_auto_flow": null,
            "grid_auto_rows": null,
            "grid_column": null,
            "grid_gap": null,
            "grid_row": null,
            "grid_template_areas": null,
            "grid_template_columns": null,
            "grid_template_rows": null,
            "height": null,
            "justify_content": null,
            "justify_items": null,
            "left": null,
            "margin": null,
            "max_height": null,
            "max_width": null,
            "min_height": null,
            "min_width": null,
            "object_fit": null,
            "object_position": null,
            "order": null,
            "overflow": null,
            "overflow_x": null,
            "overflow_y": null,
            "padding": null,
            "right": null,
            "top": null,
            "visibility": null,
            "width": null
          }
        },
        "403b5edfba4144968cfcb476a662c1ed": {
          "model_module": "@jupyter-widgets/controls",
          "model_name": "RadioButtonsModel",
          "model_module_version": "1.5.0",
          "state": {
            "_dom_classes": [],
            "_model_module": "@jupyter-widgets/controls",
            "_model_module_version": "1.5.0",
            "_model_name": "RadioButtonsModel",
            "_options_labels": [
              "Na+ Channels",
              "No Na+ Channels"
            ],
            "_view_count": null,
            "_view_module": "@jupyter-widgets/controls",
            "_view_module_version": "1.5.0",
            "_view_name": "RadioButtonsView",
            "description": "Na+:",
            "description_tooltip": null,
            "disabled": false,
            "index": 1,
            "layout": "IPY_MODEL_ca5a30f3101f47cb85fd875834b20464",
            "style": "IPY_MODEL_929bb1ec50d04cffaf661df27be539a6"
          }
        },
        "6254f34fdeb648b89d024d52664b5d07": {
          "model_module": "@jupyter-widgets/controls",
          "model_name": "RadioButtonsModel",
          "model_module_version": "1.5.0",
          "state": {
            "_dom_classes": [],
            "_model_module": "@jupyter-widgets/controls",
            "_model_module_version": "1.5.0",
            "_model_name": "RadioButtonsModel",
            "_options_labels": [
              "K+ Channels",
              "No K+ Channels"
            ],
            "_view_count": null,
            "_view_module": "@jupyter-widgets/controls",
            "_view_module_version": "1.5.0",
            "_view_name": "RadioButtonsView",
            "description": "K+:",
            "description_tooltip": null,
            "disabled": false,
            "index": 1,
            "layout": "IPY_MODEL_a44ac9490a2e495faf86e7e9fabd8018",
            "style": "IPY_MODEL_33e2015aac5044acb12b21da7f7a7895"
          }
        },
        "89c4df3fdebc41dab7cb49fd9c7b160b": {
          "model_module": "@jupyter-widgets/controls",
          "model_name": "RadioButtonsModel",
          "model_module_version": "1.5.0",
          "state": {
            "_dom_classes": [],
            "_model_module": "@jupyter-widgets/controls",
            "_model_module_version": "1.5.0",
            "_model_name": "RadioButtonsModel",
            "_options_labels": [
              "Leak Channels",
              "No Leak Channels"
            ],
            "_view_count": null,
            "_view_module": "@jupyter-widgets/controls",
            "_view_module_version": "1.5.0",
            "_view_name": "RadioButtonsView",
            "description": "Leak:",
            "description_tooltip": null,
            "disabled": false,
            "index": 1,
            "layout": "IPY_MODEL_7d4e2546c98f4208918e3b38a424800f",
            "style": "IPY_MODEL_f77c6d0dd62e4927bd272bd045aed998"
          }
        },
        "9a0febc53bc3477597d0b6287d5101f6": {
          "model_module": "@jupyter-widgets/base",
          "model_name": "LayoutModel",
          "model_module_version": "1.2.0",
          "state": {
            "_model_module": "@jupyter-widgets/base",
            "_model_module_version": "1.2.0",
            "_model_name": "LayoutModel",
            "_view_count": null,
            "_view_module": "@jupyter-widgets/base",
            "_view_module_version": "1.2.0",
            "_view_name": "LayoutView",
            "align_content": null,
            "align_items": null,
            "align_self": null,
            "border": null,
            "bottom": null,
            "display": null,
            "flex": null,
            "flex_flow": null,
            "grid_area": null,
            "grid_auto_columns": null,
            "grid_auto_flow": null,
            "grid_auto_rows": null,
            "grid_column": null,
            "grid_gap": null,
            "grid_row": null,
            "grid_template_areas": null,
            "grid_template_columns": null,
            "grid_template_rows": null,
            "height": null,
            "justify_content": null,
            "justify_items": null,
            "left": null,
            "margin": null,
            "max_height": null,
            "max_width": null,
            "min_height": null,
            "min_width": null,
            "object_fit": null,
            "object_position": null,
            "order": null,
            "overflow": null,
            "overflow_x": null,
            "overflow_y": null,
            "padding": null,
            "right": null,
            "top": null,
            "visibility": null,
            "width": null
          }
        },
        "a5e728dd6b1540f88b3f0bc15d2c9beb": {
          "model_module": "@jupyter-widgets/controls",
          "model_name": "BoundedFloatTextModel",
          "model_module_version": "1.5.0",
          "state": {
            "_dom_classes": [],
            "_model_module": "@jupyter-widgets/controls",
            "_model_module_version": "1.5.0",
            "_model_name": "BoundedFloatTextModel",
            "_view_count": null,
            "_view_module": "@jupyter-widgets/controls",
            "_view_module_version": "1.5.0",
            "_view_name": "FloatTextView",
            "continuous_update": false,
            "description": "Tstop(ms)",
            "description_tooltip": null,
            "disabled": false,
            "layout": "IPY_MODEL_31c9fd83e39444fd82030c6c0c787113",
            "max": 1000,
            "min": 5,
            "step": null,
            "style": "IPY_MODEL_e97eb5b12b58465695b882cf63352858",
            "value": 200
          }
        },
        "95a001f5b0f84cd1a54b3ce037c5ced5": {
          "model_module": "@jupyter-widgets/controls",
          "model_name": "BoundedFloatTextModel",
          "model_module_version": "1.5.0",
          "state": {
            "_dom_classes": [],
            "_model_module": "@jupyter-widgets/controls",
            "_model_module_version": "1.5.0",
            "_model_name": "BoundedFloatTextModel",
            "_view_count": null,
            "_view_module": "@jupyter-widgets/controls",
            "_view_module_version": "1.5.0",
            "_view_name": "FloatTextView",
            "continuous_update": false,
            "description": "Injection(ms)",
            "description_tooltip": null,
            "disabled": false,
            "layout": "IPY_MODEL_8e385587231540198643f8bb6c4ca9aa",
            "max": 500,
            "min": 1,
            "step": null,
            "style": "IPY_MODEL_c235e5c1390d445b8ef4a46100327835",
            "value": 2.5
          }
        },
        "9f1167ed6092402fba8514800cb7a488": {
          "model_module": "@jupyter-widgets/controls",
          "model_name": "BoundedFloatTextModel",
          "model_module_version": "1.5.0",
          "state": {
            "_dom_classes": [],
            "_model_module": "@jupyter-widgets/controls",
            "_model_module_version": "1.5.0",
            "_model_name": "BoundedFloatTextModel",
            "_view_count": null,
            "_view_module": "@jupyter-widgets/controls",
            "_view_module_version": "1.5.0",
            "_view_name": "FloatTextView",
            "continuous_update": false,
            "description": "Amp(nA)",
            "description_tooltip": null,
            "disabled": false,
            "layout": "IPY_MODEL_44584c573aef407fb4313537f998cf23",
            "max": 100,
            "min": -100,
            "step": null,
            "style": "IPY_MODEL_5aa6959edb7141629344a3ab97f2d620",
            "value": 50
          }
        },
        "712e2d7a51f94b90a1b893f5da6c3c21": {
          "model_module": "@jupyter-widgets/controls",
          "model_name": "BoundedFloatTextModel",
          "model_module_version": "1.5.0",
          "state": {
            "_dom_classes": [],
            "_model_module": "@jupyter-widgets/controls",
            "_model_module_version": "1.5.0",
            "_model_name": "BoundedFloatTextModel",
            "_view_count": null,
            "_view_module": "@jupyter-widgets/controls",
            "_view_module_version": "1.5.0",
            "_view_name": "FloatTextView",
            "continuous_update": false,
            "description": "Delay(ms)",
            "description_tooltip": null,
            "disabled": false,
            "layout": "IPY_MODEL_aa225e102dec4fa895e5f69004162bd3",
            "max": 400,
            "min": 1,
            "step": null,
            "style": "IPY_MODEL_48c14790ec8a4cb4a0f03e80cda2eaee",
            "value": 100
          }
        },
        "5bef7b409fb64f9f917d2c7ba6d44369": {
          "model_module": "@jupyter-widgets/base",
          "model_name": "LayoutModel",
          "model_module_version": "1.2.0",
          "state": {
            "_model_module": "@jupyter-widgets/base",
            "_model_module_version": "1.2.0",
            "_model_name": "LayoutModel",
            "_view_count": null,
            "_view_module": "@jupyter-widgets/base",
            "_view_module_version": "1.2.0",
            "_view_name": "LayoutView",
            "align_content": null,
            "align_items": null,
            "align_self": null,
            "border": null,
            "bottom": null,
            "display": null,
            "flex": null,
            "flex_flow": null,
            "grid_area": null,
            "grid_auto_columns": null,
            "grid_auto_flow": null,
            "grid_auto_rows": null,
            "grid_column": null,
            "grid_gap": null,
            "grid_row": null,
            "grid_template_areas": null,
            "grid_template_columns": null,
            "grid_template_rows": null,
            "height": null,
            "justify_content": null,
            "justify_items": null,
            "left": null,
            "margin": null,
            "max_height": null,
            "max_width": null,
            "min_height": null,
            "min_width": null,
            "object_fit": null,
            "object_position": null,
            "order": null,
            "overflow": null,
            "overflow_x": null,
            "overflow_y": null,
            "padding": null,
            "right": null,
            "top": null,
            "visibility": null,
            "width": null
          }
        },
        "86de8f140af0407db2d4d81144d7469b": {
          "model_module": "@jupyter-widgets/base",
          "model_name": "LayoutModel",
          "model_module_version": "1.2.0",
          "state": {
            "_model_module": "@jupyter-widgets/base",
            "_model_module_version": "1.2.0",
            "_model_name": "LayoutModel",
            "_view_count": null,
            "_view_module": "@jupyter-widgets/base",
            "_view_module_version": "1.2.0",
            "_view_name": "LayoutView",
            "align_content": null,
            "align_items": null,
            "align_self": null,
            "border": null,
            "bottom": null,
            "display": null,
            "flex": null,
            "flex_flow": null,
            "grid_area": null,
            "grid_auto_columns": null,
            "grid_auto_flow": null,
            "grid_auto_rows": null,
            "grid_column": null,
            "grid_gap": null,
            "grid_row": null,
            "grid_template_areas": null,
            "grid_template_columns": null,
            "grid_template_rows": null,
            "height": null,
            "justify_content": null,
            "justify_items": null,
            "left": null,
            "margin": null,
            "max_height": null,
            "max_width": null,
            "min_height": null,
            "min_width": null,
            "object_fit": null,
            "object_position": null,
            "order": null,
            "overflow": null,
            "overflow_x": null,
            "overflow_y": null,
            "padding": null,
            "right": null,
            "top": null,
            "visibility": null,
            "width": null
          }
        },
        "4ecca1cd4452403c93a486fc487a720e": {
          "model_module": "@jupyter-widgets/controls",
          "model_name": "DescriptionStyleModel",
          "model_module_version": "1.5.0",
          "state": {
            "_model_module": "@jupyter-widgets/controls",
            "_model_module_version": "1.5.0",
            "_model_name": "DescriptionStyleModel",
            "_view_count": null,
            "_view_module": "@jupyter-widgets/base",
            "_view_module_version": "1.2.0",
            "_view_name": "StyleView",
            "description_width": ""
          }
        },
        "e35166763a924478a276253dc572224c": {
          "model_module": "@jupyter-widgets/base",
          "model_name": "LayoutModel",
          "model_module_version": "1.2.0",
          "state": {
            "_model_module": "@jupyter-widgets/base",
            "_model_module_version": "1.2.0",
            "_model_name": "LayoutModel",
            "_view_count": null,
            "_view_module": "@jupyter-widgets/base",
            "_view_module_version": "1.2.0",
            "_view_name": "LayoutView",
            "align_content": null,
            "align_items": null,
            "align_self": null,
            "border": null,
            "bottom": null,
            "display": null,
            "flex": null,
            "flex_flow": null,
            "grid_area": null,
            "grid_auto_columns": null,
            "grid_auto_flow": null,
            "grid_auto_rows": null,
            "grid_column": null,
            "grid_gap": null,
            "grid_row": null,
            "grid_template_areas": null,
            "grid_template_columns": null,
            "grid_template_rows": null,
            "height": null,
            "justify_content": null,
            "justify_items": null,
            "left": null,
            "margin": null,
            "max_height": null,
            "max_width": null,
            "min_height": null,
            "min_width": null,
            "object_fit": null,
            "object_position": null,
            "order": null,
            "overflow": null,
            "overflow_x": null,
            "overflow_y": null,
            "padding": null,
            "right": null,
            "top": null,
            "visibility": null,
            "width": null
          }
        },
        "99c3c0cc6c08405693724998c70818a8": {
          "model_module": "@jupyter-widgets/controls",
          "model_name": "DescriptionStyleModel",
          "model_module_version": "1.5.0",
          "state": {
            "_model_module": "@jupyter-widgets/controls",
            "_model_module_version": "1.5.0",
            "_model_name": "DescriptionStyleModel",
            "_view_count": null,
            "_view_module": "@jupyter-widgets/base",
            "_view_module_version": "1.2.0",
            "_view_name": "StyleView",
            "description_width": ""
          }
        },
        "ca5a30f3101f47cb85fd875834b20464": {
          "model_module": "@jupyter-widgets/base",
          "model_name": "LayoutModel",
          "model_module_version": "1.2.0",
          "state": {
            "_model_module": "@jupyter-widgets/base",
            "_model_module_version": "1.2.0",
            "_model_name": "LayoutModel",
            "_view_count": null,
            "_view_module": "@jupyter-widgets/base",
            "_view_module_version": "1.2.0",
            "_view_name": "LayoutView",
            "align_content": null,
            "align_items": null,
            "align_self": null,
            "border": null,
            "bottom": null,
            "display": null,
            "flex": null,
            "flex_flow": null,
            "grid_area": null,
            "grid_auto_columns": null,
            "grid_auto_flow": null,
            "grid_auto_rows": null,
            "grid_column": null,
            "grid_gap": null,
            "grid_row": null,
            "grid_template_areas": null,
            "grid_template_columns": null,
            "grid_template_rows": null,
            "height": null,
            "justify_content": null,
            "justify_items": null,
            "left": null,
            "margin": null,
            "max_height": null,
            "max_width": null,
            "min_height": null,
            "min_width": null,
            "object_fit": null,
            "object_position": null,
            "order": null,
            "overflow": null,
            "overflow_x": null,
            "overflow_y": null,
            "padding": null,
            "right": null,
            "top": null,
            "visibility": null,
            "width": null
          }
        },
        "929bb1ec50d04cffaf661df27be539a6": {
          "model_module": "@jupyter-widgets/controls",
          "model_name": "DescriptionStyleModel",
          "model_module_version": "1.5.0",
          "state": {
            "_model_module": "@jupyter-widgets/controls",
            "_model_module_version": "1.5.0",
            "_model_name": "DescriptionStyleModel",
            "_view_count": null,
            "_view_module": "@jupyter-widgets/base",
            "_view_module_version": "1.2.0",
            "_view_name": "StyleView",
            "description_width": ""
          }
        },
        "a44ac9490a2e495faf86e7e9fabd8018": {
          "model_module": "@jupyter-widgets/base",
          "model_name": "LayoutModel",
          "model_module_version": "1.2.0",
          "state": {
            "_model_module": "@jupyter-widgets/base",
            "_model_module_version": "1.2.0",
            "_model_name": "LayoutModel",
            "_view_count": null,
            "_view_module": "@jupyter-widgets/base",
            "_view_module_version": "1.2.0",
            "_view_name": "LayoutView",
            "align_content": null,
            "align_items": null,
            "align_self": null,
            "border": null,
            "bottom": null,
            "display": null,
            "flex": null,
            "flex_flow": null,
            "grid_area": null,
            "grid_auto_columns": null,
            "grid_auto_flow": null,
            "grid_auto_rows": null,
            "grid_column": null,
            "grid_gap": null,
            "grid_row": null,
            "grid_template_areas": null,
            "grid_template_columns": null,
            "grid_template_rows": null,
            "height": null,
            "justify_content": null,
            "justify_items": null,
            "left": null,
            "margin": null,
            "max_height": null,
            "max_width": null,
            "min_height": null,
            "min_width": null,
            "object_fit": null,
            "object_position": null,
            "order": null,
            "overflow": null,
            "overflow_x": null,
            "overflow_y": null,
            "padding": null,
            "right": null,
            "top": null,
            "visibility": null,
            "width": null
          }
        },
        "33e2015aac5044acb12b21da7f7a7895": {
          "model_module": "@jupyter-widgets/controls",
          "model_name": "DescriptionStyleModel",
          "model_module_version": "1.5.0",
          "state": {
            "_model_module": "@jupyter-widgets/controls",
            "_model_module_version": "1.5.0",
            "_model_name": "DescriptionStyleModel",
            "_view_count": null,
            "_view_module": "@jupyter-widgets/base",
            "_view_module_version": "1.2.0",
            "_view_name": "StyleView",
            "description_width": ""
          }
        },
        "7d4e2546c98f4208918e3b38a424800f": {
          "model_module": "@jupyter-widgets/base",
          "model_name": "LayoutModel",
          "model_module_version": "1.2.0",
          "state": {
            "_model_module": "@jupyter-widgets/base",
            "_model_module_version": "1.2.0",
            "_model_name": "LayoutModel",
            "_view_count": null,
            "_view_module": "@jupyter-widgets/base",
            "_view_module_version": "1.2.0",
            "_view_name": "LayoutView",
            "align_content": null,
            "align_items": null,
            "align_self": null,
            "border": null,
            "bottom": null,
            "display": null,
            "flex": null,
            "flex_flow": null,
            "grid_area": null,
            "grid_auto_columns": null,
            "grid_auto_flow": null,
            "grid_auto_rows": null,
            "grid_column": null,
            "grid_gap": null,
            "grid_row": null,
            "grid_template_areas": null,
            "grid_template_columns": null,
            "grid_template_rows": null,
            "height": null,
            "justify_content": null,
            "justify_items": null,
            "left": null,
            "margin": null,
            "max_height": null,
            "max_width": null,
            "min_height": null,
            "min_width": null,
            "object_fit": null,
            "object_position": null,
            "order": null,
            "overflow": null,
            "overflow_x": null,
            "overflow_y": null,
            "padding": null,
            "right": null,
            "top": null,
            "visibility": null,
            "width": null
          }
        },
        "f77c6d0dd62e4927bd272bd045aed998": {
          "model_module": "@jupyter-widgets/controls",
          "model_name": "DescriptionStyleModel",
          "model_module_version": "1.5.0",
          "state": {
            "_model_module": "@jupyter-widgets/controls",
            "_model_module_version": "1.5.0",
            "_model_name": "DescriptionStyleModel",
            "_view_count": null,
            "_view_module": "@jupyter-widgets/base",
            "_view_module_version": "1.2.0",
            "_view_name": "StyleView",
            "description_width": ""
          }
        },
        "31c9fd83e39444fd82030c6c0c787113": {
          "model_module": "@jupyter-widgets/base",
          "model_name": "LayoutModel",
          "model_module_version": "1.2.0",
          "state": {
            "_model_module": "@jupyter-widgets/base",
            "_model_module_version": "1.2.0",
            "_model_name": "LayoutModel",
            "_view_count": null,
            "_view_module": "@jupyter-widgets/base",
            "_view_module_version": "1.2.0",
            "_view_name": "LayoutView",
            "align_content": null,
            "align_items": null,
            "align_self": null,
            "border": null,
            "bottom": null,
            "display": null,
            "flex": null,
            "flex_flow": null,
            "grid_area": null,
            "grid_auto_columns": null,
            "grid_auto_flow": null,
            "grid_auto_rows": null,
            "grid_column": null,
            "grid_gap": null,
            "grid_row": null,
            "grid_template_areas": null,
            "grid_template_columns": null,
            "grid_template_rows": null,
            "height": null,
            "justify_content": null,
            "justify_items": null,
            "left": null,
            "margin": null,
            "max_height": null,
            "max_width": null,
            "min_height": null,
            "min_width": null,
            "object_fit": null,
            "object_position": null,
            "order": null,
            "overflow": null,
            "overflow_x": null,
            "overflow_y": null,
            "padding": null,
            "right": null,
            "top": null,
            "visibility": null,
            "width": null
          }
        },
        "e97eb5b12b58465695b882cf63352858": {
          "model_module": "@jupyter-widgets/controls",
          "model_name": "DescriptionStyleModel",
          "model_module_version": "1.5.0",
          "state": {
            "_model_module": "@jupyter-widgets/controls",
            "_model_module_version": "1.5.0",
            "_model_name": "DescriptionStyleModel",
            "_view_count": null,
            "_view_module": "@jupyter-widgets/base",
            "_view_module_version": "1.2.0",
            "_view_name": "StyleView",
            "description_width": ""
          }
        },
        "8e385587231540198643f8bb6c4ca9aa": {
          "model_module": "@jupyter-widgets/base",
          "model_name": "LayoutModel",
          "model_module_version": "1.2.0",
          "state": {
            "_model_module": "@jupyter-widgets/base",
            "_model_module_version": "1.2.0",
            "_model_name": "LayoutModel",
            "_view_count": null,
            "_view_module": "@jupyter-widgets/base",
            "_view_module_version": "1.2.0",
            "_view_name": "LayoutView",
            "align_content": null,
            "align_items": null,
            "align_self": null,
            "border": null,
            "bottom": null,
            "display": null,
            "flex": null,
            "flex_flow": null,
            "grid_area": null,
            "grid_auto_columns": null,
            "grid_auto_flow": null,
            "grid_auto_rows": null,
            "grid_column": null,
            "grid_gap": null,
            "grid_row": null,
            "grid_template_areas": null,
            "grid_template_columns": null,
            "grid_template_rows": null,
            "height": null,
            "justify_content": null,
            "justify_items": null,
            "left": null,
            "margin": null,
            "max_height": null,
            "max_width": null,
            "min_height": null,
            "min_width": null,
            "object_fit": null,
            "object_position": null,
            "order": null,
            "overflow": null,
            "overflow_x": null,
            "overflow_y": null,
            "padding": null,
            "right": null,
            "top": null,
            "visibility": null,
            "width": null
          }
        },
        "c235e5c1390d445b8ef4a46100327835": {
          "model_module": "@jupyter-widgets/controls",
          "model_name": "DescriptionStyleModel",
          "model_module_version": "1.5.0",
          "state": {
            "_model_module": "@jupyter-widgets/controls",
            "_model_module_version": "1.5.0",
            "_model_name": "DescriptionStyleModel",
            "_view_count": null,
            "_view_module": "@jupyter-widgets/base",
            "_view_module_version": "1.2.0",
            "_view_name": "StyleView",
            "description_width": ""
          }
        },
        "44584c573aef407fb4313537f998cf23": {
          "model_module": "@jupyter-widgets/base",
          "model_name": "LayoutModel",
          "model_module_version": "1.2.0",
          "state": {
            "_model_module": "@jupyter-widgets/base",
            "_model_module_version": "1.2.0",
            "_model_name": "LayoutModel",
            "_view_count": null,
            "_view_module": "@jupyter-widgets/base",
            "_view_module_version": "1.2.0",
            "_view_name": "LayoutView",
            "align_content": null,
            "align_items": null,
            "align_self": null,
            "border": null,
            "bottom": null,
            "display": null,
            "flex": null,
            "flex_flow": null,
            "grid_area": null,
            "grid_auto_columns": null,
            "grid_auto_flow": null,
            "grid_auto_rows": null,
            "grid_column": null,
            "grid_gap": null,
            "grid_row": null,
            "grid_template_areas": null,
            "grid_template_columns": null,
            "grid_template_rows": null,
            "height": null,
            "justify_content": null,
            "justify_items": null,
            "left": null,
            "margin": null,
            "max_height": null,
            "max_width": null,
            "min_height": null,
            "min_width": null,
            "object_fit": null,
            "object_position": null,
            "order": null,
            "overflow": null,
            "overflow_x": null,
            "overflow_y": null,
            "padding": null,
            "right": null,
            "top": null,
            "visibility": null,
            "width": null
          }
        },
        "5aa6959edb7141629344a3ab97f2d620": {
          "model_module": "@jupyter-widgets/controls",
          "model_name": "DescriptionStyleModel",
          "model_module_version": "1.5.0",
          "state": {
            "_model_module": "@jupyter-widgets/controls",
            "_model_module_version": "1.5.0",
            "_model_name": "DescriptionStyleModel",
            "_view_count": null,
            "_view_module": "@jupyter-widgets/base",
            "_view_module_version": "1.2.0",
            "_view_name": "StyleView",
            "description_width": ""
          }
        },
        "aa225e102dec4fa895e5f69004162bd3": {
          "model_module": "@jupyter-widgets/base",
          "model_name": "LayoutModel",
          "model_module_version": "1.2.0",
          "state": {
            "_model_module": "@jupyter-widgets/base",
            "_model_module_version": "1.2.0",
            "_model_name": "LayoutModel",
            "_view_count": null,
            "_view_module": "@jupyter-widgets/base",
            "_view_module_version": "1.2.0",
            "_view_name": "LayoutView",
            "align_content": null,
            "align_items": null,
            "align_self": null,
            "border": null,
            "bottom": null,
            "display": null,
            "flex": null,
            "flex_flow": null,
            "grid_area": null,
            "grid_auto_columns": null,
            "grid_auto_flow": null,
            "grid_auto_rows": null,
            "grid_column": null,
            "grid_gap": null,
            "grid_row": null,
            "grid_template_areas": null,
            "grid_template_columns": null,
            "grid_template_rows": null,
            "height": null,
            "justify_content": null,
            "justify_items": null,
            "left": null,
            "margin": null,
            "max_height": null,
            "max_width": null,
            "min_height": null,
            "min_width": null,
            "object_fit": null,
            "object_position": null,
            "order": null,
            "overflow": null,
            "overflow_x": null,
            "overflow_y": null,
            "padding": null,
            "right": null,
            "top": null,
            "visibility": null,
            "width": null
          }
        },
        "48c14790ec8a4cb4a0f03e80cda2eaee": {
          "model_module": "@jupyter-widgets/controls",
          "model_name": "DescriptionStyleModel",
          "model_module_version": "1.5.0",
          "state": {
            "_model_module": "@jupyter-widgets/controls",
            "_model_module_version": "1.5.0",
            "_model_name": "DescriptionStyleModel",
            "_view_count": null,
            "_view_module": "@jupyter-widgets/base",
            "_view_module_version": "1.2.0",
            "_view_name": "StyleView",
            "description_width": ""
          }
        },
        "de62fcbf6fab4c5793726bf50dae8252": {
          "model_module": "@jupyter-widgets/output",
          "model_name": "OutputModel",
          "model_module_version": "1.0.0",
          "state": {
            "_dom_classes": [],
            "_model_module": "@jupyter-widgets/output",
            "_model_module_version": "1.0.0",
            "_model_name": "OutputModel",
            "_view_count": null,
            "_view_module": "@jupyter-widgets/output",
            "_view_module_version": "1.0.0",
            "_view_name": "OutputView",
            "layout": "IPY_MODEL_97cf58c41c114909986672672bfe4e7a",
            "msg_id": "",
            "outputs": [
              {
                "output_type": "display_data",
                "data": {
                  "text/plain": "<Figure size 1000x800 with 3 Axes>",
                  "image/png": "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\n"
                },
                "metadata": {}
              }
            ]
          }
        },
        "97cf58c41c114909986672672bfe4e7a": {
          "model_module": "@jupyter-widgets/base",
          "model_name": "LayoutModel",
          "model_module_version": "1.2.0",
          "state": {
            "_model_module": "@jupyter-widgets/base",
            "_model_module_version": "1.2.0",
            "_model_name": "LayoutModel",
            "_view_count": null,
            "_view_module": "@jupyter-widgets/base",
            "_view_module_version": "1.2.0",
            "_view_name": "LayoutView",
            "align_content": null,
            "align_items": null,
            "align_self": null,
            "border": null,
            "bottom": null,
            "display": null,
            "flex": null,
            "flex_flow": null,
            "grid_area": null,
            "grid_auto_columns": null,
            "grid_auto_flow": null,
            "grid_auto_rows": null,
            "grid_column": null,
            "grid_gap": null,
            "grid_row": null,
            "grid_template_areas": null,
            "grid_template_columns": null,
            "grid_template_rows": null,
            "height": null,
            "justify_content": null,
            "justify_items": null,
            "left": null,
            "margin": null,
            "max_height": null,
            "max_width": null,
            "min_height": null,
            "min_width": null,
            "object_fit": null,
            "object_position": null,
            "order": null,
            "overflow": null,
            "overflow_x": null,
            "overflow_y": null,
            "padding": null,
            "right": null,
            "top": null,
            "visibility": null,
            "width": null
          }
        }
      }
    }
  },
  "cells": [
    {
      "cell_type": "markdown",
      "metadata": {
        "id": "view-in-github",
        "colab_type": "text"
      },
      "source": [
        "<a href=\"https://colab.research.google.com/github/KhuramC/SoftwareTutorials/blob/main/B1_Creating_A_Single_Cell_Model_v2.ipynb\" target=\"_parent\"><img src=\"https://colab.research.google.com/assets/colab-badge.svg\" alt=\"Open In Colab\"/></a>"
      ]
    },
    {
      "cell_type": "markdown",
      "source": [
        "# Creating A Single Cell in NEURON\n",
        "This lab will go over the morphology of a cell and how it is simulated in NEURON. It will also go over how to change the morphology by adding channels. Lastly it will go over how to make a simulation of the cell using either voltage/current clamps in NEURON."
      ],
      "metadata": {
        "id": "t9TP_julMyQE"
      }
    },
    {
      "cell_type": "markdown",
      "source": [
        "#Components of a Neuron\n",
        "Before we get to simulating a neuron, we need to know what to put in the soma of the neuron.\n",
        "Create a list of all the necessary components of the soma and then draw the\n",
        "\n",
        "1.   Create a list of the all necessary components for the soma.\n",
        "2.   Draw the soma and label it with all of the components.\n",
        "Hint: Draw the electrical circuit of the soma and show the 1:1 pairing to help make sure you have everything.\n",
        "\n",
        "In the meantime, we will install NEURON and import some libraries that will be useful later. A refresher on the electrical circuit model and how neurons are electrical circuits is provided below.\n"
      ],
      "metadata": {
        "id": "QGe4-V-8KSX1"
      }
    },
    {
      "cell_type": "code",
      "execution_count": 1,
      "metadata": {
        "colab": {
          "base_uri": "https://localhost:8080/",
          "height": 356
        },
        "id": "-7Ms6GYDvszj",
        "outputId": "2c9719e4-19e3-4db1-ba0c-657363753d5a"
      },
      "outputs": [
        {
          "output_type": "stream",
          "name": "stdout",
          "text": [
            "Requirement already satisfied: neuron in /usr/local/lib/python3.10/dist-packages (8.2.3)\n",
            "Requirement already satisfied: numpy>=1.9.3 in /usr/local/lib/python3.10/dist-packages (from neuron) (1.23.5)\n"
          ]
        },
        {
          "output_type": "execute_result",
          "data": {
            "text/plain": [
              "<IPython.lib.display.YouTubeVideo at 0x7fdb79ec3370>"
            ],
            "text/html": [
              "\n",
              "        <iframe\n",
              "            width=\"400\"\n",
              "            height=\"300\"\n",
              "            src=\"https://www.youtube.com/embed/LdumhvDBpzQ\"\n",
              "            frameborder=\"0\"\n",
              "            allowfullscreen\n",
              "            \n",
              "        ></iframe>\n",
              "        "
            ],
            "image/jpeg": "[encoded data removed]"
          },
          "metadata": {},
          "execution_count": 1
        }
      ],
      "source": [
        "RunningInCOLAB = 'google.colab' in str(get_ipython())\n",
        "if RunningInCOLAB:\n",
        "  !pip install neuron #installs NEURON if in google Colab\n",
        "\n",
        "from IPython.display import YouTubeVideo\n",
        "YouTubeVideo('LdumhvDBpzQ')"
      ]
    },
    {
      "cell_type": "code",
      "source": [
        "YouTubeVideo('YQsSrW5oX80')"
      ],
      "metadata": {
        "colab": {
          "base_uri": "https://localhost:8080/",
          "height": 321
        },
        "id": "oPyWPzu7AcAR",
        "outputId": "d09978df-e759-490e-d13e-22b234f8c843"
      },
      "execution_count": 2,
      "outputs": [
        {
          "output_type": "execute_result",
          "data": {
            "text/plain": [
              "<IPython.lib.display.YouTubeVideo at 0x7fdb79ec39d0>"
            ],
            "text/html": [
              "\n",
              "        <iframe\n",
              "            width=\"400\"\n",
              "            height=\"300\"\n",
              "            src=\"https://www.youtube.com/embed/YQsSrW5oX80\"\n",
              "            frameborder=\"0\"\n",
              "            allowfullscreen\n",
              "            \n",
              "        ></iframe>\n",
              "        "
            ],
            "image/jpeg": "[encoded data removed]"
          },
          "metadata": {},
          "execution_count": 2
        }
      ]
    },
    {
      "cell_type": "code",
      "source": [
        "from neuron import h\n",
        "import matplotlib.pyplot as plt\n",
        "import numpy as np\n",
        "h.load_file('stdrun.hoc') #necessary to later do a simulation"
      ],
      "metadata": {
        "colab": {
          "base_uri": "https://localhost:8080/"
        },
        "id": "YLqBiEU2qxGY",
        "outputId": "b24a9513-1c1d-4eaa-e97e-f00023f53fb6"
      },
      "execution_count": 3,
      "outputs": [
        {
          "output_type": "execute_result",
          "data": {
            "text/plain": [
              "1.0"
            ]
          },
          "metadata": {},
          "execution_count": 3
        }
      ]
    },
    {
      "cell_type": "markdown",
      "source": [
        "# Components of a Neuron Continued\n",
        "Your drawing should highlight the current injection into the soma, the neuron as a capacitor with liquid plates, the leak channel acting as a resistor and battery based off its reversal potential, amongst a couple of more concepts. An example of a drawing of the biological model of a neuron is given here:\n",
        "![thumbnail_4590 Neuron as an electrical circuit Jingsong Tan 2022-3.png](data:image/png;base64,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)"
      ],
      "metadata": {
        "id": "IvI5-yRRP9HE"
      }
    },
    {
      "cell_type": "markdown",
      "source": [
        "This video goes over the the lipid bilayer surrounding the cell real quick as a review as well."
      ],
      "metadata": {
        "id": "Ajw69eI5TOtm"
      }
    },
    {
      "cell_type": "code",
      "source": [
        "YouTubeVideo('x8ROEj2SFes')"
      ],
      "metadata": {
        "colab": {
          "base_uri": "https://localhost:8080/",
          "height": 321
        },
        "id": "cZ1guTpyTWxk",
        "outputId": "9c641dce-311c-42f7-d7ca-faad4bec7b90"
      },
      "execution_count": 4,
      "outputs": [
        {
          "output_type": "execute_result",
          "data": {
            "text/plain": [
              "<IPython.lib.display.YouTubeVideo at 0x7fdb79ec1db0>"
            ],
            "text/html": [
              "\n",
              "        <iframe\n",
              "            width=\"400\"\n",
              "            height=\"300\"\n",
              "            src=\"https://www.youtube.com/embed/x8ROEj2SFes\"\n",
              "            frameborder=\"0\"\n",
              "            allowfullscreen\n",
              "            \n",
              "        ></iframe>\n",
              "        "
            ],
            "image/jpeg": "[encoded data removed]"
          },
          "metadata": {},
          "execution_count": 4
        }
      ]
    },
    {
      "cell_type": "markdown",
      "source": [
        "# From Drawings to Code\n",
        "So how do we create the soma with these things within NEURON? It's actually very simple. NEURON defines parts of the cell as sections. NEURON defines sections as cylindrical sections, with a diameter and a length.  A dendrite would be one section, the soma another, and and axon as the last. When created, such sections are populated by default values.\n",
        "\n",
        "![image](https://raw.githubusercontent.com/chenziao/Software_Tutorials_Colab/main/S1_PassiveMembrane/cylinder.png)\n",
        "\n",
        "Every section can then be further subdivided into segments, which are equally lengthed segments that divide the section. Since nothing special is occuring in this notebook, we will divide the soma into three segments.\n",
        "\n"
      ],
      "metadata": {
        "id": "ud2WmGp_UdVe"
      }
    },
    {
      "cell_type": "code",
      "source": [
        "soma = h.Section(name='Soma') #creates soma\n",
        "soma.nseg = 3 #defines how many segments to divide soma into\n",
        "print(\"The default length is \" + str(soma.L) + \" microns\")\n",
        "print(\"The default diameter is \" + str(soma.diam) + \" microns\")\n",
        "print(\"The default capacitance is \" + str(soma.cm) + \" microFarad / cm^2\")\n",
        "print(\"The default cytoplasmic resistivity is \" + str(soma.Ra) + \" ohm-cm\")\n",
        "soma_length = soma.L\n",
        "soma_diam = soma.diam"
      ],
      "metadata": {
        "id": "ICK852Tkq0tM",
        "colab": {
          "base_uri": "https://localhost:8080/"
        },
        "outputId": "48d59acf-ae58-49e0-f032-c377ebe945be"
      },
      "execution_count": 5,
      "outputs": [
        {
          "output_type": "stream",
          "name": "stdout",
          "text": [
            "The default length is 100.0 microns\n",
            "The default diameter is 500.0 microns\n",
            "The default capacitance is 1.0 microFarad / cm^2\n",
            "The default cytoplasmic resistivity is 35.4 ohm-cm\n"
          ]
        }
      ]
    },
    {
      "cell_type": "markdown",
      "source": [
        "These values are unrealistic for mammalian neurons since they come from Hodgkin and Huxley's experiments with a squid giant axon. However, we can always change them to something different. Here we changed the diameter to be 20 microns.\n",
        "For more information on some neurons' typical geometries, click [here.](https://synapseweb.clm.utexas.edu/dimensions-dendrites)"
      ],
      "metadata": {
        "id": "EbXSEVWfBFLy"
      }
    },
    {
      "cell_type": "markdown",
      "source": [
        "# Adding Leak/Passive Channels\n",
        "One might notice that there is many things missing from our model so far. We have no channels, and as a result there is not even a resting membrane potential. So first, let's add the passive/leak channels to our soma.\n"
      ],
      "metadata": {
        "id": "AAa26wkHCHWP"
      }
    },
    {
      "cell_type": "code",
      "source": [
        "soma.insert('pas') #inserts passive channel\n",
        "print(\"Default E_leak = \" +str(soma.e_pas) + \" mV\")\n",
        "print(\"Default g_leak = \" + str(soma.g_pas) + \" S/cm^2\")"
      ],
      "metadata": {
        "id": "jECW0hoB8iiS",
        "colab": {
          "base_uri": "https://localhost:8080/"
        },
        "outputId": "c9ff99f5-c8fb-40cf-df1d-91b58832a914"
      },
      "execution_count": 6,
      "outputs": [
        {
          "output_type": "stream",
          "name": "stdout",
          "text": [
            "Default E_leak = -70.0 mV\n",
            "Default g_leak = 0.001 S/cm^2\n"
          ]
        }
      ]
    },
    {
      "cell_type": "markdown",
      "source": [
        "The resting membrane potential is just e_leak. In this case, the default values are realistic."
      ],
      "metadata": {
        "id": "eeiC5qARFse-"
      }
    },
    {
      "cell_type": "markdown",
      "source": [
        "# Adding Active Channels\n",
        "We have everything to model a passive membrane. However, active channels do exist, and can also be added. We will be inserting Hodgkin-Huxley channels to the soma, so their defaults will also be based off the squid giant axon. These hh channels also include a leak channel based off the squid giant axon, which we will not be using since we already have leak channels.\n",
        "\n"
      ],
      "metadata": {
        "id": "44E9tu-6k1KB"
      }
    },
    {
      "cell_type": "code",
      "source": [
        "soma.insert('hh') #insert Hodgkin-Huxley channels\n",
        "print(\"Default El_hh = \" +str(soma.el_hh) + \" mV\")\n",
        "print(\"Default gl_hh = \" + str(soma.gl_hh) + \" S/cm^2\")\n",
        "print(\"Default Ek = \" +str(soma.ek) + \" mV\")\n",
        "print(\"Default gkbar_hh = \" + str(soma.gkbar_hh) + \" S/cm^2\")\n",
        "print(\"Default Ena = \" +str(soma.ena) + \" mV\")\n",
        "print(\"Default gnabar_hh = \" + str(soma.gnabar_hh) + \" S/cm^2\")\n",
        "soma.gl_hh = 0 #changing soma's gleak_hh to be 0 as we already have passive channels, effectively not having it."
      ],
      "metadata": {
        "id": "FHbWMktSk1gx",
        "colab": {
          "base_uri": "https://localhost:8080/"
        },
        "outputId": "2f49433a-1af0-4cce-8e44-0257561b7106"
      },
      "execution_count": 7,
      "outputs": [
        {
          "output_type": "stream",
          "name": "stdout",
          "text": [
            "Default El_hh = -54.3 mV\n",
            "Default gl_hh = 0.0003 S/cm^2\n",
            "Default Ek = -77.0 mV\n",
            "Default gkbar_hh = 0.036 S/cm^2\n",
            "Default Ena = 50.0 mV\n",
            "Default gnabar_hh = 0.12 S/cm^2\n"
          ]
        }
      ]
    },
    {
      "cell_type": "markdown",
      "source": [
        "#Current Clamp\n",
        "A current clamp injects a steady current into the soma and is typically used to measure the change in voltage. Current Clamps have four parameters: the location(so where in the soma on a 0-1 scale), the duration(how long you will be injecting current for), the amplitude(how much current), and delay(how long will you wait until you inject)."
      ],
      "metadata": {
        "id": "Ci661pi0s69c"
      }
    },
    {
      "cell_type": "code",
      "source": [
        "ic = h.IClamp(soma(0.5)) # middle of soma\n",
        "ic.dur = 2.5 #ms\n",
        "ic.amp = 50 #nA\n",
        "ic.delay = 100 #ms"
      ],
      "metadata": {
        "id": "sb0a20OQtMpd"
      },
      "execution_count": 8,
      "outputs": []
    },
    {
      "cell_type": "markdown",
      "source": [
        "#Extras: Voltage Clamp\n",
        "A voltage clamp holds the voltage at a steady state value and is used to measure the current. Voltage clamps do not have a delay parameter. We will only be showcasing current clamp in this lab, but the commented code below shows how one could implement a voltage clamp."
      ],
      "metadata": {
        "id": "nZqPxIu4Itz8"
      }
    },
    {
      "cell_type": "code",
      "source": [
        "#vc = h.VClamp(soma(0.5)) #middle of soma\n",
        "#vc.dur[0] = 500 #ms\n",
        "#vc.amp[0] = -10 #mV"
      ],
      "metadata": {
        "id": "9wuIDocMNxtP"
      },
      "execution_count": 9,
      "outputs": []
    },
    {
      "cell_type": "markdown",
      "source": [
        "# Running a Simulation\n",
        "Now we have a full cell with the necessary things. But how is the voltage going to change due to our clamps? If we start a simulation, we can find out. But we need to define how long the simulation is, how long each step forward in the simulation, and record the values throughout the simulation."
      ],
      "metadata": {
        "id": "5aEP6mh72tzC"
      }
    },
    {
      "cell_type": "code",
      "source": [
        "h.v_init= soma.e_pas #initial voltage is the resting membrane potential of the soma\n",
        "h.tstop = tstop = 200 # how long to run the simulation in ms\n",
        "h.dt = 0.025 # time step (resolution) of the simulation in ms\n",
        "\n",
        "# define two vectors for recording variables\n",
        "t_vec = h.Vector()\n",
        "soma_v_vec = h.Vector()\n",
        "# record the voltage (_ref_v) and time (_ref_t) and voltage(_ref_v) into the vectors we just created\n",
        "t_vec.record(h._ref_t)\n",
        "soma_v_vec.record(soma(0.5)._ref_v)\n",
        "h.run()"
      ],
      "metadata": {
        "id": "7tNzaEcF2YzV",
        "colab": {
          "base_uri": "https://localhost:8080/"
        },
        "outputId": "8bd592fd-3c46-4cb4-fa5e-71f3e2c0213e"
      },
      "execution_count": 10,
      "outputs": [
        {
          "output_type": "execute_result",
          "data": {
            "text/plain": [
              "0.0"
            ]
          },
          "metadata": {},
          "execution_count": 10
        }
      ]
    },
    {
      "cell_type": "markdown",
      "source": [
        "# Plotting Results\n",
        "Even though we've ran the simulation, we need to show the results. Matplotlib allows us to graph our results with respect to time.\n",
        "What do you think will happen to the soma's voltage throughout the simulation?\n"
      ],
      "metadata": {
        "id": "qTOR0-1f5Z7W"
      }
    },
    {
      "cell_type": "code",
      "source": [
        "fig, axs = plt.subplots(1,1,figsize=(6, 6))\n",
        "axs.plot(t_vec,soma_v_vec, color = 'black') #plotting time vs current\n",
        "axs.set_title(str(soma) + ' Voltage')\n",
        "axs.set_xlabel('Time(ms)')\n",
        "axs.set_ylabel('Current (mV)')\n",
        "plt.show()"
      ],
      "metadata": {
        "id": "NZcK8cR05ukC",
        "colab": {
          "base_uri": "https://localhost:8080/",
          "height": 564
        },
        "outputId": "abaad934-0f16-488b-c9df-ee014fe70950"
      },
      "execution_count": 11,
      "outputs": [
        {
          "output_type": "display_data",
          "data": {
            "text/plain": [
              "<Figure size 600x600 with 1 Axes>"
            ],
            "image/png": "[encoded data removed]"
          },
          "metadata": {}
        }
      ]
    },
    {
      "cell_type": "markdown",
      "source": [
        "An action potential occurs with the default values."
      ],
      "metadata": {
        "id": "uU8BvdJT9K4J"
      }
    },
    {
      "cell_type": "markdown",
      "source": [
        "#But What does the Soma with Channels Actually Look Like?\n",
        "Below is an interactive tool that allows you too see how the morphology of the soma changes depending on the soma's length, diameter, and what channels are inserted in. You can then also see how that will change what happens to the soma's voltage throughout the simulation.\n"
      ],
      "metadata": {
        "id": "nPRMrk_M52Uh"
      }
    },
    {
      "cell_type": "code",
      "source": [
        "#function for graphing soma morphology and voltage\n",
        "def graph(soma_length,soma_diam,leak_channel,k_channel,na_channel,t_vec,soma_v_vec,ileak_vec,ik_vec,ina_vec):\n",
        "  #Create the plot\n",
        "  fig, axs = plt.subplots(3,1,figsize=(10, 8)) # 3 subplots of the same size\n",
        "\n",
        "  #colors for the three different currents\n",
        "  leak_color = 'purple'\n",
        "  k_color = 'blue'\n",
        "  na_color = 'red'\n",
        "  soma_color = 'black'\n",
        "\n",
        "  #Soma morphology\n",
        "  #Make Soma\n",
        "  #outer lines\n",
        "  soma_xcoords = [0,soma_length]\n",
        "  soma_ycoords = [-soma_diam/2,soma_diam/2]\n",
        "  axs[0].plot(soma_xcoords,[-soma_diam/2,-soma_diam/2], color = soma_color) #bottom line\n",
        "  axs[0].plot(soma_xcoords,[soma_diam/2,soma_diam/2], color = soma_color) #upper line\n",
        "  axs[0].plot([0,0],soma_ycoords, color = soma_color) #left line\n",
        "  axs[0].plot([soma_length,soma_length],soma_ycoords, color = soma_color) #right line\n",
        "\n",
        "  #inner lines to indicate bilayer\n",
        "  in_soma_xcoords = [soma_length*0.01, soma_length*0.99]\n",
        "  in_soma_ycoords = [-soma_diam/2*0.77, soma_diam/2*0.77]\n",
        "  axs[0].plot(in_soma_xcoords,[soma_diam/2*0.77,soma_diam/2*0.77],color = soma_color) #upper line\n",
        "  axs[0].plot(in_soma_xcoords,[-soma_diam/2*0.77,-soma_diam/2*0.77],color = soma_color) #bottom line\n",
        "  axs[0].plot([soma_length*0.01,soma_length*0.01],in_soma_ycoords,color = soma_color) #left line\n",
        "  axs[0].plot([soma_length*0.99,soma_length*0.99],in_soma_ycoords,color = soma_color) #right line\n",
        "\n",
        "  #axs[0].fill_between(soma_xcoords, soma_diam/2,-soma_diam/2, color = soma_color) #soma rectangle\n",
        "\n",
        "\n",
        "\n",
        "  #Adding + and - to show that cell is naturally polarized.\n",
        "  for i in range(int(soma_length)):\n",
        "    if(i % int(soma_length/14+4) == 0 and i > 0 and i < (soma_length * 0.98)):\n",
        "      axs[0].plot(i, soma_diam/2+soma_diam/3, marker = '+', color = 'black') #upper +\n",
        "      axs[0].plot(i,soma_diam/2 * 0.25, marker = '_', color = 'black') #upper -\n",
        "\n",
        "      axs[0].plot(i, -(soma_diam/2+ soma_diam/3), marker= '+', color = 'black') #lower +\n",
        "      axs[0].plot(i,-(soma_diam/2 * 0.25), marker = '_', color = 'black') #lower -\n",
        "\n",
        "  #Adding + and - to the sides of the cell\n",
        "  axs[0].plot(soma_length*-0.025,0, marker = '+', color = 'black') #left +\n",
        "  axs[0].plot(soma_length* 0.030,0, marker = '_', color = 'black') #left -\n",
        "\n",
        "  axs[0].plot(soma_length* 1.025,0, marker = '+', color = 'black') #right +\n",
        "  axs[0].plot(soma_length* 0.970,0, marker = '_', color = 'black') #right -\n",
        "\n",
        "  #Add channels if they exist.\n",
        "  if(leak_channel == 'Leak Channels'):\n",
        "    for i in range(int(soma_length)):\n",
        "      if(i % int(soma_length / 6 + 1) == 0 and i > 0):\n",
        "        axs[0].plot(i, soma_diam/2*0.9, marker = 's', color = leak_color)\n",
        "        axs[0].plot(i, -(soma_diam/2*0.85), marker= 's', color = leak_color)\n",
        "  if(k_channel == 'K+ Channels'):\n",
        "    for i in range(int(soma_length)):\n",
        "      if(i % int(soma_length / 4 + 6) == 0 and i > 0):\n",
        "        axs[0].plot(i, soma_diam/2*0.94, marker = 's', color = k_color)\n",
        "        axs[0].plot(i, -(soma_diam/2*0.85), marker= 's', color = k_color)\n",
        "  if(na_channel == 'Na+ Channels'):\n",
        "    for i in range(int(soma_length)):\n",
        "      if(i % int(soma_length / 5 + 3) == 0 and i > 0):\n",
        "        axs[0].plot(i, soma_diam/2*0.94, marker = 's', color = na_color)\n",
        "        axs[0].plot(i, -(soma_diam/2*0.85), marker= 's', color = na_color)\n",
        "        continue\n",
        "\n",
        "\n",
        "  # Add title and labels\n",
        "  axs[0].set_title(str(soma) + ' Morphology')\n",
        "  axs[0].set_xlabel('Length(um)')\n",
        "  axs[0].set_ylabel('Diameter(um)')\n",
        "  axs[0].set_ylim(-soma_diam*2,soma_diam*2)\n",
        "  axs[0].set_xlim(-(soma_length*0.1),soma_length *1.1)\n",
        "\n",
        "\n",
        "\n",
        "  #Soma Voltage\n",
        "  axs[1].plot(t_vec,soma_v_vec, color = 'black') #plotting time vs voltage\n",
        "  axs[1].set_title(str(soma) + ' Voltage')\n",
        "  axs[1].set_xlabel('Time(ms)')\n",
        "  axs[1].set_ylabel('Voltage (mV)')\n",
        "\n",
        "\n",
        "  #Soma channel's currents.\n",
        "  axs[2].plot(t_vec,ina_vec, color = na_color, label = 'Na+')\n",
        "  axs[2].plot(t_vec,ik_vec, color = k_color, label = 'K+')\n",
        "  axs[2].plot(t_vec,ileak_vec, color = leak_color, label = 'Leak')\n",
        "  axs[2].legend(loc = 'upper right')\n",
        "  axs[2].set_title(str(soma) + ' Currents')\n",
        "  axs[2].set_xlabel('Time(ms)')\n",
        "  axs[2].set_ylabel('Current (nA)')\n",
        "\n",
        "  # Show the plot\n",
        "  plt.tight_layout()\n",
        "  plt.show()"
      ],
      "metadata": {
        "id": "_UN6q9j454y-"
      },
      "execution_count": 12,
      "outputs": []
    },
    {
      "cell_type": "code",
      "source": [
        "def activemodel(soma_length,soma_diam,tstop, ic_dur,ic_amp,ic_delay,leak_channel,k_channel,na_channel):\n",
        "  h.v_init= soma.e_pas #initial voltage is the resting membrane potential of the soma\n",
        "\n",
        "  h.dt = 0.025 # time step (resolution) of the simulation in ms\n",
        "  # define two vectors for recording variables\n",
        "  t_vec = h.Vector()\n",
        "  soma_v_vec = h.Vector()\n",
        "  ileak_vec = h.Vector()\n",
        "  ik_vec = h.Vector()\n",
        "  ina_vec = h.Vector()\n",
        "\n",
        "  # record the voltage, time, and currents into the vectors we just created\n",
        "  t_vec.record(h._ref_t)\n",
        "  soma_v_vec.record(soma(0.5)._ref_v)\n",
        "  ileak_vec.record(soma(0.5)._ref_i_pas)\n",
        "  ik_vec.record(soma(0.5)._ref_ik)\n",
        "  ina_vec.record(soma(0.5)._ref_ina)\n",
        "\n",
        "  h.tstop = tstop\n",
        "  ic.dur = ic_dur\n",
        "  ic.amp = ic.amp\n",
        "  ic.delay = ic_delay\n",
        "\n",
        "  #check for if channels are open\n",
        "  if(leak_channel == 'Leak Channels'):\n",
        "    soma.g_pas = 0.001 #S/cm^2\n",
        "  else:\n",
        "    soma.g_pas = 0\n",
        "  if(k_channel == 'K+ Channels'):\n",
        "    soma.gkbar_hh = 0.036 #S/cm^2\n",
        "  else:\n",
        "    soma.gkbar_hh = 0\n",
        "  if(na_channel == 'Na+ Channels'):\n",
        "    soma.gnabar_hh = 0.12 #S/cm^2\n",
        "  else:\n",
        "    soma.gnabar_hh = 0\n",
        "  h.run()\n",
        "  plt.close('all')\n",
        "  graph(soma_length,soma_diam,leak_channel,k_channel,na_channel,t_vec,soma_v_vec,ileak_vec,ik_vec,ina_vec)\n"
      ],
      "metadata": {
        "id": "qWJt0nVcAHVi"
      },
      "execution_count": 13,
      "outputs": []
    },
    {
      "cell_type": "code",
      "source": [
        "import ipywidgets as widgets\n",
        "from ipywidgets import interactive_output,HBox,VBox,Label,Layout\n",
        "from IPython.display import display\n",
        "\n",
        "#default settings\n",
        "default_soma_length = 35 #microns\n",
        "default_soma_diam = 35 #microns\n",
        "default_leak_channel = 'No Leak Channels' #S/cm^2\n",
        "default_g_pas = 0.003 #S/cm^2\n",
        "default_k_channel = 'No K+ Channels' #S/cm^2\n",
        "default_na_channel = 'No Na+ Channels' #S/cm^2\n",
        "default_tstop = 200 # how long to run the simulation in ms\n",
        "default_ic_dur = 2.5 #ms\n",
        "default_ic_amp = 50 #nA\n",
        "default_ic_delay = 100 #ms\n",
        "\n",
        "#Reset button\n",
        "w_reset = widgets.Button(description ='Reset', icon = 'history', button_style ='primary')\n",
        "\n",
        "#Textboxes\n",
        "w_soma_length = widgets.BoundedFloatText(value = default_soma_length, min = 1, max = 10000, description = 'Length(um)')\n",
        "w_soma_diam = widgets.BoundedFloatText(value = default_soma_diam, min = 1, max = 10000, description = 'Diameter(um)')\n",
        "w_tstop = widgets.BoundedFloatText(value = default_tstop, min = 5, max = 1000, description = 'Tstop(ms)')\n",
        "w_ic_dur = widgets.BoundedFloatText(value = default_ic_dur,min = 1, max = 500, description = 'Injection(ms)')\n",
        "w_ic_amp = widgets.BoundedFloatText(value = default_ic_amp, min = -100, max = 100, description = 'Amp(nA)')\n",
        "w_ic_delay = widgets.BoundedFloatText(value = default_ic_delay,min = 1, max = 400, description = 'Delay(ms)')\n",
        "\n",
        "#defining reset\n",
        "def reset_default(*args):\n",
        "  w_soma_length.value = default_soma_length\n",
        "  w_soma_diam.value = default_soma_diam\n",
        "  passive_select.value = 'No Leak Channels'\n",
        "  k_select.value = 'No K+ Channels'\n",
        "  na_select.value = 'No Na+ Channels'\n",
        "  w_tstop.value = default_tstop\n",
        "  w_ic_dur.value = default_ic_dur\n",
        "  w_ic_amp.value = default_ic_amp\n",
        "  w_ic_delay.value = default_ic_delay\n",
        "w_reset.on_click(reset_default)\n",
        "\n",
        "#radio buttons for channel selections\n",
        "passive_select = widgets.RadioButtons(options = ['Leak Channels', 'No Leak Channels'], value = 'No Leak Channels',description = 'Leak:', disabled = False)\n",
        "k_select = widgets.RadioButtons(options = ['K+ Channels', 'No K+ Channels'], value = 'No K+ Channels', description = 'K+:', disabled = False)\n",
        "na_select = widgets.RadioButtons(options = ['Na+ Channels', 'No Na+ Channels'], value = 'No Na+ Channels', description = 'Na+:', disabled = False)\n",
        "\n",
        "#saying what function to be done based on the widget values\n",
        "out = interactive_output(activemodel,{'soma_length': w_soma_length,'soma_diam':w_soma_diam,'tstop':w_tstop,'ic_dur':w_ic_dur,'ic_amp':w_ic_amp,'ic_delay':w_ic_delay,'leak_channel':passive_select,'k_channel':k_select,'na_channel':na_select})\n",
        "#how to display the buttons/widgets\n",
        "ui = HBox([w_reset,VBox([w_soma_length,w_soma_diam]),VBox([na_select,k_select,passive_select]),VBox([w_tstop,w_ic_dur,w_ic_amp,w_ic_delay])])\n",
        "\n",
        "\n",
        "display(ui,out)"
      ],
      "metadata": {
        "colab": {
          "base_uri": "https://localhost:8080/",
          "height": 999,
          "referenced_widgets": [
            "e82c12047a33468c91878e7156a25570",
            "f643461a36f84ccea4bf2b654e69923f",
            "47551b13e038482a868e8e5fcb316b9b",
            "436cefce133d49eb9b722e654dbc77f8",
            "8fdb1554479e449b89fda2fdaf4cf727",
            "f571da1553494dabbf9bf8083b4f1e84",
            "12c785c45bfd4b1fa9f2187be0c4c509",
            "1c49a6c13ff24267bf14220f1c1f99de",
            "29a1e2e4e2374a498d1069f3dd76967a",
            "113e3fbe8836473095d1932672a1750c",
            "cd98acfac9d14222b2c1630a19c9d116",
            "403b5edfba4144968cfcb476a662c1ed",
            "6254f34fdeb648b89d024d52664b5d07",
            "89c4df3fdebc41dab7cb49fd9c7b160b",
            "9a0febc53bc3477597d0b6287d5101f6",
            "a5e728dd6b1540f88b3f0bc15d2c9beb",
            "95a001f5b0f84cd1a54b3ce037c5ced5",
            "9f1167ed6092402fba8514800cb7a488",
            "712e2d7a51f94b90a1b893f5da6c3c21",
            "5bef7b409fb64f9f917d2c7ba6d44369",
            "86de8f140af0407db2d4d81144d7469b",
            "4ecca1cd4452403c93a486fc487a720e",
            "e35166763a924478a276253dc572224c",
            "99c3c0cc6c08405693724998c70818a8",
            "ca5a30f3101f47cb85fd875834b20464",
            "929bb1ec50d04cffaf661df27be539a6",
            "a44ac9490a2e495faf86e7e9fabd8018",
            "33e2015aac5044acb12b21da7f7a7895",
            "7d4e2546c98f4208918e3b38a424800f",
            "f77c6d0dd62e4927bd272bd045aed998",
            "31c9fd83e39444fd82030c6c0c787113",
            "e97eb5b12b58465695b882cf63352858",
            "8e385587231540198643f8bb6c4ca9aa",
            "c235e5c1390d445b8ef4a46100327835",
            "44584c573aef407fb4313537f998cf23",
            "5aa6959edb7141629344a3ab97f2d620",
            "aa225e102dec4fa895e5f69004162bd3",
            "48c14790ec8a4cb4a0f03e80cda2eaee",
            "de62fcbf6fab4c5793726bf50dae8252",
            "97cf58c41c114909986672672bfe4e7a"
          ]
        },
        "id": "S1KrXyo_55A4",
        "outputId": "3e672576-100c-4f4b-91f3-cf6edc5370fd"
      },
      "execution_count": 14,
      "outputs": [
        {
          "output_type": "display_data",
          "data": {
            "text/plain": [
              "HBox(children=(Button(button_style='primary', description='Reset', icon='history', style=ButtonStyle()), VBox(…"
            ],
            "application/vnd.jupyter.widget-view+json": {
              "version_major": 2,
              "version_minor": 0,
              "model_id": "e82c12047a33468c91878e7156a25570"
            }
          },
          "metadata": {}
        },
        {
          "output_type": "display_data",
          "data": {
            "text/plain": [
              "Output()"
            ],
            "application/vnd.jupyter.widget-view+json": {
              "version_major": 2,
              "version_minor": 0,
              "model_id": "de62fcbf6fab4c5793726bf50dae8252"
            }
          },
          "metadata": {}
        }
      ]
    },
    {
      "cell_type": "markdown",
      "source": [
        "# Extras: Adding More Sections\n",
        "A neuron is more than just a soma, why not add something else, like an axon.\n",
        "An axon is also just a section and can be created in the same way, but it does need to be connected to the soma. Here we demonstrate how to add an axon and connect it to the soma, but we will not be focusing on it really in this lab. A video going over the full structure of the neuron, including all the sections is available here though."
      ],
      "metadata": {
        "id": "MT33CSH3j4vo"
      }
    },
    {
      "cell_type": "code",
      "source": [
        "#axon = h.Section('axon')\n",
        "#axon.L = 40\n",
        "#axon.nseg = 3 # divided into 3 equally lengthed segments\n",
        "#axon.connect(soma(1)) #connect axon to the right end of the soma\n",
        "#h.topology() # shows topology of full cell\n",
        "YouTubeVideo('HZh0A-lWSmY')"
      ],
      "metadata": {
        "id": "J4pOjOrskPap",
        "colab": {
          "base_uri": "https://localhost:8080/",
          "height": 321
        },
        "outputId": "cb2789e5-0005-46d7-8b4c-2af7df82f040"
      },
      "execution_count": 15,
      "outputs": [
        {
          "output_type": "execute_result",
          "data": {
            "text/plain": [
              "<IPython.lib.display.YouTubeVideo at 0x7fdb64de0760>"
            ],
            "text/html": [
              "\n",
              "        <iframe\n",
              "            width=\"400\"\n",
              "            height=\"300\"\n",
              "            src=\"https://www.youtube.com/embed/HZh0A-lWSmY\"\n",
              "            frameborder=\"0\"\n",
              "            allowfullscreen\n",
              "            \n",
              "        ></iframe>\n",
              "        "
            ],
            "image/jpeg": "[encoded data removed]"
          },
          "metadata": {},
          "execution_count": 15
        }
      ]
    },
    {
      "cell_type": "markdown",
      "source": [
        "# Conclusion\n",
        "You should now know how NEURON simulates a neuron, how to create a single cell model with channels using NEURON, the morphology of the soma, and how to use NEURON to conduct experiments/simulations of your own. For more help on how to use NEURON, click [here](http://web.mit.edu/neuron_v7.4/nrntuthtml/tutorial/tutA.html) and [here.](https://nrn.readthedocs.io/en/latest/tutorials/scripting-neuron-basics.html)"
      ],
      "metadata": {
        "id": "cTYQv8Ok-dWx"
      }
    }
  ]
}