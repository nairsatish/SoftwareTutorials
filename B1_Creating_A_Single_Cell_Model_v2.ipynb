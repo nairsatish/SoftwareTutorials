{
  "nbformat": 4,
  "nbformat_minor": 0,
  "metadata": {
    "colab": {
      "provenance": [],
      "authorship_tag": "ABX9TyPE+aAdaAu18xJF5/+IkXCG",
      "include_colab_link": true
    },
    "kernelspec": {
      "name": "python3",
      "display_name": "Python 3"
    },
    "language_info": {
      "name": "python"
    },
    "widgets": {
      "application/vnd.jupyter.widget-state+json": {
        "82ce72c4b0bc4f83b1852388e3ced1d5": {
          "model_module": "@jupyter-widgets/controls",
          "model_name": "HBoxModel",
          "model_module_version": "1.5.0",
          "state": {
            "_dom_classes": [],
            "_model_module": "@jupyter-widgets/controls",
            "_model_module_version": "1.5.0",
            "_model_name": "HBoxModel",
            "_view_count": null,
            "_view_module": "@jupyter-widgets/controls",
            "_view_module_version": "1.5.0",
            "_view_name": "HBoxView",
            "box_style": "",
            "children": [
              "IPY_MODEL_64385fd342054ea3af3df8eea7002cc9",
              "IPY_MODEL_e3974e44397644a18458c0895298421c",
              "IPY_MODEL_40a87e4c2fa74795a07fcff4c6c1218d",
              "IPY_MODEL_8504a4ff8ffe4e5c81a7f269d32c5ce1"
            ],
            "layout": "IPY_MODEL_06cb38b06694425ebf855b679ad37c78"
          }
        },
        "64385fd342054ea3af3df8eea7002cc9": {
          "model_module": "@jupyter-widgets/controls",
          "model_name": "ButtonModel",
          "model_module_version": "1.5.0",
          "state": {
            "_dom_classes": [],
            "_model_module": "@jupyter-widgets/controls",
            "_model_module_version": "1.5.0",
            "_model_name": "ButtonModel",
            "_view_count": null,
            "_view_module": "@jupyter-widgets/controls",
            "_view_module_version": "1.5.0",
            "_view_name": "ButtonView",
            "button_style": "primary",
            "description": "Reset",
            "disabled": false,
            "icon": "history",
            "layout": "IPY_MODEL_82dad8a028eb4e9d82b978c171bdf4db",
            "style": "IPY_MODEL_4d36e2988ca747b48570317e1d790f02",
            "tooltip": ""
          }
        },
        "e3974e44397644a18458c0895298421c": {
          "model_module": "@jupyter-widgets/controls",
          "model_name": "VBoxModel",
          "model_module_version": "1.5.0",
          "state": {
            "_dom_classes": [],
            "_model_module": "@jupyter-widgets/controls",
            "_model_module_version": "1.5.0",
            "_model_name": "VBoxModel",
            "_view_count": null,
            "_view_module": "@jupyter-widgets/controls",
            "_view_module_version": "1.5.0",
            "_view_name": "VBoxView",
            "box_style": "",
            "children": [
              "IPY_MODEL_217678e66daa4e5fa7be351ab2c817db",
              "IPY_MODEL_ce07ddec42e94556b7a1b79343c41c97"
            ],
            "layout": "IPY_MODEL_f519c479255b4ce396b879294b16f9b3"
          }
        },
        "40a87e4c2fa74795a07fcff4c6c1218d": {
          "model_module": "@jupyter-widgets/controls",
          "model_name": "VBoxModel",
          "model_module_version": "1.5.0",
          "state": {
            "_dom_classes": [],
            "_model_module": "@jupyter-widgets/controls",
            "_model_module_version": "1.5.0",
            "_model_name": "VBoxModel",
            "_view_count": null,
            "_view_module": "@jupyter-widgets/controls",
            "_view_module_version": "1.5.0",
            "_view_name": "VBoxView",
            "box_style": "",
            "children": [
              "IPY_MODEL_5a23cfd9fade4173b43d82720c4d1a86",
              "IPY_MODEL_92fca1347f054d9888917c370580dd4f",
              "IPY_MODEL_522a1ffdc34d44449ca2b59dc417c834"
            ],
            "layout": "IPY_MODEL_06c359ecc8a1465894fb490a9b790ad0"
          }
        },
        "8504a4ff8ffe4e5c81a7f269d32c5ce1": {
          "model_module": "@jupyter-widgets/controls",
          "model_name": "VBoxModel",
          "model_module_version": "1.5.0",
          "state": {
            "_dom_classes": [],
            "_model_module": "@jupyter-widgets/controls",
            "_model_module_version": "1.5.0",
            "_model_name": "VBoxModel",
            "_view_count": null,
            "_view_module": "@jupyter-widgets/controls",
            "_view_module_version": "1.5.0",
            "_view_name": "VBoxView",
            "box_style": "",
            "children": [
              "IPY_MODEL_fee8b67f92f246f1aa8f7bad20f4564b",
              "IPY_MODEL_533f2889ba4e402e9228f81817dd1bea",
              "IPY_MODEL_b648eedd7683429e84d18f0453769059",
              "IPY_MODEL_3356b4e65a9a4ca0a21941a13b8e5ec6"
            ],
            "layout": "IPY_MODEL_3261f7630cf94fb7a3078bb45262eb8e"
          }
        },
        "06cb38b06694425ebf855b679ad37c78": {
          "model_module": "@jupyter-widgets/base",
          "model_name": "LayoutModel",
          "model_module_version": "1.2.0",
          "state": {
            "_model_module": "@jupyter-widgets/base",
            "_model_module_version": "1.2.0",
            "_model_name": "LayoutModel",
            "_view_count": null,
            "_view_module": "@jupyter-widgets/base",
            "_view_module_version": "1.2.0",
            "_view_name": "LayoutView",
            "align_content": null,
            "align_items": null,
            "align_self": null,
            "border": null,
            "bottom": null,
            "display": null,
            "flex": null,
            "flex_flow": null,
            "grid_area": null,
            "grid_auto_columns": null,
            "grid_auto_flow": null,
            "grid_auto_rows": null,
            "grid_column": null,
            "grid_gap": null,
            "grid_row": null,
            "grid_template_areas": null,
            "grid_template_columns": null,
            "grid_template_rows": null,
            "height": null,
            "justify_content": null,
            "justify_items": null,
            "left": null,
            "margin": null,
            "max_height": null,
            "max_width": null,
            "min_height": null,
            "min_width": null,
            "object_fit": null,
            "object_position": null,
            "order": null,
            "overflow": null,
            "overflow_x": null,
            "overflow_y": null,
            "padding": null,
            "right": null,
            "top": null,
            "visibility": null,
            "width": null
          }
        },
        "82dad8a028eb4e9d82b978c171bdf4db": {
          "model_module": "@jupyter-widgets/base",
          "model_name": "LayoutModel",
          "model_module_version": "1.2.0",
          "state": {
            "_model_module": "@jupyter-widgets/base",
            "_model_module_version": "1.2.0",
            "_model_name": "LayoutModel",
            "_view_count": null,
            "_view_module": "@jupyter-widgets/base",
            "_view_module_version": "1.2.0",
            "_view_name": "LayoutView",
            "align_content": null,
            "align_items": null,
            "align_self": null,
            "border": null,
            "bottom": null,
            "display": null,
            "flex": null,
            "flex_flow": null,
            "grid_area": null,
            "grid_auto_columns": null,
            "grid_auto_flow": null,
            "grid_auto_rows": null,
            "grid_column": null,
            "grid_gap": null,
            "grid_row": null,
            "grid_template_areas": null,
            "grid_template_columns": null,
            "grid_template_rows": null,
            "height": null,
            "justify_content": null,
            "justify_items": null,
            "left": null,
            "margin": null,
            "max_height": null,
            "max_width": null,
            "min_height": null,
            "min_width": null,
            "object_fit": null,
            "object_position": null,
            "order": null,
            "overflow": null,
            "overflow_x": null,
            "overflow_y": null,
            "padding": null,
            "right": null,
            "top": null,
            "visibility": null,
            "width": null
          }
        },
        "4d36e2988ca747b48570317e1d790f02": {
          "model_module": "@jupyter-widgets/controls",
          "model_name": "ButtonStyleModel",
          "model_module_version": "1.5.0",
          "state": {
            "_model_module": "@jupyter-widgets/controls",
            "_model_module_version": "1.5.0",
            "_model_name": "ButtonStyleModel",
            "_view_count": null,
            "_view_module": "@jupyter-widgets/base",
            "_view_module_version": "1.2.0",
            "_view_name": "StyleView",
            "button_color": null,
            "font_weight": ""
          }
        },
        "217678e66daa4e5fa7be351ab2c817db": {
          "model_module": "@jupyter-widgets/controls",
          "model_name": "BoundedFloatTextModel",
          "model_module_version": "1.5.0",
          "state": {
            "_dom_classes": [],
            "_model_module": "@jupyter-widgets/controls",
            "_model_module_version": "1.5.0",
            "_model_name": "BoundedFloatTextModel",
            "_view_count": null,
            "_view_module": "@jupyter-widgets/controls",
            "_view_module_version": "1.5.0",
            "_view_name": "FloatTextView",
            "continuous_update": false,
            "description": "Length(um)",
            "description_tooltip": null,
            "disabled": false,
            "layout": "IPY_MODEL_7f7ebe6520de43a1a4049ccfeca64dc2",
            "max": 10000,
            "min": 1,
            "step": null,
            "style": "IPY_MODEL_ff4708c5f2dd4c6f8b6356c2c1637504",
            "value": 35
          }
        },
        "ce07ddec42e94556b7a1b79343c41c97": {
          "model_module": "@jupyter-widgets/controls",
          "model_name": "BoundedFloatTextModel",
          "model_module_version": "1.5.0",
          "state": {
            "_dom_classes": [],
            "_model_module": "@jupyter-widgets/controls",
            "_model_module_version": "1.5.0",
            "_model_name": "BoundedFloatTextModel",
            "_view_count": null,
            "_view_module": "@jupyter-widgets/controls",
            "_view_module_version": "1.5.0",
            "_view_name": "FloatTextView",
            "continuous_update": false,
            "description": "Diameter(um)",
            "description_tooltip": null,
            "disabled": false,
            "layout": "IPY_MODEL_012b0ab70ca8410e99989f89746113f5",
            "max": 10000,
            "min": 1,
            "step": null,
            "style": "IPY_MODEL_8f9e0cbdd35440bc87cc9ded37c5220f",
            "value": 35
          }
        },
        "f519c479255b4ce396b879294b16f9b3": {
          "model_module": "@jupyter-widgets/base",
          "model_name": "LayoutModel",
          "model_module_version": "1.2.0",
          "state": {
            "_model_module": "@jupyter-widgets/base",
            "_model_module_version": "1.2.0",
            "_model_name": "LayoutModel",
            "_view_count": null,
            "_view_module": "@jupyter-widgets/base",
            "_view_module_version": "1.2.0",
            "_view_name": "LayoutView",
            "align_content": null,
            "align_items": null,
            "align_self": null,
            "border": null,
            "bottom": null,
            "display": null,
            "flex": null,
            "flex_flow": null,
            "grid_area": null,
            "grid_auto_columns": null,
            "grid_auto_flow": null,
            "grid_auto_rows": null,
            "grid_column": null,
            "grid_gap": null,
            "grid_row": null,
            "grid_template_areas": null,
            "grid_template_columns": null,
            "grid_template_rows": null,
            "height": null,
            "justify_content": null,
            "justify_items": null,
            "left": null,
            "margin": null,
            "max_height": null,
            "max_width": null,
            "min_height": null,
            "min_width": null,
            "object_fit": null,
            "object_position": null,
            "order": null,
            "overflow": null,
            "overflow_x": null,
            "overflow_y": null,
            "padding": null,
            "right": null,
            "top": null,
            "visibility": null,
            "width": null
          }
        },
        "5a23cfd9fade4173b43d82720c4d1a86": {
          "model_module": "@jupyter-widgets/controls",
          "model_name": "RadioButtonsModel",
          "model_module_version": "1.5.0",
          "state": {
            "_dom_classes": [],
            "_model_module": "@jupyter-widgets/controls",
            "_model_module_version": "1.5.0",
            "_model_name": "RadioButtonsModel",
            "_options_labels": [
              "Leak Channels",
              "No Leak Channels"
            ],
            "_view_count": null,
            "_view_module": "@jupyter-widgets/controls",
            "_view_module_version": "1.5.0",
            "_view_name": "RadioButtonsView",
            "description": "Leak:",
            "description_tooltip": null,
            "disabled": false,
            "index": 0,
            "layout": "IPY_MODEL_7dd0b6e158e94764bbfa9eab1ad4b091",
            "style": "IPY_MODEL_a3cee83f63ae47ca80d1bf5b95505083"
          }
        },
        "92fca1347f054d9888917c370580dd4f": {
          "model_module": "@jupyter-widgets/controls",
          "model_name": "RadioButtonsModel",
          "model_module_version": "1.5.0",
          "state": {
            "_dom_classes": [],
            "_model_module": "@jupyter-widgets/controls",
            "_model_module_version": "1.5.0",
            "_model_name": "RadioButtonsModel",
            "_options_labels": [
              "K+ Channels",
              "No K+ Channels"
            ],
            "_view_count": null,
            "_view_module": "@jupyter-widgets/controls",
            "_view_module_version": "1.5.0",
            "_view_name": "RadioButtonsView",
            "description": "K+:",
            "description_tooltip": null,
            "disabled": false,
            "index": 0,
            "layout": "IPY_MODEL_d48087b12166428f84a49e2dfd0c3b7f",
            "style": "IPY_MODEL_263f0fa819bd461ca17f39632b4945cd"
          }
        },
        "522a1ffdc34d44449ca2b59dc417c834": {
          "model_module": "@jupyter-widgets/controls",
          "model_name": "RadioButtonsModel",
          "model_module_version": "1.5.0",
          "state": {
            "_dom_classes": [],
            "_model_module": "@jupyter-widgets/controls",
            "_model_module_version": "1.5.0",
            "_model_name": "RadioButtonsModel",
            "_options_labels": [
              "Na+ Channels",
              "No Na+ Channels"
            ],
            "_view_count": null,
            "_view_module": "@jupyter-widgets/controls",
            "_view_module_version": "1.5.0",
            "_view_name": "RadioButtonsView",
            "description": "Na+:",
            "description_tooltip": null,
            "disabled": false,
            "index": 0,
            "layout": "IPY_MODEL_d635ce77fe67469a9b330cac27be4f62",
            "style": "IPY_MODEL_e4c8926b74e24c7e91a6ded289c93ac1"
          }
        },
        "06c359ecc8a1465894fb490a9b790ad0": {
          "model_module": "@jupyter-widgets/base",
          "model_name": "LayoutModel",
          "model_module_version": "1.2.0",
          "state": {
            "_model_module": "@jupyter-widgets/base",
            "_model_module_version": "1.2.0",
            "_model_name": "LayoutModel",
            "_view_count": null,
            "_view_module": "@jupyter-widgets/base",
            "_view_module_version": "1.2.0",
            "_view_name": "LayoutView",
            "align_content": null,
            "align_items": null,
            "align_self": null,
            "border": null,
            "bottom": null,
            "display": null,
            "flex": null,
            "flex_flow": null,
            "grid_area": null,
            "grid_auto_columns": null,
            "grid_auto_flow": null,
            "grid_auto_rows": null,
            "grid_column": null,
            "grid_gap": null,
            "grid_row": null,
            "grid_template_areas": null,
            "grid_template_columns": null,
            "grid_template_rows": null,
            "height": null,
            "justify_content": null,
            "justify_items": null,
            "left": null,
            "margin": null,
            "max_height": null,
            "max_width": null,
            "min_height": null,
            "min_width": null,
            "object_fit": null,
            "object_position": null,
            "order": null,
            "overflow": null,
            "overflow_x": null,
            "overflow_y": null,
            "padding": null,
            "right": null,
            "top": null,
            "visibility": null,
            "width": null
          }
        },
        "fee8b67f92f246f1aa8f7bad20f4564b": {
          "model_module": "@jupyter-widgets/controls",
          "model_name": "BoundedFloatTextModel",
          "model_module_version": "1.5.0",
          "state": {
            "_dom_classes": [],
            "_model_module": "@jupyter-widgets/controls",
            "_model_module_version": "1.5.0",
            "_model_name": "BoundedFloatTextModel",
            "_view_count": null,
            "_view_module": "@jupyter-widgets/controls",
            "_view_module_version": "1.5.0",
            "_view_name": "FloatTextView",
            "continuous_update": false,
            "description": "Tstop(ms)",
            "description_tooltip": null,
            "disabled": false,
            "layout": "IPY_MODEL_a6583f7cae704954b06ddf0bb629270c",
            "max": 1000,
            "min": 5,
            "step": null,
            "style": "IPY_MODEL_20545f9bcef14c3a81e36cad1fc9c4e5",
            "value": 200
          }
        },
        "533f2889ba4e402e9228f81817dd1bea": {
          "model_module": "@jupyter-widgets/controls",
          "model_name": "BoundedFloatTextModel",
          "model_module_version": "1.5.0",
          "state": {
            "_dom_classes": [],
            "_model_module": "@jupyter-widgets/controls",
            "_model_module_version": "1.5.0",
            "_model_name": "BoundedFloatTextModel",
            "_view_count": null,
            "_view_module": "@jupyter-widgets/controls",
            "_view_module_version": "1.5.0",
            "_view_name": "FloatTextView",
            "continuous_update": false,
            "description": "Injection(ms)",
            "description_tooltip": null,
            "disabled": false,
            "layout": "IPY_MODEL_dee39cdbe8a4472fb2de54065e474484",
            "max": 500,
            "min": 1,
            "step": null,
            "style": "IPY_MODEL_142688440de24aaa8560afbe17ff1ad5",
            "value": 2.5
          }
        },
        "b648eedd7683429e84d18f0453769059": {
          "model_module": "@jupyter-widgets/controls",
          "model_name": "BoundedFloatTextModel",
          "model_module_version": "1.5.0",
          "state": {
            "_dom_classes": [],
            "_model_module": "@jupyter-widgets/controls",
            "_model_module_version": "1.5.0",
            "_model_name": "BoundedFloatTextModel",
            "_view_count": null,
            "_view_module": "@jupyter-widgets/controls",
            "_view_module_version": "1.5.0",
            "_view_name": "FloatTextView",
            "continuous_update": false,
            "description": "Amp(nA)",
            "description_tooltip": null,
            "disabled": false,
            "layout": "IPY_MODEL_bee9843ec967433b9eea42f1eac6d563",
            "max": 100,
            "min": -100,
            "step": null,
            "style": "IPY_MODEL_ea951ec99b9c413986ed5a20ec8f8d3b",
            "value": 50
          }
        },
        "3356b4e65a9a4ca0a21941a13b8e5ec6": {
          "model_module": "@jupyter-widgets/controls",
          "model_name": "BoundedFloatTextModel",
          "model_module_version": "1.5.0",
          "state": {
            "_dom_classes": [],
            "_model_module": "@jupyter-widgets/controls",
            "_model_module_version": "1.5.0",
            "_model_name": "BoundedFloatTextModel",
            "_view_count": null,
            "_view_module": "@jupyter-widgets/controls",
            "_view_module_version": "1.5.0",
            "_view_name": "FloatTextView",
            "continuous_update": false,
            "description": "Delay(ms)",
            "description_tooltip": null,
            "disabled": false,
            "layout": "IPY_MODEL_fa11b0f0fef04a7b97e499b7496ae57b",
            "max": 400,
            "min": 1,
            "step": null,
            "style": "IPY_MODEL_d2b3f2e765cb422783807615baf7945d",
            "value": 100
          }
        },
        "3261f7630cf94fb7a3078bb45262eb8e": {
          "model_module": "@jupyter-widgets/base",
          "model_name": "LayoutModel",
          "model_module_version": "1.2.0",
          "state": {
            "_model_module": "@jupyter-widgets/base",
            "_model_module_version": "1.2.0",
            "_model_name": "LayoutModel",
            "_view_count": null,
            "_view_module": "@jupyter-widgets/base",
            "_view_module_version": "1.2.0",
            "_view_name": "LayoutView",
            "align_content": null,
            "align_items": null,
            "align_self": null,
            "border": null,
            "bottom": null,
            "display": null,
            "flex": null,
            "flex_flow": null,
            "grid_area": null,
            "grid_auto_columns": null,
            "grid_auto_flow": null,
            "grid_auto_rows": null,
            "grid_column": null,
            "grid_gap": null,
            "grid_row": null,
            "grid_template_areas": null,
            "grid_template_columns": null,
            "grid_template_rows": null,
            "height": null,
            "justify_content": null,
            "justify_items": null,
            "left": null,
            "margin": null,
            "max_height": null,
            "max_width": null,
            "min_height": null,
            "min_width": null,
            "object_fit": null,
            "object_position": null,
            "order": null,
            "overflow": null,
            "overflow_x": null,
            "overflow_y": null,
            "padding": null,
            "right": null,
            "top": null,
            "visibility": null,
            "width": null
          }
        },
        "7f7ebe6520de43a1a4049ccfeca64dc2": {
          "model_module": "@jupyter-widgets/base",
          "model_name": "LayoutModel",
          "model_module_version": "1.2.0",
          "state": {
            "_model_module": "@jupyter-widgets/base",
            "_model_module_version": "1.2.0",
            "_model_name": "LayoutModel",
            "_view_count": null,
            "_view_module": "@jupyter-widgets/base",
            "_view_module_version": "1.2.0",
            "_view_name": "LayoutView",
            "align_content": null,
            "align_items": null,
            "align_self": null,
            "border": null,
            "bottom": null,
            "display": null,
            "flex": null,
            "flex_flow": null,
            "grid_area": null,
            "grid_auto_columns": null,
            "grid_auto_flow": null,
            "grid_auto_rows": null,
            "grid_column": null,
            "grid_gap": null,
            "grid_row": null,
            "grid_template_areas": null,
            "grid_template_columns": null,
            "grid_template_rows": null,
            "height": null,
            "justify_content": null,
            "justify_items": null,
            "left": null,
            "margin": null,
            "max_height": null,
            "max_width": null,
            "min_height": null,
            "min_width": null,
            "object_fit": null,
            "object_position": null,
            "order": null,
            "overflow": null,
            "overflow_x": null,
            "overflow_y": null,
            "padding": null,
            "right": null,
            "top": null,
            "visibility": null,
            "width": null
          }
        },
        "ff4708c5f2dd4c6f8b6356c2c1637504": {
          "model_module": "@jupyter-widgets/controls",
          "model_name": "DescriptionStyleModel",
          "model_module_version": "1.5.0",
          "state": {
            "_model_module": "@jupyter-widgets/controls",
            "_model_module_version": "1.5.0",
            "_model_name": "DescriptionStyleModel",
            "_view_count": null,
            "_view_module": "@jupyter-widgets/base",
            "_view_module_version": "1.2.0",
            "_view_name": "StyleView",
            "description_width": ""
          }
        },
        "012b0ab70ca8410e99989f89746113f5": {
          "model_module": "@jupyter-widgets/base",
          "model_name": "LayoutModel",
          "model_module_version": "1.2.0",
          "state": {
            "_model_module": "@jupyter-widgets/base",
            "_model_module_version": "1.2.0",
            "_model_name": "LayoutModel",
            "_view_count": null,
            "_view_module": "@jupyter-widgets/base",
            "_view_module_version": "1.2.0",
            "_view_name": "LayoutView",
            "align_content": null,
            "align_items": null,
            "align_self": null,
            "border": null,
            "bottom": null,
            "display": null,
            "flex": null,
            "flex_flow": null,
            "grid_area": null,
            "grid_auto_columns": null,
            "grid_auto_flow": null,
            "grid_auto_rows": null,
            "grid_column": null,
            "grid_gap": null,
            "grid_row": null,
            "grid_template_areas": null,
            "grid_template_columns": null,
            "grid_template_rows": null,
            "height": null,
            "justify_content": null,
            "justify_items": null,
            "left": null,
            "margin": null,
            "max_height": null,
            "max_width": null,
            "min_height": null,
            "min_width": null,
            "object_fit": null,
            "object_position": null,
            "order": null,
            "overflow": null,
            "overflow_x": null,
            "overflow_y": null,
            "padding": null,
            "right": null,
            "top": null,
            "visibility": null,
            "width": null
          }
        },
        "8f9e0cbdd35440bc87cc9ded37c5220f": {
          "model_module": "@jupyter-widgets/controls",
          "model_name": "DescriptionStyleModel",
          "model_module_version": "1.5.0",
          "state": {
            "_model_module": "@jupyter-widgets/controls",
            "_model_module_version": "1.5.0",
            "_model_name": "DescriptionStyleModel",
            "_view_count": null,
            "_view_module": "@jupyter-widgets/base",
            "_view_module_version": "1.2.0",
            "_view_name": "StyleView",
            "description_width": ""
          }
        },
        "7dd0b6e158e94764bbfa9eab1ad4b091": {
          "model_module": "@jupyter-widgets/base",
          "model_name": "LayoutModel",
          "model_module_version": "1.2.0",
          "state": {
            "_model_module": "@jupyter-widgets/base",
            "_model_module_version": "1.2.0",
            "_model_name": "LayoutModel",
            "_view_count": null,
            "_view_module": "@jupyter-widgets/base",
            "_view_module_version": "1.2.0",
            "_view_name": "LayoutView",
            "align_content": null,
            "align_items": null,
            "align_self": null,
            "border": null,
            "bottom": null,
            "display": null,
            "flex": null,
            "flex_flow": null,
            "grid_area": null,
            "grid_auto_columns": null,
            "grid_auto_flow": null,
            "grid_auto_rows": null,
            "grid_column": null,
            "grid_gap": null,
            "grid_row": null,
            "grid_template_areas": null,
            "grid_template_columns": null,
            "grid_template_rows": null,
            "height": null,
            "justify_content": null,
            "justify_items": null,
            "left": null,
            "margin": null,
            "max_height": null,
            "max_width": null,
            "min_height": null,
            "min_width": null,
            "object_fit": null,
            "object_position": null,
            "order": null,
            "overflow": null,
            "overflow_x": null,
            "overflow_y": null,
            "padding": null,
            "right": null,
            "top": null,
            "visibility": null,
            "width": null
          }
        },
        "a3cee83f63ae47ca80d1bf5b95505083": {
          "model_module": "@jupyter-widgets/controls",
          "model_name": "DescriptionStyleModel",
          "model_module_version": "1.5.0",
          "state": {
            "_model_module": "@jupyter-widgets/controls",
            "_model_module_version": "1.5.0",
            "_model_name": "DescriptionStyleModel",
            "_view_count": null,
            "_view_module": "@jupyter-widgets/base",
            "_view_module_version": "1.2.0",
            "_view_name": "StyleView",
            "description_width": ""
          }
        },
        "d48087b12166428f84a49e2dfd0c3b7f": {
          "model_module": "@jupyter-widgets/base",
          "model_name": "LayoutModel",
          "model_module_version": "1.2.0",
          "state": {
            "_model_module": "@jupyter-widgets/base",
            "_model_module_version": "1.2.0",
            "_model_name": "LayoutModel",
            "_view_count": null,
            "_view_module": "@jupyter-widgets/base",
            "_view_module_version": "1.2.0",
            "_view_name": "LayoutView",
            "align_content": null,
            "align_items": null,
            "align_self": null,
            "border": null,
            "bottom": null,
            "display": null,
            "flex": null,
            "flex_flow": null,
            "grid_area": null,
            "grid_auto_columns": null,
            "grid_auto_flow": null,
            "grid_auto_rows": null,
            "grid_column": null,
            "grid_gap": null,
            "grid_row": null,
            "grid_template_areas": null,
            "grid_template_columns": null,
            "grid_template_rows": null,
            "height": null,
            "justify_content": null,
            "justify_items": null,
            "left": null,
            "margin": null,
            "max_height": null,
            "max_width": null,
            "min_height": null,
            "min_width": null,
            "object_fit": null,
            "object_position": null,
            "order": null,
            "overflow": null,
            "overflow_x": null,
            "overflow_y": null,
            "padding": null,
            "right": null,
            "top": null,
            "visibility": null,
            "width": null
          }
        },
        "263f0fa819bd461ca17f39632b4945cd": {
          "model_module": "@jupyter-widgets/controls",
          "model_name": "DescriptionStyleModel",
          "model_module_version": "1.5.0",
          "state": {
            "_model_module": "@jupyter-widgets/controls",
            "_model_module_version": "1.5.0",
            "_model_name": "DescriptionStyleModel",
            "_view_count": null,
            "_view_module": "@jupyter-widgets/base",
            "_view_module_version": "1.2.0",
            "_view_name": "StyleView",
            "description_width": ""
          }
        },
        "d635ce77fe67469a9b330cac27be4f62": {
          "model_module": "@jupyter-widgets/base",
          "model_name": "LayoutModel",
          "model_module_version": "1.2.0",
          "state": {
            "_model_module": "@jupyter-widgets/base",
            "_model_module_version": "1.2.0",
            "_model_name": "LayoutModel",
            "_view_count": null,
            "_view_module": "@jupyter-widgets/base",
            "_view_module_version": "1.2.0",
            "_view_name": "LayoutView",
            "align_content": null,
            "align_items": null,
            "align_self": null,
            "border": null,
            "bottom": null,
            "display": null,
            "flex": null,
            "flex_flow": null,
            "grid_area": null,
            "grid_auto_columns": null,
            "grid_auto_flow": null,
            "grid_auto_rows": null,
            "grid_column": null,
            "grid_gap": null,
            "grid_row": null,
            "grid_template_areas": null,
            "grid_template_columns": null,
            "grid_template_rows": null,
            "height": null,
            "justify_content": null,
            "justify_items": null,
            "left": null,
            "margin": null,
            "max_height": null,
            "max_width": null,
            "min_height": null,
            "min_width": null,
            "object_fit": null,
            "object_position": null,
            "order": null,
            "overflow": null,
            "overflow_x": null,
            "overflow_y": null,
            "padding": null,
            "right": null,
            "top": null,
            "visibility": null,
            "width": null
          }
        },
        "e4c8926b74e24c7e91a6ded289c93ac1": {
          "model_module": "@jupyter-widgets/controls",
          "model_name": "DescriptionStyleModel",
          "model_module_version": "1.5.0",
          "state": {
            "_model_module": "@jupyter-widgets/controls",
            "_model_module_version": "1.5.0",
            "_model_name": "DescriptionStyleModel",
            "_view_count": null,
            "_view_module": "@jupyter-widgets/base",
            "_view_module_version": "1.2.0",
            "_view_name": "StyleView",
            "description_width": ""
          }
        },
        "a6583f7cae704954b06ddf0bb629270c": {
          "model_module": "@jupyter-widgets/base",
          "model_name": "LayoutModel",
          "model_module_version": "1.2.0",
          "state": {
            "_model_module": "@jupyter-widgets/base",
            "_model_module_version": "1.2.0",
            "_model_name": "LayoutModel",
            "_view_count": null,
            "_view_module": "@jupyter-widgets/base",
            "_view_module_version": "1.2.0",
            "_view_name": "LayoutView",
            "align_content": null,
            "align_items": null,
            "align_self": null,
            "border": null,
            "bottom": null,
            "display": null,
            "flex": null,
            "flex_flow": null,
            "grid_area": null,
            "grid_auto_columns": null,
            "grid_auto_flow": null,
            "grid_auto_rows": null,
            "grid_column": null,
            "grid_gap": null,
            "grid_row": null,
            "grid_template_areas": null,
            "grid_template_columns": null,
            "grid_template_rows": null,
            "height": null,
            "justify_content": null,
            "justify_items": null,
            "left": null,
            "margin": null,
            "max_height": null,
            "max_width": null,
            "min_height": null,
            "min_width": null,
            "object_fit": null,
            "object_position": null,
            "order": null,
            "overflow": null,
            "overflow_x": null,
            "overflow_y": null,
            "padding": null,
            "right": null,
            "top": null,
            "visibility": null,
            "width": null
          }
        },
        "20545f9bcef14c3a81e36cad1fc9c4e5": {
          "model_module": "@jupyter-widgets/controls",
          "model_name": "DescriptionStyleModel",
          "model_module_version": "1.5.0",
          "state": {
            "_model_module": "@jupyter-widgets/controls",
            "_model_module_version": "1.5.0",
            "_model_name": "DescriptionStyleModel",
            "_view_count": null,
            "_view_module": "@jupyter-widgets/base",
            "_view_module_version": "1.2.0",
            "_view_name": "StyleView",
            "description_width": ""
          }
        },
        "dee39cdbe8a4472fb2de54065e474484": {
          "model_module": "@jupyter-widgets/base",
          "model_name": "LayoutModel",
          "model_module_version": "1.2.0",
          "state": {
            "_model_module": "@jupyter-widgets/base",
            "_model_module_version": "1.2.0",
            "_model_name": "LayoutModel",
            "_view_count": null,
            "_view_module": "@jupyter-widgets/base",
            "_view_module_version": "1.2.0",
            "_view_name": "LayoutView",
            "align_content": null,
            "align_items": null,
            "align_self": null,
            "border": null,
            "bottom": null,
            "display": null,
            "flex": null,
            "flex_flow": null,
            "grid_area": null,
            "grid_auto_columns": null,
            "grid_auto_flow": null,
            "grid_auto_rows": null,
            "grid_column": null,
            "grid_gap": null,
            "grid_row": null,
            "grid_template_areas": null,
            "grid_template_columns": null,
            "grid_template_rows": null,
            "height": null,
            "justify_content": null,
            "justify_items": null,
            "left": null,
            "margin": null,
            "max_height": null,
            "max_width": null,
            "min_height": null,
            "min_width": null,
            "object_fit": null,
            "object_position": null,
            "order": null,
            "overflow": null,
            "overflow_x": null,
            "overflow_y": null,
            "padding": null,
            "right": null,
            "top": null,
            "visibility": null,
            "width": null
          }
        },
        "142688440de24aaa8560afbe17ff1ad5": {
          "model_module": "@jupyter-widgets/controls",
          "model_name": "DescriptionStyleModel",
          "model_module_version": "1.5.0",
          "state": {
            "_model_module": "@jupyter-widgets/controls",
            "_model_module_version": "1.5.0",
            "_model_name": "DescriptionStyleModel",
            "_view_count": null,
            "_view_module": "@jupyter-widgets/base",
            "_view_module_version": "1.2.0",
            "_view_name": "StyleView",
            "description_width": ""
          }
        },
        "bee9843ec967433b9eea42f1eac6d563": {
          "model_module": "@jupyter-widgets/base",
          "model_name": "LayoutModel",
          "model_module_version": "1.2.0",
          "state": {
            "_model_module": "@jupyter-widgets/base",
            "_model_module_version": "1.2.0",
            "_model_name": "LayoutModel",
            "_view_count": null,
            "_view_module": "@jupyter-widgets/base",
            "_view_module_version": "1.2.0",
            "_view_name": "LayoutView",
            "align_content": null,
            "align_items": null,
            "align_self": null,
            "border": null,
            "bottom": null,
            "display": null,
            "flex": null,
            "flex_flow": null,
            "grid_area": null,
            "grid_auto_columns": null,
            "grid_auto_flow": null,
            "grid_auto_rows": null,
            "grid_column": null,
            "grid_gap": null,
            "grid_row": null,
            "grid_template_areas": null,
            "grid_template_columns": null,
            "grid_template_rows": null,
            "height": null,
            "justify_content": null,
            "justify_items": null,
            "left": null,
            "margin": null,
            "max_height": null,
            "max_width": null,
            "min_height": null,
            "min_width": null,
            "object_fit": null,
            "object_position": null,
            "order": null,
            "overflow": null,
            "overflow_x": null,
            "overflow_y": null,
            "padding": null,
            "right": null,
            "top": null,
            "visibility": null,
            "width": null
          }
        },
        "ea951ec99b9c413986ed5a20ec8f8d3b": {
          "model_module": "@jupyter-widgets/controls",
          "model_name": "DescriptionStyleModel",
          "model_module_version": "1.5.0",
          "state": {
            "_model_module": "@jupyter-widgets/controls",
            "_model_module_version": "1.5.0",
            "_model_name": "DescriptionStyleModel",
            "_view_count": null,
            "_view_module": "@jupyter-widgets/base",
            "_view_module_version": "1.2.0",
            "_view_name": "StyleView",
            "description_width": ""
          }
        },
        "fa11b0f0fef04a7b97e499b7496ae57b": {
          "model_module": "@jupyter-widgets/base",
          "model_name": "LayoutModel",
          "model_module_version": "1.2.0",
          "state": {
            "_model_module": "@jupyter-widgets/base",
            "_model_module_version": "1.2.0",
            "_model_name": "LayoutModel",
            "_view_count": null,
            "_view_module": "@jupyter-widgets/base",
            "_view_module_version": "1.2.0",
            "_view_name": "LayoutView",
            "align_content": null,
            "align_items": null,
            "align_self": null,
            "border": null,
            "bottom": null,
            "display": null,
            "flex": null,
            "flex_flow": null,
            "grid_area": null,
            "grid_auto_columns": null,
            "grid_auto_flow": null,
            "grid_auto_rows": null,
            "grid_column": null,
            "grid_gap": null,
            "grid_row": null,
            "grid_template_areas": null,
            "grid_template_columns": null,
            "grid_template_rows": null,
            "height": null,
            "justify_content": null,
            "justify_items": null,
            "left": null,
            "margin": null,
            "max_height": null,
            "max_width": null,
            "min_height": null,
            "min_width": null,
            "object_fit": null,
            "object_position": null,
            "order": null,
            "overflow": null,
            "overflow_x": null,
            "overflow_y": null,
            "padding": null,
            "right": null,
            "top": null,
            "visibility": null,
            "width": null
          }
        },
        "d2b3f2e765cb422783807615baf7945d": {
          "model_module": "@jupyter-widgets/controls",
          "model_name": "DescriptionStyleModel",
          "model_module_version": "1.5.0",
          "state": {
            "_model_module": "@jupyter-widgets/controls",
            "_model_module_version": "1.5.0",
            "_model_name": "DescriptionStyleModel",
            "_view_count": null,
            "_view_module": "@jupyter-widgets/base",
            "_view_module_version": "1.2.0",
            "_view_name": "StyleView",
            "description_width": ""
          }
        },
        "b92db5fa6721467f9628aa3aab875c21": {
          "model_module": "@jupyter-widgets/output",
          "model_name": "OutputModel",
          "model_module_version": "1.0.0",
          "state": {
            "_dom_classes": [],
            "_model_module": "@jupyter-widgets/output",
            "_model_module_version": "1.0.0",
            "_model_name": "OutputModel",
            "_view_count": null,
            "_view_module": "@jupyter-widgets/output",
            "_view_module_version": "1.0.0",
            "_view_name": "OutputView",
            "layout": "IPY_MODEL_cfc257951f8148369466dcbd56f6bf7c",
            "msg_id": "",
            "outputs": [
              {
                "output_type": "display_data",
                "data": {
                  "text/plain": "<Figure size 1000x800 with 3 Axes>",
                  "image/png": "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\n"
                },
                "metadata": {}
              }
            ]
          }
        },
        "cfc257951f8148369466dcbd56f6bf7c": {
          "model_module": "@jupyter-widgets/base",
          "model_name": "LayoutModel",
          "model_module_version": "1.2.0",
          "state": {
            "_model_module": "@jupyter-widgets/base",
            "_model_module_version": "1.2.0",
            "_model_name": "LayoutModel",
            "_view_count": null,
            "_view_module": "@jupyter-widgets/base",
            "_view_module_version": "1.2.0",
            "_view_name": "LayoutView",
            "align_content": null,
            "align_items": null,
            "align_self": null,
            "border": null,
            "bottom": null,
            "display": null,
            "flex": null,
            "flex_flow": null,
            "grid_area": null,
            "grid_auto_columns": null,
            "grid_auto_flow": null,
            "grid_auto_rows": null,
            "grid_column": null,
            "grid_gap": null,
            "grid_row": null,
            "grid_template_areas": null,
            "grid_template_columns": null,
            "grid_template_rows": null,
            "height": null,
            "justify_content": null,
            "justify_items": null,
            "left": null,
            "margin": null,
            "max_height": null,
            "max_width": null,
            "min_height": null,
            "min_width": null,
            "object_fit": null,
            "object_position": null,
            "order": null,
            "overflow": null,
            "overflow_x": null,
            "overflow_y": null,
            "padding": null,
            "right": null,
            "top": null,
            "visibility": null,
            "width": null
          }
        }
      }
    }
  },
  "cells": [
    {
      "cell_type": "markdown",
      "metadata": {
        "id": "view-in-github",
        "colab_type": "text"
      },
      "source": [
        "<a href=\"https://colab.research.google.com/github/KhuramC/SoftwareTutorials/blob/main/B1_Creating_A_Single_Cell_Model_v2.ipynb\" target=\"_parent\"><img src=\"https://colab.research.google.com/assets/colab-badge.svg\" alt=\"Open In Colab\"/></a>"
      ]
    },
    {
      "cell_type": "markdown",
      "source": [
        "# Creating A Single Cell in NEURON\n",
        "This lab will go over the morphology of a cell and how it is simulated in NEURON. It will also go over how to change the morphology by adding channels. Lastly it will go over how to make a simulation of the cell using either voltage/current clamps in NEURON."
      ],
      "metadata": {
        "id": "t9TP_julMyQE"
      }
    },
    {
      "cell_type": "markdown",
      "source": [
        "#Components of a Neuron\n",
        "Before we get to simulating a neuron, we need to know what to put in the soma of the neuron.\n",
        "Create a list of all the necessary components of the soma and then draw the\n",
        "\n",
        "1.   Create a list of the all necessary components for the soma.\n",
        "2.   Draw the soma and label it with all of the components.\n",
        "Hint: Draw the electrical circuit of the soma and show the 1:1 pairing to help make sure you have everything.\n",
        "\n",
        "In the meantime, we will install NEURON and import some libraries that will be useful later. A refresher on the electrical circuit model and how neurons are electrical circuits is provided below.\n"
      ],
      "metadata": {
        "id": "QGe4-V-8KSX1"
      }
    },
    {
      "cell_type": "code",
      "execution_count": 1,
      "metadata": {
        "colab": {
          "base_uri": "https://localhost:8080/",
          "height": 356
        },
        "id": "-7Ms6GYDvszj",
        "outputId": "c6184e6a-7fad-405f-a0e5-c4c9ec93dfc0"
      },
      "outputs": [
        {
          "output_type": "stream",
          "name": "stdout",
          "text": [
            "Requirement already satisfied: neuron in /usr/local/lib/python3.10/dist-packages (8.2.3)\n",
            "Requirement already satisfied: numpy>=1.9.3 in /usr/local/lib/python3.10/dist-packages (from neuron) (1.23.5)\n"
          ]
        },
        {
          "output_type": "execute_result",
          "data": {
            "text/plain": [
              "<IPython.lib.display.YouTubeVideo at 0x7af4a681e200>"
            ],
            "text/html": [
              "\n",
              "        <iframe\n",
              "            width=\"400\"\n",
              "            height=\"300\"\n",
              "            src=\"https://www.youtube.com/embed/LdumhvDBpzQ\"\n",
              "            frameborder=\"0\"\n",
              "            allowfullscreen\n",
              "            \n",
              "        ></iframe>\n",
              "        "
            ],
            "image/jpeg": "[encoded data removed]"
          },
          "metadata": {},
          "execution_count": 1
        }
      ],
      "source": [
        "RunningInCOLAB = 'google.colab' in str(get_ipython())\n",
        "if RunningInCOLAB:\n",
        "  !pip install neuron #installs NEURON if in google Colab\n",
        "\n",
        "from IPython.display import YouTubeVideo\n",
        "YouTubeVideo('LdumhvDBpzQ')"
      ]
    },
    {
      "cell_type": "code",
      "source": [
        "YouTubeVideo('YQsSrW5oX80')"
      ],
      "metadata": {
        "colab": {
          "base_uri": "https://localhost:8080/",
          "height": 321
        },
        "id": "oPyWPzu7AcAR",
        "outputId": "e32b401f-d695-46aa-fb36-30b700d6e92c"
      },
      "execution_count": 2,
      "outputs": [
        {
          "output_type": "execute_result",
          "data": {
            "text/plain": [
              "<IPython.lib.display.YouTubeVideo at 0x7af4a681fe80>"
            ],
            "text/html": [
              "\n",
              "        <iframe\n",
              "            width=\"400\"\n",
              "            height=\"300\"\n",
              "            src=\"https://www.youtube.com/embed/YQsSrW5oX80\"\n",
              "            frameborder=\"0\"\n",
              "            allowfullscreen\n",
              "            \n",
              "        ></iframe>\n",
              "        "
            ],
            "image/jpeg": "[encoded data removed]"
          },
          "metadata": {},
          "execution_count": 2
        }
      ]
    },
    {
      "cell_type": "code",
      "source": [
        "from neuron import h\n",
        "import matplotlib.pyplot as plt\n",
        "import numpy as np\n",
        "h.load_file('stdrun.hoc')"
      ],
      "metadata": {
        "colab": {
          "base_uri": "https://localhost:8080/"
        },
        "id": "YLqBiEU2qxGY",
        "outputId": "13a90e33-341d-4474-b87c-831f772c0be4"
      },
      "execution_count": 3,
      "outputs": [
        {
          "output_type": "execute_result",
          "data": {
            "text/plain": [
              "1.0"
            ]
          },
          "metadata": {},
          "execution_count": 3
        }
      ]
    },
    {
      "cell_type": "markdown",
      "source": [
        "# Components of a Neuron Continued\n",
        "Your drawing should highlight the current injection into the soma, the neuron as a capacitor with liquid plates, the leak channel acting as a resistor and battery based off its reversal potential, amongst a couple of more concepts. An example of a drawing of the biological model of a neuron is given here:\n",
        "![thumbnail_4590 Neuron as an electrical circuit Jingsong Tan 2022-3.png](data:image/png;base64,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)"
      ],
      "metadata": {
        "id": "IvI5-yRRP9HE"
      }
    },
    {
      "cell_type": "markdown",
      "source": [
        "This video goes over the the lipid bilayer surrounding the cell real quick as a review as well."
      ],
      "metadata": {
        "id": "Ajw69eI5TOtm"
      }
    },
    {
      "cell_type": "code",
      "source": [
        "YouTubeVideo('x8ROEj2SFes')"
      ],
      "metadata": {
        "colab": {
          "base_uri": "https://localhost:8080/",
          "height": 321
        },
        "id": "cZ1guTpyTWxk",
        "outputId": "0ecfb059-ee61-4e33-8ec0-c44d7fc19a80"
      },
      "execution_count": 4,
      "outputs": [
        {
          "output_type": "execute_result",
          "data": {
            "text/plain": [
              "<IPython.lib.display.YouTubeVideo at 0x7af4a681fdf0>"
            ],
            "text/html": [
              "\n",
              "        <iframe\n",
              "            width=\"400\"\n",
              "            height=\"300\"\n",
              "            src=\"https://www.youtube.com/embed/x8ROEj2SFes\"\n",
              "            frameborder=\"0\"\n",
              "            allowfullscreen\n",
              "            \n",
              "        ></iframe>\n",
              "        "
            ],
            "image/jpeg": "[encoded data removed]"
          },
          "metadata": {},
          "execution_count": 4
        }
      ]
    },
    {
      "cell_type": "markdown",
      "source": [
        "# From Drawings to Code\n",
        "So how do we create the soma with these things within NEURON? It's actually very simple. NEURON defines parts of the cell as sections. NEURON defines sections as cylindrical sections, with a diameter and a length.  A dendrite would be one section, the soma another, and and axon as the last. When created, such sections are populated by default values.\n",
        "\n",
        "![image](https://raw.githubusercontent.com/chenziao/Software_Tutorials_Colab/main/S1_PassiveMembrane/cylinder.png)\n",
        "\n",
        "Every section can then be further subdivided into segments, which are equally lengthed segments that divide the section. Since nothing special is occuring in this notebook, we will divide the soma into three segments.\n",
        "\n"
      ],
      "metadata": {
        "id": "ud2WmGp_UdVe"
      }
    },
    {
      "cell_type": "code",
      "source": [
        "soma = h.Section(name='Soma') #creates soma\n",
        "soma.nseg = 3 #defines how many segments to divide soma into\n",
        "print(\"The default length is \" + str(soma.L) + \" microns\")\n",
        "print(\"The default diameter is \" + str(soma.diam) + \" microns\")\n",
        "print(\"The default capacitance is \" + str(soma.cm) + \" microFarad / cm^2\")\n",
        "print(\"The default cytoplasmic resistivity is \" + str(soma.Ra) + \" ohm-cm\")\n",
        "soma_length = soma.L\n",
        "soma_diam = soma.diam"
      ],
      "metadata": {
        "id": "ICK852Tkq0tM",
        "colab": {
          "base_uri": "https://localhost:8080/"
        },
        "outputId": "46160d88-d848-408d-888c-83f707e06128"
      },
      "execution_count": 5,
      "outputs": [
        {
          "output_type": "stream",
          "name": "stdout",
          "text": [
            "The default length is 100.0 microns\n",
            "The default diameter is 500.0 microns\n",
            "The default capacitance is 1.0 microFarad / cm^2\n",
            "The default cytoplasmic resistivity is 35.4 ohm-cm\n"
          ]
        }
      ]
    },
    {
      "cell_type": "markdown",
      "source": [
        "These values are unrealistic for mammalian neurons since they come from Hodgkin and Huxley's experiments with a squid giant axon. However, we can always change them to something different. Here we changed the diameter to be 20 microns.\n",
        "For more information on some neurons' typical geometries, click [here.](https://synapseweb.clm.utexas.edu/dimensions-dendrites)"
      ],
      "metadata": {
        "id": "EbXSEVWfBFLy"
      }
    },
    {
      "cell_type": "markdown",
      "source": [
        "# Adding Leak/Passive Channels\n",
        "One might notice that there is many things missing from our model so far. We have no channels, and as a result there is not even a resting membrane potential. So first, let's add the passive/leak channels to our soma.\n"
      ],
      "metadata": {
        "id": "AAa26wkHCHWP"
      }
    },
    {
      "cell_type": "code",
      "source": [
        "soma.insert('pas') #inserts passive channel\n",
        "print(\"Default E_leak = \" +str(soma.e_pas) + \" mV\")\n",
        "print(\"Default g_leak = \" + str(soma.g_pas) + \" S/cm^2\")"
      ],
      "metadata": {
        "id": "jECW0hoB8iiS",
        "colab": {
          "base_uri": "https://localhost:8080/"
        },
        "outputId": "51760aec-2e84-4332-f02f-790b861897f0"
      },
      "execution_count": 6,
      "outputs": [
        {
          "output_type": "stream",
          "name": "stdout",
          "text": [
            "Default E_leak = -70.0 mV\n",
            "Default g_leak = 0.001 S/cm^2\n"
          ]
        }
      ]
    },
    {
      "cell_type": "markdown",
      "source": [
        "The resting membrane potential is just e_leak. In this case, the default values are realistic."
      ],
      "metadata": {
        "id": "eeiC5qARFse-"
      }
    },
    {
      "cell_type": "markdown",
      "source": [
        "# Adding Active Channels\n",
        "We have everything to model a passive membrane. However, active channels do exist, and can also be added. We will be inserting Hodgkin-Huxley channels to the soma, so their defaults will also be based off the squid giant axon. These hh channels also include a leak channel based off the squid giant axon, which we will not be using since we already have leak channels.\n",
        "\n"
      ],
      "metadata": {
        "id": "44E9tu-6k1KB"
      }
    },
    {
      "cell_type": "code",
      "source": [
        "soma.insert('hh') #insert Hodgkin-Huxley channels\n",
        "print(\"Default El_hh = \" +str(soma.el_hh) + \" mV\")\n",
        "print(\"Default gl_hh = \" + str(soma.gl_hh) + \" S/cm^2\")\n",
        "print(\"Default Ek = \" +str(soma.ek) + \" mV\")\n",
        "print(\"Default gkbar_hh = \" + str(soma.gkbar_hh) + \" S/cm^2\")\n",
        "print(\"Default Ena = \" +str(soma.ena) + \" mV\")\n",
        "print(\"Default gnabar_hh = \" + str(soma.gnabar_hh) + \" S/cm^2\")\n",
        "soma.gl_hh = 0 #changing soma's gleak_hh to be 0 as we already have passive channels, effectively not having it."
      ],
      "metadata": {
        "id": "FHbWMktSk1gx",
        "colab": {
          "base_uri": "https://localhost:8080/"
        },
        "outputId": "bd8cbeb5-8648-4eb3-c2bf-302b3e356697"
      },
      "execution_count": 7,
      "outputs": [
        {
          "output_type": "stream",
          "name": "stdout",
          "text": [
            "Default El_hh = -54.3 mV\n",
            "Default gl_hh = 0.0003 S/cm^2\n",
            "Default Ek = -77.0 mV\n",
            "Default gkbar_hh = 0.036 S/cm^2\n",
            "Default Ena = 50.0 mV\n",
            "Default gnabar_hh = 0.12 S/cm^2\n"
          ]
        }
      ]
    },
    {
      "cell_type": "markdown",
      "source": [
        "#Current Clamp\n",
        "A current clamp injects a steady current into the soma and is typically used to measure the change in voltage. Current Clamps have four parameters: the location(so where in the soma on a 0-1 scale), the duration(how long you will be injecting current for), the amplitude(how much current), and delay(how long will you wait until you inject)."
      ],
      "metadata": {
        "id": "Ci661pi0s69c"
      }
    },
    {
      "cell_type": "code",
      "source": [
        "ic = h.IClamp(soma(0.5)) # middle of soma\n",
        "ic.dur = 2.5 #ms\n",
        "ic.amp = 50 #nA\n",
        "ic.delay = 100 #ms"
      ],
      "metadata": {
        "id": "sb0a20OQtMpd"
      },
      "execution_count": 8,
      "outputs": []
    },
    {
      "cell_type": "markdown",
      "source": [
        "#Extras: Voltage Clamp\n",
        "A voltage clamp holds the voltage at a steady state value and is used to measure the current. Voltage clamps do not have a delay parameter. We will only be showcasing current clamp in this lab, but the commented code below shows how one could implement a voltage clamp."
      ],
      "metadata": {
        "id": "nZqPxIu4Itz8"
      }
    },
    {
      "cell_type": "code",
      "source": [
        "#vc = h.VClamp(soma(0.5)) #middle of soma\n",
        "#vc.dur[0] = 500 #ms\n",
        "#vc.amp[0] = -10 #mV"
      ],
      "metadata": {
        "id": "9wuIDocMNxtP"
      },
      "execution_count": 9,
      "outputs": []
    },
    {
      "cell_type": "markdown",
      "source": [
        "# Running a Simulation\n",
        "Now we have a full cell with the necessary things. But how is the voltage going to change due to our clamps? If we start a simulation, we can find out. But we need to define how long the simulation is, how long each step forward in the simulation, and record the values throughout the simulation."
      ],
      "metadata": {
        "id": "5aEP6mh72tzC"
      }
    },
    {
      "cell_type": "code",
      "source": [
        "h.v_init= soma.e_pas #initial voltage is the resting membrane potential of the soma\n",
        "h.tstop = tstop = 200 # how long to run the simulation in ms\n",
        "h.dt = 0.025 # time step (resolution) of the simulation in ms\n",
        "\n",
        "# define two vectors for recording variables\n",
        "t_vec = h.Vector()\n",
        "soma_v_vec = h.Vector()\n",
        "# record the voltage (_ref_v) and time (_ref_t) and voltage(_ref_v) into the vectors we just created\n",
        "t_vec.record(h._ref_t)\n",
        "soma_v_vec.record(soma(0.5)._ref_v)\n",
        "h.run()"
      ],
      "metadata": {
        "id": "7tNzaEcF2YzV",
        "colab": {
          "base_uri": "https://localhost:8080/"
        },
        "outputId": "7f66e79e-d81c-4fcf-c84d-499eedeb402e"
      },
      "execution_count": 10,
      "outputs": [
        {
          "output_type": "execute_result",
          "data": {
            "text/plain": [
              "0.0"
            ]
          },
          "metadata": {},
          "execution_count": 10
        }
      ]
    },
    {
      "cell_type": "markdown",
      "source": [
        "# Plotting Results\n",
        "Even though we've ran the simulation, we need to show the results. Matplotlib allows us to graph our results with respect to time.\n",
        "What do you think will happen to the soma's voltage throughout the simulation?\n"
      ],
      "metadata": {
        "id": "qTOR0-1f5Z7W"
      }
    },
    {
      "cell_type": "code",
      "source": [
        "fig, axs = plt.subplots(1,1,figsize=(10, 8))\n",
        "axs.plot(t_vec,soma_v_vec) #plotting time vs current\n",
        "axs.set_title(str(soma) + ' Voltage')\n",
        "axs.set_xlabel('Time(ms)')\n",
        "axs.set_ylabel('Current (mV)')\n",
        "plt.show()"
      ],
      "metadata": {
        "id": "NZcK8cR05ukC",
        "colab": {
          "base_uri": "https://localhost:8080/",
          "height": 718
        },
        "outputId": "c022b94c-670f-4641-deaf-31741f167396"
      },
      "execution_count": 11,
      "outputs": [
        {
          "output_type": "display_data",
          "data": {
            "text/plain": [
              "<Figure size 1000x800 with 1 Axes>"
            ],
            "image/png": "[encoded data removed]"
          },
          "metadata": {}
        }
      ]
    },
    {
      "cell_type": "markdown",
      "source": [
        "An action potential occurs with the default values."
      ],
      "metadata": {
        "id": "uU8BvdJT9K4J"
      }
    },
    {
      "cell_type": "markdown",
      "source": [
        "#But What does the Soma with Channels Actually Look Like?\n",
        "Below is an interactive tool that allows you too see how the morphology of the soma changes depending on the soma's length, diameter, and what channels are inserted in. You can then also see how that will change what happens to the soma's voltage throughout the simulation.\n"
      ],
      "metadata": {
        "id": "nPRMrk_M52Uh"
      }
    },
    {
      "cell_type": "code",
      "source": [
        "#function for graphing soma morphology and voltage\n",
        "def graph(soma_length,soma_diam,leak_channel,k_channel,na_channel,t_vec,soma_v_vec,ileak_vec,ik_vec,ina_vec):\n",
        "  #Create the plot\n",
        "  fig, axs = plt.subplots(3,1,figsize=(10, 8))\n",
        "\n",
        "\n",
        "  #Soma morphology\n",
        "  #Add channels if they exist.\n",
        "  if(leak_channel == 'Leak Channels'):\n",
        "    for i in range(int(soma_length)):\n",
        "      if(i % int(soma_length / 6 + 1) == 0 and i > 0):\n",
        "        axs[0].plot(i, soma_diam/2+1, marker = 'x', color = 'red')\n",
        "        axs[0].plot(i, -(soma_diam/2), marker= 'x', color = 'red')\n",
        "  if(k_channel == 'K+ Channels'):\n",
        "    for i in range(int(soma_length)):\n",
        "      if(i % int(soma_length / 4 + 1) == 0 and i > 0):\n",
        "        axs[0].plot(i, soma_diam/2+1, marker = 'o', color = 'blue')\n",
        "        axs[0].plot(i, -(soma_diam/2), marker= 'o', color = 'blue')\n",
        "  if(na_channel == 'Na+ Channels'):\n",
        "    for i in range(int(soma_length)):\n",
        "      if(i % int(soma_length / 5 + 1) == 0 and i > 0):\n",
        "        axs[0].plot(i, soma_diam/2+1, marker = 'D', color = 'purple')\n",
        "        axs[0].plot(i, -(soma_diam/2), marker= 'D', color = 'purple')\n",
        "        continue\n",
        "  # Add title and labels\n",
        "  axs[0].set_title(str(soma) + ' Morphology')\n",
        "  axs[0].set_xlabel('Length(um)')\n",
        "  axs[0].set_ylabel('Diameter(um)')\n",
        "  axs[0].set_ylim(-soma_diam*2,soma_diam*2)\n",
        "  soma_xcoords = [0,soma_length]\n",
        "  axs[0].fill_between(soma_xcoords, soma_diam/2,-soma_diam/2, color = 'black') #soma rectangle\n",
        "\n",
        "  #Soma Voltage\n",
        "  axs[1].plot(t_vec,soma_v_vec) #plotting time vs current\n",
        "  axs[1].set_title(str(soma) + ' Voltage')\n",
        "  axs[1].set_xlabel('Time(ms)')\n",
        "  axs[1].set_ylabel('Voltage (mV)')\n",
        "\n",
        "\n",
        "  #Soma channel's currents.\n",
        "  axs[2].plot(t_vec,ileak_vec, color = 'red', label = 'Leak')\n",
        "  axs[2].plot(t_vec,ik_vec, color = 'blue', label = 'K+')\n",
        "  axs[2].plot(t_vec,ina_vec, color = 'purple', label = 'Na+')\n",
        "  axs[2].legend(loc = 'upper left')\n",
        "  axs[2].set_title(str(soma) + ' Currents')\n",
        "  axs[2].set_xlabel('Time(ms)')\n",
        "  axs[2].set_ylabel('Current (nA)')\n",
        "\n",
        "  # Show the plot\n",
        "  plt.tight_layout()\n",
        "  plt.show()\n",
        "\n",
        "\n",
        "\n"
      ],
      "metadata": {
        "id": "_UN6q9j454y-"
      },
      "execution_count": 19,
      "outputs": []
    },
    {
      "cell_type": "code",
      "source": [
        "def activemodel(soma_length,soma_diam,tstop, ic_dur,ic_amp,ic_delay,leak_channel,k_channel,na_channel):\n",
        "  h.v_init= soma.e_pas #initial voltage is the resting membrane potential of the soma\n",
        "\n",
        "  h.dt = 0.025 # time step (resolution) of the simulation in ms\n",
        "  # define two vectors for recording variables\n",
        "  t_vec = h.Vector()\n",
        "  soma_v_vec = h.Vector()\n",
        "  ileak_vec = h.Vector()\n",
        "  ik_vec = h.Vector()\n",
        "  ina_vec = h.Vector()\n",
        "\n",
        "  # record the voltage (_ref_v) and time (_ref_t) and voltage(_ref_v) into the vectors we just created\n",
        "  t_vec.record(h._ref_t)\n",
        "  soma_v_vec.record(soma(0.5)._ref_v)\n",
        "  ileak_vec.record(soma(0.5)._ref_i_pas)\n",
        "  ik_vec.record(soma(0.5)._ref_ik)\n",
        "  ina_vec.record(soma(0.5)._ref_ina)\n",
        "\n",
        "  h.tstop = tstop\n",
        "  ic.dur = ic_dur\n",
        "  ic.amp = ic.amp\n",
        "  ic.delay = ic_delay\n",
        "  if(leak_channel == 'Leak Channels'):\n",
        "    soma.g_pas = 0.001 #S/cm^2\n",
        "  else:\n",
        "    soma.g_pas = 0\n",
        "  if(k_channel == 'K+ Channels'):\n",
        "    soma.gkbar_hh = 0.036 #S/cm^2\n",
        "  else:\n",
        "    soma.gkbar_hh = 0\n",
        "  if(na_channel == 'Na+ Channels'):\n",
        "    soma.gnabar_hh = 0.12 #S/cm^2\n",
        "  else:\n",
        "    soma.gnabar_hh = 0\n",
        "  h.run()\n",
        "  plt.close('all')\n",
        "  graph(soma_length,soma_diam,leak_channel,k_channel,na_channel,t_vec,soma_v_vec,ileak_vec,ik_vec,ina_vec)\n"
      ],
      "metadata": {
        "id": "qWJt0nVcAHVi"
      },
      "execution_count": 20,
      "outputs": []
    },
    {
      "cell_type": "code",
      "source": [
        "import ipywidgets as widgets\n",
        "from ipywidgets import interactive_output,HBox,VBox,Label,Layout\n",
        "from IPython.display import display\n",
        "\n",
        "#default settings\n",
        "default_soma_length = 35 #microns\n",
        "default_soma_diam = 35 #microns\n",
        "default_leak_channel = 'No Leak Channels' #S/cm^2\n",
        "default_g_pas = 0.003 #S/cm^2\n",
        "default_k_channel = 'No K+ Channels' #S/cm^2\n",
        "default_na_channel = 'No Na+ Channels' #S/cm^2\n",
        "default_tstop = 200 # how long to run the simulation in ms\n",
        "default_ic_dur = 2.5 #ms\n",
        "default_ic_amp = 50 #nA\n",
        "default_ic_delay = 100 #ms\n",
        "\n",
        "#Reset button\n",
        "w_reset = widgets.Button(description ='Reset', icon = 'history', button_style ='primary')\n",
        "\n",
        "#Textboxes\n",
        "w_soma_length = widgets.BoundedFloatText(value = default_soma_length, min = 1, max = 10000, description = 'Length(um)')\n",
        "w_soma_diam = widgets.BoundedFloatText(value = default_soma_diam, min = 1, max = 10000, description = 'Diameter(um)')\n",
        "w_tstop = widgets.BoundedFloatText(value = default_tstop, min = 5, max = 1000, description = 'Tstop(ms)')\n",
        "w_ic_dur = widgets.BoundedFloatText(value = default_ic_dur,min = 1, max = 500, description = 'Injection(ms)')\n",
        "w_ic_amp = widgets.BoundedFloatText(value = default_ic_amp, min = -100, max = 100, description = 'Amp(nA)')\n",
        "w_ic_delay = widgets.BoundedFloatText(value = default_ic_delay,min = 1, max = 400, description = 'Delay(ms)')\n",
        "\n",
        "#defining reset\n",
        "def reset_default(*args):\n",
        "  w_soma_length.value = default_soma_length\n",
        "  w_soma_diam.value = default_soma_diam\n",
        "  passive_select.value = 'No Leak Channels'\n",
        "  k_select.value = 'No K+ Channels'\n",
        "  na_select.value = 'No Na+ Channels'\n",
        "  w_tstop.value = default_tstop\n",
        "  w_ic_dur.value = default_ic_dur\n",
        "  w_ic_amp.value = default_ic_amp\n",
        "  w_ic_delay.value = default_ic_delay\n",
        "w_reset.on_click(reset_default)\n",
        "\n",
        "#radio buttons for channel selections\n",
        "passive_select = widgets.RadioButtons(options = ['Leak Channels', 'No Leak Channels'], value = 'No Leak Channels',description = 'Leak:', disabled = False)\n",
        "k_select = widgets.RadioButtons(options = ['K+ Channels', 'No K+ Channels'], value = 'No K+ Channels', description = 'K+:', disabled = False)\n",
        "na_select = widgets.RadioButtons(options = ['Na+ Channels', 'No Na+ Channels'], value = 'No Na+ Channels', description = 'Na+:', disabled = False)\n",
        "\n",
        "#saying what function to be done based on the widget values\n",
        "out = interactive_output(activemodel,{'soma_length': w_soma_length,'soma_diam':w_soma_diam,'tstop':w_tstop,'ic_dur':w_ic_dur,'ic_amp':w_ic_amp,'ic_delay':w_ic_delay,'leak_channel':passive_select,'k_channel':k_select,'na_channel':na_select})\n",
        "#how to display the buttons/widgets\n",
        "ui = HBox([w_reset,VBox([w_soma_length,w_soma_diam]),VBox([passive_select,k_select,na_select]),VBox([w_tstop,w_ic_dur,w_ic_amp,w_ic_delay])])\n",
        "\n",
        "\n",
        "display(ui,out)"
      ],
      "metadata": {
        "colab": {
          "base_uri": "https://localhost:8080/",
          "height": 999,
          "referenced_widgets": [
            "82ce72c4b0bc4f83b1852388e3ced1d5",
            "64385fd342054ea3af3df8eea7002cc9",
            "e3974e44397644a18458c0895298421c",
            "40a87e4c2fa74795a07fcff4c6c1218d",
            "8504a4ff8ffe4e5c81a7f269d32c5ce1",
            "06cb38b06694425ebf855b679ad37c78",
            "82dad8a028eb4e9d82b978c171bdf4db",
            "4d36e2988ca747b48570317e1d790f02",
            "217678e66daa4e5fa7be351ab2c817db",
            "ce07ddec42e94556b7a1b79343c41c97",
            "f519c479255b4ce396b879294b16f9b3",
            "5a23cfd9fade4173b43d82720c4d1a86",
            "92fca1347f054d9888917c370580dd4f",
            "522a1ffdc34d44449ca2b59dc417c834",
            "06c359ecc8a1465894fb490a9b790ad0",
            "fee8b67f92f246f1aa8f7bad20f4564b",
            "533f2889ba4e402e9228f81817dd1bea",
            "b648eedd7683429e84d18f0453769059",
            "3356b4e65a9a4ca0a21941a13b8e5ec6",
            "3261f7630cf94fb7a3078bb45262eb8e",
            "7f7ebe6520de43a1a4049ccfeca64dc2",
            "ff4708c5f2dd4c6f8b6356c2c1637504",
            "012b0ab70ca8410e99989f89746113f5",
            "8f9e0cbdd35440bc87cc9ded37c5220f",
            "7dd0b6e158e94764bbfa9eab1ad4b091",
            "a3cee83f63ae47ca80d1bf5b95505083",
            "d48087b12166428f84a49e2dfd0c3b7f",
            "263f0fa819bd461ca17f39632b4945cd",
            "d635ce77fe67469a9b330cac27be4f62",
            "e4c8926b74e24c7e91a6ded289c93ac1",
            "a6583f7cae704954b06ddf0bb629270c",
            "20545f9bcef14c3a81e36cad1fc9c4e5",
            "dee39cdbe8a4472fb2de54065e474484",
            "142688440de24aaa8560afbe17ff1ad5",
            "bee9843ec967433b9eea42f1eac6d563",
            "ea951ec99b9c413986ed5a20ec8f8d3b",
            "fa11b0f0fef04a7b97e499b7496ae57b",
            "d2b3f2e765cb422783807615baf7945d",
            "b92db5fa6721467f9628aa3aab875c21",
            "cfc257951f8148369466dcbd56f6bf7c"
          ]
        },
        "id": "S1KrXyo_55A4",
        "outputId": "7707aeb1-205c-42de-e2ca-3a60b2a1c35b"
      },
      "execution_count": 21,
      "outputs": [
        {
          "output_type": "display_data",
          "data": {
            "text/plain": [
              "HBox(children=(Button(button_style='primary', description='Reset', icon='history', style=ButtonStyle()), VBox(…"
            ],
            "application/vnd.jupyter.widget-view+json": {
              "version_major": 2,
              "version_minor": 0,
              "model_id": "82ce72c4b0bc4f83b1852388e3ced1d5"
            }
          },
          "metadata": {}
        },
        {
          "output_type": "display_data",
          "data": {
            "text/plain": [
              "Output()"
            ],
            "application/vnd.jupyter.widget-view+json": {
              "version_major": 2,
              "version_minor": 0,
              "model_id": "b92db5fa6721467f9628aa3aab875c21"
            }
          },
          "metadata": {}
        }
      ]
    },
    {
      "cell_type": "markdown",
      "source": [
        "# Extras: Adding More Sections\n",
        "A neuron is more than just a soma, why not add something else, like an axon.\n",
        "An axon is also just a section and can be created in the same way, but it does need to be connected to the soma. Here we demonstrate how to add an axon and connect it to the soma, but we will not be focusing on it really in this lab. A video going over the full structure of the neuron, including all the sections is available here though."
      ],
      "metadata": {
        "id": "MT33CSH3j4vo"
      }
    },
    {
      "cell_type": "code",
      "source": [
        "#axon = h.Section('axon')\n",
        "#axon.L = 40\n",
        "#axon.nseg = 3 # divided into 3 equally lengthed segments\n",
        "#axon.connect(soma(1)) #connect axon to the right end of the soma\n",
        "#h.topology() # shows topology of full cell\n",
        "YouTubeVideo('HZh0A-lWSmY')"
      ],
      "metadata": {
        "id": "J4pOjOrskPap",
        "colab": {
          "base_uri": "https://localhost:8080/",
          "height": 321
        },
        "outputId": "45458029-b3b9-40c0-a7f5-5be251a6f148"
      },
      "execution_count": 15,
      "outputs": [
        {
          "output_type": "execute_result",
          "data": {
            "text/plain": [
              "<IPython.lib.display.YouTubeVideo at 0x7af4890d4130>"
            ],
            "text/html": [
              "\n",
              "        <iframe\n",
              "            width=\"400\"\n",
              "            height=\"300\"\n",
              "            src=\"https://www.youtube.com/embed/HZh0A-lWSmY\"\n",
              "            frameborder=\"0\"\n",
              "            allowfullscreen\n",
              "            \n",
              "        ></iframe>\n",
              "        "
            ],
            "image/jpeg": "[encoded data removed]"
          },
          "metadata": {},
          "execution_count": 15
        }
      ]
    },
    {
      "cell_type": "markdown",
      "source": [
        "# Conclusion\n",
        "You should now know how NEURON simulates a neuron, how to create a single cell model with channels using NEURON, the morphology of the soma, and how to use NEURON to conduct experiments/simulations of your own. For more help on how to use NEURON, click [here](http://web.mit.edu/neuron_v7.4/nrntuthtml/tutorial/tutA.html) and [here.](https://nrn.readthedocs.io/en/latest/tutorials/scripting-neuron-basics.html)"
      ],
      "metadata": {
        "id": "cTYQv8Ok-dWx"
      }
    }
  ]
}