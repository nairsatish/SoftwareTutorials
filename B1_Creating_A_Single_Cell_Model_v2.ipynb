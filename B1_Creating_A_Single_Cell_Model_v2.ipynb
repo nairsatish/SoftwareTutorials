{
  "nbformat": 4,
  "nbformat_minor": 0,
  "metadata": {
    "colab": {
      "provenance": [],
      "authorship_tag": "ABX9TyP99tW3Qv+sdb9KfyA/Ky/B",
      "include_colab_link": true
    },
    "kernelspec": {
      "name": "python3",
      "display_name": "Python 3"
    },
    "language_info": {
      "name": "python"
    },
    "widgets": {
      "application/vnd.jupyter.widget-state+json": {
        "46315df9d72d44c1aee350a9bdd84984": {
          "model_module": "@jupyter-widgets/controls",
          "model_name": "HBoxModel",
          "model_module_version": "1.5.0",
          "state": {
            "_dom_classes": [],
            "_model_module": "@jupyter-widgets/controls",
            "_model_module_version": "1.5.0",
            "_model_name": "HBoxModel",
            "_view_count": null,
            "_view_module": "@jupyter-widgets/controls",
            "_view_module_version": "1.5.0",
            "_view_name": "HBoxView",
            "box_style": "",
            "children": [
              "IPY_MODEL_184fcab31bb04ee99c30dbd1a7003df3",
              "IPY_MODEL_7576947c0d994042ad9bd4b084e150e9",
              "IPY_MODEL_d4bcdddd79e043bd8e7e9644264b5c45",
              "IPY_MODEL_5a62526936684421a5852341479c7abd"
            ],
            "layout": "IPY_MODEL_a25a3a27fef44784b1d9338a0670fb83"
          }
        },
        "184fcab31bb04ee99c30dbd1a7003df3": {
          "model_module": "@jupyter-widgets/controls",
          "model_name": "ButtonModel",
          "model_module_version": "1.5.0",
          "state": {
            "_dom_classes": [],
            "_model_module": "@jupyter-widgets/controls",
            "_model_module_version": "1.5.0",
            "_model_name": "ButtonModel",
            "_view_count": null,
            "_view_module": "@jupyter-widgets/controls",
            "_view_module_version": "1.5.0",
            "_view_name": "ButtonView",
            "button_style": "primary",
            "description": "Reset",
            "disabled": false,
            "icon": "history",
            "layout": "IPY_MODEL_7498eb045a544a8caf588bee1cffd3bd",
            "style": "IPY_MODEL_fe8f4dddd3d4437887b3e45f24a7fa4e",
            "tooltip": ""
          }
        },
        "7576947c0d994042ad9bd4b084e150e9": {
          "model_module": "@jupyter-widgets/controls",
          "model_name": "VBoxModel",
          "model_module_version": "1.5.0",
          "state": {
            "_dom_classes": [],
            "_model_module": "@jupyter-widgets/controls",
            "_model_module_version": "1.5.0",
            "_model_name": "VBoxModel",
            "_view_count": null,
            "_view_module": "@jupyter-widgets/controls",
            "_view_module_version": "1.5.0",
            "_view_name": "VBoxView",
            "box_style": "",
            "children": [
              "IPY_MODEL_092a06dfc0cf42f89091f51106bf8aba",
              "IPY_MODEL_0fb7c16366e54690afd22883a13a5c5c"
            ],
            "layout": "IPY_MODEL_f2bb0cae3d054f84a40b9e2ab48b6adb"
          }
        },
        "d4bcdddd79e043bd8e7e9644264b5c45": {
          "model_module": "@jupyter-widgets/controls",
          "model_name": "VBoxModel",
          "model_module_version": "1.5.0",
          "state": {
            "_dom_classes": [],
            "_model_module": "@jupyter-widgets/controls",
            "_model_module_version": "1.5.0",
            "_model_name": "VBoxModel",
            "_view_count": null,
            "_view_module": "@jupyter-widgets/controls",
            "_view_module_version": "1.5.0",
            "_view_name": "VBoxView",
            "box_style": "",
            "children": [
              "IPY_MODEL_646a1e0afd774a4194eccdc74690d31c",
              "IPY_MODEL_c177b5fd936a484a951ed23ede85dbb0",
              "IPY_MODEL_697f39c1e39c4918bf7ef0b946a111da"
            ],
            "layout": "IPY_MODEL_ad3e7e80139040b1a3903f847a0faa20"
          }
        },
        "5a62526936684421a5852341479c7abd": {
          "model_module": "@jupyter-widgets/controls",
          "model_name": "VBoxModel",
          "model_module_version": "1.5.0",
          "state": {
            "_dom_classes": [],
            "_model_module": "@jupyter-widgets/controls",
            "_model_module_version": "1.5.0",
            "_model_name": "VBoxModel",
            "_view_count": null,
            "_view_module": "@jupyter-widgets/controls",
            "_view_module_version": "1.5.0",
            "_view_name": "VBoxView",
            "box_style": "",
            "children": [
              "IPY_MODEL_8bfc678adb8d4a1b8063623bf6de2b43",
              "IPY_MODEL_0d51a963a40b4048b6c9eba383b63348",
              "IPY_MODEL_466d8160861e48db84fa4aeea9d16b1b",
              "IPY_MODEL_1339b471bb744624bb6793d3e8eb58a6"
            ],
            "layout": "IPY_MODEL_1aa0f572b4994f6f9a0622896ef4dacb"
          }
        },
        "a25a3a27fef44784b1d9338a0670fb83": {
          "model_module": "@jupyter-widgets/base",
          "model_name": "LayoutModel",
          "model_module_version": "1.2.0",
          "state": {
            "_model_module": "@jupyter-widgets/base",
            "_model_module_version": "1.2.0",
            "_model_name": "LayoutModel",
            "_view_count": null,
            "_view_module": "@jupyter-widgets/base",
            "_view_module_version": "1.2.0",
            "_view_name": "LayoutView",
            "align_content": null,
            "align_items": null,
            "align_self": null,
            "border": null,
            "bottom": null,
            "display": null,
            "flex": null,
            "flex_flow": null,
            "grid_area": null,
            "grid_auto_columns": null,
            "grid_auto_flow": null,
            "grid_auto_rows": null,
            "grid_column": null,
            "grid_gap": null,
            "grid_row": null,
            "grid_template_areas": null,
            "grid_template_columns": null,
            "grid_template_rows": null,
            "height": null,
            "justify_content": null,
            "justify_items": null,
            "left": null,
            "margin": null,
            "max_height": null,
            "max_width": null,
            "min_height": null,
            "min_width": null,
            "object_fit": null,
            "object_position": null,
            "order": null,
            "overflow": null,
            "overflow_x": null,
            "overflow_y": null,
            "padding": null,
            "right": null,
            "top": null,
            "visibility": null,
            "width": null
          }
        },
        "7498eb045a544a8caf588bee1cffd3bd": {
          "model_module": "@jupyter-widgets/base",
          "model_name": "LayoutModel",
          "model_module_version": "1.2.0",
          "state": {
            "_model_module": "@jupyter-widgets/base",
            "_model_module_version": "1.2.0",
            "_model_name": "LayoutModel",
            "_view_count": null,
            "_view_module": "@jupyter-widgets/base",
            "_view_module_version": "1.2.0",
            "_view_name": "LayoutView",
            "align_content": null,
            "align_items": null,
            "align_self": null,
            "border": null,
            "bottom": null,
            "display": null,
            "flex": null,
            "flex_flow": null,
            "grid_area": null,
            "grid_auto_columns": null,
            "grid_auto_flow": null,
            "grid_auto_rows": null,
            "grid_column": null,
            "grid_gap": null,
            "grid_row": null,
            "grid_template_areas": null,
            "grid_template_columns": null,
            "grid_template_rows": null,
            "height": null,
            "justify_content": null,
            "justify_items": null,
            "left": null,
            "margin": null,
            "max_height": null,
            "max_width": null,
            "min_height": null,
            "min_width": null,
            "object_fit": null,
            "object_position": null,
            "order": null,
            "overflow": null,
            "overflow_x": null,
            "overflow_y": null,
            "padding": null,
            "right": null,
            "top": null,
            "visibility": null,
            "width": null
          }
        },
        "fe8f4dddd3d4437887b3e45f24a7fa4e": {
          "model_module": "@jupyter-widgets/controls",
          "model_name": "ButtonStyleModel",
          "model_module_version": "1.5.0",
          "state": {
            "_model_module": "@jupyter-widgets/controls",
            "_model_module_version": "1.5.0",
            "_model_name": "ButtonStyleModel",
            "_view_count": null,
            "_view_module": "@jupyter-widgets/base",
            "_view_module_version": "1.2.0",
            "_view_name": "StyleView",
            "button_color": null,
            "font_weight": ""
          }
        },
        "092a06dfc0cf42f89091f51106bf8aba": {
          "model_module": "@jupyter-widgets/controls",
          "model_name": "BoundedFloatTextModel",
          "model_module_version": "1.5.0",
          "state": {
            "_dom_classes": [],
            "_model_module": "@jupyter-widgets/controls",
            "_model_module_version": "1.5.0",
            "_model_name": "BoundedFloatTextModel",
            "_view_count": null,
            "_view_module": "@jupyter-widgets/controls",
            "_view_module_version": "1.5.0",
            "_view_name": "FloatTextView",
            "continuous_update": false,
            "description": "Length(um)",
            "description_tooltip": null,
            "disabled": false,
            "layout": "IPY_MODEL_13e86f2f531840bf8aa1cba8965a2f49",
            "max": 10000,
            "min": 1,
            "step": null,
            "style": "IPY_MODEL_5a244e3a820542e6be795a2e146c9f11",
            "value": 35
          }
        },
        "0fb7c16366e54690afd22883a13a5c5c": {
          "model_module": "@jupyter-widgets/controls",
          "model_name": "BoundedFloatTextModel",
          "model_module_version": "1.5.0",
          "state": {
            "_dom_classes": [],
            "_model_module": "@jupyter-widgets/controls",
            "_model_module_version": "1.5.0",
            "_model_name": "BoundedFloatTextModel",
            "_view_count": null,
            "_view_module": "@jupyter-widgets/controls",
            "_view_module_version": "1.5.0",
            "_view_name": "FloatTextView",
            "continuous_update": false,
            "description": "Diameter(um)",
            "description_tooltip": null,
            "disabled": false,
            "layout": "IPY_MODEL_30e105e266bb4de185637612b5e951dd",
            "max": 10000,
            "min": 1,
            "step": null,
            "style": "IPY_MODEL_104b0db9e7f44f7f936beb6d086d6d99",
            "value": 35
          }
        },
        "f2bb0cae3d054f84a40b9e2ab48b6adb": {
          "model_module": "@jupyter-widgets/base",
          "model_name": "LayoutModel",
          "model_module_version": "1.2.0",
          "state": {
            "_model_module": "@jupyter-widgets/base",
            "_model_module_version": "1.2.0",
            "_model_name": "LayoutModel",
            "_view_count": null,
            "_view_module": "@jupyter-widgets/base",
            "_view_module_version": "1.2.0",
            "_view_name": "LayoutView",
            "align_content": null,
            "align_items": null,
            "align_self": null,
            "border": null,
            "bottom": null,
            "display": null,
            "flex": null,
            "flex_flow": null,
            "grid_area": null,
            "grid_auto_columns": null,
            "grid_auto_flow": null,
            "grid_auto_rows": null,
            "grid_column": null,
            "grid_gap": null,
            "grid_row": null,
            "grid_template_areas": null,
            "grid_template_columns": null,
            "grid_template_rows": null,
            "height": null,
            "justify_content": null,
            "justify_items": null,
            "left": null,
            "margin": null,
            "max_height": null,
            "max_width": null,
            "min_height": null,
            "min_width": null,
            "object_fit": null,
            "object_position": null,
            "order": null,
            "overflow": null,
            "overflow_x": null,
            "overflow_y": null,
            "padding": null,
            "right": null,
            "top": null,
            "visibility": null,
            "width": null
          }
        },
        "646a1e0afd774a4194eccdc74690d31c": {
          "model_module": "@jupyter-widgets/controls",
          "model_name": "RadioButtonsModel",
          "model_module_version": "1.5.0",
          "state": {
            "_dom_classes": [],
            "_model_module": "@jupyter-widgets/controls",
            "_model_module_version": "1.5.0",
            "_model_name": "RadioButtonsModel",
            "_options_labels": [
              "Na+ Channels",
              "No Na+ Channels"
            ],
            "_view_count": null,
            "_view_module": "@jupyter-widgets/controls",
            "_view_module_version": "1.5.0",
            "_view_name": "RadioButtonsView",
            "description": "Na+:",
            "description_tooltip": null,
            "disabled": false,
            "index": 0,
            "layout": "IPY_MODEL_11f6f8432ae9437ea4a01b63829b1ddb",
            "style": "IPY_MODEL_d9b5b0f3049546809554cb7b7ed26bf9"
          }
        },
        "c177b5fd936a484a951ed23ede85dbb0": {
          "model_module": "@jupyter-widgets/controls",
          "model_name": "RadioButtonsModel",
          "model_module_version": "1.5.0",
          "state": {
            "_dom_classes": [],
            "_model_module": "@jupyter-widgets/controls",
            "_model_module_version": "1.5.0",
            "_model_name": "RadioButtonsModel",
            "_options_labels": [
              "K+ Channels",
              "No K+ Channels"
            ],
            "_view_count": null,
            "_view_module": "@jupyter-widgets/controls",
            "_view_module_version": "1.5.0",
            "_view_name": "RadioButtonsView",
            "description": "K+:",
            "description_tooltip": null,
            "disabled": false,
            "index": 0,
            "layout": "IPY_MODEL_d3704ee16c164abc96ad4e14e26a3b8f",
            "style": "IPY_MODEL_96e0006d88be4cac941c6149fda192a0"
          }
        },
        "697f39c1e39c4918bf7ef0b946a111da": {
          "model_module": "@jupyter-widgets/controls",
          "model_name": "RadioButtonsModel",
          "model_module_version": "1.5.0",
          "state": {
            "_dom_classes": [],
            "_model_module": "@jupyter-widgets/controls",
            "_model_module_version": "1.5.0",
            "_model_name": "RadioButtonsModel",
            "_options_labels": [
              "Leak Channels",
              "No Leak Channels"
            ],
            "_view_count": null,
            "_view_module": "@jupyter-widgets/controls",
            "_view_module_version": "1.5.0",
            "_view_name": "RadioButtonsView",
            "description": "Leak:",
            "description_tooltip": null,
            "disabled": false,
            "index": 0,
            "layout": "IPY_MODEL_17d9ec0a375344229b0b953db459fe0a",
            "style": "IPY_MODEL_7e36b3591663451ca6a1d3b9b74b32f4"
          }
        },
        "ad3e7e80139040b1a3903f847a0faa20": {
          "model_module": "@jupyter-widgets/base",
          "model_name": "LayoutModel",
          "model_module_version": "1.2.0",
          "state": {
            "_model_module": "@jupyter-widgets/base",
            "_model_module_version": "1.2.0",
            "_model_name": "LayoutModel",
            "_view_count": null,
            "_view_module": "@jupyter-widgets/base",
            "_view_module_version": "1.2.0",
            "_view_name": "LayoutView",
            "align_content": null,
            "align_items": null,
            "align_self": null,
            "border": null,
            "bottom": null,
            "display": null,
            "flex": null,
            "flex_flow": null,
            "grid_area": null,
            "grid_auto_columns": null,
            "grid_auto_flow": null,
            "grid_auto_rows": null,
            "grid_column": null,
            "grid_gap": null,
            "grid_row": null,
            "grid_template_areas": null,
            "grid_template_columns": null,
            "grid_template_rows": null,
            "height": null,
            "justify_content": null,
            "justify_items": null,
            "left": null,
            "margin": null,
            "max_height": null,
            "max_width": null,
            "min_height": null,
            "min_width": null,
            "object_fit": null,
            "object_position": null,
            "order": null,
            "overflow": null,
            "overflow_x": null,
            "overflow_y": null,
            "padding": null,
            "right": null,
            "top": null,
            "visibility": null,
            "width": null
          }
        },
        "8bfc678adb8d4a1b8063623bf6de2b43": {
          "model_module": "@jupyter-widgets/controls",
          "model_name": "BoundedFloatTextModel",
          "model_module_version": "1.5.0",
          "state": {
            "_dom_classes": [],
            "_model_module": "@jupyter-widgets/controls",
            "_model_module_version": "1.5.0",
            "_model_name": "BoundedFloatTextModel",
            "_view_count": null,
            "_view_module": "@jupyter-widgets/controls",
            "_view_module_version": "1.5.0",
            "_view_name": "FloatTextView",
            "continuous_update": false,
            "description": "Tstop(ms)",
            "description_tooltip": null,
            "disabled": false,
            "layout": "IPY_MODEL_cc435f9ece8843cdaf323b364d9c31e4",
            "max": 1000,
            "min": 5,
            "step": null,
            "style": "IPY_MODEL_b997ba21c597487ba378babb72c87c4a",
            "value": 200
          }
        },
        "0d51a963a40b4048b6c9eba383b63348": {
          "model_module": "@jupyter-widgets/controls",
          "model_name": "BoundedFloatTextModel",
          "model_module_version": "1.5.0",
          "state": {
            "_dom_classes": [],
            "_model_module": "@jupyter-widgets/controls",
            "_model_module_version": "1.5.0",
            "_model_name": "BoundedFloatTextModel",
            "_view_count": null,
            "_view_module": "@jupyter-widgets/controls",
            "_view_module_version": "1.5.0",
            "_view_name": "FloatTextView",
            "continuous_update": false,
            "description": "Injection(ms)",
            "description_tooltip": null,
            "disabled": false,
            "layout": "IPY_MODEL_2560874a82994b8c94494b836fc12561",
            "max": 500,
            "min": 1,
            "step": null,
            "style": "IPY_MODEL_61120d48c84f45c7a2c67da0acdc6c76",
            "value": 2.5
          }
        },
        "466d8160861e48db84fa4aeea9d16b1b": {
          "model_module": "@jupyter-widgets/controls",
          "model_name": "BoundedFloatTextModel",
          "model_module_version": "1.5.0",
          "state": {
            "_dom_classes": [],
            "_model_module": "@jupyter-widgets/controls",
            "_model_module_version": "1.5.0",
            "_model_name": "BoundedFloatTextModel",
            "_view_count": null,
            "_view_module": "@jupyter-widgets/controls",
            "_view_module_version": "1.5.0",
            "_view_name": "FloatTextView",
            "continuous_update": false,
            "description": "Amp(nA)",
            "description_tooltip": null,
            "disabled": false,
            "layout": "IPY_MODEL_f85337ef46d744038d39c65dfd827fc6",
            "max": 100,
            "min": -100,
            "step": null,
            "style": "IPY_MODEL_e96e69ba0071477fa088dfdf6e3ba9af",
            "value": 50
          }
        },
        "1339b471bb744624bb6793d3e8eb58a6": {
          "model_module": "@jupyter-widgets/controls",
          "model_name": "BoundedFloatTextModel",
          "model_module_version": "1.5.0",
          "state": {
            "_dom_classes": [],
            "_model_module": "@jupyter-widgets/controls",
            "_model_module_version": "1.5.0",
            "_model_name": "BoundedFloatTextModel",
            "_view_count": null,
            "_view_module": "@jupyter-widgets/controls",
            "_view_module_version": "1.5.0",
            "_view_name": "FloatTextView",
            "continuous_update": false,
            "description": "Delay(ms)",
            "description_tooltip": null,
            "disabled": false,
            "layout": "IPY_MODEL_b94dea91757b4f39befd687ac5de91f8",
            "max": 400,
            "min": 1,
            "step": null,
            "style": "IPY_MODEL_ad77a1de00d648a0a642ded2f6b3d29a",
            "value": 100
          }
        },
        "1aa0f572b4994f6f9a0622896ef4dacb": {
          "model_module": "@jupyter-widgets/base",
          "model_name": "LayoutModel",
          "model_module_version": "1.2.0",
          "state": {
            "_model_module": "@jupyter-widgets/base",
            "_model_module_version": "1.2.0",
            "_model_name": "LayoutModel",
            "_view_count": null,
            "_view_module": "@jupyter-widgets/base",
            "_view_module_version": "1.2.0",
            "_view_name": "LayoutView",
            "align_content": null,
            "align_items": null,
            "align_self": null,
            "border": null,
            "bottom": null,
            "display": null,
            "flex": null,
            "flex_flow": null,
            "grid_area": null,
            "grid_auto_columns": null,
            "grid_auto_flow": null,
            "grid_auto_rows": null,
            "grid_column": null,
            "grid_gap": null,
            "grid_row": null,
            "grid_template_areas": null,
            "grid_template_columns": null,
            "grid_template_rows": null,
            "height": null,
            "justify_content": null,
            "justify_items": null,
            "left": null,
            "margin": null,
            "max_height": null,
            "max_width": null,
            "min_height": null,
            "min_width": null,
            "object_fit": null,
            "object_position": null,
            "order": null,
            "overflow": null,
            "overflow_x": null,
            "overflow_y": null,
            "padding": null,
            "right": null,
            "top": null,
            "visibility": null,
            "width": null
          }
        },
        "13e86f2f531840bf8aa1cba8965a2f49": {
          "model_module": "@jupyter-widgets/base",
          "model_name": "LayoutModel",
          "model_module_version": "1.2.0",
          "state": {
            "_model_module": "@jupyter-widgets/base",
            "_model_module_version": "1.2.0",
            "_model_name": "LayoutModel",
            "_view_count": null,
            "_view_module": "@jupyter-widgets/base",
            "_view_module_version": "1.2.0",
            "_view_name": "LayoutView",
            "align_content": null,
            "align_items": null,
            "align_self": null,
            "border": null,
            "bottom": null,
            "display": null,
            "flex": null,
            "flex_flow": null,
            "grid_area": null,
            "grid_auto_columns": null,
            "grid_auto_flow": null,
            "grid_auto_rows": null,
            "grid_column": null,
            "grid_gap": null,
            "grid_row": null,
            "grid_template_areas": null,
            "grid_template_columns": null,
            "grid_template_rows": null,
            "height": null,
            "justify_content": null,
            "justify_items": null,
            "left": null,
            "margin": null,
            "max_height": null,
            "max_width": null,
            "min_height": null,
            "min_width": null,
            "object_fit": null,
            "object_position": null,
            "order": null,
            "overflow": null,
            "overflow_x": null,
            "overflow_y": null,
            "padding": null,
            "right": null,
            "top": null,
            "visibility": null,
            "width": null
          }
        },
        "5a244e3a820542e6be795a2e146c9f11": {
          "model_module": "@jupyter-widgets/controls",
          "model_name": "DescriptionStyleModel",
          "model_module_version": "1.5.0",
          "state": {
            "_model_module": "@jupyter-widgets/controls",
            "_model_module_version": "1.5.0",
            "_model_name": "DescriptionStyleModel",
            "_view_count": null,
            "_view_module": "@jupyter-widgets/base",
            "_view_module_version": "1.2.0",
            "_view_name": "StyleView",
            "description_width": ""
          }
        },
        "30e105e266bb4de185637612b5e951dd": {
          "model_module": "@jupyter-widgets/base",
          "model_name": "LayoutModel",
          "model_module_version": "1.2.0",
          "state": {
            "_model_module": "@jupyter-widgets/base",
            "_model_module_version": "1.2.0",
            "_model_name": "LayoutModel",
            "_view_count": null,
            "_view_module": "@jupyter-widgets/base",
            "_view_module_version": "1.2.0",
            "_view_name": "LayoutView",
            "align_content": null,
            "align_items": null,
            "align_self": null,
            "border": null,
            "bottom": null,
            "display": null,
            "flex": null,
            "flex_flow": null,
            "grid_area": null,
            "grid_auto_columns": null,
            "grid_auto_flow": null,
            "grid_auto_rows": null,
            "grid_column": null,
            "grid_gap": null,
            "grid_row": null,
            "grid_template_areas": null,
            "grid_template_columns": null,
            "grid_template_rows": null,
            "height": null,
            "justify_content": null,
            "justify_items": null,
            "left": null,
            "margin": null,
            "max_height": null,
            "max_width": null,
            "min_height": null,
            "min_width": null,
            "object_fit": null,
            "object_position": null,
            "order": null,
            "overflow": null,
            "overflow_x": null,
            "overflow_y": null,
            "padding": null,
            "right": null,
            "top": null,
            "visibility": null,
            "width": null
          }
        },
        "104b0db9e7f44f7f936beb6d086d6d99": {
          "model_module": "@jupyter-widgets/controls",
          "model_name": "DescriptionStyleModel",
          "model_module_version": "1.5.0",
          "state": {
            "_model_module": "@jupyter-widgets/controls",
            "_model_module_version": "1.5.0",
            "_model_name": "DescriptionStyleModel",
            "_view_count": null,
            "_view_module": "@jupyter-widgets/base",
            "_view_module_version": "1.2.0",
            "_view_name": "StyleView",
            "description_width": ""
          }
        },
        "11f6f8432ae9437ea4a01b63829b1ddb": {
          "model_module": "@jupyter-widgets/base",
          "model_name": "LayoutModel",
          "model_module_version": "1.2.0",
          "state": {
            "_model_module": "@jupyter-widgets/base",
            "_model_module_version": "1.2.0",
            "_model_name": "LayoutModel",
            "_view_count": null,
            "_view_module": "@jupyter-widgets/base",
            "_view_module_version": "1.2.0",
            "_view_name": "LayoutView",
            "align_content": null,
            "align_items": null,
            "align_self": null,
            "border": null,
            "bottom": null,
            "display": null,
            "flex": null,
            "flex_flow": null,
            "grid_area": null,
            "grid_auto_columns": null,
            "grid_auto_flow": null,
            "grid_auto_rows": null,
            "grid_column": null,
            "grid_gap": null,
            "grid_row": null,
            "grid_template_areas": null,
            "grid_template_columns": null,
            "grid_template_rows": null,
            "height": null,
            "justify_content": null,
            "justify_items": null,
            "left": null,
            "margin": null,
            "max_height": null,
            "max_width": null,
            "min_height": null,
            "min_width": null,
            "object_fit": null,
            "object_position": null,
            "order": null,
            "overflow": null,
            "overflow_x": null,
            "overflow_y": null,
            "padding": null,
            "right": null,
            "top": null,
            "visibility": null,
            "width": null
          }
        },
        "d9b5b0f3049546809554cb7b7ed26bf9": {
          "model_module": "@jupyter-widgets/controls",
          "model_name": "DescriptionStyleModel",
          "model_module_version": "1.5.0",
          "state": {
            "_model_module": "@jupyter-widgets/controls",
            "_model_module_version": "1.5.0",
            "_model_name": "DescriptionStyleModel",
            "_view_count": null,
            "_view_module": "@jupyter-widgets/base",
            "_view_module_version": "1.2.0",
            "_view_name": "StyleView",
            "description_width": ""
          }
        },
        "d3704ee16c164abc96ad4e14e26a3b8f": {
          "model_module": "@jupyter-widgets/base",
          "model_name": "LayoutModel",
          "model_module_version": "1.2.0",
          "state": {
            "_model_module": "@jupyter-widgets/base",
            "_model_module_version": "1.2.0",
            "_model_name": "LayoutModel",
            "_view_count": null,
            "_view_module": "@jupyter-widgets/base",
            "_view_module_version": "1.2.0",
            "_view_name": "LayoutView",
            "align_content": null,
            "align_items": null,
            "align_self": null,
            "border": null,
            "bottom": null,
            "display": null,
            "flex": null,
            "flex_flow": null,
            "grid_area": null,
            "grid_auto_columns": null,
            "grid_auto_flow": null,
            "grid_auto_rows": null,
            "grid_column": null,
            "grid_gap": null,
            "grid_row": null,
            "grid_template_areas": null,
            "grid_template_columns": null,
            "grid_template_rows": null,
            "height": null,
            "justify_content": null,
            "justify_items": null,
            "left": null,
            "margin": null,
            "max_height": null,
            "max_width": null,
            "min_height": null,
            "min_width": null,
            "object_fit": null,
            "object_position": null,
            "order": null,
            "overflow": null,
            "overflow_x": null,
            "overflow_y": null,
            "padding": null,
            "right": null,
            "top": null,
            "visibility": null,
            "width": null
          }
        },
        "96e0006d88be4cac941c6149fda192a0": {
          "model_module": "@jupyter-widgets/controls",
          "model_name": "DescriptionStyleModel",
          "model_module_version": "1.5.0",
          "state": {
            "_model_module": "@jupyter-widgets/controls",
            "_model_module_version": "1.5.0",
            "_model_name": "DescriptionStyleModel",
            "_view_count": null,
            "_view_module": "@jupyter-widgets/base",
            "_view_module_version": "1.2.0",
            "_view_name": "StyleView",
            "description_width": ""
          }
        },
        "17d9ec0a375344229b0b953db459fe0a": {
          "model_module": "@jupyter-widgets/base",
          "model_name": "LayoutModel",
          "model_module_version": "1.2.0",
          "state": {
            "_model_module": "@jupyter-widgets/base",
            "_model_module_version": "1.2.0",
            "_model_name": "LayoutModel",
            "_view_count": null,
            "_view_module": "@jupyter-widgets/base",
            "_view_module_version": "1.2.0",
            "_view_name": "LayoutView",
            "align_content": null,
            "align_items": null,
            "align_self": null,
            "border": null,
            "bottom": null,
            "display": null,
            "flex": null,
            "flex_flow": null,
            "grid_area": null,
            "grid_auto_columns": null,
            "grid_auto_flow": null,
            "grid_auto_rows": null,
            "grid_column": null,
            "grid_gap": null,
            "grid_row": null,
            "grid_template_areas": null,
            "grid_template_columns": null,
            "grid_template_rows": null,
            "height": null,
            "justify_content": null,
            "justify_items": null,
            "left": null,
            "margin": null,
            "max_height": null,
            "max_width": null,
            "min_height": null,
            "min_width": null,
            "object_fit": null,
            "object_position": null,
            "order": null,
            "overflow": null,
            "overflow_x": null,
            "overflow_y": null,
            "padding": null,
            "right": null,
            "top": null,
            "visibility": null,
            "width": null
          }
        },
        "7e36b3591663451ca6a1d3b9b74b32f4": {
          "model_module": "@jupyter-widgets/controls",
          "model_name": "DescriptionStyleModel",
          "model_module_version": "1.5.0",
          "state": {
            "_model_module": "@jupyter-widgets/controls",
            "_model_module_version": "1.5.0",
            "_model_name": "DescriptionStyleModel",
            "_view_count": null,
            "_view_module": "@jupyter-widgets/base",
            "_view_module_version": "1.2.0",
            "_view_name": "StyleView",
            "description_width": ""
          }
        },
        "cc435f9ece8843cdaf323b364d9c31e4": {
          "model_module": "@jupyter-widgets/base",
          "model_name": "LayoutModel",
          "model_module_version": "1.2.0",
          "state": {
            "_model_module": "@jupyter-widgets/base",
            "_model_module_version": "1.2.0",
            "_model_name": "LayoutModel",
            "_view_count": null,
            "_view_module": "@jupyter-widgets/base",
            "_view_module_version": "1.2.0",
            "_view_name": "LayoutView",
            "align_content": null,
            "align_items": null,
            "align_self": null,
            "border": null,
            "bottom": null,
            "display": null,
            "flex": null,
            "flex_flow": null,
            "grid_area": null,
            "grid_auto_columns": null,
            "grid_auto_flow": null,
            "grid_auto_rows": null,
            "grid_column": null,
            "grid_gap": null,
            "grid_row": null,
            "grid_template_areas": null,
            "grid_template_columns": null,
            "grid_template_rows": null,
            "height": null,
            "justify_content": null,
            "justify_items": null,
            "left": null,
            "margin": null,
            "max_height": null,
            "max_width": null,
            "min_height": null,
            "min_width": null,
            "object_fit": null,
            "object_position": null,
            "order": null,
            "overflow": null,
            "overflow_x": null,
            "overflow_y": null,
            "padding": null,
            "right": null,
            "top": null,
            "visibility": null,
            "width": null
          }
        },
        "b997ba21c597487ba378babb72c87c4a": {
          "model_module": "@jupyter-widgets/controls",
          "model_name": "DescriptionStyleModel",
          "model_module_version": "1.5.0",
          "state": {
            "_model_module": "@jupyter-widgets/controls",
            "_model_module_version": "1.5.0",
            "_model_name": "DescriptionStyleModel",
            "_view_count": null,
            "_view_module": "@jupyter-widgets/base",
            "_view_module_version": "1.2.0",
            "_view_name": "StyleView",
            "description_width": ""
          }
        },
        "2560874a82994b8c94494b836fc12561": {
          "model_module": "@jupyter-widgets/base",
          "model_name": "LayoutModel",
          "model_module_version": "1.2.0",
          "state": {
            "_model_module": "@jupyter-widgets/base",
            "_model_module_version": "1.2.0",
            "_model_name": "LayoutModel",
            "_view_count": null,
            "_view_module": "@jupyter-widgets/base",
            "_view_module_version": "1.2.0",
            "_view_name": "LayoutView",
            "align_content": null,
            "align_items": null,
            "align_self": null,
            "border": null,
            "bottom": null,
            "display": null,
            "flex": null,
            "flex_flow": null,
            "grid_area": null,
            "grid_auto_columns": null,
            "grid_auto_flow": null,
            "grid_auto_rows": null,
            "grid_column": null,
            "grid_gap": null,
            "grid_row": null,
            "grid_template_areas": null,
            "grid_template_columns": null,
            "grid_template_rows": null,
            "height": null,
            "justify_content": null,
            "justify_items": null,
            "left": null,
            "margin": null,
            "max_height": null,
            "max_width": null,
            "min_height": null,
            "min_width": null,
            "object_fit": null,
            "object_position": null,
            "order": null,
            "overflow": null,
            "overflow_x": null,
            "overflow_y": null,
            "padding": null,
            "right": null,
            "top": null,
            "visibility": null,
            "width": null
          }
        },
        "61120d48c84f45c7a2c67da0acdc6c76": {
          "model_module": "@jupyter-widgets/controls",
          "model_name": "DescriptionStyleModel",
          "model_module_version": "1.5.0",
          "state": {
            "_model_module": "@jupyter-widgets/controls",
            "_model_module_version": "1.5.0",
            "_model_name": "DescriptionStyleModel",
            "_view_count": null,
            "_view_module": "@jupyter-widgets/base",
            "_view_module_version": "1.2.0",
            "_view_name": "StyleView",
            "description_width": ""
          }
        },
        "f85337ef46d744038d39c65dfd827fc6": {
          "model_module": "@jupyter-widgets/base",
          "model_name": "LayoutModel",
          "model_module_version": "1.2.0",
          "state": {
            "_model_module": "@jupyter-widgets/base",
            "_model_module_version": "1.2.0",
            "_model_name": "LayoutModel",
            "_view_count": null,
            "_view_module": "@jupyter-widgets/base",
            "_view_module_version": "1.2.0",
            "_view_name": "LayoutView",
            "align_content": null,
            "align_items": null,
            "align_self": null,
            "border": null,
            "bottom": null,
            "display": null,
            "flex": null,
            "flex_flow": null,
            "grid_area": null,
            "grid_auto_columns": null,
            "grid_auto_flow": null,
            "grid_auto_rows": null,
            "grid_column": null,
            "grid_gap": null,
            "grid_row": null,
            "grid_template_areas": null,
            "grid_template_columns": null,
            "grid_template_rows": null,
            "height": null,
            "justify_content": null,
            "justify_items": null,
            "left": null,
            "margin": null,
            "max_height": null,
            "max_width": null,
            "min_height": null,
            "min_width": null,
            "object_fit": null,
            "object_position": null,
            "order": null,
            "overflow": null,
            "overflow_x": null,
            "overflow_y": null,
            "padding": null,
            "right": null,
            "top": null,
            "visibility": null,
            "width": null
          }
        },
        "e96e69ba0071477fa088dfdf6e3ba9af": {
          "model_module": "@jupyter-widgets/controls",
          "model_name": "DescriptionStyleModel",
          "model_module_version": "1.5.0",
          "state": {
            "_model_module": "@jupyter-widgets/controls",
            "_model_module_version": "1.5.0",
            "_model_name": "DescriptionStyleModel",
            "_view_count": null,
            "_view_module": "@jupyter-widgets/base",
            "_view_module_version": "1.2.0",
            "_view_name": "StyleView",
            "description_width": ""
          }
        },
        "b94dea91757b4f39befd687ac5de91f8": {
          "model_module": "@jupyter-widgets/base",
          "model_name": "LayoutModel",
          "model_module_version": "1.2.0",
          "state": {
            "_model_module": "@jupyter-widgets/base",
            "_model_module_version": "1.2.0",
            "_model_name": "LayoutModel",
            "_view_count": null,
            "_view_module": "@jupyter-widgets/base",
            "_view_module_version": "1.2.0",
            "_view_name": "LayoutView",
            "align_content": null,
            "align_items": null,
            "align_self": null,
            "border": null,
            "bottom": null,
            "display": null,
            "flex": null,
            "flex_flow": null,
            "grid_area": null,
            "grid_auto_columns": null,
            "grid_auto_flow": null,
            "grid_auto_rows": null,
            "grid_column": null,
            "grid_gap": null,
            "grid_row": null,
            "grid_template_areas": null,
            "grid_template_columns": null,
            "grid_template_rows": null,
            "height": null,
            "justify_content": null,
            "justify_items": null,
            "left": null,
            "margin": null,
            "max_height": null,
            "max_width": null,
            "min_height": null,
            "min_width": null,
            "object_fit": null,
            "object_position": null,
            "order": null,
            "overflow": null,
            "overflow_x": null,
            "overflow_y": null,
            "padding": null,
            "right": null,
            "top": null,
            "visibility": null,
            "width": null
          }
        },
        "ad77a1de00d648a0a642ded2f6b3d29a": {
          "model_module": "@jupyter-widgets/controls",
          "model_name": "DescriptionStyleModel",
          "model_module_version": "1.5.0",
          "state": {
            "_model_module": "@jupyter-widgets/controls",
            "_model_module_version": "1.5.0",
            "_model_name": "DescriptionStyleModel",
            "_view_count": null,
            "_view_module": "@jupyter-widgets/base",
            "_view_module_version": "1.2.0",
            "_view_name": "StyleView",
            "description_width": ""
          }
        },
        "099928d5e7534201acef451c42131785": {
          "model_module": "@jupyter-widgets/output",
          "model_name": "OutputModel",
          "model_module_version": "1.0.0",
          "state": {
            "_dom_classes": [],
            "_model_module": "@jupyter-widgets/output",
            "_model_module_version": "1.0.0",
            "_model_name": "OutputModel",
            "_view_count": null,
            "_view_module": "@jupyter-widgets/output",
            "_view_module_version": "1.0.0",
            "_view_name": "OutputView",
            "layout": "IPY_MODEL_72aa4214bfb54a219ed63ff32fae23df",
            "msg_id": "",
            "outputs": [
              {
                "output_type": "display_data",
                "data": {
                  "text/plain": "<Figure size 1000x800 with 3 Axes>",
                  "image/png": "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\n"
                },
                "metadata": {}
              }
            ]
          }
        },
        "72aa4214bfb54a219ed63ff32fae23df": {
          "model_module": "@jupyter-widgets/base",
          "model_name": "LayoutModel",
          "model_module_version": "1.2.0",
          "state": {
            "_model_module": "@jupyter-widgets/base",
            "_model_module_version": "1.2.0",
            "_model_name": "LayoutModel",
            "_view_count": null,
            "_view_module": "@jupyter-widgets/base",
            "_view_module_version": "1.2.0",
            "_view_name": "LayoutView",
            "align_content": null,
            "align_items": null,
            "align_self": null,
            "border": null,
            "bottom": null,
            "display": null,
            "flex": null,
            "flex_flow": null,
            "grid_area": null,
            "grid_auto_columns": null,
            "grid_auto_flow": null,
            "grid_auto_rows": null,
            "grid_column": null,
            "grid_gap": null,
            "grid_row": null,
            "grid_template_areas": null,
            "grid_template_columns": null,
            "grid_template_rows": null,
            "height": null,
            "justify_content": null,
            "justify_items": null,
            "left": null,
            "margin": null,
            "max_height": null,
            "max_width": null,
            "min_height": null,
            "min_width": null,
            "object_fit": null,
            "object_position": null,
            "order": null,
            "overflow": null,
            "overflow_x": null,
            "overflow_y": null,
            "padding": null,
            "right": null,
            "top": null,
            "visibility": null,
            "width": null
          }
        }
      }
    }
  },
  "cells": [
    {
      "cell_type": "markdown",
      "metadata": {
        "id": "view-in-github",
        "colab_type": "text"
      },
      "source": [
        "<a href=\"https://colab.research.google.com/github/KhuramC/SoftwareTutorials/blob/main/B1_Creating_A_Single_Cell_Model_v2.ipynb\" target=\"_parent\"><img src=\"https://colab.research.google.com/assets/colab-badge.svg\" alt=\"Open In Colab\"/></a>"
      ]
    },
    {
      "cell_type": "markdown",
      "source": [
        "# Creating A Single Cell in NEURON\n",
        "This lab will go over the morphology of a cell and how it is simulated in NEURON. It will also go over how to change the morphology by adding channels. Lastly it will go over how to make a simulation of the cell using either voltage/current clamps in NEURON."
      ],
      "metadata": {
        "id": "t9TP_julMyQE"
      }
    },
    {
      "cell_type": "markdown",
      "source": [
        "#Components of a Neuron\n",
        "Before we get to simulating a neuron, we need to know what to put in the soma of the neuron.\n",
        "Create a list of all the necessary components of the soma and then draw the\n",
        "\n",
        "1.   Create a list of the all necessary components for the soma.\n",
        "2.   Draw the soma and label it with all of the components.\n",
        "Hint: Draw the electrical circuit of the soma and show the 1:1 pairing to help make sure you have everything.\n",
        "\n",
        "In the meantime, we will install NEURON and import some libraries that will be useful later. A refresher on the electrical circuit model and how neurons are electrical circuits is provided below.\n"
      ],
      "metadata": {
        "id": "QGe4-V-8KSX1"
      }
    },
    {
      "cell_type": "code",
      "execution_count": 1,
      "metadata": {
        "colab": {
          "base_uri": "https://localhost:8080/",
          "height": 356
        },
        "id": "-7Ms6GYDvszj",
        "outputId": "83da7e84-71ba-413c-b0b2-7a80d1a18f3b"
      },
      "outputs": [
        {
          "output_type": "stream",
          "name": "stdout",
          "text": [
            "Requirement already satisfied: neuron in /usr/local/lib/python3.10/dist-packages (8.2.3)\n",
            "Requirement already satisfied: numpy>=1.9.3 in /usr/local/lib/python3.10/dist-packages (from neuron) (1.23.5)\n"
          ]
        },
        {
          "output_type": "execute_result",
          "data": {
            "text/plain": [
              "<IPython.lib.display.YouTubeVideo at 0x79753d8ba500>"
            ],
            "text/html": [
              "\n",
              "        <iframe\n",
              "            width=\"400\"\n",
              "            height=\"300\"\n",
              "            src=\"https://www.youtube.com/embed/LdumhvDBpzQ\"\n",
              "            frameborder=\"0\"\n",
              "            allowfullscreen\n",
              "            \n",
              "        ></iframe>\n",
              "        "
            ],
            "image/jpeg": "[encoded data removed]"
          },
          "metadata": {},
          "execution_count": 1
        }
      ],
      "source": [
        "RunningInCOLAB = 'google.colab' in str(get_ipython())\n",
        "if RunningInCOLAB:\n",
        "  !pip install neuron #installs NEURON if in google Colab\n",
        "\n",
        "from IPython.display import YouTubeVideo\n",
        "YouTubeVideo('LdumhvDBpzQ')"
      ]
    },
    {
      "cell_type": "code",
      "source": [
        "YouTubeVideo('YQsSrW5oX80')"
      ],
      "metadata": {
        "colab": {
          "base_uri": "https://localhost:8080/",
          "height": 321
        },
        "id": "oPyWPzu7AcAR",
        "outputId": "726d5a66-7d62-49f8-e1c4-9a8d16e3fbc7"
      },
      "execution_count": 2,
      "outputs": [
        {
          "output_type": "execute_result",
          "data": {
            "text/plain": [
              "<IPython.lib.display.YouTubeVideo at 0x79753d8bb760>"
            ],
            "text/html": [
              "\n",
              "        <iframe\n",
              "            width=\"400\"\n",
              "            height=\"300\"\n",
              "            src=\"https://www.youtube.com/embed/YQsSrW5oX80\"\n",
              "            frameborder=\"0\"\n",
              "            allowfullscreen\n",
              "            \n",
              "        ></iframe>\n",
              "        "
            ],
            "image/jpeg": "[encoded data removed]"
          },
          "metadata": {},
          "execution_count": 2
        }
      ]
    },
    {
      "cell_type": "code",
      "source": [
        "from neuron import h\n",
        "import matplotlib.pyplot as plt\n",
        "import numpy as np\n",
        "h.load_file('stdrun.hoc') #necessary to later do a simulation"
      ],
      "metadata": {
        "colab": {
          "base_uri": "https://localhost:8080/"
        },
        "id": "YLqBiEU2qxGY",
        "outputId": "90256e11-7b39-498b-8a54-b0be0bcdc2fa"
      },
      "execution_count": 3,
      "outputs": [
        {
          "output_type": "execute_result",
          "data": {
            "text/plain": [
              "1.0"
            ]
          },
          "metadata": {},
          "execution_count": 3
        }
      ]
    },
    {
      "cell_type": "markdown",
      "source": [
        "# Components of a Neuron Continued\n",
        "Your drawing should highlight the current injection into the soma, the neuron as a capacitor with liquid plates, the leak channel acting as a resistor and battery based off its reversal potential, amongst a couple of more concepts. An example of a drawing of the biological model of a neuron is given here:\n",
        "![thumbnail_4590 Neuron as an electrical circuit Jingsong Tan 2022-3.png](data:image/png;base64,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)"
      ],
      "metadata": {
        "id": "IvI5-yRRP9HE"
      }
    },
    {
      "cell_type": "markdown",
      "source": [
        "This video goes over the the lipid bilayer surrounding the cell real quick as a review as well."
      ],
      "metadata": {
        "id": "Ajw69eI5TOtm"
      }
    },
    {
      "cell_type": "code",
      "source": [
        "YouTubeVideo('x8ROEj2SFes')"
      ],
      "metadata": {
        "colab": {
          "base_uri": "https://localhost:8080/",
          "height": 321
        },
        "id": "cZ1guTpyTWxk",
        "outputId": "656c5140-542a-4565-a060-4410e3e2b8f6"
      },
      "execution_count": 4,
      "outputs": [
        {
          "output_type": "execute_result",
          "data": {
            "text/plain": [
              "<IPython.lib.display.YouTubeVideo at 0x79753d904e50>"
            ],
            "text/html": [
              "\n",
              "        <iframe\n",
              "            width=\"400\"\n",
              "            height=\"300\"\n",
              "            src=\"https://www.youtube.com/embed/x8ROEj2SFes\"\n",
              "            frameborder=\"0\"\n",
              "            allowfullscreen\n",
              "            \n",
              "        ></iframe>\n",
              "        "
            ],
            "image/jpeg": "[encoded data removed]"
          },
          "metadata": {},
          "execution_count": 4
        }
      ]
    },
    {
      "cell_type": "markdown",
      "source": [
        "# From Drawings to Code\n",
        "So how do we create the soma with these things within NEURON? It's actually very simple. NEURON defines parts of the cell as sections. NEURON defines sections as cylindrical sections, with a diameter and a length.  A dendrite would be one section, the soma another, and and axon as the last. When created, such sections are populated by default values.\n",
        "\n",
        "![image](https://raw.githubusercontent.com/chenziao/Software_Tutorials_Colab/main/S1_PassiveMembrane/cylinder.png)\n",
        "\n",
        "Every section can then be further subdivided into segments, which are equally lengthed segments that divide the section. Since nothing special is occuring in this notebook, we will divide the soma into three segments.\n",
        "\n"
      ],
      "metadata": {
        "id": "ud2WmGp_UdVe"
      }
    },
    {
      "cell_type": "code",
      "source": [
        "soma = h.Section(name='Soma') #creates soma\n",
        "soma.nseg = 3 #defines how many segments to divide soma into\n",
        "print(\"The default length is \" + str(soma.L) + \" microns\")\n",
        "print(\"The default diameter is \" + str(soma.diam) + \" microns\")\n",
        "print(\"The default capacitance is \" + str(soma.cm) + \" microFarad / cm^2\")\n",
        "print(\"The default cytoplasmic resistivity is \" + str(soma.Ra) + \" ohm-cm\")\n",
        "soma_length = soma.L\n",
        "soma_diam = soma.diam"
      ],
      "metadata": {
        "id": "ICK852Tkq0tM",
        "colab": {
          "base_uri": "https://localhost:8080/"
        },
        "outputId": "8c398f70-f5b0-4882-89f8-9757f5a3fbcb"
      },
      "execution_count": 5,
      "outputs": [
        {
          "output_type": "stream",
          "name": "stdout",
          "text": [
            "The default length is 100.0 microns\n",
            "The default diameter is 500.0 microns\n",
            "The default capacitance is 1.0 microFarad / cm^2\n",
            "The default cytoplasmic resistivity is 35.4 ohm-cm\n"
          ]
        }
      ]
    },
    {
      "cell_type": "markdown",
      "source": [
        "These values are unrealistic for mammalian neurons since they come from Hodgkin and Huxley's experiments with a squid giant axon. However, we can always change them to something different. Here we changed the diameter to be 20 microns.\n",
        "For more information on some neurons' typical geometries, click [here.](https://synapseweb.clm.utexas.edu/dimensions-dendrites)"
      ],
      "metadata": {
        "id": "EbXSEVWfBFLy"
      }
    },
    {
      "cell_type": "markdown",
      "source": [
        "# Adding Leak/Passive Channels\n",
        "One might notice that there is many things missing from our model so far. We have no channels, and as a result there is not even a resting membrane potential. So first, let's add the passive/leak channels to our soma.\n"
      ],
      "metadata": {
        "id": "AAa26wkHCHWP"
      }
    },
    {
      "cell_type": "code",
      "source": [
        "soma.insert('pas') #inserts passive channel\n",
        "print(\"Default E_leak = \" +str(soma.e_pas) + \" mV\")\n",
        "print(\"Default g_leak = \" + str(soma.g_pas) + \" S/cm^2\")"
      ],
      "metadata": {
        "id": "jECW0hoB8iiS",
        "colab": {
          "base_uri": "https://localhost:8080/"
        },
        "outputId": "fd6b1541-20f7-458d-8e1f-01a182a54439"
      },
      "execution_count": 6,
      "outputs": [
        {
          "output_type": "stream",
          "name": "stdout",
          "text": [
            "Default E_leak = -70.0 mV\n",
            "Default g_leak = 0.001 S/cm^2\n"
          ]
        }
      ]
    },
    {
      "cell_type": "markdown",
      "source": [
        "The resting membrane potential is just e_leak. In this case, the default values are realistic."
      ],
      "metadata": {
        "id": "eeiC5qARFse-"
      }
    },
    {
      "cell_type": "markdown",
      "source": [
        "# Adding Active Channels\n",
        "We have everything to model a passive membrane. However, active channels do exist, and can also be added. We will be inserting Hodgkin-Huxley channels to the soma, so their defaults will also be based off the squid giant axon. These hh channels also include a leak channel based off the squid giant axon, which we will not be using since we already have leak channels.\n",
        "\n"
      ],
      "metadata": {
        "id": "44E9tu-6k1KB"
      }
    },
    {
      "cell_type": "code",
      "source": [
        "soma.insert('hh') #insert Hodgkin-Huxley channels\n",
        "print(\"Default El_hh = \" +str(soma.el_hh) + \" mV\")\n",
        "print(\"Default gl_hh = \" + str(soma.gl_hh) + \" S/cm^2\")\n",
        "print(\"Default Ek = \" +str(soma.ek) + \" mV\")\n",
        "print(\"Default gkbar_hh = \" + str(soma.gkbar_hh) + \" S/cm^2\")\n",
        "print(\"Default Ena = \" +str(soma.ena) + \" mV\")\n",
        "print(\"Default gnabar_hh = \" + str(soma.gnabar_hh) + \" S/cm^2\")\n",
        "soma.gl_hh = 0 #changing soma's gleak_hh to be 0 as we already have passive channels, effectively not having it."
      ],
      "metadata": {
        "id": "FHbWMktSk1gx",
        "colab": {
          "base_uri": "https://localhost:8080/"
        },
        "outputId": "1f6bcda5-bb0a-4fa7-80b9-3c10a30a58c9"
      },
      "execution_count": 7,
      "outputs": [
        {
          "output_type": "stream",
          "name": "stdout",
          "text": [
            "Default El_hh = -54.3 mV\n",
            "Default gl_hh = 0.0003 S/cm^2\n",
            "Default Ek = -77.0 mV\n",
            "Default gkbar_hh = 0.036 S/cm^2\n",
            "Default Ena = 50.0 mV\n",
            "Default gnabar_hh = 0.12 S/cm^2\n"
          ]
        }
      ]
    },
    {
      "cell_type": "markdown",
      "source": [
        "#Current Clamp\n",
        "A current clamp injects a steady current into the soma and is typically used to measure the change in voltage. Current Clamps have four parameters: the location(so where in the soma on a 0-1 scale), the duration(how long you will be injecting current for), the amplitude(how much current), and delay(how long will you wait until you inject)."
      ],
      "metadata": {
        "id": "Ci661pi0s69c"
      }
    },
    {
      "cell_type": "code",
      "source": [
        "ic = h.IClamp(soma(0.5)) # middle of soma\n",
        "ic.dur = 2.5 #ms\n",
        "ic.amp = 50 #nA\n",
        "ic.delay = 100 #ms"
      ],
      "metadata": {
        "id": "sb0a20OQtMpd"
      },
      "execution_count": 8,
      "outputs": []
    },
    {
      "cell_type": "markdown",
      "source": [
        "#Extras: Voltage Clamp\n",
        "A voltage clamp holds the voltage at a steady state value and is used to measure the current. Voltage clamps do not have a delay parameter. We will only be showcasing current clamp in this lab, but the commented code below shows how one could implement a voltage clamp."
      ],
      "metadata": {
        "id": "nZqPxIu4Itz8"
      }
    },
    {
      "cell_type": "code",
      "source": [
        "#vc = h.VClamp(soma(0.5)) #middle of soma\n",
        "#vc.dur[0] = 500 #ms\n",
        "#vc.amp[0] = -10 #mV"
      ],
      "metadata": {
        "id": "9wuIDocMNxtP"
      },
      "execution_count": 9,
      "outputs": []
    },
    {
      "cell_type": "markdown",
      "source": [
        "# Running a Simulation\n",
        "Now we have a full cell with the necessary things. But how is the voltage going to change due to our clamps? If we start a simulation, we can find out. But we need to define how long the simulation is, how long each step forward in the simulation, and record the values throughout the simulation."
      ],
      "metadata": {
        "id": "5aEP6mh72tzC"
      }
    },
    {
      "cell_type": "code",
      "source": [
        "h.v_init= soma.e_pas #initial voltage is the resting membrane potential of the soma\n",
        "h.tstop = tstop = 200 # how long to run the simulation in ms\n",
        "h.dt = 0.025 # time step (resolution) of the simulation in ms\n",
        "\n",
        "# define two vectors for recording variables\n",
        "t_vec = h.Vector()\n",
        "soma_v_vec = h.Vector()\n",
        "# record the voltage (_ref_v) and time (_ref_t) and voltage(_ref_v) into the vectors we just created\n",
        "t_vec.record(h._ref_t)\n",
        "soma_v_vec.record(soma(0.5)._ref_v)\n",
        "h.run()"
      ],
      "metadata": {
        "id": "7tNzaEcF2YzV",
        "colab": {
          "base_uri": "https://localhost:8080/"
        },
        "outputId": "4a77bd58-7474-4d80-d388-ab89af8598e2"
      },
      "execution_count": 10,
      "outputs": [
        {
          "output_type": "execute_result",
          "data": {
            "text/plain": [
              "0.0"
            ]
          },
          "metadata": {},
          "execution_count": 10
        }
      ]
    },
    {
      "cell_type": "markdown",
      "source": [
        "# Plotting Results\n",
        "Even though we've ran the simulation, we need to show the results. Matplotlib allows us to graph our results with respect to time.\n",
        "What do you think will happen to the soma's voltage throughout the simulation?\n"
      ],
      "metadata": {
        "id": "qTOR0-1f5Z7W"
      }
    },
    {
      "cell_type": "code",
      "source": [
        "fig, axs = plt.subplots(1,1,figsize=(6, 6))\n",
        "axs.plot(t_vec,soma_v_vec) #plotting time vs current\n",
        "axs.set_title(str(soma) + ' Voltage')\n",
        "axs.set_xlabel('Time(ms)')\n",
        "axs.set_ylabel('Current (mV)')\n",
        "plt.show()"
      ],
      "metadata": {
        "id": "NZcK8cR05ukC",
        "colab": {
          "base_uri": "https://localhost:8080/",
          "height": 564
        },
        "outputId": "8d0ae847-d9f0-4b30-8530-77cd80e89134"
      },
      "execution_count": 11,
      "outputs": [
        {
          "output_type": "display_data",
          "data": {
            "text/plain": [
              "<Figure size 600x600 with 1 Axes>"
            ],
            "image/png": "[encoded data removed]"
          },
          "metadata": {}
        }
      ]
    },
    {
      "cell_type": "markdown",
      "source": [
        "An action potential occurs with the default values."
      ],
      "metadata": {
        "id": "uU8BvdJT9K4J"
      }
    },
    {
      "cell_type": "markdown",
      "source": [
        "#But What does the Soma with Channels Actually Look Like?\n",
        "Below is an interactive tool that allows you too see how the morphology of the soma changes depending on the soma's length, diameter, and what channels are inserted in. You can then also see how that will change what happens to the soma's voltage throughout the simulation.\n"
      ],
      "metadata": {
        "id": "nPRMrk_M52Uh"
      }
    },
    {
      "cell_type": "code",
      "source": [
        "#function for graphing soma morphology and voltage\n",
        "def graph(soma_length,soma_diam,leak_channel,k_channel,na_channel,t_vec,soma_v_vec,ileak_vec,ik_vec,ina_vec):\n",
        "  #Create the plot\n",
        "  fig, axs = plt.subplots(3,1,figsize=(10, 8)) # 3 subplots of the same size\n",
        "\n",
        "  #colors for the three different currents\n",
        "  leak_color = 'purple'\n",
        "  k_color = 'blue'\n",
        "  na_color = 'red'\n",
        "  soma_color = 'black'\n",
        "\n",
        "  #Soma morphology\n",
        "  #Make Soma\n",
        "  #outer lines\n",
        "  soma_xcoords = [0,soma_length]\n",
        "  soma_ycoords = [-soma_diam/2,soma_diam/2]\n",
        "  axs[0].plot(soma_xcoords,[-soma_diam/2,-soma_diam/2], color = soma_color) #bottom line\n",
        "  axs[0].plot(soma_xcoords,[soma_diam/2,soma_diam/2], color = soma_color) #upper line\n",
        "  axs[0].plot([0,0],soma_ycoords, color = soma_color) #left line\n",
        "  axs[0].plot([soma_length,soma_length],soma_ycoords, color = soma_color) #right line\n",
        "\n",
        "  #inner lines to indicate bilayer\n",
        "  in_soma_xcoords = [soma_length*0.01, soma_length*0.99]\n",
        "  in_soma_ycoords = [-soma_diam/2*0.77, soma_diam/2*0.77]\n",
        "  axs[0].plot(in_soma_xcoords,[soma_diam/2*0.77,soma_diam/2*0.77],color = soma_color) #upper line\n",
        "  axs[0].plot(in_soma_xcoords,[-soma_diam/2*0.77,-soma_diam/2*0.77],color = soma_color) #bottom line\n",
        "  axs[0].plot([soma_length*0.01,soma_length*0.01],in_soma_ycoords,color = soma_color) #left line\n",
        "  axs[0].plot([soma_length*0.99,soma_length*0.99],in_soma_ycoords,color = soma_color) #right line\n",
        "\n",
        "  #axs[0].fill_between(soma_xcoords, soma_diam/2,-soma_diam/2, color = soma_color) #soma rectangle\n",
        "\n",
        "\n",
        "\n",
        "  #Adding + and - to show that cell is naturally polarized.\n",
        "  for i in range(int(soma_length)):\n",
        "    if(i % int(soma_length/14+4) == 0 and i > 0 and i < (soma_length * 0.98)):\n",
        "      axs[0].plot(i, soma_diam/2+soma_diam/3, marker = '+', color = 'black') #upper +\n",
        "      axs[0].plot(i,soma_diam/2 * 0.25, marker = '_', color = 'black') #upper -\n",
        "\n",
        "      axs[0].plot(i, -(soma_diam/2+ soma_diam/3), marker= '+', color = 'black') #lower +\n",
        "      axs[0].plot(i,-(soma_diam/2 * 0.25), marker = '_', color = 'black') #lower -\n",
        "\n",
        "  #Adding + and - to the sides of the cell\n",
        "  axs[0].plot(soma_length*-0.025,0, marker = '+', color = 'black') #left +\n",
        "  axs[0].plot(soma_length* 0.030,0, marker = '_', color = 'black') #left -\n",
        "\n",
        "  axs[0].plot(soma_length* 1.025,0, marker = '+', color = 'black') #right +\n",
        "  axs[0].plot(soma_length* 0.970,0, marker = '_', color = 'black') #right -\n",
        "\n",
        "  #Add channels if they exist.\n",
        "  if(leak_channel == 'Leak Channels'):\n",
        "    for i in range(int(soma_length)):\n",
        "      if(i % int(soma_length / 6 + 1) == 0 and i > 0):\n",
        "        axs[0].plot(i, soma_diam/2*0.9, marker = 's', color = leak_color)\n",
        "        axs[0].plot(i, -(soma_diam/2*0.85), marker= 's', color = leak_color)\n",
        "  if(k_channel == 'K+ Channels'):\n",
        "    for i in range(int(soma_length)):\n",
        "      if(i % int(soma_length / 4 + 6) == 0 and i > 0):\n",
        "        axs[0].plot(i, soma_diam/2*0.94, marker = 's', color = k_color)\n",
        "        axs[0].plot(i, -(soma_diam/2*0.85), marker= 's', color = k_color)\n",
        "  if(na_channel == 'Na+ Channels'):\n",
        "    for i in range(int(soma_length)):\n",
        "      if(i % int(soma_length / 5 + 3) == 0 and i > 0):\n",
        "        axs[0].plot(i, soma_diam/2*0.94, marker = 's', color = na_color)\n",
        "        axs[0].plot(i, -(soma_diam/2*0.85), marker= 's', color = na_color)\n",
        "        continue\n",
        "\n",
        "\n",
        "  # Add title and labels\n",
        "  axs[0].set_title(str(soma) + ' Morphology')\n",
        "  axs[0].set_xlabel('Length(um)')\n",
        "  axs[0].set_ylabel('Diameter(um)')\n",
        "  axs[0].set_ylim(-soma_diam*2,soma_diam*2)\n",
        "  axs[0].set_xlim(-(soma_length*0.1),soma_length *1.1)\n",
        "\n",
        "\n",
        "\n",
        "  #Soma Voltage\n",
        "  axs[1].plot(t_vec,soma_v_vec, color = 'black') #plotting time vs voltage\n",
        "  axs[1].set_title(str(soma) + ' Voltage')\n",
        "  axs[1].set_xlabel('Time(ms)')\n",
        "  axs[1].set_ylabel('Voltage (mV)')\n",
        "\n",
        "\n",
        "  #Soma channel's currents.\n",
        "  axs[2].plot(t_vec,ina_vec, color = na_color, label = 'Na+')\n",
        "  axs[2].plot(t_vec,ik_vec, color = k_color, label = 'K+')\n",
        "  axs[2].plot(t_vec,ileak_vec, color = leak_color, label = 'Leak')\n",
        "  axs[2].legend(loc = 'upper right')\n",
        "  axs[2].set_title(str(soma) + ' Currents')\n",
        "  axs[2].set_xlabel('Time(ms)')\n",
        "  axs[2].set_ylabel('Current (nA)')\n",
        "\n",
        "  # Show the plot\n",
        "  plt.tight_layout()\n",
        "  plt.show()"
      ],
      "metadata": {
        "id": "_UN6q9j454y-"
      },
      "execution_count": 12,
      "outputs": []
    },
    {
      "cell_type": "code",
      "source": [
        "def activemodel(soma_length,soma_diam,tstop, ic_dur,ic_amp,ic_delay,leak_channel,k_channel,na_channel):\n",
        "  h.v_init= soma.e_pas #initial voltage is the resting membrane potential of the soma\n",
        "\n",
        "  h.dt = 0.025 # time step (resolution) of the simulation in ms\n",
        "  # define two vectors for recording variables\n",
        "  t_vec = h.Vector()\n",
        "  soma_v_vec = h.Vector()\n",
        "  ileak_vec = h.Vector()\n",
        "  ik_vec = h.Vector()\n",
        "  ina_vec = h.Vector()\n",
        "\n",
        "  # record the voltage, time, and currents into the vectors we just created\n",
        "  t_vec.record(h._ref_t)\n",
        "  soma_v_vec.record(soma(0.5)._ref_v)\n",
        "  ileak_vec.record(soma(0.5)._ref_i_pas)\n",
        "  ik_vec.record(soma(0.5)._ref_ik)\n",
        "  ina_vec.record(soma(0.5)._ref_ina)\n",
        "\n",
        "  h.tstop = tstop\n",
        "  ic.dur = ic_dur\n",
        "  ic.amp = ic.amp\n",
        "  ic.delay = ic_delay\n",
        "\n",
        "  #check for if channels are open\n",
        "  if(leak_channel == 'Leak Channels'):\n",
        "    soma.g_pas = 0.001 #S/cm^2\n",
        "  else:\n",
        "    soma.g_pas = 0\n",
        "  if(k_channel == 'K+ Channels'):\n",
        "    soma.gkbar_hh = 0.036 #S/cm^2\n",
        "  else:\n",
        "    soma.gkbar_hh = 0\n",
        "  if(na_channel == 'Na+ Channels'):\n",
        "    soma.gnabar_hh = 0.12 #S/cm^2\n",
        "  else:\n",
        "    soma.gnabar_hh = 0\n",
        "  h.run()\n",
        "  plt.close('all')\n",
        "  graph(soma_length,soma_diam,leak_channel,k_channel,na_channel,t_vec,soma_v_vec,ileak_vec,ik_vec,ina_vec)\n"
      ],
      "metadata": {
        "id": "qWJt0nVcAHVi"
      },
      "execution_count": 13,
      "outputs": []
    },
    {
      "cell_type": "code",
      "source": [
        "import ipywidgets as widgets\n",
        "from ipywidgets import interactive_output,HBox,VBox,Label,Layout\n",
        "from IPython.display import display\n",
        "\n",
        "#default settings\n",
        "default_soma_length = 35 #microns\n",
        "default_soma_diam = 35 #microns\n",
        "default_leak_channel = 'No Leak Channels' #S/cm^2\n",
        "default_g_pas = 0.003 #S/cm^2\n",
        "default_k_channel = 'No K+ Channels' #S/cm^2\n",
        "default_na_channel = 'No Na+ Channels' #S/cm^2\n",
        "default_tstop = 200 # how long to run the simulation in ms\n",
        "default_ic_dur = 2.5 #ms\n",
        "default_ic_amp = 50 #nA\n",
        "default_ic_delay = 100 #ms\n",
        "\n",
        "#Reset button\n",
        "w_reset = widgets.Button(description ='Reset', icon = 'history', button_style ='primary')\n",
        "\n",
        "#Textboxes\n",
        "w_soma_length = widgets.BoundedFloatText(value = default_soma_length, min = 1, max = 10000, description = 'Length(um)')\n",
        "w_soma_diam = widgets.BoundedFloatText(value = default_soma_diam, min = 1, max = 10000, description = 'Diameter(um)')\n",
        "w_tstop = widgets.BoundedFloatText(value = default_tstop, min = 5, max = 1000, description = 'Tstop(ms)')\n",
        "w_ic_dur = widgets.BoundedFloatText(value = default_ic_dur,min = 1, max = 500, description = 'Injection(ms)')\n",
        "w_ic_amp = widgets.BoundedFloatText(value = default_ic_amp, min = -100, max = 100, description = 'Amp(nA)')\n",
        "w_ic_delay = widgets.BoundedFloatText(value = default_ic_delay,min = 1, max = 400, description = 'Delay(ms)')\n",
        "\n",
        "#defining reset\n",
        "def reset_default(*args):\n",
        "  w_soma_length.value = default_soma_length\n",
        "  w_soma_diam.value = default_soma_diam\n",
        "  passive_select.value = 'No Leak Channels'\n",
        "  k_select.value = 'No K+ Channels'\n",
        "  na_select.value = 'No Na+ Channels'\n",
        "  w_tstop.value = default_tstop\n",
        "  w_ic_dur.value = default_ic_dur\n",
        "  w_ic_amp.value = default_ic_amp\n",
        "  w_ic_delay.value = default_ic_delay\n",
        "w_reset.on_click(reset_default)\n",
        "\n",
        "#radio buttons for channel selections\n",
        "passive_select = widgets.RadioButtons(options = ['Leak Channels', 'No Leak Channels'], value = 'No Leak Channels',description = 'Leak:', disabled = False)\n",
        "k_select = widgets.RadioButtons(options = ['K+ Channels', 'No K+ Channels'], value = 'No K+ Channels', description = 'K+:', disabled = False)\n",
        "na_select = widgets.RadioButtons(options = ['Na+ Channels', 'No Na+ Channels'], value = 'No Na+ Channels', description = 'Na+:', disabled = False)\n",
        "\n",
        "#saying what function to be done based on the widget values\n",
        "out = interactive_output(activemodel,{'soma_length': w_soma_length,'soma_diam':w_soma_diam,'tstop':w_tstop,'ic_dur':w_ic_dur,'ic_amp':w_ic_amp,'ic_delay':w_ic_delay,'leak_channel':passive_select,'k_channel':k_select,'na_channel':na_select})\n",
        "#how to display the buttons/widgets\n",
        "ui = HBox([w_reset,VBox([w_soma_length,w_soma_diam]),VBox([na_select,k_select,passive_select]),VBox([w_tstop,w_ic_dur,w_ic_amp,w_ic_delay])])\n",
        "\n",
        "\n",
        "display(ui,out)"
      ],
      "metadata": {
        "colab": {
          "base_uri": "https://localhost:8080/",
          "height": 999,
          "referenced_widgets": [
            "46315df9d72d44c1aee350a9bdd84984",
            "184fcab31bb04ee99c30dbd1a7003df3",
            "7576947c0d994042ad9bd4b084e150e9",
            "d4bcdddd79e043bd8e7e9644264b5c45",
            "5a62526936684421a5852341479c7abd",
            "a25a3a27fef44784b1d9338a0670fb83",
            "7498eb045a544a8caf588bee1cffd3bd",
            "fe8f4dddd3d4437887b3e45f24a7fa4e",
            "092a06dfc0cf42f89091f51106bf8aba",
            "0fb7c16366e54690afd22883a13a5c5c",
            "f2bb0cae3d054f84a40b9e2ab48b6adb",
            "646a1e0afd774a4194eccdc74690d31c",
            "c177b5fd936a484a951ed23ede85dbb0",
            "697f39c1e39c4918bf7ef0b946a111da",
            "ad3e7e80139040b1a3903f847a0faa20",
            "8bfc678adb8d4a1b8063623bf6de2b43",
            "0d51a963a40b4048b6c9eba383b63348",
            "466d8160861e48db84fa4aeea9d16b1b",
            "1339b471bb744624bb6793d3e8eb58a6",
            "1aa0f572b4994f6f9a0622896ef4dacb",
            "13e86f2f531840bf8aa1cba8965a2f49",
            "5a244e3a820542e6be795a2e146c9f11",
            "30e105e266bb4de185637612b5e951dd",
            "104b0db9e7f44f7f936beb6d086d6d99",
            "11f6f8432ae9437ea4a01b63829b1ddb",
            "d9b5b0f3049546809554cb7b7ed26bf9",
            "d3704ee16c164abc96ad4e14e26a3b8f",
            "96e0006d88be4cac941c6149fda192a0",
            "17d9ec0a375344229b0b953db459fe0a",
            "7e36b3591663451ca6a1d3b9b74b32f4",
            "cc435f9ece8843cdaf323b364d9c31e4",
            "b997ba21c597487ba378babb72c87c4a",
            "2560874a82994b8c94494b836fc12561",
            "61120d48c84f45c7a2c67da0acdc6c76",
            "f85337ef46d744038d39c65dfd827fc6",
            "e96e69ba0071477fa088dfdf6e3ba9af",
            "b94dea91757b4f39befd687ac5de91f8",
            "ad77a1de00d648a0a642ded2f6b3d29a",
            "099928d5e7534201acef451c42131785",
            "72aa4214bfb54a219ed63ff32fae23df"
          ]
        },
        "id": "S1KrXyo_55A4",
        "outputId": "3e0d9948-e296-4d52-e32b-b032a232fc83"
      },
      "execution_count": 14,
      "outputs": [
        {
          "output_type": "display_data",
          "data": {
            "text/plain": [
              "HBox(children=(Button(button_style='primary', description='Reset', icon='history', style=ButtonStyle()), VBox(…"
            ],
            "application/vnd.jupyter.widget-view+json": {
              "version_major": 2,
              "version_minor": 0,
              "model_id": "46315df9d72d44c1aee350a9bdd84984"
            }
          },
          "metadata": {}
        },
        {
          "output_type": "display_data",
          "data": {
            "text/plain": [
              "Output()"
            ],
            "application/vnd.jupyter.widget-view+json": {
              "version_major": 2,
              "version_minor": 0,
              "model_id": "099928d5e7534201acef451c42131785"
            }
          },
          "metadata": {}
        }
      ]
    },
    {
      "cell_type": "markdown",
      "source": [
        "# Extras: Adding More Sections\n",
        "A neuron is more than just a soma, why not add something else, like an axon.\n",
        "An axon is also just a section and can be created in the same way, but it does need to be connected to the soma. Here we demonstrate how to add an axon and connect it to the soma, but we will not be focusing on it really in this lab. A video going over the full structure of the neuron, including all the sections is available here though."
      ],
      "metadata": {
        "id": "MT33CSH3j4vo"
      }
    },
    {
      "cell_type": "code",
      "source": [
        "#axon = h.Section('axon')\n",
        "#axon.L = 40\n",
        "#axon.nseg = 3 # divided into 3 equally lengthed segments\n",
        "#axon.connect(soma(1)) #connect axon to the right end of the soma\n",
        "#h.topology() # shows topology of full cell\n",
        "YouTubeVideo('HZh0A-lWSmY')"
      ],
      "metadata": {
        "id": "J4pOjOrskPap",
        "colab": {
          "base_uri": "https://localhost:8080/",
          "height": 321
        },
        "outputId": "fe7e65aa-3f17-479f-b79a-4097be90dc6e"
      },
      "execution_count": 15,
      "outputs": [
        {
          "output_type": "execute_result",
          "data": {
            "text/plain": [
              "<IPython.lib.display.YouTubeVideo at 0x797524fe1cc0>"
            ],
            "text/html": [
              "\n",
              "        <iframe\n",
              "            width=\"400\"\n",
              "            height=\"300\"\n",
              "            src=\"https://www.youtube.com/embed/HZh0A-lWSmY\"\n",
              "            frameborder=\"0\"\n",
              "            allowfullscreen\n",
              "            \n",
              "        ></iframe>\n",
              "        "
            ],
            "image/jpeg": "[encoded data removed]"
          },
          "metadata": {},
          "execution_count": 15
        }
      ]
    },
    {
      "cell_type": "markdown",
      "source": [
        "# Conclusion\n",
        "You should now know how NEURON simulates a neuron, how to create a single cell model with channels using NEURON, the morphology of the soma, and how to use NEURON to conduct experiments/simulations of your own. For more help on how to use NEURON, click [here](http://web.mit.edu/neuron_v7.4/nrntuthtml/tutorial/tutA.html) and [here.](https://nrn.readthedocs.io/en/latest/tutorials/scripting-neuron-basics.html)"
      ],
      "metadata": {
        "id": "cTYQv8Ok-dWx"
      }
    }
  ]
}