{
  "nbformat": 4,
  "nbformat_minor": 0,
  "metadata": {
    "colab": {
      "provenance": [],
      "authorship_tag": "ABX9TyMJ3XVxc+3ZFweWIKvWewVY",
      "include_colab_link": true
    },
    "kernelspec": {
      "name": "python3",
      "display_name": "Python 3"
    },
    "language_info": {
      "name": "python"
    },
    "widgets": {
      "application/vnd.jupyter.widget-state+json": {
        "f1216b176d8a4268bb1b6efba9c109fc": {
          "model_module": "@jupyter-widgets/controls",
          "model_name": "HBoxModel",
          "model_module_version": "1.5.0",
          "state": {
            "_dom_classes": [],
            "_model_module": "@jupyter-widgets/controls",
            "_model_module_version": "1.5.0",
            "_model_name": "HBoxModel",
            "_view_count": null,
            "_view_module": "@jupyter-widgets/controls",
            "_view_module_version": "1.5.0",
            "_view_name": "HBoxView",
            "box_style": "",
            "children": [
              "IPY_MODEL_105edfb1222b4ca6a57bd9980d660462",
              "IPY_MODEL_d8ab60834a8a47a699493d46f65a028c",
              "IPY_MODEL_5843c46aaef040e68d40eec82010f1b4",
              "IPY_MODEL_97e3e799b1034ad984e0453601f3bc0f"
            ],
            "layout": "IPY_MODEL_7d780bbc295c49889ad8e66c1b932e6a"
          }
        },
        "105edfb1222b4ca6a57bd9980d660462": {
          "model_module": "@jupyter-widgets/controls",
          "model_name": "ButtonModel",
          "model_module_version": "1.5.0",
          "state": {
            "_dom_classes": [],
            "_model_module": "@jupyter-widgets/controls",
            "_model_module_version": "1.5.0",
            "_model_name": "ButtonModel",
            "_view_count": null,
            "_view_module": "@jupyter-widgets/controls",
            "_view_module_version": "1.5.0",
            "_view_name": "ButtonView",
            "button_style": "primary",
            "description": "Reset",
            "disabled": false,
            "icon": "history",
            "layout": "IPY_MODEL_1ce46fe80e0f4ee7a125bccbc3f67e7f",
            "style": "IPY_MODEL_e0130190a15c49979150396573e495be",
            "tooltip": ""
          }
        },
        "d8ab60834a8a47a699493d46f65a028c": {
          "model_module": "@jupyter-widgets/controls",
          "model_name": "VBoxModel",
          "model_module_version": "1.5.0",
          "state": {
            "_dom_classes": [],
            "_model_module": "@jupyter-widgets/controls",
            "_model_module_version": "1.5.0",
            "_model_name": "VBoxModel",
            "_view_count": null,
            "_view_module": "@jupyter-widgets/controls",
            "_view_module_version": "1.5.0",
            "_view_name": "VBoxView",
            "box_style": "",
            "children": [
              "IPY_MODEL_57aba89314ea4c96ad2940c5cbf10781",
              "IPY_MODEL_a6e748933cb64010b94cc0d8aa4451b8"
            ],
            "layout": "IPY_MODEL_1fa8676b7cf745caa6b26f73fd856750"
          }
        },
        "5843c46aaef040e68d40eec82010f1b4": {
          "model_module": "@jupyter-widgets/controls",
          "model_name": "VBoxModel",
          "model_module_version": "1.5.0",
          "state": {
            "_dom_classes": [],
            "_model_module": "@jupyter-widgets/controls",
            "_model_module_version": "1.5.0",
            "_model_name": "VBoxModel",
            "_view_count": null,
            "_view_module": "@jupyter-widgets/controls",
            "_view_module_version": "1.5.0",
            "_view_name": "VBoxView",
            "box_style": "",
            "children": [
              "IPY_MODEL_3336864de47c4fe6a9be30063cc746a7",
              "IPY_MODEL_65075f31875040a188114b98c1c5b248",
              "IPY_MODEL_2ba814f95aba447881617e4fdb7dc848"
            ],
            "layout": "IPY_MODEL_92858b77f9994ffeb7d387afc46f3e14"
          }
        },
        "97e3e799b1034ad984e0453601f3bc0f": {
          "model_module": "@jupyter-widgets/controls",
          "model_name": "VBoxModel",
          "model_module_version": "1.5.0",
          "state": {
            "_dom_classes": [],
            "_model_module": "@jupyter-widgets/controls",
            "_model_module_version": "1.5.0",
            "_model_name": "VBoxModel",
            "_view_count": null,
            "_view_module": "@jupyter-widgets/controls",
            "_view_module_version": "1.5.0",
            "_view_name": "VBoxView",
            "box_style": "",
            "children": [
              "IPY_MODEL_e33b6f315f39494a8ec87fcd83ed5995",
              "IPY_MODEL_6ba7a2b702af4b449cf3cb1f2955e9cf",
              "IPY_MODEL_8ee1711446764b60ba45b57a982fd09d",
              "IPY_MODEL_d792eeb7058d4c44b029df5dcdee4b97"
            ],
            "layout": "IPY_MODEL_6dbb0b450c89466f8fd96b7449766adf"
          }
        },
        "7d780bbc295c49889ad8e66c1b932e6a": {
          "model_module": "@jupyter-widgets/base",
          "model_name": "LayoutModel",
          "model_module_version": "1.2.0",
          "state": {
            "_model_module": "@jupyter-widgets/base",
            "_model_module_version": "1.2.0",
            "_model_name": "LayoutModel",
            "_view_count": null,
            "_view_module": "@jupyter-widgets/base",
            "_view_module_version": "1.2.0",
            "_view_name": "LayoutView",
            "align_content": null,
            "align_items": null,
            "align_self": null,
            "border": null,
            "bottom": null,
            "display": null,
            "flex": null,
            "flex_flow": null,
            "grid_area": null,
            "grid_auto_columns": null,
            "grid_auto_flow": null,
            "grid_auto_rows": null,
            "grid_column": null,
            "grid_gap": null,
            "grid_row": null,
            "grid_template_areas": null,
            "grid_template_columns": null,
            "grid_template_rows": null,
            "height": null,
            "justify_content": null,
            "justify_items": null,
            "left": null,
            "margin": null,
            "max_height": null,
            "max_width": null,
            "min_height": null,
            "min_width": null,
            "object_fit": null,
            "object_position": null,
            "order": null,
            "overflow": null,
            "overflow_x": null,
            "overflow_y": null,
            "padding": null,
            "right": null,
            "top": null,
            "visibility": null,
            "width": null
          }
        },
        "1ce46fe80e0f4ee7a125bccbc3f67e7f": {
          "model_module": "@jupyter-widgets/base",
          "model_name": "LayoutModel",
          "model_module_version": "1.2.0",
          "state": {
            "_model_module": "@jupyter-widgets/base",
            "_model_module_version": "1.2.0",
            "_model_name": "LayoutModel",
            "_view_count": null,
            "_view_module": "@jupyter-widgets/base",
            "_view_module_version": "1.2.0",
            "_view_name": "LayoutView",
            "align_content": null,
            "align_items": null,
            "align_self": null,
            "border": null,
            "bottom": null,
            "display": null,
            "flex": null,
            "flex_flow": null,
            "grid_area": null,
            "grid_auto_columns": null,
            "grid_auto_flow": null,
            "grid_auto_rows": null,
            "grid_column": null,
            "grid_gap": null,
            "grid_row": null,
            "grid_template_areas": null,
            "grid_template_columns": null,
            "grid_template_rows": null,
            "height": null,
            "justify_content": null,
            "justify_items": null,
            "left": null,
            "margin": null,
            "max_height": null,
            "max_width": null,
            "min_height": null,
            "min_width": null,
            "object_fit": null,
            "object_position": null,
            "order": null,
            "overflow": null,
            "overflow_x": null,
            "overflow_y": null,
            "padding": null,
            "right": null,
            "top": null,
            "visibility": null,
            "width": null
          }
        },
        "e0130190a15c49979150396573e495be": {
          "model_module": "@jupyter-widgets/controls",
          "model_name": "ButtonStyleModel",
          "model_module_version": "1.5.0",
          "state": {
            "_model_module": "@jupyter-widgets/controls",
            "_model_module_version": "1.5.0",
            "_model_name": "ButtonStyleModel",
            "_view_count": null,
            "_view_module": "@jupyter-widgets/base",
            "_view_module_version": "1.2.0",
            "_view_name": "StyleView",
            "button_color": null,
            "font_weight": ""
          }
        },
        "57aba89314ea4c96ad2940c5cbf10781": {
          "model_module": "@jupyter-widgets/controls",
          "model_name": "BoundedFloatTextModel",
          "model_module_version": "1.5.0",
          "state": {
            "_dom_classes": [],
            "_model_module": "@jupyter-widgets/controls",
            "_model_module_version": "1.5.0",
            "_model_name": "BoundedFloatTextModel",
            "_view_count": null,
            "_view_module": "@jupyter-widgets/controls",
            "_view_module_version": "1.5.0",
            "_view_name": "FloatTextView",
            "continuous_update": false,
            "description": "Length(um)",
            "description_tooltip": null,
            "disabled": false,
            "layout": "IPY_MODEL_61977d008cde4a31ba6142615401213e",
            "max": 10000,
            "min": 1,
            "step": null,
            "style": "IPY_MODEL_d033b56aa6cc42d088664a64232dd7b8",
            "value": 35
          }
        },
        "a6e748933cb64010b94cc0d8aa4451b8": {
          "model_module": "@jupyter-widgets/controls",
          "model_name": "BoundedFloatTextModel",
          "model_module_version": "1.5.0",
          "state": {
            "_dom_classes": [],
            "_model_module": "@jupyter-widgets/controls",
            "_model_module_version": "1.5.0",
            "_model_name": "BoundedFloatTextModel",
            "_view_count": null,
            "_view_module": "@jupyter-widgets/controls",
            "_view_module_version": "1.5.0",
            "_view_name": "FloatTextView",
            "continuous_update": false,
            "description": "Diameter(um)",
            "description_tooltip": null,
            "disabled": false,
            "layout": "IPY_MODEL_8efbb1fc902a4e49b0315b98a74f845a",
            "max": 10000,
            "min": 1,
            "step": null,
            "style": "IPY_MODEL_4a2619a0e63a4b2d995618e84156ac95",
            "value": 35
          }
        },
        "1fa8676b7cf745caa6b26f73fd856750": {
          "model_module": "@jupyter-widgets/base",
          "model_name": "LayoutModel",
          "model_module_version": "1.2.0",
          "state": {
            "_model_module": "@jupyter-widgets/base",
            "_model_module_version": "1.2.0",
            "_model_name": "LayoutModel",
            "_view_count": null,
            "_view_module": "@jupyter-widgets/base",
            "_view_module_version": "1.2.0",
            "_view_name": "LayoutView",
            "align_content": null,
            "align_items": null,
            "align_self": null,
            "border": null,
            "bottom": null,
            "display": null,
            "flex": null,
            "flex_flow": null,
            "grid_area": null,
            "grid_auto_columns": null,
            "grid_auto_flow": null,
            "grid_auto_rows": null,
            "grid_column": null,
            "grid_gap": null,
            "grid_row": null,
            "grid_template_areas": null,
            "grid_template_columns": null,
            "grid_template_rows": null,
            "height": null,
            "justify_content": null,
            "justify_items": null,
            "left": null,
            "margin": null,
            "max_height": null,
            "max_width": null,
            "min_height": null,
            "min_width": null,
            "object_fit": null,
            "object_position": null,
            "order": null,
            "overflow": null,
            "overflow_x": null,
            "overflow_y": null,
            "padding": null,
            "right": null,
            "top": null,
            "visibility": null,
            "width": null
          }
        },
        "3336864de47c4fe6a9be30063cc746a7": {
          "model_module": "@jupyter-widgets/controls",
          "model_name": "RadioButtonsModel",
          "model_module_version": "1.5.0",
          "state": {
            "_dom_classes": [],
            "_model_module": "@jupyter-widgets/controls",
            "_model_module_version": "1.5.0",
            "_model_name": "RadioButtonsModel",
            "_options_labels": [
              "Na+ Channels",
              "No Na+ Channels"
            ],
            "_view_count": null,
            "_view_module": "@jupyter-widgets/controls",
            "_view_module_version": "1.5.0",
            "_view_name": "RadioButtonsView",
            "description": "Na+:",
            "description_tooltip": null,
            "disabled": false,
            "index": 0,
            "layout": "IPY_MODEL_4e2727da99a548b29de1c9d087fb389e",
            "style": "IPY_MODEL_5c3fc1e3d7d44a18899602f27591e9cd"
          }
        },
        "65075f31875040a188114b98c1c5b248": {
          "model_module": "@jupyter-widgets/controls",
          "model_name": "RadioButtonsModel",
          "model_module_version": "1.5.0",
          "state": {
            "_dom_classes": [],
            "_model_module": "@jupyter-widgets/controls",
            "_model_module_version": "1.5.0",
            "_model_name": "RadioButtonsModel",
            "_options_labels": [
              "K+ Channels",
              "No K+ Channels"
            ],
            "_view_count": null,
            "_view_module": "@jupyter-widgets/controls",
            "_view_module_version": "1.5.0",
            "_view_name": "RadioButtonsView",
            "description": "K+:",
            "description_tooltip": null,
            "disabled": false,
            "index": 0,
            "layout": "IPY_MODEL_0bec89359f694798adf9f6eed267b95d",
            "style": "IPY_MODEL_eb7ffb6b8d1a44e6a52b01eb767654ab"
          }
        },
        "2ba814f95aba447881617e4fdb7dc848": {
          "model_module": "@jupyter-widgets/controls",
          "model_name": "RadioButtonsModel",
          "model_module_version": "1.5.0",
          "state": {
            "_dom_classes": [],
            "_model_module": "@jupyter-widgets/controls",
            "_model_module_version": "1.5.0",
            "_model_name": "RadioButtonsModel",
            "_options_labels": [
              "Leak Channels",
              "No Leak Channels"
            ],
            "_view_count": null,
            "_view_module": "@jupyter-widgets/controls",
            "_view_module_version": "1.5.0",
            "_view_name": "RadioButtonsView",
            "description": "Leak:",
            "description_tooltip": null,
            "disabled": false,
            "index": 0,
            "layout": "IPY_MODEL_2f7217d719274d4cb807be2381a4cc7e",
            "style": "IPY_MODEL_4242926451a74cd2b2e79824238f6735"
          }
        },
        "92858b77f9994ffeb7d387afc46f3e14": {
          "model_module": "@jupyter-widgets/base",
          "model_name": "LayoutModel",
          "model_module_version": "1.2.0",
          "state": {
            "_model_module": "@jupyter-widgets/base",
            "_model_module_version": "1.2.0",
            "_model_name": "LayoutModel",
            "_view_count": null,
            "_view_module": "@jupyter-widgets/base",
            "_view_module_version": "1.2.0",
            "_view_name": "LayoutView",
            "align_content": null,
            "align_items": null,
            "align_self": null,
            "border": null,
            "bottom": null,
            "display": null,
            "flex": null,
            "flex_flow": null,
            "grid_area": null,
            "grid_auto_columns": null,
            "grid_auto_flow": null,
            "grid_auto_rows": null,
            "grid_column": null,
            "grid_gap": null,
            "grid_row": null,
            "grid_template_areas": null,
            "grid_template_columns": null,
            "grid_template_rows": null,
            "height": null,
            "justify_content": null,
            "justify_items": null,
            "left": null,
            "margin": null,
            "max_height": null,
            "max_width": null,
            "min_height": null,
            "min_width": null,
            "object_fit": null,
            "object_position": null,
            "order": null,
            "overflow": null,
            "overflow_x": null,
            "overflow_y": null,
            "padding": null,
            "right": null,
            "top": null,
            "visibility": null,
            "width": null
          }
        },
        "e33b6f315f39494a8ec87fcd83ed5995": {
          "model_module": "@jupyter-widgets/controls",
          "model_name": "BoundedFloatTextModel",
          "model_module_version": "1.5.0",
          "state": {
            "_dom_classes": [],
            "_model_module": "@jupyter-widgets/controls",
            "_model_module_version": "1.5.0",
            "_model_name": "BoundedFloatTextModel",
            "_view_count": null,
            "_view_module": "@jupyter-widgets/controls",
            "_view_module_version": "1.5.0",
            "_view_name": "FloatTextView",
            "continuous_update": false,
            "description": "Tstop(ms)",
            "description_tooltip": null,
            "disabled": false,
            "layout": "IPY_MODEL_a5394367fb5f4d818e635012661343fa",
            "max": 1000,
            "min": 5,
            "step": null,
            "style": "IPY_MODEL_107b5daa203249878f74f055be3e16cf",
            "value": 200
          }
        },
        "6ba7a2b702af4b449cf3cb1f2955e9cf": {
          "model_module": "@jupyter-widgets/controls",
          "model_name": "BoundedFloatTextModel",
          "model_module_version": "1.5.0",
          "state": {
            "_dom_classes": [],
            "_model_module": "@jupyter-widgets/controls",
            "_model_module_version": "1.5.0",
            "_model_name": "BoundedFloatTextModel",
            "_view_count": null,
            "_view_module": "@jupyter-widgets/controls",
            "_view_module_version": "1.5.0",
            "_view_name": "FloatTextView",
            "continuous_update": false,
            "description": "Injection(ms)",
            "description_tooltip": null,
            "disabled": false,
            "layout": "IPY_MODEL_4616ca3ce3634159b59f528952efadef",
            "max": 500,
            "min": 1,
            "step": null,
            "style": "IPY_MODEL_f1519275a80e4ee0ad67abf4428a053a",
            "value": 2.5
          }
        },
        "8ee1711446764b60ba45b57a982fd09d": {
          "model_module": "@jupyter-widgets/controls",
          "model_name": "BoundedFloatTextModel",
          "model_module_version": "1.5.0",
          "state": {
            "_dom_classes": [],
            "_model_module": "@jupyter-widgets/controls",
            "_model_module_version": "1.5.0",
            "_model_name": "BoundedFloatTextModel",
            "_view_count": null,
            "_view_module": "@jupyter-widgets/controls",
            "_view_module_version": "1.5.0",
            "_view_name": "FloatTextView",
            "continuous_update": false,
            "description": "Amp(nA)",
            "description_tooltip": null,
            "disabled": false,
            "layout": "IPY_MODEL_f39cc01b589d49ce860b80caf71ca567",
            "max": 100,
            "min": -100,
            "step": null,
            "style": "IPY_MODEL_f86eb2a64802412fbb2974017b8746f1",
            "value": 1
          }
        },
        "d792eeb7058d4c44b029df5dcdee4b97": {
          "model_module": "@jupyter-widgets/controls",
          "model_name": "BoundedFloatTextModel",
          "model_module_version": "1.5.0",
          "state": {
            "_dom_classes": [],
            "_model_module": "@jupyter-widgets/controls",
            "_model_module_version": "1.5.0",
            "_model_name": "BoundedFloatTextModel",
            "_view_count": null,
            "_view_module": "@jupyter-widgets/controls",
            "_view_module_version": "1.5.0",
            "_view_name": "FloatTextView",
            "continuous_update": false,
            "description": "Delay(ms)",
            "description_tooltip": null,
            "disabled": false,
            "layout": "IPY_MODEL_ce4af2cb6d8e4d43b2b451862b2ac9c4",
            "max": 400,
            "min": 1,
            "step": null,
            "style": "IPY_MODEL_f97cc2a5a68749d293a585082fe7aee7",
            "value": 100
          }
        },
        "6dbb0b450c89466f8fd96b7449766adf": {
          "model_module": "@jupyter-widgets/base",
          "model_name": "LayoutModel",
          "model_module_version": "1.2.0",
          "state": {
            "_model_module": "@jupyter-widgets/base",
            "_model_module_version": "1.2.0",
            "_model_name": "LayoutModel",
            "_view_count": null,
            "_view_module": "@jupyter-widgets/base",
            "_view_module_version": "1.2.0",
            "_view_name": "LayoutView",
            "align_content": null,
            "align_items": null,
            "align_self": null,
            "border": null,
            "bottom": null,
            "display": null,
            "flex": null,
            "flex_flow": null,
            "grid_area": null,
            "grid_auto_columns": null,
            "grid_auto_flow": null,
            "grid_auto_rows": null,
            "grid_column": null,
            "grid_gap": null,
            "grid_row": null,
            "grid_template_areas": null,
            "grid_template_columns": null,
            "grid_template_rows": null,
            "height": null,
            "justify_content": null,
            "justify_items": null,
            "left": null,
            "margin": null,
            "max_height": null,
            "max_width": null,
            "min_height": null,
            "min_width": null,
            "object_fit": null,
            "object_position": null,
            "order": null,
            "overflow": null,
            "overflow_x": null,
            "overflow_y": null,
            "padding": null,
            "right": null,
            "top": null,
            "visibility": null,
            "width": null
          }
        },
        "61977d008cde4a31ba6142615401213e": {
          "model_module": "@jupyter-widgets/base",
          "model_name": "LayoutModel",
          "model_module_version": "1.2.0",
          "state": {
            "_model_module": "@jupyter-widgets/base",
            "_model_module_version": "1.2.0",
            "_model_name": "LayoutModel",
            "_view_count": null,
            "_view_module": "@jupyter-widgets/base",
            "_view_module_version": "1.2.0",
            "_view_name": "LayoutView",
            "align_content": null,
            "align_items": null,
            "align_self": null,
            "border": null,
            "bottom": null,
            "display": null,
            "flex": null,
            "flex_flow": null,
            "grid_area": null,
            "grid_auto_columns": null,
            "grid_auto_flow": null,
            "grid_auto_rows": null,
            "grid_column": null,
            "grid_gap": null,
            "grid_row": null,
            "grid_template_areas": null,
            "grid_template_columns": null,
            "grid_template_rows": null,
            "height": null,
            "justify_content": null,
            "justify_items": null,
            "left": null,
            "margin": null,
            "max_height": null,
            "max_width": null,
            "min_height": null,
            "min_width": null,
            "object_fit": null,
            "object_position": null,
            "order": null,
            "overflow": null,
            "overflow_x": null,
            "overflow_y": null,
            "padding": null,
            "right": null,
            "top": null,
            "visibility": null,
            "width": null
          }
        },
        "d033b56aa6cc42d088664a64232dd7b8": {
          "model_module": "@jupyter-widgets/controls",
          "model_name": "DescriptionStyleModel",
          "model_module_version": "1.5.0",
          "state": {
            "_model_module": "@jupyter-widgets/controls",
            "_model_module_version": "1.5.0",
            "_model_name": "DescriptionStyleModel",
            "_view_count": null,
            "_view_module": "@jupyter-widgets/base",
            "_view_module_version": "1.2.0",
            "_view_name": "StyleView",
            "description_width": ""
          }
        },
        "8efbb1fc902a4e49b0315b98a74f845a": {
          "model_module": "@jupyter-widgets/base",
          "model_name": "LayoutModel",
          "model_module_version": "1.2.0",
          "state": {
            "_model_module": "@jupyter-widgets/base",
            "_model_module_version": "1.2.0",
            "_model_name": "LayoutModel",
            "_view_count": null,
            "_view_module": "@jupyter-widgets/base",
            "_view_module_version": "1.2.0",
            "_view_name": "LayoutView",
            "align_content": null,
            "align_items": null,
            "align_self": null,
            "border": null,
            "bottom": null,
            "display": null,
            "flex": null,
            "flex_flow": null,
            "grid_area": null,
            "grid_auto_columns": null,
            "grid_auto_flow": null,
            "grid_auto_rows": null,
            "grid_column": null,
            "grid_gap": null,
            "grid_row": null,
            "grid_template_areas": null,
            "grid_template_columns": null,
            "grid_template_rows": null,
            "height": null,
            "justify_content": null,
            "justify_items": null,
            "left": null,
            "margin": null,
            "max_height": null,
            "max_width": null,
            "min_height": null,
            "min_width": null,
            "object_fit": null,
            "object_position": null,
            "order": null,
            "overflow": null,
            "overflow_x": null,
            "overflow_y": null,
            "padding": null,
            "right": null,
            "top": null,
            "visibility": null,
            "width": null
          }
        },
        "4a2619a0e63a4b2d995618e84156ac95": {
          "model_module": "@jupyter-widgets/controls",
          "model_name": "DescriptionStyleModel",
          "model_module_version": "1.5.0",
          "state": {
            "_model_module": "@jupyter-widgets/controls",
            "_model_module_version": "1.5.0",
            "_model_name": "DescriptionStyleModel",
            "_view_count": null,
            "_view_module": "@jupyter-widgets/base",
            "_view_module_version": "1.2.0",
            "_view_name": "StyleView",
            "description_width": ""
          }
        },
        "4e2727da99a548b29de1c9d087fb389e": {
          "model_module": "@jupyter-widgets/base",
          "model_name": "LayoutModel",
          "model_module_version": "1.2.0",
          "state": {
            "_model_module": "@jupyter-widgets/base",
            "_model_module_version": "1.2.0",
            "_model_name": "LayoutModel",
            "_view_count": null,
            "_view_module": "@jupyter-widgets/base",
            "_view_module_version": "1.2.0",
            "_view_name": "LayoutView",
            "align_content": null,
            "align_items": null,
            "align_self": null,
            "border": null,
            "bottom": null,
            "display": null,
            "flex": null,
            "flex_flow": null,
            "grid_area": null,
            "grid_auto_columns": null,
            "grid_auto_flow": null,
            "grid_auto_rows": null,
            "grid_column": null,
            "grid_gap": null,
            "grid_row": null,
            "grid_template_areas": null,
            "grid_template_columns": null,
            "grid_template_rows": null,
            "height": null,
            "justify_content": null,
            "justify_items": null,
            "left": null,
            "margin": null,
            "max_height": null,
            "max_width": null,
            "min_height": null,
            "min_width": null,
            "object_fit": null,
            "object_position": null,
            "order": null,
            "overflow": null,
            "overflow_x": null,
            "overflow_y": null,
            "padding": null,
            "right": null,
            "top": null,
            "visibility": null,
            "width": null
          }
        },
        "5c3fc1e3d7d44a18899602f27591e9cd": {
          "model_module": "@jupyter-widgets/controls",
          "model_name": "DescriptionStyleModel",
          "model_module_version": "1.5.0",
          "state": {
            "_model_module": "@jupyter-widgets/controls",
            "_model_module_version": "1.5.0",
            "_model_name": "DescriptionStyleModel",
            "_view_count": null,
            "_view_module": "@jupyter-widgets/base",
            "_view_module_version": "1.2.0",
            "_view_name": "StyleView",
            "description_width": ""
          }
        },
        "0bec89359f694798adf9f6eed267b95d": {
          "model_module": "@jupyter-widgets/base",
          "model_name": "LayoutModel",
          "model_module_version": "1.2.0",
          "state": {
            "_model_module": "@jupyter-widgets/base",
            "_model_module_version": "1.2.0",
            "_model_name": "LayoutModel",
            "_view_count": null,
            "_view_module": "@jupyter-widgets/base",
            "_view_module_version": "1.2.0",
            "_view_name": "LayoutView",
            "align_content": null,
            "align_items": null,
            "align_self": null,
            "border": null,
            "bottom": null,
            "display": null,
            "flex": null,
            "flex_flow": null,
            "grid_area": null,
            "grid_auto_columns": null,
            "grid_auto_flow": null,
            "grid_auto_rows": null,
            "grid_column": null,
            "grid_gap": null,
            "grid_row": null,
            "grid_template_areas": null,
            "grid_template_columns": null,
            "grid_template_rows": null,
            "height": null,
            "justify_content": null,
            "justify_items": null,
            "left": null,
            "margin": null,
            "max_height": null,
            "max_width": null,
            "min_height": null,
            "min_width": null,
            "object_fit": null,
            "object_position": null,
            "order": null,
            "overflow": null,
            "overflow_x": null,
            "overflow_y": null,
            "padding": null,
            "right": null,
            "top": null,
            "visibility": null,
            "width": null
          }
        },
        "eb7ffb6b8d1a44e6a52b01eb767654ab": {
          "model_module": "@jupyter-widgets/controls",
          "model_name": "DescriptionStyleModel",
          "model_module_version": "1.5.0",
          "state": {
            "_model_module": "@jupyter-widgets/controls",
            "_model_module_version": "1.5.0",
            "_model_name": "DescriptionStyleModel",
            "_view_count": null,
            "_view_module": "@jupyter-widgets/base",
            "_view_module_version": "1.2.0",
            "_view_name": "StyleView",
            "description_width": ""
          }
        },
        "2f7217d719274d4cb807be2381a4cc7e": {
          "model_module": "@jupyter-widgets/base",
          "model_name": "LayoutModel",
          "model_module_version": "1.2.0",
          "state": {
            "_model_module": "@jupyter-widgets/base",
            "_model_module_version": "1.2.0",
            "_model_name": "LayoutModel",
            "_view_count": null,
            "_view_module": "@jupyter-widgets/base",
            "_view_module_version": "1.2.0",
            "_view_name": "LayoutView",
            "align_content": null,
            "align_items": null,
            "align_self": null,
            "border": null,
            "bottom": null,
            "display": null,
            "flex": null,
            "flex_flow": null,
            "grid_area": null,
            "grid_auto_columns": null,
            "grid_auto_flow": null,
            "grid_auto_rows": null,
            "grid_column": null,
            "grid_gap": null,
            "grid_row": null,
            "grid_template_areas": null,
            "grid_template_columns": null,
            "grid_template_rows": null,
            "height": null,
            "justify_content": null,
            "justify_items": null,
            "left": null,
            "margin": null,
            "max_height": null,
            "max_width": null,
            "min_height": null,
            "min_width": null,
            "object_fit": null,
            "object_position": null,
            "order": null,
            "overflow": null,
            "overflow_x": null,
            "overflow_y": null,
            "padding": null,
            "right": null,
            "top": null,
            "visibility": null,
            "width": null
          }
        },
        "4242926451a74cd2b2e79824238f6735": {
          "model_module": "@jupyter-widgets/controls",
          "model_name": "DescriptionStyleModel",
          "model_module_version": "1.5.0",
          "state": {
            "_model_module": "@jupyter-widgets/controls",
            "_model_module_version": "1.5.0",
            "_model_name": "DescriptionStyleModel",
            "_view_count": null,
            "_view_module": "@jupyter-widgets/base",
            "_view_module_version": "1.2.0",
            "_view_name": "StyleView",
            "description_width": ""
          }
        },
        "a5394367fb5f4d818e635012661343fa": {
          "model_module": "@jupyter-widgets/base",
          "model_name": "LayoutModel",
          "model_module_version": "1.2.0",
          "state": {
            "_model_module": "@jupyter-widgets/base",
            "_model_module_version": "1.2.0",
            "_model_name": "LayoutModel",
            "_view_count": null,
            "_view_module": "@jupyter-widgets/base",
            "_view_module_version": "1.2.0",
            "_view_name": "LayoutView",
            "align_content": null,
            "align_items": null,
            "align_self": null,
            "border": null,
            "bottom": null,
            "display": null,
            "flex": null,
            "flex_flow": null,
            "grid_area": null,
            "grid_auto_columns": null,
            "grid_auto_flow": null,
            "grid_auto_rows": null,
            "grid_column": null,
            "grid_gap": null,
            "grid_row": null,
            "grid_template_areas": null,
            "grid_template_columns": null,
            "grid_template_rows": null,
            "height": null,
            "justify_content": null,
            "justify_items": null,
            "left": null,
            "margin": null,
            "max_height": null,
            "max_width": null,
            "min_height": null,
            "min_width": null,
            "object_fit": null,
            "object_position": null,
            "order": null,
            "overflow": null,
            "overflow_x": null,
            "overflow_y": null,
            "padding": null,
            "right": null,
            "top": null,
            "visibility": null,
            "width": null
          }
        },
        "107b5daa203249878f74f055be3e16cf": {
          "model_module": "@jupyter-widgets/controls",
          "model_name": "DescriptionStyleModel",
          "model_module_version": "1.5.0",
          "state": {
            "_model_module": "@jupyter-widgets/controls",
            "_model_module_version": "1.5.0",
            "_model_name": "DescriptionStyleModel",
            "_view_count": null,
            "_view_module": "@jupyter-widgets/base",
            "_view_module_version": "1.2.0",
            "_view_name": "StyleView",
            "description_width": ""
          }
        },
        "4616ca3ce3634159b59f528952efadef": {
          "model_module": "@jupyter-widgets/base",
          "model_name": "LayoutModel",
          "model_module_version": "1.2.0",
          "state": {
            "_model_module": "@jupyter-widgets/base",
            "_model_module_version": "1.2.0",
            "_model_name": "LayoutModel",
            "_view_count": null,
            "_view_module": "@jupyter-widgets/base",
            "_view_module_version": "1.2.0",
            "_view_name": "LayoutView",
            "align_content": null,
            "align_items": null,
            "align_self": null,
            "border": null,
            "bottom": null,
            "display": null,
            "flex": null,
            "flex_flow": null,
            "grid_area": null,
            "grid_auto_columns": null,
            "grid_auto_flow": null,
            "grid_auto_rows": null,
            "grid_column": null,
            "grid_gap": null,
            "grid_row": null,
            "grid_template_areas": null,
            "grid_template_columns": null,
            "grid_template_rows": null,
            "height": null,
            "justify_content": null,
            "justify_items": null,
            "left": null,
            "margin": null,
            "max_height": null,
            "max_width": null,
            "min_height": null,
            "min_width": null,
            "object_fit": null,
            "object_position": null,
            "order": null,
            "overflow": null,
            "overflow_x": null,
            "overflow_y": null,
            "padding": null,
            "right": null,
            "top": null,
            "visibility": null,
            "width": null
          }
        },
        "f1519275a80e4ee0ad67abf4428a053a": {
          "model_module": "@jupyter-widgets/controls",
          "model_name": "DescriptionStyleModel",
          "model_module_version": "1.5.0",
          "state": {
            "_model_module": "@jupyter-widgets/controls",
            "_model_module_version": "1.5.0",
            "_model_name": "DescriptionStyleModel",
            "_view_count": null,
            "_view_module": "@jupyter-widgets/base",
            "_view_module_version": "1.2.0",
            "_view_name": "StyleView",
            "description_width": ""
          }
        },
        "f39cc01b589d49ce860b80caf71ca567": {
          "model_module": "@jupyter-widgets/base",
          "model_name": "LayoutModel",
          "model_module_version": "1.2.0",
          "state": {
            "_model_module": "@jupyter-widgets/base",
            "_model_module_version": "1.2.0",
            "_model_name": "LayoutModel",
            "_view_count": null,
            "_view_module": "@jupyter-widgets/base",
            "_view_module_version": "1.2.0",
            "_view_name": "LayoutView",
            "align_content": null,
            "align_items": null,
            "align_self": null,
            "border": null,
            "bottom": null,
            "display": null,
            "flex": null,
            "flex_flow": null,
            "grid_area": null,
            "grid_auto_columns": null,
            "grid_auto_flow": null,
            "grid_auto_rows": null,
            "grid_column": null,
            "grid_gap": null,
            "grid_row": null,
            "grid_template_areas": null,
            "grid_template_columns": null,
            "grid_template_rows": null,
            "height": null,
            "justify_content": null,
            "justify_items": null,
            "left": null,
            "margin": null,
            "max_height": null,
            "max_width": null,
            "min_height": null,
            "min_width": null,
            "object_fit": null,
            "object_position": null,
            "order": null,
            "overflow": null,
            "overflow_x": null,
            "overflow_y": null,
            "padding": null,
            "right": null,
            "top": null,
            "visibility": null,
            "width": null
          }
        },
        "f86eb2a64802412fbb2974017b8746f1": {
          "model_module": "@jupyter-widgets/controls",
          "model_name": "DescriptionStyleModel",
          "model_module_version": "1.5.0",
          "state": {
            "_model_module": "@jupyter-widgets/controls",
            "_model_module_version": "1.5.0",
            "_model_name": "DescriptionStyleModel",
            "_view_count": null,
            "_view_module": "@jupyter-widgets/base",
            "_view_module_version": "1.2.0",
            "_view_name": "StyleView",
            "description_width": ""
          }
        },
        "ce4af2cb6d8e4d43b2b451862b2ac9c4": {
          "model_module": "@jupyter-widgets/base",
          "model_name": "LayoutModel",
          "model_module_version": "1.2.0",
          "state": {
            "_model_module": "@jupyter-widgets/base",
            "_model_module_version": "1.2.0",
            "_model_name": "LayoutModel",
            "_view_count": null,
            "_view_module": "@jupyter-widgets/base",
            "_view_module_version": "1.2.0",
            "_view_name": "LayoutView",
            "align_content": null,
            "align_items": null,
            "align_self": null,
            "border": null,
            "bottom": null,
            "display": null,
            "flex": null,
            "flex_flow": null,
            "grid_area": null,
            "grid_auto_columns": null,
            "grid_auto_flow": null,
            "grid_auto_rows": null,
            "grid_column": null,
            "grid_gap": null,
            "grid_row": null,
            "grid_template_areas": null,
            "grid_template_columns": null,
            "grid_template_rows": null,
            "height": null,
            "justify_content": null,
            "justify_items": null,
            "left": null,
            "margin": null,
            "max_height": null,
            "max_width": null,
            "min_height": null,
            "min_width": null,
            "object_fit": null,
            "object_position": null,
            "order": null,
            "overflow": null,
            "overflow_x": null,
            "overflow_y": null,
            "padding": null,
            "right": null,
            "top": null,
            "visibility": null,
            "width": null
          }
        },
        "f97cc2a5a68749d293a585082fe7aee7": {
          "model_module": "@jupyter-widgets/controls",
          "model_name": "DescriptionStyleModel",
          "model_module_version": "1.5.0",
          "state": {
            "_model_module": "@jupyter-widgets/controls",
            "_model_module_version": "1.5.0",
            "_model_name": "DescriptionStyleModel",
            "_view_count": null,
            "_view_module": "@jupyter-widgets/base",
            "_view_module_version": "1.2.0",
            "_view_name": "StyleView",
            "description_width": ""
          }
        },
        "adb00f7d8f6c43da881ef422d9e0f55a": {
          "model_module": "@jupyter-widgets/output",
          "model_name": "OutputModel",
          "model_module_version": "1.0.0",
          "state": {
            "_dom_classes": [],
            "_model_module": "@jupyter-widgets/output",
            "_model_module_version": "1.0.0",
            "_model_name": "OutputModel",
            "_view_count": null,
            "_view_module": "@jupyter-widgets/output",
            "_view_module_version": "1.0.0",
            "_view_name": "OutputView",
            "layout": "IPY_MODEL_8791cba991ae4df3824cbf8636bec0f1",
            "msg_id": "",
            "outputs": [
              {
                "output_type": "display_data",
                "data": {
                  "text/plain": "<Figure size 1000x800 with 3 Axes>",
                  "image/png": "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\n"
                },
                "metadata": {}
              }
            ]
          }
        },
        "8791cba991ae4df3824cbf8636bec0f1": {
          "model_module": "@jupyter-widgets/base",
          "model_name": "LayoutModel",
          "model_module_version": "1.2.0",
          "state": {
            "_model_module": "@jupyter-widgets/base",
            "_model_module_version": "1.2.0",
            "_model_name": "LayoutModel",
            "_view_count": null,
            "_view_module": "@jupyter-widgets/base",
            "_view_module_version": "1.2.0",
            "_view_name": "LayoutView",
            "align_content": null,
            "align_items": null,
            "align_self": null,
            "border": null,
            "bottom": null,
            "display": null,
            "flex": null,
            "flex_flow": null,
            "grid_area": null,
            "grid_auto_columns": null,
            "grid_auto_flow": null,
            "grid_auto_rows": null,
            "grid_column": null,
            "grid_gap": null,
            "grid_row": null,
            "grid_template_areas": null,
            "grid_template_columns": null,
            "grid_template_rows": null,
            "height": null,
            "justify_content": null,
            "justify_items": null,
            "left": null,
            "margin": null,
            "max_height": null,
            "max_width": null,
            "min_height": null,
            "min_width": null,
            "object_fit": null,
            "object_position": null,
            "order": null,
            "overflow": null,
            "overflow_x": null,
            "overflow_y": null,
            "padding": null,
            "right": null,
            "top": null,
            "visibility": null,
            "width": null
          }
        }
      }
    }
  },
  "cells": [
    {
      "cell_type": "markdown",
      "metadata": {
        "id": "view-in-github",
        "colab_type": "text"
      },
      "source": [
        "<a href=\"https://colab.research.google.com/github/KhuramC/SoftwareTutorials/blob/main/B1_Creating_A_Single_Cell_Model_v2.ipynb\" target=\"_parent\"><img src=\"https://colab.research.google.com/assets/colab-badge.svg\" alt=\"Open In Colab\"/></a>"
      ]
    },
    {
      "cell_type": "markdown",
      "source": [
        "# Creating A Single Cell in NEURON\n",
        "This lab will go over the morphology of a cell and how it is simulated in NEURON. It will also go over how to change the morphology by adding channels. Lastly it will go over how to make a simulation of the cell using either voltage/current clamps in NEURON."
      ],
      "metadata": {
        "id": "t9TP_julMyQE"
      }
    },
    {
      "cell_type": "markdown",
      "source": [
        "#Components of a Neuron\n",
        "Before we get to simulating a neuron, we need to know what to put in the soma of the neuron.\n",
        "Create a list of all the necessary components of the soma and then draw the\n",
        "\n",
        "1.   Create a list of the all necessary components for the soma.\n",
        "2.   Draw the soma and label it with all of the components.\n",
        "Hint: Draw the electrical circuit of the soma and show the 1:1 pairing to help make sure you have everything.\n",
        "\n",
        "In the meantime, we will install NEURON and import some libraries that will be useful later. A refresher on the electrical circuit model and how neurons are electrical circuits is provided below.\n"
      ],
      "metadata": {
        "id": "QGe4-V-8KSX1"
      }
    },
    {
      "cell_type": "code",
      "execution_count": 1,
      "metadata": {
        "colab": {
          "base_uri": "https://localhost:8080/",
          "height": 356
        },
        "id": "-7Ms6GYDvszj",
        "outputId": "8caf37b7-7500-42fe-f7ba-dea79ddb48e6"
      },
      "outputs": [
        {
          "output_type": "stream",
          "name": "stdout",
          "text": [
            "Requirement already satisfied: neuron in /usr/local/lib/python3.10/dist-packages (8.2.3)\n",
            "Requirement already satisfied: numpy>=1.9.3 in /usr/local/lib/python3.10/dist-packages (from neuron) (1.23.5)\n"
          ]
        },
        {
          "output_type": "execute_result",
          "data": {
            "text/plain": [
              "<IPython.lib.display.YouTubeVideo at 0x7d14651baad0>"
            ],
            "text/html": [
              "\n",
              "        <iframe\n",
              "            width=\"400\"\n",
              "            height=\"300\"\n",
              "            src=\"https://www.youtube.com/embed/LdumhvDBpzQ\"\n",
              "            frameborder=\"0\"\n",
              "            allowfullscreen\n",
              "            \n",
              "        ></iframe>\n",
              "        "
            ],
            "image/jpeg": "[encoded data removed]"
          },
          "metadata": {},
          "execution_count": 1
        }
      ],
      "source": [
        "RunningInCOLAB = 'google.colab' in str(get_ipython())\n",
        "if RunningInCOLAB:\n",
        "  !pip install neuron #installs NEURON if in google Colab\n",
        "\n",
        "from IPython.display import YouTubeVideo\n",
        "YouTubeVideo('LdumhvDBpzQ')"
      ]
    },
    {
      "cell_type": "code",
      "source": [
        "YouTubeVideo('YQsSrW5oX80')"
      ],
      "metadata": {
        "colab": {
          "base_uri": "https://localhost:8080/",
          "height": 322
        },
        "id": "oPyWPzu7AcAR",
        "outputId": "e08b3a1f-86cc-4b82-8b2d-641fd70b7a70"
      },
      "execution_count": 2,
      "outputs": [
        {
          "output_type": "execute_result",
          "data": {
            "text/plain": [
              "<IPython.lib.display.YouTubeVideo at 0x7d14651bba00>"
            ],
            "text/html": [
              "\n",
              "        <iframe\n",
              "            width=\"400\"\n",
              "            height=\"300\"\n",
              "            src=\"https://www.youtube.com/embed/YQsSrW5oX80\"\n",
              "            frameborder=\"0\"\n",
              "            allowfullscreen\n",
              "            \n",
              "        ></iframe>\n",
              "        "
            ],
            "image/jpeg": "[encoded data removed]"
          },
          "metadata": {},
          "execution_count": 2
        }
      ]
    },
    {
      "cell_type": "code",
      "source": [
        "from neuron import h\n",
        "import matplotlib.pyplot as plt\n",
        "import numpy as np\n",
        "h.load_file('stdrun.hoc') #necessary to later do a simulation"
      ],
      "metadata": {
        "colab": {
          "base_uri": "https://localhost:8080/"
        },
        "id": "YLqBiEU2qxGY",
        "outputId": "0e57df1d-3435-42d0-abed-0ad282b68b17"
      },
      "execution_count": 3,
      "outputs": [
        {
          "output_type": "execute_result",
          "data": {
            "text/plain": [
              "1.0"
            ]
          },
          "metadata": {},
          "execution_count": 3
        }
      ]
    },
    {
      "cell_type": "markdown",
      "source": [
        "# Components of a Neuron Continued\n",
        "Your drawing should highlight the current injection into the soma, the neuron as a capacitor with liquid plates, the leak channel acting as a resistor and battery based off its reversal potential, amongst a couple of more concepts. An example of a drawing of the biological model of a neuron is given here:\n",
        "![thumbnail_4590 Neuron as an electrical circuit Jingsong Tan 2022-3.png](data:image/png;base64,iVBORw0KGgoAAAANSUhEUgAAA8AAAALQCAIAAADQFY7jAAAAAXNSR0IArs4c6QAAAARnQU1BAACxjwv8YQUAAAAJcEhZcwAADsMAAA7DAcdvqGQAAPTzSURBVHhe7P0NeF3Xdd8J040tI3HiwE7HhjqJDSdOjYmiBLHbCmrTEGkaCWkiGclIbzCV3HBUp4FGjxvU8sSQZ2TMSG6gvoqL0TNvDHdcC7IUAeZUMhqqLBRRFsSYDmS68o1pSgAJkiBIUPggQACEiEuAIPP+gbWxtHG+7rn3nnPuuff+f8968ODu83HPOfecvf97nbXX3vU3hBBCCCGEkNBQQBNCCCGEEJIHFNCEEEIIIYTkAQU0IYQQQggheUABTQghhBBCSB5QQBNCCCGEEJIHFNCEEEIIIYTkAQU0IYQQQggheUABTQghhBBCSB5QQBNCCCGEEJIHFNCEEEIIIYTkAQU0IYQQQggheUABTQghhBBCSB5QQBNCCCGEEJIHFNCEEEIIIYTkAQU0IYQQQggheUABTQghhBBCSB5QQBNCCCGEEJIHFNCEEEIIIYTkAQU0IYQQQggheUABTQghhBBCSB5QQBNCCCGEEJIHFNCEEEIIIYTkAQU0IYQQQggheUABTQghhBBCSB5QQBNCCCGEEJIHFNCEEEIIIYTkAQU0IYQQQggheUABTQghhBBCSB5QQBNCCCGEEJIHFNCEEEIIIYTkAQU0IYQQQggheUABTQghhBBCSB5QQBNCCCGEEJIHFNCEEEIIIYTkAQU0IYQQQggheUABTQghhBBCSB5QQBNCCCGEEJIHFNCEEEIIIYTkAQU0IYQQQggheUABTQghhBBCSB5QQBNCCCGEEJIHFNCEEEIIIYTkAQU0IYQQQggheUABTQghhBBCSB5QQBNCCCGEEJIHFNCEEEIIIYTkAQU0IYQQQggheUABTQghhBBCSB5QQBNCCCGEEJIHFNCEEEIIIYTkAQU0IYQQQggheUABTQghhBBCSB5QQBNCCCGEEJIHFNCEEEIIIYTkAQU0IYQQQggheUABTQghhBBCSB5QQBNCCCGEEJIHFNCEEEIIIYTkAQU0IYQQQggheUABTQghhBBCSB5QQBNCCCGEEJIHFNCEEEIIIYTkAQU0IYQQQggheUABTQghhBBCSB5QQBNCCCGEEJIHFNCEEEIIIYTkAQU0IYQQQggheUABTQghhBBCSB5QQBNCCCGEEJIHFNCEEEIIIYTkAQU0IYQQQggheUABTQghhBBCSB5QQBNCCCGEEJIHFNCEEEIIIYTkAQU0IYQQQggheUABTQghhBBCSB5QQBNCCCGEEJIHFNCEEEIIIYTkAQU0IYQQQggheUABTQghhBBCSB5QQBNCCCGEEJIHFNCEEEIIIYTkAQU0IYQQQggheUABTQghhBBCSB5QQBNCCCGEEJIHFNCEEEIIIYTkAQU0IYQQQggheUABTQghhBBCSB5QQBNCCCGEEJIHFNCEEEIIIYTkAQU0IYQQQggheUABTQghhBBCSB5QQBNCCCGEEJIHFNCEEEIIIYTkAQU0IYQQQggheUABTQghhBBCSB5QQBNCCCGEEJIHFNCEEEIIIYTkAQU0IYQQQggheUABTQghhBBCSB5QQBNCCCGEEJIHFNCEEEIIIYTkAQU0IYQQQggheUABTQghhBBCSB5QQBNCCCGEEJIHFNCEkCi5cuXKbbfdtmvXro9+9KOXLl0ypeUDjv/Tn/50+R4/IYSQBKCAJqR6+epXvwql6OC66677zne+Y9bIn3IX0Nls9gMf+ACO/13vetfc3JwpJYQQQiwooAmpXsTV6qCSBPS3vvWtfM+IHuhYGZ6+1DB4ctcTo037T3e+OpdZyJoFhBBSVlBAE1K9iFKM1tVa7gKaxAcUM6Szw9oOnstuXDNrEEJImUABTUj1EiygIYV7e3s/9rGPYR3Q0NDwJ3/yJ2bZFmfOnPnUpz4lSyFSZaktoPft29fc3Gwv9UQ36erq+uY3v+neRFd48sknH3jgAfyjx2wfA9i9e/fg4KBs5favt7a2yiLsEPt5z3veI+XY6ujRo7rI7gDYx/b888/L1Qg+HZDzjISAgw845YCDd4OVA35ELNUDwCL99jjwVM9i7SMzZiVCCCkTKKAJqV4CBLQKOAdQhLLCqVOnVMMJEIjf+c53/DYEAwMDsq0D3QQaTtZU5Ovc+5Rjdh+DIF/kJ6A1ytlGDt7+LoeAduN3OiDnGYHgg/c75eCDd+B38MFXVbaNlpG51ZqnxkQut740JS7noamVpv2npbD7yLysWdYMT18aXVozHwghFQ0FNCHVi1tiAltd3XPPPRMTE/h45swZ0W0amCHbQrqJ2xIr3HrrrQ4BDcGKlVUpqgPYgXsT/TqRdO4V7K1UPjq2QolnCIceuW4l+5HD0926BXTI0wHhz8jv4N17kD0HH7wD2Ynfj6gnIj5pLP2t3/qtOAQ05LLEPcMa903YARv4v+PwLMrr9o6borJlz6E35BwZ2E1INUABTUj1EiCg3cjKor3UD+rWbar8VGoDe1spsfHcRDKEiFLUFWwXqeo/+4DtrfDRLaD1yN1bOZSrHEwBpwNynlHOg/c85ZwHb4r8sY9cjwG6WRR2TNjBGyNzq6bUYnRprdwdtzh+OcHa/uPTq1dMKSGkcqGAJqR6ETnlp72g4R544AENnxUc2suttgtQnAFyEwwMDOgKtl4XcSwrmCJXoVtA65G7cShXOZgCTgfkPKOcB+95yjkP3qxngf34/YhYKiciBMdSF8zEyrqq57aD50xpxdGVOS/n2HF41hQRQioaCmhCqpcAAa0CzoFor4oU0Ml4oAGOLXIBXcCPKCs8//zzus+Qbuy86HltQZRlzVNjFemaHZlb7Rtfqn/mhJzmvzz0BvoMZhkhpHKhgCakegkQ0CrmVCLbqlGVXHwhHLKJwyvsqSb9oiDw0S2gPaMgbBwHU8DpgJxnlPPgPU8558E7CP4RpUSAjHasGRXNz0+Ksmx9acoUVQToDLQdPKcjI92G84WwZjw0IZUKBTQh1YvIqWAB/eSTT+KjCj6HrFRteubMmTvuuMN2nYZXnLoJgF7EOn5fZ6tJLcTxyzE4tkKJnoU7Ix6OXLO24eA/9alPyc4dx+/4KOuHF9Ag+Iz8Dl5X8Dxlv4N3EPwj4qOGbegi2yNePHb8BtSkKY0CCNPa/uNQ54trG1IyPH2p57WFrsx5/OMZaa0rDE2taMj14ORF6GDsB9ZxeDa83oU+1lMLtrq94/gKuqUJqTAooAmpXkQIuoGKUmenA1WNKs5sihfQDkTPeapJ4HkMqumB4yxkcxWLDmSp4/gLOB2Q84xA8MH7nXLwwTsI/hHdu4o8hAOiWXVktMMEJXcHbODUMuRy474J/SIxyNbOV+ck4wd0Mz46Vnj/3vFf/PNTjkIYdihfYQPNrYlE6p85ofMphjcIdLMvQkhFQAFNSPWiUbkOROSdOXNGZgABN954Y29vL/6xVSMUmK6gM3QUoDjtTZ599llRdZCS4je1V3DLRBzkrbfeikXCJz7xCcdIOOhUlYkanyBeWy3HweO75Ngcx1/A6YCcZyQEHHzwKfsdvJvgHxEb6n7iGESomd1qnhozRQXRPjKDndjzreieg+Mo/tmLZ1sOnHUUbpv3VlDG06tXujLn1WdsdwPE8I13DJ+Tf3AAv/ctPc1j2FCt9aUpO3+f7I0QUhlQQBNCSoynSC1rKu+MCkPlY9P+06bIh4FTyx2HZyE6h6edl2tw8qLsxFbh6oG2DVpW9vCZ724Kbtj7Lcdzbf9xSHCsMDS1cvs3jar+4afGxDUO0Swl9c+ckMMWyZtZyHoK9Pd9/fgv/9fTEpeiR4iv2Dy4nWD/vWMXNNSEEFIZUEATQkoMBXSlonJzz6E3TJEX6k6G2SpZsKONTdGW4NZCGLaylTf+t5fCWg6c1Rwg+Ec0cd3ecXUzdx+ZlzUhi+UfUcMaHII9QARrUhGYnpTtopYSQkjFQwFNCCkxFNCVisrKrsx5U+RCxS5EbdvBc+4QZDu+2RT9zeYUhhC4Wt756o7Q7ZG5VV0Eaxg8aTuAVe/KVtDTtj/70R+8JZHVtWzvwT4eOVoKaEKqEApoQkiJoYCuVFRWBghoLJJ1oGJN0U40xbIjQEIT5MEklEKB2NVFMIcoV5e2JOWwIzSa9p+GNNePGoICJW023grq0BVkBnLbHc5QDUKqBApoQgghsaCyMkBA945dkHWga03RTlRAO1bQDWEOAQ1sP7FD1OoOHaZJ8extYfgoGyq2xxra2pbU7hhuQkhFQgFNCCEkFtS56yeOga0+h6ZWTKmFZqBzxGmMLq3phm4BrY5tmCnaQgcL2tYweNL+6raDmxk21NzqX6OoYRIJrfEkdqoQQkgFQwFNCCEkFjTKAnJTx/A5GJlb/ZUhsxqErCNd9PD0JZWq+EdDKbBay4Gz7/qzY7LIHTlth0Gbom10hzB8o1t8a+izmOOQBMmsB8Me8FE1t+eZZjeuYf3gkZSEkPKCApoQQkhRDA0NNTc3T09Pm8/b2Eq0cd+EQ1mKrMSidz41BpPVavuPdx+Zh26GYXN7pKDbfmLALHULaKDbOmYBVFlft3fcU9b//l8ZcSxmSndinxpOxNbrbne7RF3j67CmKSKElDkU0IQQQrwZHh7OZnPPbt3a2rpr1y6dXdzGjieGooWU7NqaZKTz1TmNRW47eM5OZOG2lgNnNZBDrWn/6f5TZivPGGsVyg55rRnrYA6fN/S0I8O0OJjdQArrIYkKF5UshtNRrSzBJDVPjUFkSwkhpAKggCaEEOLB0NAQZHFvb6/57I9MdqgTPdpMrKxDg6qydJtq3+HpS26VDIMwhRiFQQdjZWhTrCliVLNtQGHLTmw0ysIhr7GVYxwhpDYMilxL/vA7sxLp4Q7wEDILWTla9AqkBGdqB4egHEelctzTR04IKV8ooAkhhHgwMDBQvIAGUJbqDBZr3DeBks5X5xzhxaKS9xx6A0vxF8I3p+4Uv69nCjxsK1/nENAAh+SXiwMi2E8022h8SO/YBVPkmt5FjSMLCak8KKAJIYR40NfXB1nc3d1tPvsTLKBjZXr1yvD0Jc/sy5DjDYMnoXQzCx5RKNgEwlp1sFjLgbMhAy2g7yHBe15bMJ+3GZy8aEtz7N8t3wkhFQAFNCEkAq5cufLpT38aKqrCpg7RKVFaW1tN0U4qeM4UEdBhZHF9fX2pBHTxQDHLmEWNWi4ekfUMeiakgqGAJoREQDab/cAHPgAV9a53vWtubke+3rKGArriBTQhhBQABTQhJALCe6C/9a1vYbXrrrvuO9/5jilKMQkIaM8LkoarFF5ANzQ0hFyTEEIqAwpoQkiiUEA7qAABjdXAwMCA+byT7Ma13rELXVvZ69Qk2bNn7HJeYA+euZwJISRWKKAJqVJU+T355JMPPPAA/tHoCyxCyXve854tXbRr9+7dR48ela0Aln7qU5+SRQ0NDZL9160jPVcTL7WNCtMzZ87o+gBfqnmFAw7VDVbu7e392Mc+trWbza/+kz/5E10k+4EofP7552UdiFRdQcAiOXcsevzxx2WTMAJ63759MpzOsc+AQ/K8IAFXCbvy+2n0SPQq4TDkS21xr6v5nZHS3d2N1XIK6Ewmg9XAyMiIKdqJnR7Ostfxt+apsebnJ9tHZgqLP4Z0ru0/jp2UMEkcugGtL02FSdxBCKkkKKAJqVJUSCmiSjWa2UZdoX5babloNb/V/KThqVOnVBTaiFPTb2+bp7ET95qCqEC/pUC9p+L6dZNTQLsJ/lJZmpeALuCn+eM//mP5X09QL3VOZYwVwqwmjmpgPrtwZLrwtM5XC4mbH11ak83r9o6botjoHbsAoQy5bD5vozPFUEMTUlVQQBNSpdh6C/pMPZSi3lSWnTlzRlZzKF3xoWLpb/3Wb7kFtN9q+N8dnKDb2l9qD0n0O1Q3suY999wzMTGBj7oft6yX/ehxytnpCvjeo0eP4qNqWVnBjXufngfvd0gocV8Q4FkY/NO4jwSFjhMEX/3qV/HRsWdPohLQEJ3NWzOVwOypUnYPTUJ0QgR3HJ4tOGEF9il7c6SUjhZ7ekJH6jpIfyn3zEVNCKlUKKCJk+zGtT2H3qh5aqzlwNniIxRJarHFonpz1cdpyyaRXLKaCjIIYlGEgu7NIaAdqwG3NNSV3V8qq3keakhEdDoEtIpXxwruI9FNcgpoe5/BItX+RnwMKaBz/jR+V0m+zrGOfbR+4IscX+dJT08PVquvrzefA0HdInITwtcUFQeUd+O+CezWfI4H24numBUFFSZKIKNZWxJSVVBAEyc6/y0s7maJlBBPaagK0o2KORFkgsbgupWZ52rALQ2lBNij0OxCz0P1Ays/8MADGnAsyFF5ykdbzrqPJOdXe+5TdC2Q/QQcEpa6LwhwF+b8afwO1T4pz76KHyEFNL4Oq4X5aUDkAjoYqNvByYsybHFoasWUepFZyLrDMwQs0ipxYmU9ZLg2vq7t4Dnxu4tBZIdxtGP/Pa8tSGRIzVNj2InnRDCEkNJCAU12gLrb9rXUP3PCLCAVh6feClBp6tfEhjrMTsvdOtJzNZS7paFbtgK70E8autE1HchRuQ8SxC2ggw8JK7svCHAX5vxp/A5VXdcoD3aNOwgpoPNKAp2vgF5c2+gdu4CtsD769tCvZkEIIEMhQLU2E2vaf9qxE+jmhsGTuoJ7RCOksCwKH2mNr9YdOqzlwNmAtCE4Xw2qVsNZ+Il7QkipoIAmOxg4tWxX3GhXzAJScXjqLc84AT+gj7GmrOypIwV7NXwMkIb2l9pSz08aulEFrLuy9bHnQdoruI8k51cH7FMOPviQ8DGkgM750wQcqnwjdPY//+f/HP/YhxoAvijg65T4BDSqI/cAxM5X58L4gAMkLKo13QPEtFtkQ+PKUqFvfEnKwzsU3CLYNpyUusMlRYmOoWw7eM5eUw2bMFsfIamCAprswI7fgGm1TioPT72lhZBumkXuzFaCOVkNElPjMVRu2n5WVaKeq+GjCkpN5abbQuGJXtRNZG8B0tCB7vzJJ5/ER7/92ArSlrMqUnEkBQ8idHxp8CGhxH1BQMBV8vtpAq6S7k1Q/3ownZ2dWDkmAQ3haIp2MjK32vrSFGqewcmLWhE5DCrTrL310gy6FoWOsX2qvDXDHTSrFmpQBL5LSrAImh6Hh3+ue3L0tm9O4aOY+qchtTsOz+LAhrem/oYtrm1gV7JbHUSoIR+S61oMh6ffBcOuRpfWcLLyUaS5urphEPG4CHrAsDBdDkJIYlBAVyyo2VHvo/5VV0cY7FeZsHJJzIQWC60LGiE0VKaI5MJPb6nCcyCruZc64gdEF/qthj2oSBVktw6FJ6j/NUAaOnDsXJGjchykbOLwB2v0hQO/r9Z9uhGdGnxI7hXkizwLg3+agKtkH6T+EDmRnNYq1j1ZXFyU3Qavpmg6Cz9vriaNVsdw3d5xSE9V3mLQprK+uodtfakSVoIuJlbWsb6dAEQ80CjXEsjirU03C3c/f0bLc9o7nzom/6CyxebTq1f0yN0OCNTGehiN+yZQX8n/sq36rXG+sr6enVi5VMiEVAMU0BWL+m9Qm6u7JRg0KrbDAxV9uYwr1/eeOH6+6AxJgN4Sv6ZqtYaGhieffFIVJ/7XRQGDCD1XEyCXdZF6LvGlt956qxSCT3ziE7pJwKG6wX5E+YEbb7yxt7cX/4QX0ECPHCcOXSiS2u+rdZ84EXsGFvE3CwGHJCt4XhC/q+T30wRfJe0YhLmGQm1tLdaHRDafvRgeHpbdjo6OmqJAbEXo+aiKO1kNXXqthVRuwlCtiQhWr62tyDUUDZUYJLsqWjEV371jF6TEoeb94iiCTTzQ9gni2zVWRBmZW9Xjee7sW9HVquax1L4yLQfOSrmsxvqNkJRAAV2x6JtNGP5B7WwW+ON4Z1pG8Rt2o6svUgkhivr4Q8ZvgJqaGqxvPviQMwm0A+g/fVShX02phUPsOjr/XZnzukgqKMhrLdFU0A7HrRp2ruoZaMSaHRMCUHliD5K7A/bxb2roxesQ8SrocS74+Gt/YdzVEkOisdcQu47dKuppfvb0W1WuqnZHBDaqbvua4HjMAkJISaGArmTQnGjNG0ZDo2nRatrhBUk5toDG/6aUELKNONrtUYnBTExMYP2c2Z3zFdBAn1bPLrr9LDe4BjGjUtI6rbb/uPh3VY9qGDT2LCVqkLOo3xyv1DQsBP+YIi9sOe5+KaeKWfoD6tX2U8+geXvyF+hvR9QczD0tuca9wFi/EZISKKArHK3cYWhmTKkPdjWdc+VUYUeewNyNHCHVjEZU23EjwQwNDWH9lpYW89kHGWhYV1dnPodAXa2estUW0O07pywRbCc0pC1K3L5bu95rfWlKVnMTUkBrRDXMrW41hkR2otEjbvWvqOKHgNZjUHNXXxrdIYatzAJCSOmggK587Ara852potU6rLxeFNqvOGFh4lUIqR40fsNO9BGMzC/Y3t5uPvvQ1NSE1YLjqqEIofnE8GyquvWUrbaA9qyv7CAQ8WHbHmLxSeOLtMSO2XCgdaMO2vOjbnvkn/uY8Y2yFH/xcXRpTdaEudU2sI8fV0Y91mJ+qTbsSGhGcRCSBiigKx/U7/qWEFV8gHfW9uPqmPSSg7YwZzCJ4zWoW0CjiUULhMYJhibQzyNFCBHEtdzd3W0++5Azh53dgRd752Z3d7PHe/P+Cff4ZjvXm99zqpk6RM7aklSm+lNRK+a3Hw1aQw88eKS1noWoZBss+p8PGRe4VJvqicBu3RWphpdIMIbDu6xRKA7sASp+IpsQkiQU0FWBXfmi7REnjQPbZwPT4TilRVvTYEGvMYVitoBG4+pYKobrwEgPQvxobGyEMh4eHjaffQgW0HbNE2DoAOMhhXZE1WRHaPipSRW+GkWtfmv1ztpuaVjH4Vm7WpBuOUr05RWUsWelh1qi7eC59w685Vyw/cqihqGhpZKp7T+OnWDn9jsxbK4uAMh0XaRnZ7/688s6iiujDo7yiq8jpFKhgK4WbL+O5ztNu90KiN5LGNW+ntGQigZBimlLicbMfiOMvdm+aubrIMQPyGJgPvggAw1Bb2+vKdpJSAGthsdcY4hhfrEKIo5tt7F6iPGMSwmw6zQ19Uxjc+ja3rELDrELXQsFDMEK6YyDkQrkx/uPv+/rZkMIWfleOQzIWayJqkYErtQq0MH2bmE4MJgWYmVV1XrwMC10QA80IWmDArpaQBWvUtJueBRbYatfJ1rwpS0Hznq6WHB4aHikjbGdzWhO0KTh2II94mjz9OBhaP9QiCZQTxmNnKpqdU1hqZQQQhyIMjYffNAUHFDSpsiFrQ5zGlZGVaAf/QR00/7TqMTsmkQjiVFuirZAZWJ3oW3DmqJW3WLXYag9UP/YEhYqXFLgQQfb3XUcsH4cmVt1hJbZZtdyqBilEHszRS7027GOu/YmhCQPBXQVgXZCqmCY24dhNzN25R4h4id2u7dxYHbAIsxz8I0bSGRoZbS4jte1IqC1TcXOsY5sArRFhy43RYSEQN7X4zY2nysaUcbmgw9dXV1hVgMQl3gqxVC9QGjC8ISiHHIQhd1H5lEizylqJ3lC/eoBiFTVqYJdubmduPgW9LGxf6he7By/IL7O3gNW8BT6UOrYEPWMrIZ6xpba0LJS1fiB0/HcLfZj1thGrokEcPuBq4F1cKjmMyGkpFBAVxfiNRGzVbLt9YH5vUYsEmkXHV4WHIbb/RMmyA9ticpuh6dHPDTaDKMNk01wXvZg9uDGjyQAbjxIH/yUDgtWEiUBh6o3qkO9VR7ZbDaMMg4voPNC5Cw0ripXNyLEzYedQ/Hs8rzAT4zdivn9xKhDRIXjLg1ZT2JXOBcZxIxt6T8mpDKggK4u0DKpCIDoRIMh5WgwtPmBKpXCyFEntzY8aEugp6Ww4/AsjkeCMQJeZQI0q55+HTWcJtbRM+3dnuDAVupoz2RvpCTgN2p9acrdd1LD/ZkqGW0/I/jflFYog4ODkMVNTU3msw+SqSNyAR0GqTegYs1nK9NcTBFohBBiQwFddUCnSjMD01F08m5arNlrhIo4UcQ7OHBqOaTrBSpW3pyKve/rRisvrl0Vv+OvbjuJ7XeaULqqnCCzmvafhti1v1G9yGgysRPbqSyGL7U9UpBiKtPF2kdmApxbJG5w8VXuBBjkdXqkqgpo9AMr/uYR1zL0sfnsQ3NzM1ZrbGw0nxNEX6a1HTwnsQ3aP/eswQghJFoooKsOKFHVLhAoIkwbrTxKUJ+ypoLGSZeKYcM9h97Qt5zQE5DXtgiWb3n713z9i2Jv2/qLBs9PkUjYNAz7l5LB7cE09rhADXcWa31pSldzGFpZaHfZipQKx6/z2f82B3mqhhtJb0h0flKiVnFUckhx6DPsHLc69oynBj1G/I/rYJaVAhHQfsnplJqamjA6Oyb8XkPhnjFrEEJIbFBAVyMSJiHWcXgWYlc/wkZdg1QC3rNLdITuUP3E22ojh4BWq+0/jiOBrtKoEgGSQlaAiJcSlVb2cdpDiGDYm8odNRkP5Ng/GDi1DHOXk/jA1bY90PrjKlgBMkiWat8pErBnyNOceV3cxCSg0QnEnSl7dpj7siRGSAGNdcKsFh+oMezOv5jbBUAIIZFDAV2NZK38bhDHECja9qDcrGShi3Q1NfFhq4taQy+05N1PH5N/IGp/+M/M/1gKOQLpAB0jJbZBT+CQRIurgG7fygMN9SMfHRHM7kb0T0d3dBLMei40dkX2TxIDv/6vDMmP+7qnUlQvNaS2KYoCdJZkt7ghHTHWuOXQIcTBiDn6VDkFNB4rHLNujvXdXmSUSJ9TwFd4PlZqpYrUDyOgFxcXRUDnnK0wbvA74vnF7wKjeiaEJAMFdJViO6FtB7MmrLCBgsE6oiegEqAMVNfCsCuNR1TFAAEhJbYwVa2g0gR7g1a2nZG2Ydvf/6tp/R/rq6cZ+5c9AEf8htj9330r1BsH7+luzGynX4VBtZtSkhR6k3jedUBvmHy9xQHgR9cb3u5Z4Ta2HwSYI8thsICGLve7jXFr4RbFrY4+g3yFPhT64Kg1bM3JB2s7eE4C90syJK61tTWnMh4eHhYBPTQ0ZIoIIaRqoICuUtCce7b30AFmjW2gXVoOnIWUcbjrVNxAHGgwogpoVQa20lU/sTuRE9SJKgbbfuzpY9c9+ZbmUBGjr/UhqR26RwyHZ7u3sWcoJBXu01u5qOwrYPsFSTLkFNDaT/MLCIYkxSIY7mdTZIHbDPcAbg/80LhzTOnWPYM940uxuZRAScsXOQz3CXaO48QjoCElMNxO2APKxX75v77Vn/QzbPIvv/1WzC6ODTvXjzAJppLjEfDEoRx3svmcIHV1dVDGwfN49/T0iIBeXFw0RYQQUjVQQFcvthNaDG28Q4hAcepS2xNm+26hud0CGmpYSiCadZ+6mlumK/I2VlYT+9GtIBDZD/YvhRA0+N+xpsprMfcJwsS951Dq0CieCozESjECGlpTbycx3BJ2x8xxM8DcOxH0DQaktghi3eRbs5sSNi9r2n8ae8D97w4rgv14v4lighy3VTs2MUezE2h9v8OOFVHGAfMLAgnzAOYzIYRUE6z7qhdIRocT2vHOGogPDOZ4j6xtP/YAka1CFpoGygYl9p51W1Uq4k4W8D/k7OHzqxAKWAFKAuvb3j41LLUFvcPExah+cRgU1T//S6PjAwyyye0RJwmgUtVPQPu9ssA9Zv/QariRxIlrh/XrrQg5Lpvb4A6XNxj2bSA7x4aObCFib3tiTLphOH7Y7768I44fxyA7EUa3pnfWo33Hk2+tqQeGf1LVf5uenhZlHCyg9+zZg3Xq6urMZ0IIqSYooKsaHVAF89SRELWyFGJ0aGoFzTwEge3569kasuPQGaJI7I/yrtyW7OJX+5dbu3rHVpBGgP27H8xDr8gmDq8zDJJFXdoQ3/aiO18+hyO3S9ym0SAkYfTHavOaHNt2DGvsjaCeafz0WA03oUptfNSbFoaeHu46CeZxSFtB43zkThZE7+KGx/+427Eh9vO1E289LHashUY2w/APDsAs2Imm2vj4N50DZ/36D6UCujmMgK6trcU6kNHmMyGEVBMU0NWO+nptr7BiiwO3QROo58x+H+02LJXV7Bfr2PxtX3trHU/Dt9vRqwDfCI0CCYVFkE04bFvNYKkqFVhX5jxKINT8zsLtdCeJoT0x/JqmaBtVzzC9eQQ7O4cGMet9df93Z7WTpq8+cIdABKNE1sfKuEnw7bg39Mawe4/4Cpj5sA1WljVhoq0V++bHaqZ0JxpQdNdf7og8gflp7lIRUkDLOiXMYUcIISWEArraGd2aURky1OHkU6AVVJHY1nbwnGOT7iPzKsehVyBTbF811Aw+Qq/c98q0qBnYjz197Pe+9QZkriNmAx8hqrCJLY5DgqPCF2FzW5dgP1A5jvf+KPGTOyQB1AON3wU/lqbasG8biX2XckE7SPrqACuoB1qXOrpG2Ln4mHEnqGjGLWrf27jrcEvoYbjR+8fx1sLW1riZTelOVOLj7NTtLWY7v9NAGAGt65Q8hx0hhJQECmgSChkpCFUKg9qWaApPMgtZLBXRg7+2GIJB34gXcHDyInRDAfq4SCCPcHgwvw4DSQw71aBYy4GzKoXlo+Nnwt2lS+VGGplbVdH8zqfGJGcLemh+txZuAFkZhp2jf+h+OwFVDXHvjmhS4etwigNdhG0dil9QDzQeH/ssYO69lZYwAnpoaEjWGRwcNEWEEFJNUECTJIDWgWbVF+6EgP9pO1WLp3m+H+jaHncInYo+mCZ7EfvUKyY+XoM3PFHFLP1A3Jbo5rllNAzSHMJXD0O/vcE1WbQOt4Vhb6bUQg9VXozg7HR9h7O85GiC54D8dJ2dnbLO6OioKSKEkGqCApoQUho+fdg5HlQNcrb7yLxbQAcMCe0bX9Lw6PpnTkDFQu/akSGKildsYoq2QjuGplYgc90BS9ibeKNtz7F7t9f/v29t6NDQ0Ohu1a4ru0PAS4vkp2tsbDSfvZAUHMB8rlyuLi2vHXolu/+FlUcee8seelT+We1/dv3I62ZVQkg1QQFNCCkNqnfF3Mq1YfCkQ6c6YuXFoHolYGNxbUPD623DniFSoachkbEmTOSsp6sYuH3bWF+ORA/SEeuMfb7zqbG3W/lk8I3yygVHpcHTjfveCorQyBMcsylKByKOg9NrVIOAvjo7t3TfZ6ff++GcNtfYvNLzZaxvtiSEVAEU0CReoCHaR2ZaX5pyR5SSKgfKUhQkTIbl9Y5dcChgKFdbqqoShZCF/HU7mHGbeYps27Bh3/gi/sHORXm7wX3bN76kXweDpEa5eq8dYdaQyyh88Htz7m6AGr5uxJrOU4cVwlL1dFBAg43JqdkPfdQhlINt5vobLj3eb7YnhFQ6FNAkXkRYwJr2nzZFhGyjchm9LCmBKnXHaeDmEYmpijb4dsLKPa8tQHnr7ecwiOx/8F82HcA3/ZcJcU5DVeMf9Qq7DUuxZ/Vew/SYoeN1hQAFL9HPSnbjmp6OxHWkhDACuq2trYIFtFs9L9x+18ojjy3d91n8s/Abd8595KbZn73JXkFttf9ZsxdCSEVDAU1iBGJC1QZUkSklZBvVmlCfEvAgdB+Z1ztHrePw7I1/fko/2hHMNiNzqxKtIR+hU/G/Wxn/b6/O4is+YPmYg03lL45NC9sOnpNkfNiV+sLxjThU25Vet3fcoZ4FUd6Q0e5o7xIi4jhYQMssKs3NzeZzZQGVLGp4/pY7REnbsnjpkx1GKz/73JXjJy893j/X2CwlsJnrb4D+NqsSQioXCmgSI5AXKoMGXTNTEGJnRHaEAg9PX3KEc8De23/M/ugIRIYM1dzSsAe/N4cV7Lx4tg2cWoZkP72yhrs0wPEMwx4c8hdy37GOIzO0gFOA2WEbbnAMqVLPoK6uDuI4eIaUTedzhc6icvnFgyKFF+++1xTtROXy2qFXTNHf/M2bvX1SCIPsNqWEkMqFAprEhf2yO22JukhK0OzIsPpnTpjSbXALuaWtZHpWg/ztG1+CTnWELAcYbkt8r/mObfBdondts53iNotrGyr98aXBWfPKC00CPTQ0ZIq8kHUqUkCrg3nlkcdM0U48BTSwRxyufzdjSgkhFQoFNImLru2kubBUjZEi6cFOxCGj9BxkN661jziz3dU8tcMPHcYgmpufn+w4PNs7diFtHt9UEWYWFV2nIgX0zPU3QAFDJV85vpnt+9Lj/ZKxTm32Iyb62SGgr12+rJHTHE1ISMVDAU1iARpF0xG4PYuECPZ94imgBXu6QUjhPx11Jutw2M/955P3f3cWXbiBU8vD2/NikjCMjo6KOA4Q0L29vbJOsJe6HIFoFgW8fP+D+Kje6B32E+af83//n1783BcgqS+/eBDqGetr8DQKt/ZHCKlYKKBJLMjoKDFHoCohNpoYDhLZFHkBEQwprK8y/JJdQI77DS4kYejr64MyrqmpCZiGsL29XQT09PS0KaoUsvtfsBXwbMPN8tG2GVeJ2MpDj2p0B3NxEFLxUECTWNBo1Br/VLvEzcbklLw4rh5we4gTGkraFIVmcPKipJ+DtRw4C+lMZ3ORtLa2QhkHp9eo4CTQEL62Al479Mr5m26RErH53bfNNe6W/zdT2t1+1/wtd5hF/+g3JPwDxhhoQioeCmgSPfbIsAJUUXWCBtvZVN9yx5u9fVUyvRmj5FMCpDOUcXAOu8bGRqxTW1trPlcQDgHtycojj8k65vP2dN8XH/iClM823GwWEEIqFwpoEjHZjWsan1rz1JhfHgNiEzxjMJauH3ndrEpInOQU0IuLi5vO51272traTFEFoeI4LwEtaLwH+r2miBBSuVBAk4ixE/HS/RwGzSA7+6GP2m+EHQYZLQOVCIkP8S4HCOjKTsFx6fF+edwCRgHqOvaEKeq6hozmc0pINUABTaJkYmXddj8z+jknm6mvthxX0M12u3vl+MmLn/uCYz7h+d23XV1aNmuQSkTSUXdlzre+NCWx3QlY28FzmrFExPHvf+4hv2jyyhbQ69/N6LNmilysHXpF1tFA56uzc3Q/E1JtUECTKLEnliv32SXQOq5sZ35dffa5mGKR1f3sGaQBuYxvt2W0Q2eTdLK4tgEx2vPaAoSpGB4HSFXPzCEpsocGRRzvuv//wcfGfRO2zsZZDE5e7Hn2eVkFIhvnaFvwnIvlQs5MGhuTU2aFZ5+Tkgt33iMl52+6hY8nIVUCBTSJjMxCVltiCIXyzYewduiV+d23SYuoNnP9DRc/94XIHcCSONZv0mABX6otNAz/s5EOADde0/7Ttf3Hv3ZiuW98SSVsTms7eC44vXTlW+fXRBxv/uNYpParbWYdqG3HolxWt3ccQrzj8GaKbtu6j8xDf48urZmfsKRohMZsw81+KXEk24YI6JWHHpX1UcjkG4RUDxTQJDJs9/Pg5EVTWlZseny3m0NPQ5sa4Xg+6GBpiVd6vmyKfMCadmw0NbQC1QX5JToMymyni3fHpN8lN8h68eMGG56d5KUkvhES9r4n9ok2/r2v/Gccas32VPw77Jd/W9Zxlkdq+GocQOerc7ggvWMXcGxJdsi1/zz7oY86phsUIJ3f7O3DM6hvkGAM3iCkqqCAJtEwMreqjV/jPt85zNLMxuSUw/Eso/oc2eVQGImGvjo7p1+HrzCl2xk5UOLwduPw9OUyDBraLKhooJxscbnn0BuaYjyE5Segsef2kRn76wq2ntcW0uNSDc/Q0JBo45GREVNkgWccp9Z4u/FA2+cbxnBtoYl14sliTOQ1euyOrxBPdvFSGw+4xjTD8DBCHDu8y/hoz1MoMxcSQqoHCmgSDbb7eWhqxZSWD1CrtnpG85nd/4JZttWg2kEUELL2APwCsEcdoXnWthn/6Le4QzAdGjog01Z5gRtGNVDH4Vl0wPReyssgztoOnrv1hTPysWHwZNlJ2NLS2dkp4jib9U3LLXnuampqzOeigd6F6h2cvKj3gMSLe/u/8zfcFS0HzurOQ/qzHc9asC3efS/fCBFSbVBAkwiYWFnX1i54QuZ0AtkqsciwmetvWHnkMc9YZztbM9R2MU2m+q4cwRu2gPYMjEa7rsob/5Rjs427RUbXQdbkG3MMTbzn0BsqhmAQXotrG2bXW6BQVoYIM0UkHCKOm5qazGcXmgS6paXFFMUM7hboXY3SEcOdg3pG74poTbph+JZ/+61Tz3V0n/nAL+kj6TZUF4zcIKQ6oYAmEWDnfu4du2BKy4SLnzPzh4lBGWf/ywvQ0xfuvMfhZoZatb3U2NAsyJOrs3MS+mxHbij2u2NPHZ/d/4KuEGFAdqxAA+HGgC7JmYbCEUdRQGIHbCW7ooDOl5yzqGgOu87OTlOUJtxSu/WlqZy3XLC98z9+/+N/+B/+r1vb/8sv/aY+d+d+YTeqCPR+i3wTRQgpXyigSbFkN65pXCPaKlNaJqw++5w2impzN/yy/DN/yx1mvW3sSI/NQfcF6dfLLx6UPax4TdZgC3rbuXXp8X58hIiHif6GpTaKQ/MZ+72L1xfrUDzRBlpgn/IVZRqLX0Jqa2tDCugyTQI9sbIu8UIQ1rgzHSahI+F921hZ4rBxqzPnPSHVBgU0KZae1xa0RcH/prQcsAORYZtZ6mbnIGrnf/1/lBJPDzFEs24SnH7OD3yFbA4lbYosbAfz+X/w62uHXtlMBb19nJITIGeq2uSRSNa+8aX2kRm/cX4QHFAbA6eWix/mFYAKaByGKSIhyGQyIo57enpMkYvKnkXFDQS3BGeHEda43zRDH7bCtmYvhJBKhAKaFIu+Ia3tPx6rMIocR/CGitE3t1NTzVx/g5Q4gG7WrQpwQi/f/6Bs65kha+2vDs/81C/q/m1buP0uCXpWPV1yAT0yt9p9ZB7ywtPNjFtiz6E30K1KUkxAwcu3U0DnxeCgmUVleHjYFLlQkV0lAtqNRIngHss3CPvGPz/1L7+9Gb6PTmZ51ZN+XF1aRg12+cWD+CvGgBZSVVBAk6JAY6AtRMfhWVNaJogfF2L00uP9m6kwtqXwpmd6e/I/T31cpBNaByOKgMbeVh55DGoe+tiedFANOn7pkx2aqQOHp4tkDwkzurQ2cGrZzrtiG4RF56tzQ1MrpVIJkOxyJBTQeTEwMCDiOEBA9/b2yjr4xxRVNxKqBEmNuy78iNja/mPoc/oZKlLsE2a+I31AOtsjqm2b330bajPUUWZVQioXCmhSOFBIGv1c89RY8VGA4tJA/QspCUH5Zm+fODbM4khREeypgHU6FRyGKdoCKhYtBxQtBLesAMu3tbAFNE7ZUzTbpjMGC3amjiRdPpmFLISCe0gWdEP7yEzCbuYAKKALQ3PYLS4umiIX7e3tsk4mwyn3PBiZWxXtK5LalsW7nnhdH5mQhkoVG+LJwg7T4LRGzYPKGZYzwR9qSImIM1sSUolQQJPCGZy8qHV956tF1ZWoalHhBkhJSGo7MXPx6PBBz1kAN3XtVpgEDunq8vLlFw8u3/+g3WzM/g9vBU/nnEfQgYZwrPY/a7uTbZuz9o8jwfGYjS39jXJTFBsSodH60pQ7QgOFA6eWUxjoqQIavTtTREIgKTgaGxvNZy9kHRCQKJp4cnpl/b5Xpn/hz0/95H8a/+lnT9ja2jZ1STgM3VTUsQUkpYkKrbVsW7z7XlRHqJzt9ERqqDwdnX9CKgkKaFI4OuEFKndHLt68WP9uJuScBRfuvMeWksWwsj2Szy+MePmP/g9Z4Q3rAMRwtJDU6oR2J+sIBt8oGy59sgMfob+l+cFu0RStPPTo+pHXIaw10Hlzzfs+K9teu3xZy3EKUhgh06tX+saXxHmmjbcafnEsyiykWjypgIaZIhKC+vp6KGNIZPPZi6amJhHQ09PTpohEjeQJ8RuMi8oWfdpi6tsC0GEhDkNlZdbYIrv/BehszREkVvJxGoTEBAU0KZCo3M9Qz44KN9igViPR0DqViSNEBMoVitaO0LANQlYd4eoJhvCVkpDgK/SUPWOsBTvF3uyHPiqFdksWsG1eQBBDNLccOOuZMReFkKQDp5bLJVEXBXQBaHqN9vZ2U+Qim83W1NRgnbq6OlNEYmZ0aU1eAektLVbz1Bjuc1TCZr040bSbqLVQW8r/6OrbAzNsNiantHbVrcwyQioICmhSICpT6vaOFxyfZ/tToREhSbWqxT+r/c+ubI2uc7wfxMfiNTQaANmb5pK79Hg/DsBTzc/+9MdwMJIBQylYQAN9H3rhzntMkRfaDuFo8dFW3oVl0BPQKsu0Js3PT7pFs0Redhyehaoux1RcOC89F1NEcqEjCAcHB02Ri5GREVmnra3NFJGkkGfWnfoDJXHLaPUmoIaEOJb/Pf3K0NNYR/7P7n9BKytU8o7Kk5AKgAKaFEJmIas1eDHuZ/WnQg4Ga2K7OobN33JHkTUylKvsSpSxZwzfpr2vAX/x1W53L45Z1kEDY4pCo0MYYY5xig7QIK30fBnSGddHjxkW0v08vXplaGoFalgiLD0VsxhaYqyGxrjcc2zhHPWkTFEpmJiY6O7u7toC8tSUJsjQ0NCePXuam5txAPjflPqAQxVxDJVsilwMDw/LOgEzrZC4GZlbbTlwVu9wsfhktLqfUUPiI2ohqYfV76DoGzPV0PY7NFT1UkhIxUABTQpBXynWPDVWjJNSZOtmZHOI8drr383Yowwd4Xf5oj5g7EfdKmpzjc0ov3L8JBoDKXG7ilVzSyhzvmgQtuw8uP+ApTgkXT8g+hmKuee1ha4QkxiLnm47eA4Ku1zCM8Jgv++Odo7DkGQymdbWVtGaSpKic3Fx0X0AbW1tAek1WlpasE5tbW3A6EAK6PSAWhfPuCNxXv0zJ/DsRxsere/Z1OWMehjKGAIatZAYFqEK1Xd6tnNavQx0QpPKgwKa5I3tfi4m9zMqYqlbYTPX3wCNuOkJvuUOfIQk9axtUU1ryIenVzg8Kz1flv1IAIZW9PjHEbEnDYNDQONoZX1YsAs5AG1yYDgvaHq3XwfXAYdqq2cId8fFQWvatzUFIASxO10GDEpa5DKs89W54elLCQ9CShJoCD3x7iPzpjQpurq6RGW66etLwgkHldzY2Gi+cid1dXV+6efCjCCkgE4beIrxODtkdN3ecdQGUb1H0vr2yvGTpmhn59+yn5V/ljsfMus5xnt4BUwTUr5QQJO80ZneoNUK9lyiOtaKVaKfUagjVGB2fW2jrxRhELumNH9sr7NnPJ8NDszhId4xmK/QhgH7VAePbbgg0NZiepXE0LXQI4EO9gyLlCDmPYc2pz0bmlopiRe2hOCy6KXAFTCliTA4OCjD7ERlSjiE6k7o17izvwWoZ6G2ttYzgQbKsbSlpcV89qKnp0d2gk6CKcrF6OgoTh+YzyQGUAnjPnek7ECfOZKgDq15zOct/MZYq21W6Z/sEOf0/K//jhQ6HBOElDsU0CQ/UFmrj7MY97M6X+cam1URQjRLIUyTXbixM5IW44TWY0B1Dz1tSkOAA1bHjIQGFsOlx/vt0JQAm7/r3oFTy1DGbtEMg2hGO9o3vlTB3uUwlFBAQyJDX77//e93RBLr/CPd3d2mKB40TzP+kcBrHInmnhPceTYgc2VRR0dQMJKEeYDgWVTwjfgKHEBDQ4OsL6Ckr68vIIyEFEN24xoUsyONNCoKdKHNGvlz7fJlrXxM0RY6uHmH/YSrZMvmbvhH8g8FNKkwKKBJfkCRaO1ccPTz1e3ZQ2auv8Hh/dXAYnfMsWK/FlzJcxITGzuGBBL2zd4+h5vZAZoTyHo0HqqeYZEMjsEZYT8SvuJp/+X2P/it/71fr7xabf/xtoPnoKrNjshWvgK9PglPRihK8V3vepfDywuFKp5paEpTFAOQv3IAbg+xzjIoOBSwpuAIDjJRde4ngrPZ7J49e2QdP2pra8M7sEm+oPPcO3bBLaML9kZrFWS7GDZfnX2yY/n+B+1YMq2+lu77I9Teb8Xa/eSN8k8xzg5CUggFNMkD1M5aNUO3mdL80dHZqIVN0TYamgwLGFmozuNiojjAxc99Qb8OJrETOjjGNpS7/cRoJBzhyAUzvXplePoS+if/4Ym/+MwXnv7M//SgWMtn+n7q3x/UthDWuG+i89W5MkrMnDz26ElTlAjve9/7RCa6gxZUfU5MTJiiSFER7BeGYfuhHetobEZwrEXwKeSMHrGJI4oanZataJFNqnyeFwnqcMhofERhvl4PrfRyBqppnWx7mm0fdrB7gpCygwKa5EH3kXmtjouZjm5Vp+LbnmBPsaM4HM5d1MWXHu+H+Mb/GsWBWluWFoxDQ4e38zfdUoxPZXRpbXDyIvohnvON2QY52HLgLC4+FHYxOU+qh+YSZbIbGRn50R/9UQhEaDhTtI26Zt2LigFKEfK3u7tb9g8J6xdmnclkND4b2IfR1tYmhQG6E7uVABXg9kBjqVs9Q6ZDc0PZA/fSaKNZent77bOrra2Vj/intbU12mteLiyubaDScMjomqfG2kdmwtfe+kpQk9P54Smg7aEmpoiQSoECmoQlu3FN6+I9h94wpQURIKCBJsSY+7l/iErZTkABk6TLK9vDwAMiPcKz/t2MthM5bXYrXQZOIS/fM4Rv79iFrsx5aDvPRBliuMJYAaq6b3wJchlGN3MB2AIaMsKUxg8EtAg4t8SMQ0CPjo7K4D8B/wcPUrTjKzo7O03p9ghCaFzz2Qs9NU8Pt71nASVm2TaQ0ZLrQ4nkUuCUNXYlABx2dYZfi4x299LRJw/TG1dXRc6a1lNAa5gcqk1TREilQAFNwqLZwYpJviH4CegrW3mXF36zTZY6DNIZ2lqcviqyUb/LtsWDul5CNfxs5aFHw4yDkdE80Mqdr85ByTk8QA5rGDyJ1bA+tHKSUi9hnnzyyeuuu06kzA//8A//0R/9UbDUKxI7FTT6LaY0fkTJNTU1mc8WcQhoOyqjrq7O1sSeZDIZs/ZOgSslzYXmsBsaGpJFAFcAH/2mM4SEtUcWBkv2MExMTDiGSAYA+R5T/ExZMDS1YncsYajJUaubxT5k97+gNXDAwG6AGlJWsytJ9XQUGWtHSAqhgCahgLZTIVhM8g3BIaA3Jqfe7O2zR+Y5DJWvXXdfsyYAx65MaUmR8GXotgDvMqxp/2msg0ZLvMtm40oHWvkd73iHUTHbQEiN+E96VyR2Kugi35bkhahDTyGr+aGjEtAQqbLDgLANB5CPsglQHQxRKyWtra1S4okev3sIoEpY/JPzSHAMtte8mGBlbKtRJTZ6hOgwaL9FwA8Ua88NFxO/LxgYGMBhCL29vcF5S5IEMlrzkIo17psIztShowNR6wZkK/IU0FpR54wAIaTsoIAmoYBoltoWMrr4oAJbQGu162dut4eOQZy5/oa80s9FwsjcqgRjdB+Zhzjzi2CWuUvaDp7DmgOnliGXy32K7ILp6+sT+XLjjTd+/OMff+973ysf6+vrY1IzuNr6QyQmoDXIwVMtQUjJ0qgEtA7p83P3utF0dUCT2an/ONiBrSrZMSu4LcpDnpqGXINiXMJ6BWpqavTy4h+zeBv8LnboSE9Pj1kQHbiNoZJt57obHEMcX10YmYWsIxVmgIxeP/K6Zj2a332bX5XrFtBaz2PzgBHhhJQpFNAkN1DM6lgtOB2SjVas8y2/K/+ooapd+mTHpcf7z9/cIiWO2Ltrly9rVLQ7iUeE4KzFT9w+MpNznB8MLVDrS1PQ1tiEgcs2InQ+8pGPmM+WmswZdVAY6LHo75KYgIaEwhlBJ5nPO4lcQOsgOfM5BNqTAThaKdQUHMFCXDWoQ/LqPsMfie0VLlhAa3cFyJGjBMhSB/gWHWLol6WkYNAtCZbONuiHpCcUG317xyyGeFg86y47OdJsw83uCVMBamNZQfJ12O8JC56rlZA0QwFNPID+aDlwtnlr5mdUsjf851NSvUIgmjWKY217xsFNuXzPv8Y/0MRL930W9bKOzNN1Zj/0UXu4ngbVwaJNLArhi+6BBC7bedDcBj0tF6ft4DlJjlHB4ctFks1mRbs4XIPi0cSiOJzQQ1Mr+mPV7R03pTEjAdB+kcTqdo3qbb7sLa8wYhXxQJVrSGWvwRKOoAt0gaQ8vDCNxAONr5M9BEeeKFhN1vfr4RQGfk2NSMFvEUZJhzzgZEDFhRrPDjzD/6jTzGIL1M9a8cJWHnrUrpbBleMn53ffpoNSdPQhZDQT2JGKhAKaGEbmVgO14+uoWItJXedAvcgQxKbIhSaY03x29hQqxXs1RpfWescutI/M4KwDYpdxQTRqmVo5X6CQRDc4JulQz6W6QiMku3HN/kFxb5sFcRIQAA0KcBgHoIHLeclBFZ3AFFnTrwQIaP0R3cevwtQ9waEnOHJ1BhdzNXQnISNYdDLIaAU0RDP2iYPBbTw0NKRiGv+gpzEyMoKr2tPTo9EmQhz3fDGgTms7eE6fF5jnexvbDw2DXLbDnW3soYeRTDVFSAqhgCabtafn1NAO+6P/VuzYQRu7LvarhSGXJY0/amp8vHb5sobZbXo18g+qk6gMqGG0Fn6KGWK6K3N+aGolwt5CNaNxtw4BrZ7pmBxydtQNfnRTGidymo4QYUWW+vmn80UVbXg5qLHOwD4M1XYBrwIGtmdpaWtrM0Xb6OaONwx+2PEb0O6mNE8yVjqRkG8w9HvRzzFFRQOJLPvEva39EMURT6KhMiBaER8VqPTshgD/u50Fl1886JhPav6WOy493q/TrKwfeR2K+a2Y6VvucDiqCakYKKDJ37QcOKuVZoD9wp8XPtzHDWpVTb0MNew3MGXloUdlnez+F+x3iOHHdI/MrQ5OXmwfmfHsJDTum9BxfgxcjgPVDVDSpmgbcYhCRpvPkZKwgFZJ5xmGq0orKgGtHujaXLmfheHhYXXZAttrCzGHkmBZqa8LNHeHkpeAtkVkXV2dIxokPDgd2UlIJYpLpCEo7j5AMaBrgYtpnxcukbil3WdnvwFITyS0gz2H3tAHp2HwpLtWvDo7d+HOe7QqDjBI7eQHeROSGBTQ1Q70pVaXan6pi4OzHeXLleMn1Zkxf8sdnnFyqH/FmTFT/0uyJizn2MHFtQ0cKkSzp5sZrQIWQTFXcDDGxMQEGnVoGgD1U7BSKR7x/HnqMxybiAm3ti4eOxIJv7UpjQ05F7+YBBlfCCIcNKlpMSBhg39ffLuGFgBHrIUUBiv77u5uWc09faDt2Q0I74aEdfhoQ4ZeeJKvgNZAbRB5+IStzuWk8PR5vojQGx5gHVOaPrqPzGvNWdt/3LP/md3/go4R9DTU236vFgmpDCigqx07XwF0s0pkCGvUm5q9Tqzt4DlZGhWXXzxoV7jL9z8IVW2WbXPx4S+aFbb+zu++zf1OUOcu8YzhRmPQ+tIUWoVqiMqAllKnoA0kVGtra/LNtggsT32mQQXQ+qYoOv7ec2+9cPjUd2ZMaWwEnCbQAFy/AI8CgFaTfQr4cQcGBmz/N/7HhRUHs4LjNIu3UE92cCCN3lFu1YtvkUVCS0sLFCoEro37MCAlzfYFoV9aU1OTs3OIA5CVAQ4jZMhHeLRjkDMYqVwENEB1qo8P6k/PLijq4dX+ZxfvvlcDNsRQRa888hh9z6TioYCudiZW1rWihLmHW9kaGvLUlEbHm719duUbbLMf+qgqbKhhyP3OV+ca903oEaqh0ofcr7bADDsngCcQEJ4xBvERoCxVvUX7Vh2/OG5U+2aI9s2JJ5JZAvLRfN6Jumkh5kxRFNiCLAwO9QxUXAa7xlX+eso+PbuQuN3Y+WI7fRsbGwM0NBS/PhFQ25Hf/PhqiY3B3wAHvGA7wnPq/pKDtsB2RgTP6Ilqee3QK3Q5k6qCAprsmPcYNaYjsCGBSd1W+5/VpBwBdu7v/dO/Gv5e95H5lgNnHelLYXV7x6s8mtlWz01NTRKI6QYtfRwhE34ECGggygxiyHwumtGlNTv6GZ0rlJhlcSJX3s+x2rqdqiJyAYcdaixHALgZPEMmVIIHu8aDBTTo6elRRRsA1onKB49vNDvduqU7OjpQsunu3gYyXfKiKMULdzc6vDJnEhJb9Ed4w8cK2gJbQ6NfmkBflJBygQKaOMOgoadFgGY3rvWOXbDDiIufxNuPa5cvX37x4OLd9zqGeIsd+YV/8tn2R9/5H7+vRyIG0YyjhcRPf2wGhI606zndVIUxPT2t6tmO8kQ5PkJeqAYCbk9kfAQLaI1tiOSNNlp3+3ZNbAoVHLycBX5fU7QT+WnwN/L4AQE9IvzEuMh6Dwg/9VM/1dbW5imdBRXQfkcOcMziZAUBQ9+wWl9fH45BV7aBysd9GO3p22PychLTPa8XMGdotR1ygx/LlKYeaGjHKz5UuRU8eoSQ8FBAk006X52zq0hPgzRJwJmHr4Agbn5+0jNpRsPgSVTf4mY2G6QVaAW0qQ4fmAKdgaY3KjGN77L9zRArZoEFpI+u4xdpEAfBAlrjRwMEXEiGpy/Z6hk3iVkQPxrM7enaV3ntdxEiR72zOd2iev0DXOO4S2Wd4EwdNrgh/8k/+Sey1Wc/+1lTGjX4ls7OTk+9blNXV5dT3RaMCmhcc1PkBZ4+uyqIpLuYGNmNa44GAvUws3wSQgFNDC2ByewgTeJ7eTcytwrRDGVsvy4Uq+0/DjGN6hvfXl5uj5DuMaxWfECFyiBQX1/v15ZrY58eDzR0sxxSkT452/eMf3A7mQWJINff77188gJae0rBqg5o+If57IXmsAsfqg5pq7o28qgVB3h8cGPj2mqAhICPra2tOHgcjFk1BjSEA+Bi4kgGBwdtfTw9PY3+lR1mk+TTFyETK+tt1mQrqJmpoUmVQwFNDJCnfhoadaV7cGGRZDeu9Y0voUa2I1bFGvdNQDH3jl1IJno1DtQFGAZIjWICQxe3p3aDdA54ww5KKKA9neKCHFIx4whxI9n3T/JvJ4I7CVCQco7JXHbtk4CcfTMJ+YDgNp+90Bx2Of3Zip4y7sxY9auNxkjgPjdF8YOz83vL5AlkffqHDwaAh0vHn6Cnmv43gYTEBwU02cHQVvpkFbUNW7NYQ+yaxUUzPH0J4tidZxqiec+hNwYnL5avaFbQpmrMKxp1jX5WoEhsjxSAzii4WVUHZ059JjoPJKkwJPMATtBP3EtwNv6az3mCjpbeRbG+JwkgWEBrbyqnPzgSNKw8zCWVNYN7L/oupW/nXJIB6CmHj/ooHvG742/xr3TyAk+u5GDJCSoEPP5ms7Ils5C1x3B3H5k3CwipMiigSexMrKxLWLNd7cIgdyRvBlYwq1YEmqwKCiYg+BLtripaEJxHLICQAlplPUhSYWgE7cDAgCnaicafFBAYasc9l0o9g2ABrb9yTONHHWj8Rk6HsfqJg+NnpIcDwv9AmnUkZ2rkqFD3c6kUKi4Oug34rf0c0lhU1r5nG4eG7htfMgsIqSYooElcoJLtODzrdjbXP3Oi89U5SJ+SxDRDR6KJ7erqQmu36Q2OurlVOSvkjExQf2HBA/tCCmgN1izY11sYenh+/kuNEIAGMkWhccT/tBw4i/6YGu6xZBIaisT0E4sqoMML0ILReB6Q0+GtfuLgK1+AgNZw5Dgyx3mi3YaSi1T0TuVIwNe+9jXUMAl7xJMBT5b99FFDkyqEAppEzMjcavvIjGM4IGT0nkNv9I5dKJWzGc0qpGpAtGLzVlqM4ps6FSXYWxh1jtVk/WD5G0AYAY1ugyqMxDSNkFNAawqLfANLshvX1P0c0iTvoSrsSOKF9AT9XOxJCmi9mCCnw1vvvYA1ochlnVqfWcrd4LaXTUDkHVRP9C2H3zjOJNGr6vdGomJAZW5raMZDk2qDAppEA9TM4ORFR+45cTZHPgAxL6Ad0aRp9EJOmpqaihnSp/EbIdVShAI6wIet3wKFgQtiShMBXyc+Ub+IAqwgx1bA6/6+8aXmnZMO5mXQ08W/BtHr7ycWIaRkhQSco9p/Azl/aI3cDTgwVcPh5aC+UkhsBKF2UQp+iCJEf248dKaocmEsB6lmKKBJUQxPX+rKnP+1vzjz3339rVCNhsGTKExDkqPR0VH1vOYFxFxhbX++7kaNFs35wj0AfWPumTIMhfpaPxmPoAORFAHjyaR7U7C4hwjueW1hz6E39A4Mb8W/EgkW0DgjObvwHtxi0NspjC9WRrLi3jCfvdAcduG1qR4DHj1TFCe4wnp7FxAFFC32wRTTDy8jRpfWbA0dPOM3IZUEBTQpHKhkrTd3PbH5Mr05TXO9QpJqY6ZAxrW3t6OhhdyBOOjaoq2tTQM9lZaWlgL0XMi4UsEOlyxmhJl+Kc5Ok11Mb81N+P73v//Hf/zHZWmp/HPSqQiQdCq5Ihxmh66dqGrckzB3inFY60tTZu0i0PgBz96LymucoymKE+1Khfk6eTqCZS6eDtlh+ETd2mVN5pTVRw6C0zgmQKoOJjEcfmhqaFIlUECTQlhc23BEa/z29gTgKQH61bRjOwlwwUIJQS6oBAEFeIU1swH2E/zKHtJKVXuRUgNCX1ULvhc9BJzI7/3e70mJgO8qoD8QCb29vXIMfiHm6rYP+HWKwU5eKxZhlnE9O0/BpAI6gd6LxiuDMEldZM3gca4akBDen6q91oITy+SFSvyAHlpipOpgksShoZnbjlQDFNAkb6Cef/Yb6s8bu/Plc6mSzgBKwtbBDQ0N0AGQlWEEMbZVMVrYO2gNLW1qavLTrJCSqp5ra2uLH7yIPUiogCc4/QQCcP1QR7vfOEL8NLJC5G+9sxvXWnZOD4Rmfnj6klkcBSGnIUxAQNudRr9LrajaDj4wvUtD9r70twY5jyESVOIn4/AORvO7J/Bzpw1HLEfH4VmzgJAKhQKa5AcUyfX/rwl3fseTY+l8W6d+IAAFYEpDo6kMCtgWQGpoug9IcIdXFcIFh6deOqjeqOIWoF1UTNjccccdpfI9Cyoi/bJia4o9v4GGhTEyt9q4b0JbdFjD4MnIQ/PFfY4rbz7vJEkBrQNYQc4umd7kwb1KFdDmcy5sER/T+wQb3Njmy5KapyYA+w1AMp2HtIGHy85b2nbwXISTcBGSNiigSR7YkRv1z5xIT7izA1tH5szE7EYDGQsT0ACyyfYHQ0Z3dHS0tLQ4BC5kdOQiY3p6GnoUGv3jH/+4fEsCOiYncjX8RKTKID8ZWgBdmfOOJHd7Dr1RfM4NN+kR0PrmBFfbFPkTJv02fhft6ZmiXOhuQQIvPTRiCnjGoCeJ3XnA725Kq4yJlXVbQ3e+OmcWEFJxUECTPGh9aUqqRagTU1QQkHRQeNAcoL293S+BbmHYfiBQQCCmRrX6qaIwjI6Oqh/aE+w8wjFzbvq28yekQUC3bg0TDAiJkUNtamoyn4sAKtkRtgGLL0ltsIDWkIa4BbTtiw0TzKBvaQJ81dqTDB/LpNE4wBTFiQ6fBXjwTWmJ0Dk1C+54VwaO/NClTWNKSHxQQJOwaJqwYpwKaOTUT2YDrYm2MJJIA/X5CQGTafuhgYwQGaaoUPDtdjS28N73vjcBUasCuoArEDmiMgNGVmmoQJEyyPESGda0/3TkYRs2wQJavZLF30vBqNgFYTJmtLS0yMoBF1xvofChNbgOskkyIlI6Zol9XTDaYU5DNHZpmV69ovHQeB7TNkiGkEiggCahgGiW2rCAzF+jo6Pd3d0QEJlMRrWpJ2iBinfK2u+dQfj0WwIOQDbETqJ6Bw1ND30Drr/+etm5WRAn+nY7mWQIwain0O/VtsbvFjaOcHFtY3j6UveReUe2jQSyAYhk9BPQ6pXEr2+K4sH2xYbpMkm/Llh36quY8OpfI5cKnpo+PPaTnkCETDD2i6+SR2Ongb7xJX0MWw6cNaWEVBAU0CQ3Q1MrUg+2HTxnikJjxwUqUBvAU0yjRSx+/A0afvVz+ykbP7C+bBiHG0mOCueYwOtmqH85kXyvQBxAPsrB+EXc6jjCfOX+yNyqZ45nWN3ecUkCbRvu4Wgd0qJE/Q5b/NMg7qBYzf0CAsKaBX1LEzxCQOMxQgZZ6S0H8u24FoDeVKDkg/bsg4k8mUyZgmdNH0YmtiOVBwU0yYEmJ2rcN5HvkOpsNqsBDOqaqt+ZkDiTyUBk2EPuQPEtENpy9U6F92qrvxDbFu8Ld6OBp8m093JVwwwpixtVbH4njltCVshX7jvybIS0qEKi9bz8nL6JCWgNycATZz9fnuhhBztutRca8lmwe8sJBA7ZTve4L29O7INJYPRkWYD2QoOha54aYzA0qTAooEkQqAFFoEBDFzDxhEYRQBWJnIWY82xdFhcXVQGASJymGh+JveWUFDgAVc8gpohVvSDJvHFWAZTz9ONGFVvA223pa+Gv+RyOwgQ0mnOzfXHoefk5fRMT0JqWLkznU+MNgu/DfAPTbRGZgBdWne5p6CJqbZOGg0kPmYWsJsPBP9GmYCektFBAkyA6Ds9K3VdYxjoNbFU/dHAkqKqNSIYEaTQzgDoPEJGjo6P20Mb4xgBBiGhHwhTFCXoOckYBmRYSA6eMIwkIjVUJkpfWRJPsGDUYxiIX0H6edRV5cQtogLsrpO9TH43g0YH62JrPudAXLCCOFzgOVN9HkrylSHQEYSSd/0qi57UFfe7qnzkRRypJQkoCBTTxRUeBFBD6LGjI78DAAFq7nJGUUCHSCEUioIGdVAv77O3tdegYCA60+hrsASDjYvXXqqM97lFlQNVbAt+VEzmYgF9W5VcBzksZRCiGzl5X5nzLgbN26LPDUY1G3WxZHDkFtGhQdB5K/hLARmMtAgIt8GjIOuEfRu0Ag7g7DHp4IHySkJjQ2wCkYcxu2sDzqI8eHkzOrkIqAwpo4o2+eqt/5kTBSYikRYGMNp9zEbmABnajLuB4mrdQB5uSZOBm8NvzSFBJmsB55UR+iIAIDR2GFceVgbCW9rtu7/jEyropLRpVTp6iX5cGj9VLnjB9FRXZAS8NHNhRWCF94QVja9aAuKBksGNX0tBZTSHQzfIAwpr2n6YfmlQAFNDEg8HJi6Ke8beYlAXSooR/p6khH+E1dxggH20fsyeQ7Mm0fNrwJ+CV1GnhIJhMUelQkRHwcl+6NOFvmPDglpbGGx1CUxQFIQV0Ap2lvNBwfxyhKXKhvdnwLlWJ0gEB3aSosAcsRjsTUwFoxQXi7jmUKVDM9lsg/E8NTcodCmjipHfsgqrnIifrlhYlpBqGmlSXcOQ5sNCqQU1KSImb3bt3J/mGHWJdvjduya4iI76o7vBo3G2AO1wCSXEbRP5zaDxSbf9xUxQFKpE9NZyOGS15jIEDzSAZMDpQw5/w4JiiQPRkQQL3mzrRAb7alJYIfaIjfHVWeTg0dAFTChCSKiigyQ6gnqV2g3ouPuuQeqTC6CH7NWh8I5CgeCBbhT/90z+Vr4vD5RmASpO4c+XqPNLRevQLRg4m4KzVMxq5JFIBjRvbFEWBCmjcTqbIQkWe59JSgYdRXsgE3xXa2wx58Pbzm0AcMJ5Z+S6cS5K9Xzf4djkSkLZXDWnDoaHxVJoFhJQhFNDkLQZOLUu9Vv/MiUhydmpeBb8kXwqEiEZZJOYuVfWDrzZFiTC0nXEs7jfdKpVAGt4si4M5IKZ2YHs6lciDtu150UxRFAQLaAn7BljNFKUAPeZgtSfrgJDyVH874DekMkK0c55w79eN7XpPQ6xUyplevSJvOGHRDkggJGEooInBdtFFValpCEFwnim06JoECpoyMamn2XBBkonebJdV3G+f1VFX8tfcIGciDv1Fwg9cC4m+WoFFmAQAQl8OOFhAl9ZF6kAFX8CrABXZ0KmmKBc4Rzlf/HYJnK/e2CEjTOID9ZUcCUggeV8FYCe2YyAHKV8ooMkmKi9q+48PR5frHu2ohjX7jZSHctUIQlBACrNi0GDQhJthzVcQ98tuDRfxu/5JIhEaNYEzmcvNEHlmXx1ECMP/prRo5HdE989TMqqANp/TgcZaBPiJdQRh2vKHKJCtuJ1wLmnonMiNnYaRBuVC8/OT+jxyhkJSplBAlwfrR15fO/TK+ndjcW9o5Ebd3vECphsMRltigMZ4eHhYGjzo5m984xtdO3MwJ59tTSVOwsO89LLEPepIw3DT8HJZ30gEpE3QLk20YQ+4sbXB7jg8a0qLRvygflEE6RTQ2qcKcJem6rYhlUdmIavPY+O+CWaGJuUIBXSquTo7t3z/g9Pv/bDabMPNKz1f3piM7LUXev8SkVbYZN1hkBf3OSlJLioVCgkPs7Nf+8YaXKGZ7NLgHtMIjYDggeCgiGLQBjvCt8bBAlrG4YWPgigYdErxQ4d8e6OyPqCLos9sAtHMpDrZc+gNfSQj7NMSkhgU0OnlyvGTsx/6qK2ebVv6ZAdWMKsWyuLaRv0zJ1B/QT0Xk+85JyrjPIHOSDhyQ7GzySb8LljDvmMNrtBEHCDJOG8/5KwDuivqm4/8ssitDkOPMSqPV4CAxu0kJ5JA10VjY8KMH5BjDh44q5FXabhnSEUyvXpFJ+HHIxlrA0RIHFBAp5SrS8tzjc2ilRduv2v+ljtUOqvNXH9Ddv8LZoOCaH1pSuqvCKNC/UBL3NXVhcZb39ELDz/8sFmjFNie4MhdnsFoihI//2VUiDextrY2jLqKG40f8Ouu4CAlqifyy2J7vKIKuxQx6nmoIZNdRIKOIgjzNkP6MAGxQ5qxO+74IlLlDE2t6CPZuC9FmWoICQMFdEq59Hi/qOTVZ5+TEkjqlZ4vu33Sy/c/KCvkS+erc1JztR08Z4oSRGMnSh5aoM62hMM91dUa9yv+xcVF9A0Cxu0liY5gC5B6MY0jtAV0kTMEKQECWmVo3OH1+kUgzFsUWTPgudPXMpHnQiHEQfvIjD6VTAtNygsK6JRy4c57II7nb7nDfLZ4s7dvtuFmW0NjNchrszgcI3OrUmc1Pz9ZkgEc6QktUE9wwmHQ9hVIg284GfSsA7orktoiOFlHAXRlzmtT7eg0Fvz6OEBAh0l2EQnaFw3T5QjjF9eAq7xSxEDH40gCBiYS4mZxbaO2/7g8lQ2DJzmakJQRFNBp5Ors3Mz1N0AZr/R8+drly2uHXjELtoFcXrj9rh0aevdt4TX0xMq61Fn4W8I89iI+QMCQsgTQUWsg2swPOdErkHD0SGmREIIAtafSM9rLYr8vft/XN9M1dh+ZVwdYy4GzZr18kNcXnmJUx+rF3T/UYPowr1C0AxPgF9cuZc75j2xkxGTk7w1IxWOnhaYTmpQRFNApAkJ58e57oYzF/QwNDSUt0c8oNCtZrDz0qApoGDQ01LZZ5g+6+DqZ6sCp/PzW0aLKFSrEFJUC9cmBhPPo4ashOCCAEh6/WFpEnwU4mDW4JSoBPbq0hob5D/5qetcTZgo0T8s3rkPFqOd4xzDJLorHfo8RJgBa5wsM8IvjnpR1wruTdSwBw6ZJvqBJ0tGEjIQmZQQFdFpYP/K6eJ3Flu77bHb/C+vfzWiJZ+q61Wefc2xlFvjTcuCsVFXo95uiEmEP4CtVFg5BfXgM+kyAnBqueAENKWzP1BDS8n0bg8MLOE7NBGc+x4N669EhCdMNk3wdIEAc6yzZ4UNodHZ6PkGkAGwndAIj2gmJBArotDC/+zYRwSsPPXrp8X4phKpWcbza/6wUOrj84kFbQwfn5eg+Mi+VVPvIjCkqKRrDkECmggA6OzvlMEKqEFIMkGWSZ8NPbBUpoO05U8LbnkNvmO1DEyygpVcW99sVDbcIGTuR0y+uQxLzOnLV8ck8yBJvnXDAFYmPxbUNmY4ARic0KRcooFOBCuWlT+6IBr52+bKKYwhrU+oC2lrWgXkGewg6m3F6xmpoFEcCk00EoEoIlGQ+l4SB3EHXJdYJXIKRjpPf6379OTxDI3IyPH1J7nM/q+0/3vz8ZMfh2a7MeRh6lYUNIgwQ0OgkyKJYPbLaFQEhc33kFNCagiMgTYcb1fEJTImPs5bQ84RH/ZJYscf4MhKalAUU0KlAk9a5/ceLd98rizwzciiaKHqu0Tt77vTqlbhnHCwAtOLS7oLSRnFIkwyq4R20vKNva2sznxMnZzboYBd1TqCJYVDSanEMlg0Q0Hpjx+qR1cAJEPLxySmgNQVHmCGJikZ95DXusDDQ8ZPvAowYqRhsJ3Td3nE0WGYBIWmFAjoVrDzymMhfd8INlMiimetv0DGC+OfN3j5sJR+BCmhPnY26SQcOQkyY0nSg8cd5ebwiRyVdNURxiNwp4XgvDYP201uSCro55ilmiqTkAlpvWhAyXjmngFZfcngprNcB+O02QjRtHzq9AUMhSdmhEYawrsx5U0pIWqGATgXL9z8o8nf9yOumaBtoZZ08Zenf/O8Lt99lz6Ui6+9Yx2scYcv2wMHOV+dMUWqwR0GFFAFxoG+uQQJetNKi49vizrDmh0Y4+AUelLuA1tupsCiUkGjnM/yFkmRzAb1EWQGET8Ghj3DcAd9Cy1aacJBXmuqyxn2DVSrq6GkYPGmKCEkrFNCpAKrXFsTK1aXl7P4Xzt/8G7LUYfO33CE+6csvHtRC91jDgVPLUiUVMEwqAexcHLGqjWDscNKKz2WriqeEF1yEml8Yq2RSS3lOtAABrcku4pM+OtoPhMykDtEsN7mf4NYVgCkKgXq1k3lwJIAe5BVkUqbgF5HOJH4XdBhK6GJIBjsSmuk4SMqhgE4FKqAlhGP9u5mVRx6TbNCwN7bFsdjM9Tes9HwZ68i2QDfHIsd0KtOrVyTFZponedIWsaGhwRSVAn15DcK738oRVX6pDYPWSNw0/xAaiOJWyaop/Ry9xaO5SkBImZ4zsETDi/Man6dOa7/3CdGifvdqENDT09PapQH4H79dCYf/xo2O1YGh5eLEhCTNUECngqVPdogCvvTlPjtCw22Lv/e/XJ3dEYah0xZuLr37XlO6TcfhWdREqJIKnqw4AVSIgBIOJbSHZFV226xCCu1xfAovGPWCe4q/4lNBJ4BEwuAauv2CGmZgPseAOrlBSMek/u5+SlefxLx6VrIJSCAFB1BBWdqHFNccWha97rjDvkdHR3Gm4odW8L3Q1maNyqLz1TkR0LDSTvVFSDAU0KlA5+VevOsP5B+Hnf+lX5V/Ltx5j9lmGx2ACHMk8dDefMnnTAkGGk6TYJTQJ2ofRsKxDSMjI83NzUnGdBYQ6hotGoHgedYJC+iJlfXByYuS1Q59zsZ9E2jFc3q/5M2JZzhEfMM0cZfimkA86Xub8IETOSOzVZSHv/9VlIMEhvQl/HUBaPL4xCK+cL7qfQfoSOD3qrygDntiwjS/OCWEAjoVaK66i//nW7Nzz1x/A8ovPd5/dWnZnlHFbLPFxuSUup/nd99mSrdpH5lBHVTbfzz9KYG05UarUELPCqQJdAlEfMLNkjosExvVpzEGJRyJJU41T5WpsQQFTK5uZ68LsL7xJajkgAkLW1/ymPvTxk9Aq8iLtjeIayI+b+Gnfuqn5J+Pf/zj0Lu4dXO6QjXtut97HhXl4V8EaVcHJPD6CKdpvqzUAlq1bF7hLsWD20CrC4DHJ24XePLYTmhGQpPUQgGdCtSLvHTfZ6GJ1w694ghlBpKpw06ygXXO33SLbAjT+QuFzEJWKqBS5QNCRd/e3i6ezpzBkRCO0h6AkCOiKokCcocVib6sL2HcucpBtwLIbo9mC9agPa8t1D9zQtvayC04e7SfgNab2S/UOF/QpbQ1UwBYLeAW6tpOAOfXT9N0zuE1mfbE8HslEA5k63Xcw6Y0cbSPhCtWkg4/fmVV8MmEnicJJyYkZQEFdCqwkz1fOR4qfc+1y5d1lCHMPQFhw+BJ1D4lGYeBdlSbVSFM4yqJF0KuXGHo6+BofZYBoNWXbwSJub0d6E3iKdfEP+2Wp0phU3aHNzThwa9u/AS0irxIAoEWFxflUgh4OlTm+oFD8nyFEnzB9ZbIKxudHlsyjlh9UkAy4T2eaP8z4P5MgN7eXqjnEl6H+JDRO2J0QpN0QgGdCqCG5xqbRQrP775NktMFo5k3YLMNNztGFvaOXShV1YOWW+NrAf5HGxPmZWtKfEslQV9MQxuZovhRD1apXoVrRIHnAfjJU8V2U0Vu2HPOAUx+R6g6tfj4cvQktWOJe6OrqwvaV3zz+Iuvtp81G5S7NbS86PDroOpNGHDN3ehdhLM2RXFiB7GUMEMLukZyDHldKxIeOx0HndAknVBApwV1QsPmb7nDHcKhYJFm7YDNXH+DndIOaNWTfL1jt/doWUfySbeE9l6UAUBLb0qrA/vcE8tDonEjpXoFfPjwYTkAT+0l8jR4hBZu9Y7Ds20Hz+059Ebz85MB9uP9x6Uxtq3+mRNY1JU5L/N+5/uuRo7QHcMdYQoOdbhCPatexDXBR/s+GfVK1IDDMIu3Ede1n6tY+zNh7gd0cXH64N3vfnf4rYrH7jCEjzOJHNXxlRc+kR7sSOg0Z5EiVQsFdIpwOJU3hw/u9CtDZK889Kid5w7q+fKLB83ibaTegYYOjuCMA23v0bIWEIah3qwkHbEpQVVXYiHg6kXDZcdH6LPh4WHoMCizZII69D04fm733SJ+XPQrIokxjWM6IdzkOEKHgNa+kFtY5wt+Ee1WhQyO1/zZgr0V5KYU+t1gOpA3OPIE+/R0e//xH/+xWSNO7E6CKSoFWlMlk7mvOtFhPDB0cU0pIamBAjpFOMKac5qneh5dWhP3c/vIjClKCggvlQ7u18dh0CgOPydZBaNytnjhFRJ9ZQ9++Zd/2fy3DX5KSNiQuq0w7KAd98sK3E6yKJIQTzTA0hI3Pz9piorGU0DrCEJ0RUxRocj+QV4vZPRGAvZzBDkuhX4Hpl24gAuObWUdN26HdxyIE10wRYmDzp45glJnAqls7Hx2jOIgKYQCOnVIto2cNr/7NkfkhtBy4Cyqm9r+4wm7nwcGBtRbVkwQAhQbGukSvpwtFapvQF6hLwVjjyMMoKmpSYMHoiVYQKu+j8QdrlMERyig5T2+Q92qD7hIaaX3Ax6rfH3wtodYr55GaPh1inQrv6dP9wAgZHH6KMHTKqK2oaEB/8d0qwj2HZvXSMdosXuekfTuiB/2UMLRpTVTSkg6oIBOI5dfPKiZod12/qZbVvufNavuRN9T945dMEXxgxZa455B8PvfMgKSrrm52c9dFwc6jUti74U1DDoYKKQ4hIIK6FtvvdUUWahMiaQ3pS1xhK4sccc67hAdQVhk5Inup4DELHJggv5w7dtzp/sdmCyFXjefd2KrZ2hlO5TCARbF5Je1lWtwcHys2Je3gEA1Eh47iiPJRo2QMFBAp5ers3MQyiuPPCa2+uxzm/mhd0ZFO4A4iFYi5ATiRl+qoulFK2sWlD/6RrtIJRQefWVfgGYqDJzaT/zET8iXKjgMiC37XbkQeddIgzQ8QxSiFdB7Dr0hzXD9MydMUXHgqH7zN38Th+e4LKIs/WRoeDTKtoD3OXYktApoHfcmHx2ow9szempwewpDgBX02ALAapH8cDZ2dEpeYS3Rot3OEnrBq4fa7eG/TftPmyJC0gEFdOUwPH1JKpoke+rqRNyzZ09iQjMZ1K1eTERKXtgpF0xR/Niv+xV5yw9R5VgabUh0NptVmR4QwpFOAS0i8rrrrvvOd75jiqwJFIvsAtlRtgWcvu0t1hAOUfaOiG1FJTIeZFNkoYoZ98Pi4qK8KsFf9LXcHS0F3xWhhsaJ/Nqv/ZrZdUmnW9KHAqdvikhs2FEc6Z9Sl1QVFNCVg0zJlvBgC7T0EDqRu5rSgPqZEguosN9QxxpLaqNePSgndIdEKqnMwu9rT10RuctN34a7h6ClXECrikJHS9/j6z1T5KsYnLLsB5iifNDwDyDDeXWHnvoY6A/hiEgB2kmuqamR3wL9BKymHWacPjqZKLFDuQS/r8sL7F/jT5SHHnrILE4ccwQRnR0JZnDyojy5sKGpFVNKSAqggK4QtJZhFRMV2mYnk14AQChAo8iXQo5A+sTdOVFvIuSgqED8FZ+irCDYr86jVfY4AHVhOjoqmuQunQLaviYipIKz8uVFMQIaulbvIvysUqjH5gg4UfRud79k0FgmrGOK/MGR6/oAl8IsKBScjvZVbN75zncm9mrIBsdjjiCKRCsJgF+kra0Nvx0qE1NUVmQ3rumMKm0Hz5lSQlIABXQlsLi2Ie7nur3jpogUje14K1IPhUfDoH/6p39aZVBDQ0NraysWCWgLo5IOGixry2LIQRVeisrcyMeH2fEG+F71a4oOi8rnjaZX2mA0xqbICzxKHYdnZe4VeabE8GShBCq8K3N+ePoSVsNxSlCEm+IvUTECWmOdgcplvch+Kkqdx44Okn0k4RWY9MoEU1QQeO5UPeNxwFnccccdH/7wh9/znvegBN+S2IOp4PrI8YDE3k0VAx5nc7hbVww1SbSBWAmgDy8ew3xnOyIkPiigK4H2kRmpX9C0myJSNKPbCX1BYs4bncwiJ1DSxTuDRQKGSWigYjGOS2GfNZQ6ZB++RZQTTtOsVByQv/KMwEyRF9pU57Ta/uN3PHd018/8ohy2AoFi9lUEtptTg5jDYPdG8JOpvlQHs0R0uNEOkmMF7WJpVE8Y7K6FKSoIPR0oP9zt+GjvGaBviZsHKt9sED/arwZloUTxKNn9GQGPfPG1R2L0jS/pczc4edGUElJqKKDLHk30k/zMKZUNxIeqisSCHb/zne/IN4YBhzcwMGC2zB9VaZ2dnabIH22DY+pLYLcObSRENVYspIC2vc4h7Yd6hnd9oAG/RU1NDa5kVD5RvRphfh0BkkjfWgB7XCb6ISjBUvN5Jzhm2cStktWfndcPoQfv940hUfczpKpGoXiCJ1TfXcRKl1eKwPSDbhj6QnIbKLhofh2qVMEoDpJOKKDLHnE/x/FuCy2WOzdCVaFjwiAfTVHMhPdAKwWHc2jihZwq3HbGx+ftgwBSR6mSl/81gDACuue1hV1PvK6rhTfs3OwiOuw7IUw3CWJO+3vAEV0gitbvVUOAgFYpHD4uBZpMdbw7Fig8en/K06ddOIcKVPClCURF27HvUd2cSYKnzBHUUUwnPDH0LWtt/3Hm4iApgQK6vBmaWpFqpePwrCmKAjSBH/jAB1C9vu1tb3vuuedMaVJAtaONRC0flTOvYOwX4gm8rrV9bJINA5KopaWlq6sLygAKCeAfXBnb0YgmsLALpS+jsVtT5IMm4ggT7FEkmUwG5ytE2H9r2ZqhU8xzkk4UqpcLMloeqMxC9msnlkVVv217c7fFIaDxDKpkxM8drF810ELAHWIWbIHbQ24Yv+GwuOayoXsFFeXh73/8cLIJCO8+d6PuZ3F+y0fsHP9DBeLZtKO9BZwmyre2jhj8HPhq1Eu/8Au/YL5s63FACc4RT27JK6u8wCOPgzenUQ4Tktu5ODijCkkJFNBlTHbjWt3ecVQo9c+cWFzbMKVRYLsoIonpzAttF8OM+o8VtNMqVR2iJA7U24cTl+/186iNjo7qyqAwcR9SQOMY9CL45XBIP3Y2Wc8wytaXpnQF2MjcqlkA6bY1PxHsM9+d6cqch1y2pPbmqMSBU8tm1UhxhGSgTwV1aP9YWAElDo8sHh+HmNOBgH4PlHYURZ7aSDkIqbFwZ+ox45+CfbTYUHYCNDbDvTecmvuthfssisTxuHmCk8WRlEVEhIJ+l/xY+KsXObU0DJ6UJ45RHCQlUECXMVtvnJ2NfSR84hOfkFbhh3/4h3O6JyPHfnmd5PAgT1Sd1BadmywY6FT5orq6Ovnf/T7dRr2GoDA/nwpoP5kObPXcuJ3qrhzRhwUGEWxKt9E58NUyC2+dqabA0yw36K/2jl3AfmD2mpEzMDCg1z8nWNNTO2oshF//B1vJCm6VrMIxZAy07deElDel+aOHhAfQFPkzMjJih68APB1mWdFAWeZUz0rZPSNaCYTsIJUQO4qDuThIGqCAjp31I6+vHXoFhn9MURSo+7n1pSlTFB2aybWhocEUJYhGMkBKmqLSYb8cj7BVdqOONKhhtNn4CXI2aSoaCvOOq2T309+2eoOGKHlnphjsgfyO4bbTq1d0umDPdZr2n9by5JMA4K4LI+DwsPjdnyqS/DrD+s7HvYIuwp0Q0NEScCPJygDHXIw7VjuuId3JuDltT3yE74u0Py/xVLggeC7kF/Hs2/i5+VMLrjAuXfo90BqvCON0ByQNUEDHyGr/s3ONzdPv/bDa7Ic+unz/g1dn58waRdCVOS9VSeQOMB0lA/VcEs2EdldbppL7RSAp5EhArAejAa85ZYqimxQmF3CdZXOAPeBMbVQ5gXJXz8AW0HsOvWFKt7BT1/3D/2rGGjq8XBrgkfBMnwruPe3WOmhsbOzt7Q1QqyoB/RS2ykG39xSbyLYAK6By8PwiyC/7hgHFjBnA3sxe8nkccPD6ROCMTGlx4Ei0LrLPCM8LSvCjjIyM4PLq9wp4fMx6JFK0oxuH24iQfKGAjoVrly8vfbLDls62QUav9HzZrFoQo0trEoUZeTQY2ktpMGpra0uomaR9AmiZSvtK1KEyTWnU4FLLV+QVKCKbgMJCOIDtMvSjqakp/d6pnAxPX5KmF2anrJlYWdfyhsGTOicRrOe1BVkHaLJIWGkz0eIJlR6OYEoDkeF3eK7N553gftMf2hTtxH2ToGuNQshHHAC0uyarUULGe/ih70ZAQMfAjTqhoxLQGkmCa2iKthgdHcUifVTxT3mNyStT7JEMsYZOERIGCuhYuHDnPQ7R7LbFu++FzjYb5In4w6ADoh07CBmnUQEDJc1tZDt+wrugYkISYgCoeVMUNRq14minA7BHWRXTYOtAIk+ghErbgYkKKGY7TkMTcXQfmddCmYdIo6WhpGUdQQM58I8pKhPk9/ULJh4ZGZHfOmC4sHZow1B8P1NfgqE6MkXhkK4CiCr2TB+NnMNn9REGFNAxYUdbuUcyEJIwFNDRc+nxfpHIM9ffsPLQoxIAnd3/wtInO1CiAhqGErNNPqgzzPaQFQ80qzY/RTqQIkHdWvH5fUOib8AB1Pzi4mJnZ2dTUxMaVxwkGk51CrqzBIQELa7sP3zOEx0ZBop8V4AzgoxuaWmBxhJwGCgp97ANB/YkKSqgtVCDntEp1dXs4bn2QMMy8n5pDIbfQ61qFb+4KfICS7V37QdWyCk0w6B+37wcyfoaB7QVMX5R0T4qnvSc3Ug8/rIyoICODw2mahg8yaGEpLRQQEfM1dm52YabRT27Rw1eOX5y/pY7bA198XNfMMtCIyGbaPijrT5UsIbXcLGimhKtV2lDCGyp+p73vOeDH/yg+eAChwqZUsDR6slCxZqiXOjvla+XrmpxC2jti9pBHUBnXbHTq//1wuUf/bNjUv7P//Lc8PQlt6kuTw8q7PxG42mERs5XPRCRuFHRoXWE/AL0vXt7e6N6WaEC2i+qxBO7o4tugyktAn0qwxyG7YEuJv6bBGP3Y2NKH0lISCigIwaCWJSxX5SzOzz6zd483BWjS2tSd/SNL5miiJAYPsiylLyyt6M4/Nr+ZMAFyel7s8HK+YadqEYPGSXSbeUGScPrgrLAFtBoeqF373tlGv9f9+TYn45u5qRrfWkK0hmmGWff/uTYrwxtltiJn4MN3yI7QUcX+5Qvsi1ht5k6mP3cojo2MS/Rubi4uPXSZZPIaww95jCuX2FiYkJlffg4qGBUQDfnSqWHq6GBXjjmvOK2Uwu6BLgCKWkObPTx5FBCUloooKPkyvGTEqQx23BzQHwzFi3efa8KaE9ftR+dr85JI20+RwcqykjcNhGimd3iCz4OCRqS6667Tg4G+OVDUKCh8wrnQG/BbJkr7Bhts53uoOTu+TSD3iYEK1SsWG2/8R9vWSFTdkdi0OKisNU6Ds8OTa3YItthxUSMaPiy39MtnUPcSOZzCrDj+ztDDJDFQ6HhZwDKzywoDhXQwYrc8e3BkTDlAvpFcjqlysUUgJ3TPdpRQITkBQV0NFx6vN/OWLfyyGNSvnbolatLHq+ZoKHtWA4I7jC57bIb18SLBjVgiioaDd8EpX0rCkX7Mz/zM3Ik0kCKim1qalLPk4P6+vq8pK0tyrEtdAPaMHsuazRjPT099ttziJ6Sj7AsANzGogsHJy+quoVBSmq7GL+F9Sir1fYfxxFe96TZ8H1fH1cFrKZzFkZubtkd0t79gQ/jVvnRd/+4ynGYesEh/uReisprGxXN2/k0ct7keC5s/RphBJoK6IAOvEM9pyT+rXhQd+lrN5x+hJPqF4+dOSfyN7GEhIcCOgJ01KBta391WHJxzO++zay3Eyhme0zhykOPmgX+9I5dkKY0haGWMaF6Medb1FjRkAk0lp7uYbQ3ULcSBqPkNaAKe4BuNluGIG2tWk6mV6/gBm45cFYbvxJabf8xW2XuOfQGWmJbYv7et8zsgx/4T+P4qI4ueQUEw2PoGYyBZ1N3gl5B28Fz9hfp2+fk7B3v3LxdfuYX7UKV401f+/bW3bSr/u/9I/WCp8GrN7pzSvCuri7P7ig0rh1ehccTitYsKxr1wgLPocwO9Yw+cAoDHgoGZ2f36tGlT8/ZlW9KHFJJUEAXi+pgCOW1Q69ATK888tjy/Q+u9PSKMp5r9FV+l188KOvAsJNgJ7S6nx3TQFQ2joFBQ0NDaEqVZGJO0HJrWx7sCEcDYzc5OEKzIBxosfSFezBYLUKhEAcQYT2vLfzBX03/7stTP/+fT8GkwQswiMv2kRnbJ12MQalLFLLK2YFTyzoKMGcGm5G5VT0wO4LCLi/M+yWBJWqDkxfxRKvC9jSZc7QQe+xb5o756K85F4l1fs2s8Mu/bZfrV+MCqrBGF8icQyKoA1jAM4heNCoEefbxCNjSGaD7GvlDYXeJ8e0DAwObQd9bQFDaB1Bh6lnAGekYU4ArkJJqR3xJMHQFGcVBSgUFdLGsPPSoyN+NyR0DGjQV9MLtd5kiL5bu+6ysBlvtf9aUeiGBX6gvyiiFVvFoklpw/fXXm/+2QZva2toad3SHup/DeMHtVj9fAS2Mjo5CHOC7VLXb4HzReJtVU8ni2tXf//b0u562A47fsqb9p6E7S/UKBd+L5wha0HwORAcddr66o2dbkjFMDtkd0h7u+7rcNh/+g8+rJrbzYe+689OywuY/WhhoOH3ZD3o7OkQyJm3d29trDi8XMQ2lnZiYCPNeCA9s5alnZWhoSN8ERuvjLxjNnwPL2RkmJCYooIvi2uXLkrRu8e57TdE2mmojwAMN1r+bkdVgGjntpjrdzwJkKCrut73tbVKDe9LS0hJfta5OZYhjU+SPJhAAeYVw+DE9PS0eL2CK0gqE1E37T79jO0pYTQIGescuJOzCLBKN1nBM3921PYs+LOVnpC9wHO9qRI4PTl78+Vt/W1Zo/P/uxWmiktFuQ76GrpEIaxgu3dDUSiSuQRw5Oo1ykJ5A0sUaywQN7TfOQQgzzLHcQe2KLr2cr18YW8LgNtMbzxQRkiwU0EWh8tftPEaJKuOA2Aws0tUCBLRGP6PlM0VVAyrrj3zkI1J3B1BfX59X4ovwaMsRRsLa73zTL3kj5HeGzQQHYu98auz2b06V9dsSSEw9HVso438tx4NpSlOJ3I01/sng9Ha1+5/41bqPzEskTNvBc8XEbUOOt740hb0V+c4B3cju7m70B/AwCujWoiSmR94Brh46z/hG2xsNVY3jSVuGivjARVBXQmHv1qKFURyk5FBAF8Xy/Q+K9r1y/KQp2sYeI6iZnq8uLeN/O/HzxuSUrAPzE9DZjWsSBBnhK2NoO9SDklAi5The46INQ/WNpsvtFoJQiCMrhX5RTkFspw0JGLlfSeDm7Hx1znJbjv3Ynx179GglvFTFqaFtlvNyhDtrto2WA2dNUSqRIF3cwOazC1kBf83nXEBba+6U9pGZvLQ1LlrH4dmBU8vVMwa6woCGllgO/PXrkiXG6PaUCDDck6aUkAShgC6KhdvvgvCdbbjZfN7Jhd/5PVHGMz/9MawpK4upT3rt0CtauPrsc1LoQLvaEfrzxJcAMWo+pxgd545/WltbbZcPFK1DRkNDe47WLwZ1OwUL6MWdQ/Ijid9IM5BBew69YY9ve9/Xj6fcI5svmjPE0XfVKA4obOhsU5oyIHHkVvTLrab9Pb8VwgM1I6parDnE1DNN+0+j69Xz2kJZv6aoNjRELQ31m0bzO0YpEJIMFNBFcf6mWyB8dZjg1aVlCOLV/meX73/QTlFn2+Ld915+8aCsD2QMopjndCrqfm4fmTFFRaOOhOaS5oYLg3jKAbSpKdqJHZwnRF6z62vu3t5eU+RiZGTEfr2bBg9NTCyubaC50gBEsYbBk33jS6mVkgVjvya2z86O7sD/pjRlqD72G2A3NDQkK8QUxYsuFi4g9HQYR7Wk2cbK2IRv5FNLqpzQbQfPyc1TH8PMYoTkhAK6cCCXRfiKgL52+bI9l4rDZv77G9/s7XNMqmKHefiNNZTkG7AIo5+14Ux/CIdmwAg+VJ2zEOzxythaDNih7BltBqSGY8TSxMSEnekJ1NTU5Az2KDugaQZOLbe+NLUjh8OWHxHlZqWKww53HppaMaVb3Vr1sELzmdKUMTAwIDekX8dPhueCMKNjiwTVF7pY7SMzIeeaweWVwYi4vCVM20LcqBM6wKGQDHgk9YbhHUKShwK6cDR8WQS0nU9Dbba+Uf93DyXUTB0wOzDaRqJLI3Q/Ax2b39TU1NramsxAnMJQ8RrcxtvJ4yIX0IODg2bXIaitra0k9QyliFZqz6E3HG/kGwZPorAaXr6rr92RAEfLcSlMUcpQfex3Q2p2C0eOjgTAndM7dsH9KiPY6vZuzv4ISd19ZH54+hI1U0lIzwtM9Or13rD7t4QkAwV04WgCDZ1rcPHue6VktuHm5fsfhKS2Cx1jBFd6vizlsPM33XLt8mWzwKJvfElqh2iTb0jc8A/90A9ttZ6bOeDMgvQRUkDbAw0jF9BAuxzB4EpGHoFdEnC/Qdy4nYXiF6xgl7MbyDU5d8drYmg4vSwjc6umNE3oaxm/HrKG7JvPpUP6abjU7SMzjlccwQZJ3frSlHipyytJYlkjt1ZNTY35XDoYBk1KCAV0UYj8nbn+Bk/5K2T3v6Aq2RT9zd+sPvucFMrmIrXdiHsmwuQbQKcm+dt/+2/LP21tbWZZ+lAnWbCAtkM4YnqxiOumat5NXV1dAu/B4wa6GbrQHheo1nLgLHRzFWoUO9zZ9rjb0R3pbLyln+yXYSO7PcQwIEdHqVA9DWs7eM7zhgww3KvYsHfsQrR+B6JoZF182fdDgsZRf3RTREhSUEAXhQwihEElmyIX0NYS6Dz7oY9KyeUXD9pDDP0mIETtL+/No3X4qSTdv39/R0cHpGfJK8EA9GiDhwbqAL44snDYQHY4phNHWxLrPA4JAI3oGZwqcRq4/apciPh5uZr2n5ZyKDxTlBrwUMsT4fd+aWJiQlZIyUjiM5cyhxcG9p3r+sqptidO78E/YiicX9tMvDMyt9rz2gJu1OY85zZHLSpe6ursAcaBjO1GZVvycYQdh2flV+Y4QpI8FNBFoTk0/GIwhNVnn1u4/S6JcnaoZ+xB1nEjfWuIGHv4f5HouCIIU1OUbtS1HBCYYccop9mbnjYgi6Eq3FoEJWiWmFxMQS9CroyjkcbV04uWtigOfSjQxzNFO9H8NnjETFGJeHmutyNT+6/+264Ae/j1xm/P73jDg/sTHT9IatST2pMJaaKnOTaxGFAhpyGTnT2OMJ2RVKSCoYAuCjuNxtInvXNFKVDYdtK64E3QPIj7uTe6xLo6+CNuN22E2KMDPcdCTUxM2PnjKmkAX0xIcjG35oBuhlLUpGzT2dFjF4fFKSg2NN2NkuX1SgjyzovByYt6lexGGg+plkOQmdJ0AN0sT4Tf1EK6QsKhR+tXs7iXvnis+RtTm7nzXpzpcWjlAHvgB/VHl7xPJ7txDbcuDD9W28FzzSESUatJyAeMCqzsQG2mvyOnUyEJQwFdLG/29qkgnr/ljrVDr5gFFtDZKz1fdiS5u3DnPQFO61jdzzGlfY0DFf2gtra2p6fHzhiAM5Kp1IQ0j4ZMAwOnlj11M6SDBmlc2liEsgn2CD4y2gRhLetXA4trG6rGHEJZ/fdpy8Whr278RhBqcFTCfc7HxlvsG0n++cz361CuXTUYbkKIbJiurIZFUOFmd4GIpEZ3ERIZP5D8UjkNK/eNL+FHN3shKQbto0ZYdRyeNaWEJAIFdARong2x2YabF7bmHRSb332bvVRs5aFHA9SzNtg9r0U5JXJbWxvayzJyPwvuLHKQ1M3NzY45COvr6+1JCokCcYymxZHcADfYnkNvOFxu82sTkDIOveJnD7/e6OcOrDxkOC8MPRBTtEX7yIxe0lRFiuvsQn5RqvLeJuEw1mMXh+XmeeAH9XojQSUHCGL06NBbw82m68OgtkNqaBvxUoueDpOOGs+IOKexldkFSR/6bOLHMkWEJAIFdARACtsZnYMNetrTS22DKl6q7wi9IGgmxVmbkjFDeWFnqfOksbGR6tnN0NSKti5qaGZQ7n6zAUWiDr/7vlcj/j+Yugk97YnTewqQMmUHVJReQHsgGqSVljuc06VF3tv4ZdjQEYRNTU2mKBG+cqpNbpvp7OjLc73y/5lLobJQvzjTg9tSNoE9PVls6DZqV/x8feNLrS9N4TEJdlGLmO4+Ml/lA2pTiA5RqEvfWF5S2VBAR8bqs8/NNtzskMu2nb/pFr+EGzZQNvJeGNW6KYqClpYWaTL9BhWlnEwmIx50BzU1NemfTzFhoAwgCxyCADdVz2sLAaOmNBp1aNr7ekIoH10agmK2dQwMqsisUbnYQhnX1pRuPa3ysgjWuC8tXTj0luXp8OstlyQFx/L6tNw5nz+6KetFTH/pRB6jmSG7sa3eeCGVd3gyC1n8uBDK+lv7GUQbeqEwjrUtOeJvEmMUO0kSCuiIWTv0ysojjy19skNDOJbvf/DN3r4rx8OGSKIGl7og2qoZQlOazDTPOxgGySKHhh96ure3tzImLomK0aU1d/PfdvBcwDtoyOJvz/dlFgcleCNMcDN0DHSP6hhYxcdy2KGWjp6tDFcQS0lWB/Q25WHv6PAepqxhUUmm4Hh6sl3uFnTV8FF6YiffzC8FJO49DdDHHkxp1GiwB4SyzAUbbFgHT9ng5EVsVc0abnh4OPmkqKj09IdAl8aUEhI/FNCpQ9rj5ucnzeeI6Ovrq6+vL1P3MwkGTUjnq3Pulh6NevAb50sbi3Z0KTS0WRACO3/CF4+VX1xQvqhQhpI2RVtojxcGyWVKS0pPT4/oY78MG5qCI8lMZBL3DPlbZMyPCvHE7rrM1sTjuAEcAwn8rG7veNP+01gfkjrCMLyUI3ddY2Oj+ZwU9pRGqQqjIhUPBXS60LogJS0xSTNo1yGR3bGbaLyDozWUJ07vES0idt/38pubVzMqYMOKj4TGJdUrbHsZ7URaKRnGpMFOfq+bdE7NxFJwnHxzRG6VvGI2PNl3rkt2VZJum4R5QBw3h57PBc8jboyBU8speUERE3pTmc8Jor4D/C6miJD4oYBOFzJWqbb/uHuMFyHC8PSlzlfn3LoZt82eQ2+ET4Z6aWNRhMhnvl8Hgwg+djE/OaXjwGAyXVwFA+Wkl9oxJaHt+0+DSJIUHH6TeIPGxkbROnZSyFgZmu6W+0TiN4qhtALawejSmgR7iKTOmdwDK7SPzFRkmIdmTkw+iqPt4Dm5vHgSTREh8UMBnS4kTW9K/FgkVcgMEW6nF5Q0yvvGl/LtdGlOsW9MdU5nRwsYkvXt+T7ZA6ziBTTQN/iOdlrnE4alIRmtCOj6+nrzeSc6y7ffCnGAe0zuE3tCQXThnji9BzrYHhoIe+AH9SiUbNCPjDbho31zpkpAu0EPCpJ64NSyOwGObVDSPa8tVJKjRHMlDQwknSReE3FQQJMkoYBOEah2pRbgjEpEmV69gobW9nGqQTejnTbr5Y/6j/GPKQoEgjuzOAj5gvUhfVBSbQJaHV0wPK2mdOd8wjVPjZnS0hGcw06HGCY58ZAGC9lvOaCA9f4Jtr1n3xoNqYFDxUeDxI0MRsRDGpDZQxJ6mA3KmZKkdhFUQDvGJxASKxTQKaJ3Kx1PHZNZki1G5lbRMGiWNDEoaYnTKN53pZ482yloA02MRdArjmksYJIAwR5HKJK6soES0h+ifWTGlG6h7+7T4AMTHdPa6q0vdYhhkjOSqlaezr4Vlu1wPAcYem6yyZlLGS30y7eYTvDAQih3Zc57Jpxu2n+6gJdIaUOnt/SbQD4m7DTtwcOmCYkQCugUIf4txm8Q6GO3ywq6Odq2wU9AQzd/Y6rTLZptE4+guhXzSt9RviyubejPgY6uLXemV69AUuM3ijb7ZAGoI9AvRZ3GqiapcvR2st9UQA0HTBoPeQ3Z/aUTrXaSRHU/w2wtXl5ASdtvM9RwU0ELlm/iDn25kXAuDrtnW8xLOULyggI6RUiEZfeRefOZVBnQXh2HZx0uZ7SpvWMX4mhT3QJ6aLrbnmPZ0yBosP761SxM1U/6X6ZHhd2xsaM40sPw8LCIGL8UdZotIcnJO/W+8gz1OfnmyLGLw7aZBTvRQGpYBUzfM7GyjtrePaoBDUHnq3Nl6knt6OiQu2tw0Lw0SACNfoT1WfMcERIrFNBpYXDyojz/JfdgkeQZ8Bpy1DB4MlZvigpoeRUOWazqxG3Qyk9PttvTXhxdGtKlDh92BWO/LN5z6A1TmiY0QsMvRV1TU5OskOQkRDohfMGx8na8EO7G5fXKmUEJmk+Gjzus7eA5e974sgA3lUzalWQkNAU0KQkU0GmhdWuaBmgm85lUAaNLa+4oZ8lGl8C4IhXQ+Acf957tUIEiBpnyxWPNkNee08Vp/MZ936uphgBoYWRu1f6lUhi02tnZKfrYz8FcW1uLpXV1iUbdaAx0YfNv680mpiHRlQQeeWkFHNY+MlNeMloioSGjEwuyz1dAr383s/LIYxc/9wWdMHil58sbk8whTfKDAjoV6PwpPa8tmCJS0eAXh0rWSl8M3afuI/OJNZaamvfpyc1g2fm1CXnPDq0DSR2sUZbXp6GbZfPqid8Q7HfuKUyY09LSsqWfd2WzHu+yNErVb4hhTOAmkbslzFzxNutXs3bcM0z6e5VKZmt2JAnnU8PHMppaa2BgQO4xkEyYUBgBfe3y5dX+Z6GbL9x5z/R7P+xpi3ffu37kdbMBIbmggE4Fna/O4cmveWqseuZ9rVrQQLa+NGV7nSHIxOWcsDsTUkYUySOjTaYoNLa72i9itVKx3YSOGVXSQHASaA3w8IuQjgkNX86ru4VOnSNTR8iUi+UOetHtIzN6m4k17ptIZ9i9A/TcGhoacI/V1NQkM6lKTgF9dWl5rrHZIZf9bPn+B7G+2ZIQfyigU4GMTELDbD5HAWquT3ziE3/rb/2td7zjHclPDUXcuIfe1/Yf7z4yX6peE9SJ6pK8IlOxsrqfCxDf5Y4OV4Cl8JVRsIDWEYQjIx5hOfGBXpbebHZWjQC+Pd9n5+jALRdyw4phdGnNnY3HkT8xnaDFQQ8tsXssp4Be+mSHQyVDT68degV26fH++VvucC9d/25Ck3SS8oUCuvRkN66JPzLCxhj114033igt5dve9jYK6NIyMrfqmOO3/pkTachXpcnFvnisef1q2NGr+joeVpHRqDnBb4dfEN2hFMZABw/h0ky9SabgEDQSA7I4+LbBUkcWRcdkhFXFwKllxzxKTftPc6y5TbCAzu5/QZXxzPU3rPR8+cKd9+CvWbwF5PLC7XfpamJv9lbL2GhSGBTQpSfy/BuQyzfccIM0k+Df/bt/ZxaQZIG66h274JbO6ZnCVycjhMncKDmxk3VAEplSkg5yJoGWEYT4az4niP3iAvb5ow1PT7bvO9cFk9R1Q9PdKHEnUsRtVj2jVD1BddF9ZN4x2pgDZpQAAX3t8uXzN92imvji575gFngBqT37oY/qyjBqaBIABXTpkcFkkFnmc3FAPTc2NkojKmQyfBWVNItrG+4Mr5KWLm0+Szu/QU4NbQtuiKHyncmiUtEk0L29HrHCKq8THkGoZBYHbQ2d0zoytdWTITEnmYWswxXdlTlvllU36EvoNXEIaChgVcMz199wdTbHoIWNySlHRMfaoVfMMkJ2QgFdemRm147Ds+ZzEWSzWYmABO9///s/8pGPeLajJD5G5lbbR2bc0hlVfDpHiK5fzWqOXtgXjzV7xkOj0I7cgFHZpBAV0H19Hr+OCug9e0K9bYiDYxeHNaVdgEE67zvXVeWOZzeoQ9BS2HVLGWXniA87UtwxAY2q4aX7PnvleNgssVhZBfRsw83XLl82CwixoIAuMdmNa5KxKJJ6UAMcW1paPJNYkfgYOLXsHvHT/Pxk+gfOQ6Y4Qk4fG2+Rd+tijjxiMJl7haQN6GapATyn6R4cHJSlfgEeiXHmUkbuK4jpz3y/Tu8r9OWeOL0HfbPwEflVCKoarWFqnhpjPLQ9C5Up2uLq0rLqYL80z1hHEtut9j9rirawxx1m979gSgmxoIAuMTovA/4xRYWirWNDQwNHDSYJJLK8RhD7ia8P3vwX/+L3Xrn5wR/8Y+gDCAJohZRHO0BDh/ELwu77Xk11DhwsC4JnUYFulqWe8pqUEX3jS1rh1PYfL6+ZViLHT0BDE4sCnmv0HlML9TzbcLOsc/nFg6Z0Cyyauf4GWbR032dNKSEWFNAlRpJ91u0dN5+LQGborampSX58fXWCRssxRvDv/Kev/fa3bnIoTrWHX29Mecrkl+d67cRhbvvSidaqTYZQFsgsKqgEPF9AaQ47VhEVgMweIAYFaUqrEj8BvfLIY6KAL9x5jynayUrPl2UFz8GFOuXK+ZtuMUWEWFBAlxgJli1+OobFxUVpGksY3VhVdGXO27OF1Q7sv/PQjigIP/vKqbY0v56+tLF4eGHgidN7vnis2bYXZ3qW16fNSiSthEwCTQFdGdi992pOyuEnoJfvf1AUsJ8LWSWyI35DUP3t58AmVQ4FdCmZWFmXZ37gVLHzHukMvRw1GCuLaxvo7dgBG7DG/Y/8wX97p0MoPzLaJNLTUQ6Dhja7IyRSggW05ueZnmZfqBIYXVrT3Hb4Z2hqxSyoMlRA1z9zwhRtofp45aFHTdFONMOdZ5QzBTQJhgK6lPSOXZCKr/j8DDr6fnCQ8alxgd/L9jrDUHF/efzLdmYuKOaX53odztrM4qBjHN43pjrNMrKVn6src77lwFlcT9vaDp5DOfqZZj2SiwABvbi4KHOsNDQ0mCJS/tgZ3CJpSsoR1BVyBRwCWudGgRQ2RTuRpTDPXHWLd98rS7EfU0SIBQV0KZEM0A2DYXPrBKCj7xOeobdKGJpaadp/WuporakHTi2ffHNENTEkcvBIQXsKEhiDiQUZBhBgkAXdR+bN2iSQAAGtOeza2vgCpKKwnyD0OU1pNRFGQF85fnJ+923y0W1Xxk+Zbba5dvmyDiJ0TFtIiEABXUrEnVl8ADTo7u6W1pHRjdEyurTmkM6orCUz3fzahAy5u+97NSHTumE1FdB7z3aY0ioGl9e+tgHmnqGXuBEB7eljVgHNYRIVRnbjmj3BShVmhvYT0OpCXvpkh8ZjeNrsz9508XNfeLO3T7PdaQYPmF8KPFLlUECXDE1gF0meYE1QxfTPUYFmSV4RqNU8NWaP1Hl6sl2kcF5TimjGZchuDsubXr0i1/an/tP44fM7bl1cfzwarS9NyQp1e8cLmMRxYmW9K3O++DEGxeOY3yEm6urqUAl4TjSoUV4lTwJNIiezkEXtJE9Kbf/xZG629OAnoFceelQU8Pzu29aPvK4Z64INshsr6wwsjN8gflBAlwyNXYskak2mUKmpqTGfSXFA2GmlDEPjBB0mv9T61Syks8Y95zulyOGFAdkQxkho0H1kXi7ydU+OuqeEsL1rBTihdWobh6SQ3hF+1pgc25D+tjXuO4VjaBg86Y7nxp3WtP80ugeDkxdNUaFoKp7OTo/7qqOjQ5YODAyYIlJB2MHQ1RbI4Seg1Yu8OYn30mYv+srxk2uHXhHbmJySpbALv/M/6/+w8ze36P+cRYX4QQFdMiQwAH/N5+Kor69H09jczMHCETAyt2rPxd360pQtv/ad61IFDIOYNgvCAf2tU6/hH1Na3fyLb52TS+0Z66xzRrSPzJii0Kj4dihXVRvRSg10sbBD2bOn4b5ydBL0SBxtfwGMjIwESGTmsKt4tLuInmFVTU/oJ6Btifxmr/M9ob1UgjQgr5fvf3D+n/3uTP0vSfn87ttkZULcUECXBk1gF1W8mjSNnp4nkheQa/oyFOaQdJc2Fu2cG1851VbA3Ci2BJ9fo5p5ywndlTlviix04uI9h94wRaHRn9IhoEVqYGkBYSEB2G8tLHtd/nnvgMek/bbjsEjRo0Ea+McUWVBAVzyDkxf1XsKtaEqrAD8BDTQSY7bhZkcos1tAg6tLyzrWcOb6G9aPvC7lhLihgC4NQ1Mr8sBH5SeQ2Meuri7zmRREx+FZ+V1gdXvH3fOrvzzXq9oXShp62izIhzOXMrqTlM9NmAzQzXLN3QIaT4qmDiwgyEE2hDl+SnnDkDMBDrS7QxM37puAjveMMZWslGI4ZtxLOB3Y7iGzB2hls6qF+tdhRXang1PxqIDmMIkKRscMwIajGF1TFgQI6Oz+F1QlzzU2Xzn+1iN/7fJliYrGX/yPEls9w/yS3xEiUECXBnnPG6EDbGBgoLm5OZNhZrQCWVzb0BegsKb9pz1j079yqk2178OvN5pSL6CMHWYWbKXv0J3Y5VWLCmg7SAOPRuerc+pCLizYSbaF2WJCRy4Ge+kcQ0htw1HZXV/sEMJFhT5acfvmUQ+6ZwiKLaCxE1NaEOg/i0ReXPTo18kwCWA+k0pE323CCgh5KlMCBDTQXBywmetvWL7/QZXRa4deWbrvs5IE+tLj/fYoQ7/JCwlRWJmWACgDkQUFvJImceBQzx2HZ/06Np8/2gDV25Gp/dKJ1szijjlrprOjKNl7tsNz9kHYZ75fJ2k37OzRzAYNVEDfMTwlo+56xy44wtA9+zP4mSBezYdtsDl+TbSptvP45//8lAhc/P17z5kJkGv7j+EZFD+xw1q/+db9gO6uFOIftNBSiJvEfJ8rlbUj6QektpR7OrztEA7P5j88IpHr6jwC67PZrMyi0tTUZIpIhaK3PW51v3osAdCLw83W0tJiPsdJsIC+dvmyOwM0tPLC7XetPPIYDJJ6rrHZXnrhznvEJ01IABTQJUAb1JgyAJC8sBNuoGMTkPLs0saiqF5IZFO0BQSxn2h2mPibNQ7kvu8xa8omt75wRq6/n0FMOx6WkblV7fOg1YQO1h/OMdF6keb4XnUY271fh6/aofUhYtQ57Q4Kcmzr7g+ER5JAe0pkTQLNYRIVj90lK+Hk3gMDA3LLJTC3V+M+0yX264JCDdt+6GBbuu+zVM8kDBTQJUCHTLlzWpGEQWdGPZ1Qz8HtDeSvCF87/dx0dtQeVuiwL51o3XeuS0zTRWsC6UdG6Q58azxATlPNqk+QwyCde8cuBOfByMvQs5JvFHC3qAfajleGLNZNoJVNqYW6qG2/taA7FCsmmZ0IaM9UPCqgOUyi4kH/TQOf8CyY0sTRiHzPIa0RohFZMHSqTakXa4deuXDnPQ65bNtcY/PlFw+atQnJBQV0CZBxHn59ZZIY0EPqGsypnoEKaKhhU7Qzr7PY5482QGFjZb95Uh4bb5E1nzjNOeE2278f+bNj8iuIoUsD5Som2R7VoKFtwY011fkkht8xuzUDC+wvzr25XT7WMHjqN188s3to8tYXztz9l285fcd2DgfUeGUxPKR6JLZjG9/icBXrYWCRKbLQY3ZsaEesihWjeBobG6FXPAX06OioqBkK6GpAX87I42BKkyUxAY0nXR8fz3G6DjYmp1b7n12+/8GF2+/SyboX774XhWYNEjOegzTKEQroEoBKDY+6/QqYJM/g5EX5IWDQSRDTZoE/ngJ6/Wr2K6faPvP9OvzNLA7mzMthp+B4ea7XlFY3z5w2svW6J0fd7f3o0pqtkt/9tFHbGhiNFXrHLuivab/Y0Q6SIxJDV3b87rYvOcDcfmI7g5hnGIaegj1SUANC1ApWPDqLiudEgzrVP2dRqQbs+8odNZQMJRHQjsecpJChoSHcFZUxGIMCOmnQYPNRLzm4+LZ6DhlLM50dFeELrWyK8mfv2Q7ZSUemFuLblFY3kIz6c6A5NKUWEMoOTzN+NYfQVF+1/Ws2b0e3d746Z4q2UBed22VlpzJ0GxS5X5S8HqHnCrbC1vAPPTzbPK9ATjQJ9ODgjrGtAnPYVRX2mw131FAyUEDHRyaTwRONK2w+lxU9PT24KzzHOpcdFNBJwwDokoMKV+UaRI+nv9AT6F3Rvp8/2mCK8mR+bUIDpl+c6TGlxJKSXV5zqYBtAWp+OIcgBhpiYf+gWE0K6/aOm6ItVCW7U33hAGQRTPNviOEYPJOBCLqhXxiGqnYY6oHRpTX9aMeHhHkN7Qa6OUCvqIA2n0mlgx6m3E6letWZmIC2R0TkDMOrDFpaWuTaQoyaorIClVVlTOfE+jRpZNA9ajfzmSTLyNyqvtaHoMn3dfnDrzeK/HXksAsD9Pcjo02y+We+X0f3s40Os0PfxhTtxJabMLerSRzAjjF89lb2u2zNVICtTNE2qoNhTftPh79DNNDZcQwKlL3KGpj24rC+7Z8uLBu0JoH2bJnoga429H0IajlTlCyJCWjtl+KBKiz8qeyAAK2trcW17ejoMEWkFFBAJ428aC5sVghSJHbkRsPgyQJq26NLQ6KAH/hBvd8YQU/m1yZUfMMK0N+VjT16zxRtMzx9qfPVOU2WIuYQ0PY7a4cXSpWE/dD95cxbr33t2wAa966/3JHEo/n5yQCvs5BZyLYdPPcrQ5M/sTVZN8zv/RLKbQ0t1n1kHl+hHx3O8pBIEmg0q+bzTtRlxXm8qwTtkaJ7VhJZmZiA1pdXVeWWmp6exoVlf7i0UEAnCppnedTRZJoikhQjc6u2ei44hEZTPn/pRKspysXhhYHPfL9O1bM9BrHKgQ7Gz4Em8P7vvhV53JU537I1E4pDNNvmeILswGWHB9d27mp48aM/8MiVC50havvvfmNHJmncNtinRHHggLETiRKB6sW2WKRr/srQZvcYDXmAZMG2Gq4N09cg9snmlOxuJIddQ4N3cJEsBRTQVYK+D4GVJFwwMQGtPWS+1yUJQwGdKDqC0G8cEokJ2/MHyVKAQFEubSyqGn5ktCl4KkEs1bANMYY+29jqNoz98FMmBUft1mA+aFn8lO6diMAFeOKwjr7kFW0NwQq1+re+ZnpTWCorS8A0Fv31wmXta4U36ZXhG/XbA8AxQ47b9YAtxLHUlIamqakJYsUzhx2QpYAuqyoBt73eTiVJxJGMgMazrKfp6DkTEjcU0Imi4ZXFCDiSL+pZhEFGF3/xj10ctidPefj1xm/P96HQLN4S2ZnFQcf0hJDdR5eGzBpkG7Tu+usEGNbpeW1BY5c9TQYYwGQYH4Qs1DDMVtjdR+ZFKN9mTdYN1aseO/FS46hsl3Cw4aZyx2Tni1YOsALeUElMpOfMyZzHuwpBLaedQNxapjRBkhHQeE71qSls9C0hBUMBnSho1/Gcx/GmaXR0tLm5ubeXeYWdQD2rA7K2//jozokzCgZy2Y5pDjao7W9MdXLUYADiKoZwRGNvG3QtyiXIQdBf02Ey4E9jOSC4RZdLvg7bvwuDtsA3avSkmqwsQH+7V1DDIuxTjtBsUBy2yvfL4+EHJLKIlT17vKfmGRkZgaCpmPkLSBg0UqgkiTiSEdC2o734TiwheUEBnSiSrCqON03t7e2oqvwiIKsWKCptRaCZotI6yoszPQ/8oN4hl22DdH7i9J75NQaeRgZ+U8hcDciRX7Z9ZEZfLEDUqu8NalvEN/5CnUtcNUxiJ6ChdU3Zjzv6Aj2untcWRM3jHzTYsGJeYmA/+C63psHB6JHY4x3DAH0sYqVM01qRONDuH/4xRQmiAho3pymKAQpoUkIooJMDja4853G8aZI0VfX19eYz2brg2oTEoZ6VzOLgvnNdj423fPFYs21D0915ZeogeTGxsu5wTiv46UXpms/+YB1xVKNzG2b9IrHT6jmGduFEdFG+L6lUrAwNMUaIGCRUCeaXVzFWpqencUPW1dXFGnaPZ1afmgSeX0JsKKCTA+2lPOdxjCCkgHYAOWK/6y/JMBpCHGiESd3ecbf019sVZorCkczrclJeoKHR28nRW0uG0dFRyGjzIR66rVlUMjun5Sckbiigk0OrsziecwpoB6qea54aKyCnASFxoAMTPYcJ1m5P8QPLK0qEApq4sb2zJRHQCSDDimAl8bKTKocCOjnkhRr0nOdL5yIRAf3BD36wt7e3tra2tTVsiuKKxHa99I5dMKWElBq9LT170RpxBMtL8XR0dIiAzmSCkiqSqsKOqq/U8IbSxnmTKocCOjkkx1aja+rgSBAB/WM/9mPSjra1tZkF1QeaDfXkFZAOjJD40DvTTvchLK5t2B7ovLrZMk9KTU0N0zwTGx0jW6kp3vSVTkkyjZAqhwI6OaSv3LI9a0O0iIAW0I6OjuYXQ1lJyJgwGP6Jw9lPSMHYPua2g+c0TmNiZd1elG8tUV9fjwe/sbHRfCZkC81B1FWKVNBxo8OKYHzTSJKHAjoh0FLKc+72PEWCCOgf/dEfhXru6+szpdWHJtOteWqsUsP+SPnSs3MimNr+49DNqnLU8h3zKgLabxpCUu6sX80euzis9vJc75dOtNoJf56ebM8sDrozzWuvrH1kxhRVEEzBQUoLBXRCaPqqmJ5zDiIUJNM2jMEbJJ3odIl+VoCzUAQ008BXGBDE0MrQx47s8n72me/XQUabjbdQAV2REQ723EPMs0SShwI6IWJNwQEooIHOxuyZI4yQlIDenQan2ob7trDJIERAs/9cSZx8cwSC2CGRw9iLM29NplPZAlrmJBJjhU+ShwI6ITSnfV7ZqcJDAY0KVN3PHYdnTSkhqWRkbhWaRkYN1j9zouXA2WLmUaOArjD2nu1wyGKxjkwtFj023mIXouTzRxvskqNLZj6dyhbQzGFHSgsFdEJIWuKYUnAACmj18dd4TchMSAVDAV0xrF/NPnF6j0rhR0abVC7jH53ZdH5t4iun2qT86cl2lOw71yUfYZ/5fp2sWdkCWufzj2loPiHBUEAnhFRk+Gs+Rw0FtI7E4nBsUlVks9mamho8/hxEWO5APdve5aHpbhQeXRr6/NEG6GNZx+bwwgBk9LGLZvYcrK/bfvHY5s1QwQI6a019z1eOpCRQQOdg/cjrC7ffNb/7tpVHHrt2+bIpzR9JV9n60pT5HDUioGtra83nKkOHY8c0Tw0hqWVwcBDPPujt7TVFpDz50olWkb/3fa/m2/OFJFN6ZLRJNfTLc70VLKDtaWLoNCElgQI6B4t33zv93g+LrT77nCnNE01XWUyYYzBVLqAlQgZGVwSpNiYmJvDs19TUTE+b9/ukHPnGVKdqXw1izpf5tQmIb9nJZ75f96vPm6l5Kk9A65BxGP43pYQkCAV0DhZuvwvSea6x+eLnvnB1admU5okK6PhyVba2tqIRrc48Vrb7mdHPpAqBhqZ6LmuW16dV+NppNAoAm8t+YL/5za9J3Vh5AlrH5cNGl9ZMKSEJQgGdgwt33gMBvdLzZfO5IPRlU0wCOpvN1tbWQkBX5wze7SMzcnnpfiaElCM6cPBLJ1pNUaFc2lhUAX37y5+VurHyBLRGp9Q/c8IUEZIsFNA5WDv0yqbvebao6QN7xy7Iox5TR1ne4YLBwR1Z9KuB7MY1iS+HMZc+IaTsmF+bUMl75lLGlBZBR6ZW9tZ8oE3qxsqbWEpTcMQ3NJ+QYCigk6Dj8Cye85qnxsznGOjZwnyoJjR7XXwpAgkhJD40+tnhfr60sShzd397vm/fuS6HBUjtB35QbwT0i78t1WOFORc0KhJWkbOUk7KAAjoJ5GUTFV4caPxGfAM0CSEkPlTvauYNRzZoT/vM9+tkZTduAQ3FaZZVBDruBTY4edGUEpIsFNBJIC+b4sthV83o7IMxzZFOCCHxMZ0dVU2s86QcuzishX728OuNsrIbHY9481/8C6keK0xA97y2IOcFY+QeKRUU0LGjIwiZqzJy9EUeZLQpIoSQ8kGTZjwy2mSKtiZPkUKHPfCD+m/P90lcx/pVb5eBHVH9d//8j6WGrDAB3frSlJwXE/+TEkIBHTv6sim+HHZVy8jcqlxbjiMhhJQjGgD9xOk9pmgLnakb9sVjzfvOdUE0m2WBvDzXqxv+xNcHpYasMAEN3Sznxfe6pIRQQMeO5nungI4cTQXa89qCKSKEkPJBhTKUtCkqDp3O8N/89QeleoRVkoDWF48w1vykhFBAx05X5rw86gzSjZw9h96Qa8vOCSGkHHn49UbRuy/PRTAT+6WNRQ2A/vSrfyjVY6wJoJLHDoBmzU9KCAV07Mgs00z2HgcU0ISQssadgqMY9p7tkL3Bbnvpeake445wG93CfIifpv2n5bzYqpLSQgEdO5LDjkG6ccAUHISQsuaLx5pF7+4712WKCsWeDxy7laYH1pU5b9aIh/r6+pqaGvMhfjQAmhmgSWmhgI4dCuiYmF69ItUoU3AQQsoUFdDFx0A/Nt4iu4KduZRJRkD39fXt2rWrrm4zKfXIyEhLS8vQ0JAsigPNagVj7n9SWiigY4cCOiZ0KAmvLSGkTHl6sl0kL5S0KSoIO3gD+0RJAgJ6enq6trYWArqtrQ0fW1tb8X9jo2+C6uLRMUWw6dUrppSQUkABHTsU0DFBAU0IKXcOLwyo8M0sDprSPNl3rkt38sAP6i9tLKJQQx26j8zLapHT09MDxQw6OjrwMQEPtIwpgjEAmpQcCujYoYCOCQpoQki5s341+5nv14n2ve97NQUMJbR9z9jDdHZzPJ8d6jA0tSJrRk5XV5cIaPxjimKmcd+EnNSeQ2+YIkJKBAV07FBAxwQFNCGkAsgsDqoChsl0g34TDdpc2ljUrM+wjkztyTdHZNHw9gReMFSVUhg53d3dIqB7eyPIwZeTxbUNdaszAzQpORTQsUMBHRMU0ISQysCePlDV8BOn9xxd8g2HgOxW17Wsb09VqBN4weIT0O9///tFQB88eNAUxUnf+JKe1MjcqiklpERQQMcOBXRMUEATQioGCGLNCW0blPFj4y37znWpfeVUm2NNfJTIDUUH29U8NZbduGZKI2V6erqmpkYEdCaTMaVxolPP1vYfN0WElA4K6NihgI6JwgT08vr00HT3F481i33+aAOaH/zzpROtkUxkQAghBYNaSCql8AZ5LaMGbaTdgbUcOGuKYmB0dPTP/uzPoKTN55jRAGi2pyQNUEDHDgV0TOQroNevZr8x1akTDXjaw683FjwQnhBCIuHkmyNPT7bbERqehhX8Yjzqnzkh1WPcs6gkhlb4sPjyihASHgro2KGAjom8BDTU8xe3JyzIaVhTx+IQQkipQEWEbr+8LrNt79mOwwsDAQMNK09A945dkDOCcepZkgYooGOHAjom8hLQOlYdbc+35/uW16fn1yaOXRyG4aPb2VNYPilCCEkDCSSBTpj2kRk5o7q946aIkJJCAR07FNAxEV5A6ywD+McUufAM8HhxpscsJoSQMsFOAj04edGUljnqU2cGaJISKKBjhwI6JsIIaMjioelukcUPv97oHmrjYH5tws6rCgvQ3IQQkkLsJNAxpeBIGDsAunfsgiklpKRQQMcOBXRMhBHQT5zeY6th2NOT7WaZP1jH3oSxHISQMsIW0KaozGEANEkhFNCxQwEdEzkF9JlLGRXBhxcGIKY7MrX3fa9meT130iWN+oBhE0eOVUIISS0qN2ueGjNFZU7rS1NyRswATdIDBXTsUEDHRE4B/fDrjaKAH/hBvZRAOoeXwnvPdqiG/tKJVlNKCCHpZs+hN4LrxrKjYfCknFHbwXOmiJBSQwEdOxTQMbG4tiEjzfF3evWKKd0mszio8vex8RZTmicqwWF0QhNCygKdcKTj8KwpKmeyG9fkdGA9ry2YUkJKDQV07FBAx0fLgbNSqw6cWjZF2zwy2qTa9xtTnaY0T44uDelOOJrQDzRvlTFQiZAKQD0LsMrIYWeHdA9NrZhSQkoNBXTsUEDHh76p7BtfMkVbaPTz05PtJ98cCU6+cezi8MtzvV881tyRqf3KqTbH3AQP/KBedoUVTBGxQHtW238cDTYbNkLSgC03R5fWTGk505U5r2fEvjpJDxTQsUMBHR9+AlqHAEIcm6Jt5tcmhqa7IZQhl2Udh0F8m1W3gG6W8ioR0PmOcJfbG9a0/7QpIoSUDpWbFTPeru3gOTmjxn0TpoiQFEABHTsU0PHhJ6A1l7Pte8b/0M1S7mmf+X7dN6Y6HR5oDQWphnGEEjqZ1zAdfVkMM0WEkNKhfdqKmXAEPQE5o/aRGVNESAqggI6dkgvo4eHhrq6uiYkK7LtrbiPHWJnPH22A5O3I1JrPW7w40yNS2GFPnN6z71zXyTdHzHo70Sm+Cw6kLhfsqQoW1zZMaSD24B6YKSWElA6dsa/yAqArZlZFUhlQQIdi7dAr52+6ZfHue83nfBABXap3Tw8//PCuLRobG01RBaHpThsGT5qiLSRwWbPXCUPT3SKFxbAUJfNrQb8LVLWun1kcNKUVCtSwupNDBnKgPZP13T8BISR5RuZW9ZHE/6a0nOl8dU5OB7UTA6BJqqCAzsG1y5eX739w+r0fhs01FhIF2z4yI89/SK9etNTU1FSwgFbnRP0zJ0zRFp4Cev1q9htTnV881hzgb3agqaA7MrWO0I6KRF/+hvRd9by2IOvD+HaVkJKjL+UcVWL5oin5Wg6cNUWEpAMK6Bxk978g6hm28tCjpjQfoEXk+S/JBKSinj/2sY9VZAgHLqlcW9jEyrop9RHQ+bK8Pn3f92pEQENJm9KKRp09tf3Hwzh7dHAPzBGGTghJGLs+rIx8yYtrGxV2RqSSoIDOwbXLl5fu++zC7Xe92dtnivJEvaQlid8SAb1nzx7zueJQ/4Qt4ERAQ/6azwWhIw5Dzv5dAdhh0O7U2m50cE/NU2MlecFCCFHU/QyzHQrly9DUip5RZUSkkEqCAjp2VECHUSSRU/EC2jMRh84gGJwBOoCX53plD7CKHz5o07T/tFzPnFH7truLOewIKS127xdK2pSWOVq9o4tuighJDRTQsTO6tCZVQEnecVe8gNYoAjts97HxFtG+7jzQYfj2fJ+q588fbaiG6GfFHhcY/M7EDoDuypw3paWgd+xCbf/x0h4DIaXFdj+XJFwwcuxhzXnl1iQkGSigY0dTfZUkK2d9fT0EdEtLi/lccWjYrp0FQjPW5Tv7iQw0VPXckakNTtNRkWgarGAntDqHYMPTl0xpKdAD5myIpDrpG1/Sh7Fi3M92AjvGb5AUQgGdBBKnm/OdeBy0trZCQNfU1ExPV2YUrzr47VHn9vg/9+zcfhy7OKzTpoh6dsxKWCXYruUAJ7RGn8OmV6+Y0lKgbqqKkQ6EhAdPn45GwD+VEf0MdPw9zBQRkiYooJNAvaTJV22Dg4NbQRy7urq6TFFloZF/dXvHTdEW9rQpnz/a8O35voB4aAhljfoQ+8z366pTPYPsxjVcTLmqfr0+++0q2mxTWiLkMGA4pNJKeUKSx06G0zt2wZSWP9pFL+E0ZIQEQAGdBDqUuCRh0HV1dRDQ9fVF5XRLLYtrG6rkHO5SOxhD7JHRpn3numCQ1/LP05PtMm2hbdiwquKe3di+H08ntP3KWJq3zEI2OGY6JuxEVzDHnJSEVDb2WN5KegODnrCeV0naTUJyQgGdBFoXlKR17+zsFCf08HAhI+rST8uBs371bGZxUOfiDmNfOtFatY5nG9yxwXER+lIFNnBqWfV0/TMnwiSQDomEWeNIAgYI2skHYCV3hxOSJOqmxWNSMcEbALWKPtSVdF6kkqCATgip5kryKiqTyYiAhpI2RZUFuiVSz3oO01y/mv32fN9j4y0aFe1pkM5Hl4bMNsS6qjD3GEGdsxCG5m1oakUEN8qjEtC2Mg54Me0Q0DDP8UZYDWchZooIKXMGrZw5sWahWVxcbGhoaGtrM5/jR8coV8yUiqTyoIBOCMkxVBtugrfIkSgO/EU9aIoqCI2QgYYLvrzHLg5nFgcleEMM2hqFBaeLrmBsJ7QjEtqOmrBDz0eX1sx/edJ9ZF6jrtsOnpMfEX+lMPhntV9hizleRGDnOsRKDB9LEm1CSITgodD8M3hSgqu+ImlpaUEL0tjYaD7HjB2YV5LsVYSEgQI6IXrHLkh1UBIHWFdX15YPujITQqPl0NqW0XIRYjuhbR+w/XbVs3nDL9Lz2kKYWx1ragSOmqrbkblV9DztDN9u3B5o+x6wx1fZFrfgICRu7Gw5sQYHdnd3S/PR3t5uimIGVYeeGl8ZkdRCAZ0Q2sy3j8yYogTJZrMNDQ1SCfb29prSCkJ1Ukkub6ViO6GhOHWybp2tEOY5vyZ+BSzCtuKThg4WlYwS/FLqqIaEtXeF/+XrNNIJ3wjh7gjJQCHaVDE8VtiJ7kFM19e3wNgtFAYOFZuo0w7bymqElB32s4l/9NmMnEwmU1tbK20H/jelMaP1OU6NHV2SWiigk0O0QqlcX6Ojo1IPNjfnN7dIWaAO/ljbkirETschnRPb42vfzPgHIhXytOe1BY2QxiZuH3Bt/3GZ8aQrc15LxOssklcjRmRb/KaQC1KCf1QBi2FlVRJiooz1loCpTxr/yMq8T0hZY78dii/5xsTEhKrnvr4+UxozqEn0iUYNYEoJSR8U0MmBxlsqBc9BTgmA2rCrq6sic3FADGmdawcbkGBw3XC5IGTRUKnqtZ3KaMygkqUcBpnr9+J4ePutKxStun4DDN8iI2th2KfsRHaurabGLqsCtnWDn+Gk7MOGvMBH7Llh8KSuE5/mICRucD/b3UjtXkaODkBPTD0DrUlgnFuUpBkK6OTQl24cFREHKq3sOb2JzejSGhqn7iPz0MowhytXzXF/2iP9oWjtkGXszaxk9Q8hf23vLwxaVhzMtj8bdtdfvuWcxsFgKZ4RCGvoA9mnLhUBjXKR1HiO0LJin+0jMyqyxcR7reNKPQ13COM3SPliP0ca7xQTo6OjExOJzqFrR17xNRFJMxTQiSKvpGEF5ysgftihBZmFqp4GxWZkbrUrcx5tkp9cdphoU7PxNhLT7DBH86aNOlp03N66GkwdzEDDNmAQ1r/6/Bn9KIbNRW0D9SLLHvQnbtp/WlYQbL2O00SJnabaNqhtnAtbZeJmOjt67OIw7NvzfUPT3fJ/CidUQuUmjhgxuxNbAeDZ1LOjp4mkHAroRFFhYb/7JlGhI9IkWrdqQSMknmY7aCHAsBpkK6QtlKinuMxuXNNwCzWHipXoC5j4gO3AD0d3UbuRsNaXpvCl7uNEiQ49hMnzoo+Pw+um73bEsJr9FWLYIb5IfduECCffHHn49UZHVnjbHvhB/b5zXcvr02aDkoLH0+4J45k1CyoFrUZgFdY3IJUHBXTSoO1H1QB5YT6T6FBPJORUfHGB6QTSUESzW+m6DWpyz6E30PoOTa2EvFBouW1NDMPVNsu2gN7VRfio72FhjngJHKruCr+UiFocCcS0biKLbn3B+KfFr6xfgePf2tMm2FyeKTWobVtAe+YJIQQcXRoKnl/JtsfGW749n1wosBs8g/bTjYfdLKgg9FlGFcHuLkk5FNBJg+ZcKojKcx6UHFuZVYmPP7OQ7RtfcihIT8OVaR+ZKcapg+/SgGP841be6jCGYtaQaPlo1thGuzowHSAIsKZnuAgM3w4BoR97XlvAAdheajUo74f++q1AEXx0B6UQcuZSJrx6VntktGl+LdGYYAGVm32ra5hTJWEPXWD7SNIPBXTSoB6USAO0625hQYpE3wCqa7PywHlBdDr8tZ4GmYuOBFSm2bJocMdKpIen3xpfhMuO78UK0Lt6GI4QDgApLGvCrntyDB0A21Sm2yZhORql4zZ7q3tHZnT/MPwvUdSe4GBkt23MmVVNaOTGE6f3SMTz0aUhnaP0K6fa/EI7OjK1EN9mL4mA5872PePxR0nl1W96jnhgq+0VIilHKKBLgGoLNtiRg0ZFlVMlOaFxXgOnliGa3eHCDqvbO77n0BtDUysR6ubwiONZrrw0h35tYZgOwJa9rv9DNNg+KttwyvpuB4aL8EvPOUNZ6p854Qg7EWzHHvu01cD82sQjo02qhk2pF8vr0y/O9Hz+aIOqZ7HPfL8uST+0/bCgK4hOLP7xfAtUvmiAFqxK3h+ScocCujRohCjEtCkiEaEZGNLpxljcGuHndsr6gZVxt3g6ZdVwplgH4hUrl9wvpdcc9zZaer93zap33/a1HefisFteOKt9BnlY8Ld9ZEaHUkGmS5QzTlwDeMTe/bTHRZNQFhwV9oNDtSNGcJG3Do1UOKqexQ4vDJgF/py5lHlsvMXe6uHXG82y+GnejtGCerbv2EqKTbLHLbAfS8oCCujSgJZbHKXQASl5Ezc0NNTY2FhfX5/YfK0xgeupcjNtngw0DKr8Wl+aQnPo6SeGDkbTiIPXlT0Ne+g+Mp8G0VwAmlIDZ2GKtsCjgTMSk4uDEukeyAoK9qBiXdAYErH/7XvnVXmEMRHipLI5ujSkIviBH9Tj796zHWZZLvad69JtYZnFQbMgZnCfoy+KG149LzB0HcvxwfcEvVk9L0eFQEhqoYAuGRqtmxKRB+ksk0719PSYorIFl1Subdqc0J4hvCiEXMZx4m/7yIzDjeowrIyzg5pM1XkVBgRrb9Sp5aCh0QBDZ4jnGzvvfHXOVtV+hk1kD6SygVwW+fvE6T3rV7PQxNPZzbwxIXl6sl0FNP43pfGDO9n20UI9L1ZQOnM7jAo9Z1NKSLqhgC4laOlRX6RE5DU0NEA9/+RP/uSBAwdMUdmC66maKT1O6Alrqpd8De1l99ZEfWZfJB9w5W3XndvqnznBa1sl6NBAzUmXWRx8bLzli8eaOzK1nz/agH9s+8z36+77Xs3Lc72y8vzahAroxKI4cHPa71IqTD1DMeup0f1MyggK6FKCalFqDVSOJX8ZNzg4eP3110NDQ0mbonJGndDpGWojQ3/ysrq9452vzjEiMBJGl9Y8HfxtB89RPVcJ61ezKn8lkwb+akmA2VpZk9898IN6UxQn0Mr20GF09iKvEDo6OlpaWhKesluxPeueIW2EpBMK6AjYmJxaP/K6+ZAnOuItDT3v5uZmCOi6ujrzuZyBJFInNC6yKS0pIeNxofih84amVvgqMyYyC1lc2+4j85IOzJSSKsD2H0sajZNvjmhJgO071yV7AB2ZWilMQEDj/oxbPe/Zs2czdG/Xrq6ut84xMeyKGjWkKSWkHKCALpars3OzDTdPv/fD+McU5UPWSo/vHiaVMB0dHVKTlsoVES06XB0VdPisF/Gh7YSf/dJzJqEEISQO3AIaDE13y2hC2x4ZbZIQjsfGW+zBgscuDus6T5zeY0rjAeKy0Ur/HEfkBkSz1Pmgt9eEqSSJ/V6uImeHIRUMBXSxLN33Wahn2MZkgS5kaGipJev2jpdW5w0ODkpN2traaorKGdu3ATFtSkuHHEmA0eVMSKzYAjqvsYOKPYjw6NKQKY2BjDXxJ6z5+cnI1fPIyEhNTY3U+e3tyQ2IVOwqGv+UPI6RkLyggC6Kq0vLM9ffAPU8v/s2U1QQmsQHGhp1iilNnGw2K1EcYGAgd27U9NN9ZF4uLKy08hRtgx6Jp6ETZVYlhMSDLaCPXRw2paFZv5r9zPfrZHP8g49mQaRAKHccnrVfWLUcOBu5uBwdHa2trZXavrExuZzWNjpSBYa62pQSUiZQQBfFxuSUuJ9Xn33OFBVK39YUbrDSjrBGrSo+CdStw8N5NzBpA62ORhDGET4YHny1HIaf8fUlIQmgQwBfnMk7X2dmcVC2hYXPHp0XvWMXHLFeXZnzcbhmJe0SQIU/MjJiShMEJ6UudlTOcZwjIbFCAV0UV2fnRECvHXrFFBWBRoNBQ5ewNunt7dWKtdwnVQFDUyvaIDXtP12qC4vvlWPwtDREmBBSDWgau8fGW0xRONavZu05vQuLAAmg57UFx0T9dXvH4xsUocEbpUr8j5pZz5TuZ1KOUEAXy/mbboGAXnnoUfO5OPSVVmmTcujIkpIExkWOevdhJUwLbWdrso1TeBCSGC/O9KgIzmsqwW9MdeqGEU6hgq41VLIjRQ+kM/R0rL390dFR1PMl8T0LMg2CGJPhkHKEArpYVnq+DAF98XNfMJ+LRquVEko9MDQ0hOq1AqI4BHsejZYDZ01pskyvXnF4mGBUz4QkyfL6tJ3IOWQcsx28gc2xE7OgCFAheE6TiZq/hCNhkoFzd5MKgAI6AtYOvXLt8mXzoWiyaUpsVzHgqtrTaOP/kjRRi2sbPa8tND8/CWs7eG5oasUsIIQkhc7mDfvisWbNZ+fHmUsZzf0M0ykMC2Z4+hJ6zm7pDD1dwgEwSWK7n5l9iJQpFNBpBHWozpeGnropJcUxsbJua+hY4wsJIanFEc0McRygiTOLg+qxhhWT+3l0aa3j8Kz7NVT9MyfaR2bSkKs+GXCm2nng5CmkfKGATinQzVLFlHZAYYWBnomtoWGljZMhhJQEh1MZ9vDrjS/P9R67OKyGj1860Wqv88hoU2Gp6wYnLzqinMUSiHVOIah19QrwLRwpXyig04sm5WCIWLTY1TesYfAk3fyEVBvL69OPjbfY+jjYvnis+dLGotk4NBCIMk+Ww1Cr940vVUnAhoP6Z07IRcA/poiQMoQCOr3YwdDM8hMtw9OXtBKH1fYf7x27YJYRQqqGl+d6Ha5oT8s36/PEyjoqbXe0BkpQ1SSWdGJ0NOJce8UzOHlRr0ZX5rwpJaQMoYBONdDQWgXzVVe0TK9e0f6JWOO+iYof/E4IcbC8Pv2NqU6dYtC2B35Q//Rk+8k388j1NnBq2VGxiLW+NJVkHZ7JZGpra2tqatKmoW3PBV/9kbKGAjrt6HgL/OVo5cjpHbugtTmstv/4yNyqWUYIqSYubSzaMdD55qpD1eEnnZNUitlstqurSyeUXVzMO+wkPtCE6WXh7FGk3KGALgOGtufSg7yrnpHaiYFmzzGyEDU7B24SQsKwuLaBfrh7jCCq647Dswk7WaGem5qaZBosqOdUTSWLStUOB6f7mZQ7FNDlgcaNoVKmHzoOOl+d05odVv/MCdbvhJAAJlbWIZE1I5saOuSlSpHZ2dkp6hmUcJZBT+ypWHGJTGlorhw/uXz/gwu332XbyiOPvdnbtzHJcfakBFBAlw09ry1I1YP6Om3x0IuLi/X19aiyGxoaenp6TGm5gTYP/ROt4vE/J7IhhLgZ3poJResKNXS8S1hpZLPZ2tpaUc91dXWmNB3YYwfRhOU1jPLa5ctL9312+r0fDrD53bdBSUc4oxkhOaGALic0liNtGjqTyUitLbS0tKQq8C48i2sbjijGtoPnOLKQEAKyG9egj925NVAht4/MlLxOtt3PAwMDpjQd2MEbebnnoYkXbr/LIZf9bLbh5rVDr5gtCYkZCugyA/140dC1/cdTFWPQ19fX0dGh/o+PfOQjZaqhAdpIrevlUtMVTUjVIlHO9uzTaqmaCUUFdFtbmylKB7b7GUralIbjzd4+FcfL9z+48shjxh56FMJ65vobVD2rYROzMSFxQgFdfqi8Q92dtjjd6enpD37wg1KJQ0Nns+UaRjw8fcnhZ9pz6A26ogmpHqCbofzw4IvPwmEtB86iKk7VaOPFxcWurq60+Z5Rbdp1KS6pWRCO8zfdAk28dN9n/cIz1o+8vtLz5bnGZltDQ2qbxYTEBgV0WaIj3tIWywF+//d/XwQ0uOeee0xpGYKm0TFnIa4251shpDDm1ya+Pd+XV07lkgDBB2XsGeIMq+0/3j4yw2xIIUEtaid+zsv9fHV2buWRx6CGIY7DBDdDRtsaevHuexkSTWKFArpc0Ym+oepSNU/hwMCAkc9bPPvss2ZBeTI8falu77g2ALCm/aeZK5qQfHni9B7HNCVqQ9PdZqXSgYcaFakjo6UaqllI6oFTy6lyOacfbafkGoavOS+/eHD2Qx8VKYx/lu9/0FMNr/Y/i0VXjp+Uj9n9L9hBHRfuLGMPDkk/FNBljB2q23LgbHpq9q6urp/7uZ8TAf2+972vfAM5FLSseqlhaAnQMLApJSQ882sTe892PPx6o0M9w56ebDcrJQ56yHiW3eMCxWr7jzc/P9k7dmFxbcNsQEKjs4DB8E/4sYPQwSqC1VBoFm8DkS2LFu++1xRtZbuzwzlWHnnMLCAkaiigy5uhqRX1j6INSFVI9B/+4R+Khm5vL1nrGCFoDBytbNP+03yTS0jZAdEMTdx28Bz0sf1Eq6FSbX1pqlS5nCsG253fcXjWlOZiY3JKfM/Qwcv3Pygi+M3evqtLzp9Dc9td/NwXTNEWWHN+922yaOb6G67OzpkFhEQKBXTZs7i2ofUUevk9ry2YBaUmm802NjaKhk7VhFjFgHbXbnRxwVMVP0MIcTC9ekXczFDMdjyu2xr3TXS+OscZlCIB3Q+9sOiQhHfhL959r2jf9e9mIIUvPd7vF8os4wthq88+Z4q2wYazDTfLUiblIDFBAV0JZDeu2RPptRw4m1ea+vgYGhoSAV0ZTmgB7bEjVzTa3XyHlhNCYmVkbhWi2U4/7GcNgyfbR2aomyMEF1ODN2Dhq8f1I6+L6g2TRkMlsmfuZxmACFv6ZIcpIiRSKKArBzQY6l+p7T+ekuwc4oSura2tgEhom96xC3YLAUtPv4WQ6mRxbWN4a47AYE8zDMK67eC5vvElBjfHgd1vaX0pj3m2VfXquEAhu/8FLFJ7s7cPolnWhHkKaF1h4fa7TBEhkUIBXVFMr15pH5mRaiuvQRvx0dPTI07okZG0p6/Kl9GlNceYfVzzjsOzlNEktZx8c+TFmZ5957qOXRxWM8vKk8xCFhUduq9+AwFheDCbn5+EYka/Fwqbw39jxZ42BT9KXl0UmXRwrrHZfN7C1sqedvH/fNQd5rExOSVLKaBJTFBAVyBD2zN+w6CnTWnp6OjoqK+vL9+JCYNB4+14TYyLzxwdJG18e77PkftC7YEf1JuVygF0XCGCe15baH1pym8UoBgeTFSATDqZJBMr67b7P6/YtqtLyyJ5HfEbOhmhy35W/5+5/oalT3bYmTquHD8piyigSUxQQFcmaGC0acnrDRopAGhlKGZHumhcfxTyBXECXNpY/NKJ1i8ea4alIaOwML82gYNZv5qWyKVjF4cfGW1ySGexx8ZbzEqpRBRz95H5lgNnHU+ZpzU/P4mVmSEneVAT2uq5af9psyAc69/NiORd7d8xe8C1y5dl4m41TbLhaViKdRb/5R/KR8ZAk5iggK5YJlbW1TOKhmea01DHDK5w79gFt4zuODybttkiKwzoVNWC932vphjN+ulPf1oijq677rrvfOc7prQg9p3rwvF85vt1kPV7z6alCUdnQ8I28I8pSh+qmCGF9WVagEnWOaxPZ3NpsaduxQ+X77jMS4/3i+S9/OJBUxTI/K//jqy/+Pufnr/lDvnfbdit2YCQSKGArmQW1zY0LhBKjq1LAuCau73RsPpnTqCc4dFxIFIV0vkbU52ZxUFTWhBXrlxRDf2ud73r6NGjZkH+vDzXq7IeNp0dNQuIF+h/Dk5ehAILCGW2rXHfxJ5Db1TYKMDp6emmpqaamprOzk5TVD7YeeugngvwGviNIPRjYStgGmY+b7F+5PU3e/uwK52ScGOS72BJLFBAVzholtDMSKUGDU1XaDKIjNYoGttaDpwdnr5k1osNCMHbbrsNKvCjH/3opUuXHB/NSv7ku36+YP+f+tSnNlXq1lcsLy/ne3gic2X9SxuLQ9Pd9mA4Pf7W1lZTFBrdFkBDz83lmIXBcTCmdAsclQSWQNmbIn8C9iMUc1IpBJ1JPAi9Yxd+96XJd/3WPZuX+4M/t+v/yTieF7Xm5ychr6GY4+6F6nUOeTdGxeLiYkNDw+Z12KK8Bo2MzK3aPxZ+KbMgH1YeejQvyespoAWdyxDrmCJCooYCuipAK6VVG4SdKSXh+Na3viVN2sDAgCkKR3bjGnos7SMz7tfQ9c+c6Hx1Lr64GocIyFcTxK0h1MsLIFLPnTuX19dls9kPfOADsq2nwC1Sa+rmAV+h5DyYkMR9UqUFzwLkMgz1jzMw4yt/vesnrt+81u/84V3/97elEJ1PrIZnZHDyYsLhZ3Hf/H7s3r178yJsUVdXZ0rLAdRytrOgcd9EYUOodWbBIgX0tcuXdTZv9wTghEQFBXS1gHZI67jWl6Y4uC08BQho2UTjaCdW1vvGlxzJOsRaDpzFItkqQhwiIF9NEKuGUKWoQrCAw4vbWat7ADfeeGOAMs55MCFJ4KSSJLOQFQdz28FzOaIyvnp0V8uezQv9wZ+7bWi857WFx/d/E5+KD0MvDL3OIX9Qx8NeACMjIz/3cz+3eQW2ybevXkJGl9Zs9dy0/3Rh6hkULKAd6+t+5m+5wxQREgMU0FUEZJwOka7bO85R6iEpXkAr0MrovWhjo4afY8+hNyIMsHGIgHw1Qb7r54UK6K6uLimJ/Ot0h8VoTd1JhAdWDJGcVEygQw65jNu74/CsIzl6sDU/P9k+MjNwatl2MxcvSYsh37uxyKOdnp5+97vfjT0oTU1NZlnqwe9up93A/8UE2GgMdEi3sQrl9SOvmyKrcOb6Gxj9TGKFArq6QH3Xsj0NdW3/cWroMDgEtLav0H/PP//8xz72MfyP5vNP/uRPZH07PkGA4tGtnnzyyf/l/s9ulsoL668e3fV7Xbvqb9gs2bXrbX/np3++/UHoCfXinDlzRsOF7W8B2OcDDzzwnve8R5bu3r1bB705REDwx5zrywq9vb1ysqChoUGPRFfGqeF48E9AMMNXv/rVrR28BS5jmG8PXgHgt5BLgav0+OOPywpFak1o/ebmZuwH2N9l43dsfrcHwDr6m+JKDg5uDnws7KSwld89EIDfTYW9+f3KR+cvffTXfgOFu//gf/0X/+Eb9X/vH+H/t739Hbva/kj1k+Nm3nX9T+9Y+sToO/+v4f/+41vOZut7HSfu+fjIMdiHDXCycumA7iTnTahr4gf65je/Kb+v4yI4foiAyxJwtNgqzE+DPcsKQn19PSS1WZZuUEfZb9WKVM9AA5cv3HmPKQrEIbivXb5sq+eQqTwIKRgK6GqkK3NeqryGwZNMzZETPwHtRlYIFtDKj7zrXV89fKzu5l83n21a78Ov0/z85P/+F9/TBlhASy+OLvXj2uhShwgI/hh+fQfiQnYvTV5A62/kwE9Au485DPp1Nn7H5sbv/pHLVcBJBd8Dfpw6dcrzpvpvsyv/8JZ/Zopstu7GTXHc+KubHyGLHThW2MnP7/l079gF1DN+3+s4cT9J6t5cCL6qW2e8A10TOljWVBz3c/APKiv7HW34n+bRRx81i3ftqqmpGR0tm2wtOjwdVtt/PN+kdW6ggGcbbhYFvPLQo6bUn9X+Z2XlN3v7rhw/qZnsqJ5JMlBAl55Lj/ejInDPRBordsLOOGJwK4kAAY3GEk2sNu2qbGQTu710b6WF/59P7Hn05SObbwb+/bAZTaXpCLZiQ9/29nfc9NB/HDi1fObMmVtvvVX2KS23fgUWyf7lGPxEgOfHkOvfc889ExMT8l0iDhwrAz21AHKGcDg+5lxBP0IzHT16FB9V1ugv4kA3yQs9Hhu/gwFyNRy3h34ULyYu5m/91m+5BbR+DDip4HvAjcQl3/kH/xrr/NA7rsNNhU7azU+NvP0X/vGuz+81Cvgf/4+7/uTFzXvPcTfa+vijv7ZZoitsv0t59z/4tZ/9zbYvfPOv8S3jE5P2TYJv16MVt7HezI4Tx6KAx8c+Wdm/o/sB5LLLhm7ca/rtyv4h/G5+lLiPFoT/aR555BGUC1LDlAX2wPTCktZ5opoYNr/7tuCWUecaXNzzKU1aN/uhj1I9k2SggC4xV2fn5LFPPttO95F5HQvf89qCKSUupIHU5s3Rvso60l6GUQB+jjGwuLbxO/9q8w31D33ohk2BotkJoFe226qm/ae7Muf/4vSCQ4MCce4GiAC/j9g25woO7PPVlQNOzSZyAa2S1L1DPykZEtuPqAfjIOfBA/ty6dFCN4smE/I9KfdlBHIP1PzIu77+/YnOV+egj9XMLeR1U/na9tg+EdDv/Ng/wacf+/DP/+M/H0N/D/fhv/mTL6Hk7e/YoR0V+6z1aN2/iPuKuR8f99UAcrKymu4k503o+QN57spewSbnwx7w07gPb2hoCOXgR37kR0xR6nEkrYu2+dDADDUo6eX7H0Q5lPHaoVfE8D9K5v7+r8/85I265vmbbgmZQ5qQ4qGALjHoXmvXOfkJk4amVlRDtx08BwFnFhCLaAW0Q0Cg/IEHHtDwSgH7GZ6cv+vZw29719boInlFbtujB3bJIheeIiD4oxxGzhU8j9NeOaRajVxAO34ge/1iBDSOM2cANMh58MBxe8hHQUNjHRt++bkXZYUHe58Y3koA9+LZZQmx+JndvwFB3PTEobf/6I/LOk7e/o5Nj7LjnhHTO8d9Uz0x+sG9xz7wu/f92M/euLUXw8/e2Pj8qfNnL2bd5yWiEOij4XeTeCpgwX3F3I+P+ycGdqHuJOcv7vkD2SfiXiHgvLDUfbR6sm7s1QTcZk1NTVjU3Z2WWeiDySxk7bQbrS9FP1AP4hhSWGVxSIPITvhFLqlyKKBLz+Ld98rzP9fYbI8mTgY0zDptXv0zJ4qPY6s8HI23ZwNcmIDWQgeyH22Gf7fjgT2H3rAbrQAB/UM1P/KP9n7vXx2auunXN4d8ifo5f+myfcyeEiFgheDj1KWVJKB1DyBnGruAY5tevaJRE/JbdB+Zx6/zC//2SZW/8pPt3n/yJ5r+6eZn8fh+7s+2Fu7ade8XzY+uQRTiPPa/B+yEyg77yS+9LN9bf3dHV+b8wKllUec4TvuUbTzPS87dU3c6kPXLV0AHnxe2dR9tgIAO+ZYmtdipnGDFJK0LBlJ49dnnlj7ZoQ6mAFu4/a7km05CKKBLD558rQigoU1pgqBO1NQcNU+NoVk1C9LHxMRES0tLJpMxnxPB0Xh7NsCFCWjds6oKez/aDOsm6N70vLbQ+tLUj3/tB+ZFvJcfcdNUbG2/f3/HR996//4vDp75u7tvxUeRdLZ38yO/0GiLBjmS4OP0PLUAIhfQbnGW7yE50M2Bn+KReGL70n34xsbPjZz53ZcmRQdf99NbcTjyc9ixEPobwe7/ymY5wO/o+MncrmKHgNZgDNc9AFnT/Pwk7hM8y3KQYjhs902lhPyV9UfRFeQ+z/dmVtx7dj8+7p8YiOqV1cL/4jlPxLFC8Hnho/to3Xd4ZYCWQr0tsMZ9E0Wm3QjJ+nczENMrjzwGu3DnPZDLMPyDj9n9L1xdWjbrEZIsFNCpQKcwPX/TLaYocbqPzNs1Yzqzc0DColmqqanp7e1NTEZrC5qvgAbu3Fh2A6+rPfnkk/ioKkH2o5to23zmzJk77rhDnGS/9hu/iUVvf8d1v/R/bA4F20y++++Hd/3Tu426cgnoHR+xgkg6edePpfIRbK3wi4MnRAWK4P6NL/1nWfjA//0focP6v/Paj/14LT6K/lYF+cstt4VxR+UU0ChxCBr5qCs41tcdQuw6xtv9ym/cZitItw1OXoTKbDt4TgKFYW95grd9w7pITB8TYzkvNcwW0FDGDX9/1799brNcVfK9X3Ru+JW/vu6/+zv4hGP4+//hAI7qp37n9zeX7tr1oV/5jb7xJb3suAce7vu6nM5fjZ761Kc+FSAi9dK5b6qQdyPA/lHiWKGYm9nx6wc8PviJZXO//YcX0LKy+0QcxxN8XigJOFqcrCbaw/kG/zQpZ3Ftw87wXdt/PBn1TEhqoYBOC+hkoz99dbaUb/eGplbsOcN6xy6YBamhp6dH2iphz549ZkGcaAMZXkCrpBPQano28I7VFHfbbCOHoQ25A6hY/HC3Pj+hCrjmq3/toeo0QkD58C9t/vVUgersdOBYeUu71+0ddyhOh/3KvuM179uUhvV3d0iJalbR6yj5pS8+s7lDix//uc0IVFnBvf5H/s1bucB2IN2J8IZz0b7EO3/YyNxgc1wr96V+YvTdt92DAjnapicO1bx7s/uh1PzIuwaPTjpeAuAn1rgCB3oL+d0DwSrN76YKvhtt3elAbsiCb2b3A+V+fPw2Vznu+Xx5kvNEHMeT87w8j7awnya1ZBaytu85kqR1hJQ7FNBkB9mNa52vzmlF2bT/dKpc0cPDw6Yh2qKurs4siJMCBDTAVtqCdlmpjh0t6JkzZ3Sk2o033iizKtj7QUusK9gzOADxaem3YOmTTz4pGzoOEh9FnInPWHyuGob7t97+jv/hf+0xmtVPBf774V0N/2CzBPzk392cLwN4Cejc5o498BKdm+EN4p19+zt2/at/ZxS/3+HBsI6sf/1P7/rX/79d//ILm//nK6BVPQeMw3PY9sG862c29fEfHX5DwmM+9PO/iEstE+w5bg/8TPqr+Q0iRIm9Jn7cwcFBkdT2LRRwDwTgd1MF3I324T377LPyjdCv4pcVCruZPU/c8fhIIfZ/662b11b4xCc+IZcO6E7CC2i/E3EfT87z8jvaAn6aFDK6tOaYjD3COVMJKV8ooIkHEM3qb6h5agySOqaRIgUwNDSExgygpRwZGTGlJDomVtY1wgGGxhKCW1zFbpOWVYJu5YYpL6t/5gSOfM+hN3COYazntQVckyqcwtNT5pYjFXMiyTBwalkzNcHwP+cNIESggCbeLK5t2JOtJDZehJQ1Ir6hMh26M3nDYaQzjr9MoYAOYGJiYs+ePejSl9E8gmGwZ0uBMXKDEBsKaBIEJIgOHEHtyTd3hFQnFNBustlsb2+vRneAjo4Os6zMyW5cs2fqhtXtHUen1CwmhFBAkzC0j8xoNZq2qGhCSAJQQDsYHh6ur6/fks2G2trayggqG11aa9w3oXU+rPn5SYnmJ4QoFNAkFAOnlmutiTwgqdMTFU0IIUmyuLhYV1dnhPOWdO7o6JienjaLy5bFtY3OV+fsoGdYy4GzZjEhxIICmoRlevWK/VKPUdGEkOoEWtlo5127GhsboafNgnJmcPKi7SURg542iwkhO6GAJvkxurSmUdE1T431vLZgFhBCSNXQ09PT0NCwZ8+eClDPi2sbdpyeWN3ecQ56ISQACmhSCIyKJoSQCsCRqE6s9aUpBj0TEgwFNCmQoakVe24qRkUTQkh50X1kXutwMcbmERISCmhSOFDM0M3qveArP0IIKQuk9lbdLNaVOU8/CCEhoYAmxZJZyNo5j8oi4dH09HRXV9fAwADnMiSEVBvD05ccs3PT8UxIvlBAk2joHbugruja/uOdr84trm2YZekDutkMod+1q7W1dXh42CwghJCKxh303PrSFB3PhOQLBTSJjImVdVTEWimjju7KnDfL0sfg4KCdyRX/9/X1mWWEkEpBXzeZz9VNx+FZraLFmKiOkMKggCYRMzh50Y7owP+9YxfS6d5Am2rk8xY1NTUVMBUCIURAl7i9vR3PtTzgVf50j8ytthw4qzUzrGHwJBMoEfL/b+/uY+uo0juOpxSCWd4MVCjsboGWFBlo0igIYaGieLXbJIJA8wfSRrsgRfQfb1fRRkGChFWUFm3lXS0l3bKV+0aymFW8tCBLKSgRb1YElRu2kaXIaVICMTYOTkxM7LixExKgT/zMPnty5vVcv+S+fD8aRZmZMy/nzNx7fnc8d27JCNCYEd4zOuq3vVeeX0/p7u5evXq1/iRvQ0NDNBVAJZPXdVNTk+ZmJa/x6vi5k1DHT59tPzTqXtTQQaaU8112QPkjQGOmSFyW0Oz+tJXG6DJ8156YmOjs7KzN/hW44OSlt3nzZr2lSpJub29vNKMky5cv19Cs6urqmpuba/DVLe+0LXuPuRcybFj9zsfc9AxMEQEaM6790OjNL71v791lezUawCwbHBxsaWmpr6+P0u6kqXwbYf/+/dFaJjU2NtbCnRuD42fW7xmqe+GAvLvu/mR868ER9+so7iBvxTI3WgzAFBCgMRuOnz67ed+w++CkRdt7JVhHswHUmPb2du9SsZIwLSE4KlQSSeTzJm3atGliYiKaWo0mzn4h76JNO/vsfVWG+m3/647aIMU6+k5ESwKYMgI0ZpV3N578f1P3J52DJ6PZAKqdhFrvBmWzevXqKd6/UQvkDXP9niEvN2cMK98a2D9yOloYwDQhQGO26b3R3oNI67e919x1ZOvBEW7tQBlat26dJry5c+fu3r07moqSuE9hV3V1dWvXruUZONky7mmW4aLnz3tHlUEStpQnOgMzhACNC0Nv2kvsDJa//pEkbN73UT7OnDljGfryyy/v6emJZiDcxMSEfl9QyH9aWlqq+0aLqevoO7Fq12HvfdKGP3ut74pfnnfbRkX8HCxQ6QjQuMCOTz5lyXtAqQ6Nr364Y2AsKodAlvkWL1588mT+TTK55aXAAw88IAVWrlwZTTqfFchYg7uJ3PJlxfZWSIYeGsr/+QmvvtHUGVBZLSn0u4Pt7e1E5wz7R043dx2pdx5k5A4r3xrYenBE3j/dv+bd/NL7fLcEmB0EaJSLibNfdPSdkA7DfWSHDNI9rH7n496xz6Jylen48eMzlBWee+45SU7xWwtkczfeeGPxtJdb3lJayQHa20TFxT7bYatCNCNF6CEo2ey0ZG9vLz/pNzu6hyfkTc99G7ShoeOD1gOfSm6Oin75ZeOrH8r0eS8e5OlGwGwiQKMcSVxe++5R98qKxmjpV6ISFUXSs/7Neu3atfY82s7Ozik+bUClBWgJVVyBnna2z2LBggXZsdirbzR1BuS2pJx1Enx37Niho2+//bYUzr2fW07X+vr6pkmNjY3n6jx5v3INPlN5dsSfVmTDzS+9v37PUIW+AQJViQCN8jVx9ovWA596DzRtfPXDiutFJHDY7wm7ZOLUM3RagJ6KiYkJfRiCRK5Vq1ZJfuru7raUVnKA9oSWLxO22+Wz515Lyvm2devWTZOam5st+4qOjg4pXyRAywmgi3jkfIhKYJpIbk57cnP9tvckN1f639+AqkSARgXYMTDmPbNp1a7DlXV7tCTReIae0QDthSoblVD15ptvSiaW/1900UW33HLL5BXGpiVLllxxxRUyMdHFF1+8ZcsWXUORAL19+3bdhOzY008/HS/g7pLFUJnS2tp65513ykTR0NCgy8ZLuhNtf2TKhg0brrnmmsml50iN7Nt+VritrU3KyH+mcluFfMDQ2gl3lzzebtvoD37wg507d2o13fYRUmbNmjXn1jtZfc273nrcKVdeeeW99947WTyf/sifXhR3WQP29/fb1sVVV10V/W/yXL3++uvlP9PSgFBdQ+OJubnuhQPyFsdTiYByRoBGxdCv1LjdTGX9GktnZ6deC5QcI/Fr9erV3d3d0bwpCA3QEsvk36nIDdBxktrdAt4ueaMeXVarKewe3EOHDmlW1gJ2w7HLmiW+8sT8l1GFDJZrPW4Ff/GLX9x0001aPk4rlbaT7nosQN9///1apjhtqLQAbe3p2bhxo8TutH2TBRFErzfLW1naM4jkPa0qc/MXp05F/wOqAgEaFSZ+zaah44Na/uJ5aIAWEphkSn9//w033CCjdXV1HR0db7zxxm233SajMvGxxx5btmzZwoULZVRyUk9PjyxuwatIgLZNZHxrMHH00Ucf1btHbFmda/HOtu5VXHfPRmVxXbmWj+/buVXESLF77rlHixVnudZjG9Vrt6677747Xikb1WvSUoUVK1akBWidctlll8m/cZdeeukdd9yhudxrSZkSv4XDVug2YOKxExkNiDTy+b9l77HExw3Z9Wb3q4HV5GzfwCd3Lz1ywx2n3tgVTQIqHwEaFUl6Gu9bhjX72+ChAdpNe+6yXgHv+q6wAhZhPRmbuOiii2Ti448/fuutt8rookWL0nbJ5X0DT0clzz3//PPf/va3r7vuOhm98sorr776avkM8LWvfU1GbW+FbtrLfzoalYhZtWqVlMlWX1+/a9cuu9qdtvPCNuq5/fbbbRG3jtbmkpv1U4SKN5RNkZb81a9+tXHjRm1Y+fDz1FNPdXV16YLGa8l4gI4fbpF4emQ3IDzygX/9nqHE7wXK0Pjqh5Kqq/uZzZ+PjEp6Hrx2vgzj216OpgKVjwCNCiYdz+p3PnZj9M0vvS/BuqZ+hGXqAVq0t7d7BTRj6SwtbAWCAvQzzzwzuZrzfPWrX03cJZmyYcMGuwda2VzbpbhLL73UvWHX5eW/tJ1XUtmmpqb43eqNjY3r169vaWnp7OwseAO0sI1K5pZ/582bd9ddd3lLJX5IUHYPd2JDuVMSC+S2pHvOxA+3cCfaJrIbEEpys7w1Jd6kUb/tPZnV0XeiFu5vlvR8bOlDmp6PLXkgmgpUBQI0Kp7E6OauI26MlmHR9t7N+4Zr4ee4yjxAP/vss5OrOc/8+fPju2SjHltb/C5nvbDd3Nz8yiuv6AXUOO8KdMH8J9uSrKwSLwaLIo+xS6yg2z5egJYyO3futLp4O+8Wy1izjXpscQL0DNkxMBZ/kr0O+hy6zsHouNeI0cc2anoeWtT02d7/iaYCVYEAjSohWTn+CFVJ1U07+zZ1f1LFSXoqAVrTm3eNVgtM1y0cuomLL764tbW1p6cnY5csrtkWvXBpUy655BL9OqbNsmzt3oHgyt35ImwlosidDF4FM9rHnaIkRp/bzGSN4gtmrzm3JeMBuvgtHATouP0jp9e+ezTxJwP1b2I1+/xmCc1jP/7ZxKuvReNAFSFAo9p0Dp5MvAi0/PWPqvKxUKEBWkgGkimWmRJDmEVSSYolf4kwexPeqMW+trY2WZu3rG7Cyqj41XFpB330m+iffCib7q0VKDn/ubUreB9wdn21jBttpcp224ZVX+uoxSzL2rFIXHNuS1qB+BMGpWp6IqUdu5IbsPro/c1p15tr7V4yoNYQoFGdJCh39J1Yteuw173pDYjV9MMEdhuGS0LP6OhoYnqL04jmhbC0NYsiAdqTuAlvNH6HhrL98TbhpVgLfJ5pCdCyuGVW/UQRzciUXV8t4wVorwpWR++Tg9CnhSSuObclvQLaJvFNCPtgNsUGrBryxtJ+aDTxYRoyLNreu6n7E3IzUAsI0Kh+OwbGJEl7f2Bd+dZAdcTo0AAtoy+//LIGNYlHepFSJMY7masl9Uc9dFu5AXrTpk12I2/GJuJb7O/vt+/nLViwoLW11Z2rrL7x3dBLzpZBZZ9l07qsbau0/Gfp2QJlEbn1FW6AllFrcOH+EIzwmlTzbtqac1tSFrcN2W0bstSyZct0onjkkUdsB6bYgFVAcrO8jXjftdBBP5Z3DY1HRQHUAAI0asXg+JmtB0cWbe91e74quxqdITG9VSK7UGr3bwAzRN4cWg982rSzLy03N3cdqayfRAUwXQjQqDmdgye9HwaXGF31346vmgCtl2yDrgQDQfaPnM54eLNM37xvuFp/9ARAQQRo1KiOvhPe1WjpF1sPfFqt/WJ1BGi7ebfSPwag3MgLX2/S8N4WbJj34kHubwZgCNCoafEYLYN0otX3MwfVEaDt/g17fAQwFV1D45v3DafdpCET5d2gin9kG0DJCNBA9LNhXg+qNzhywQmoMt3DExKaV741kBiaZdAvBbYfGq2FHwuM+3xk9PjD3zv324FLH/ri1KloKoDzEaCByPHTZ+PfMpSuVPraqASACjQ4fkbS8KbuTyQ0yyvafYHboKFZ3gFq5FvFGcae+qn+fKAMnx/Nf945UJsI0IBv/8hp6WvdJC2dKz+LAFSQrqHxlr3H5GXb+OqH9kL2hnkvHmzuOiKfkAnNrpHvP6Hp+eSWbdEkADEEaCCV9Kze9arV73zc0Xcimg2gbMjnW73MnJGYZWjo+EBStZTktuY0Z/sGhh/87thTP43GASQhQANZpJeVLjn+a72rdh1uPfBpVAjAbJGXZOfgSRk0Ljft7Jv34kHv5ekO8uLVG5r5CxKAaUSABgrZMTAWv7LFrR3AjOoentC4LFm5uetI/KNsfNBHZ7TsPSZL1ea3AAHMAgI0EKB37DPpmL3fYZGhoeOD9XuG2g+NRuUAlKpraFzisoRg71WWNsjrUV59ssjWgyN8mgUwOwjQQCmOnz67ed9w/HqYfi2JX/cFCpKXkt6MIYk57UdMbND7MaSwXpYeHD8TrQUAZhcBGpiSrqHxte8ejSfpuhcOLH/9I+npCdOA0eC79eCIvDSadvalPVROB8nTUqz1wKe6FPdjACgfBGhgevSOfSadfeI9mvNePKiXzSRMc80MVUlObI25MrTsPdbcdUTysTs0dHzgvS7ig5RZteuwvFKIywDKHAEamGb7R05LgFj++kdpV9ckJUiekEi9ed9w9/BEtBhQCeT01ogsMVdOcg3H2ReS0wZZSpaVqL314IisM9oAAFQCAjQwgyRtSM7IvbNTIrXECPtTdbQwMAWadEsb5KSVwbuKnP20uNyh8dUP9e8wMnT0neDbfgAqGgEamCWSS7YeHJEMkZunZZC0YcFFcozGDk3Y0epQq+QckAAq54OcS3aS2FDk7Jreoe6FA7JdfQ6GDjsGxvhtPwDVjQANXBj6exASO6Yr9EjmXvvuUYkv7YdGu4bGo82gouhjj/UGCR0kJRe5e3imB73dQoOy3nFBRAZQywjQQFnQPL1537BkpuauI9OVmfTqoH4xyxtkc7LRaPOYbuvWrZszae7cubt375Yp8qnGDcd6/bjIL4MEDfJhTFZrf7UoYdB8zLkBABkI0EDFGBw/s2NgzIs7OuiV7NK+y+UN9tUubxPeUOMZS+8wbj3wqdcsMix//SP53DLnuZ45y1drhp5z6WVz/uY/vHYuOOhHIHf97YdGZdM8pAIALiACNFBezpw588ADD0joWrx48cmTJ73RqFA6Kf+ny+6T8jfctvDJrv5Vuw5PV7COBsmF33r4XCgUN90+p/XXV9z1TfmvbO4newZyHyoiu6eXZtOqY/VduXJlNOl8oQ0SqnfsM/1dDxv0WRPnMrHXFLmDtNWib8iuniMZ+tn/dOfqBxV9WLgNs3z1d+qHo0LlVnz2FTyxPx8ZPfXGrhNP/mj4we/Kv9FUALOOAI0q9Nxzz0k/5LG/pJc5rx8t2K2aguUl6UpWc6ObDRLpsu7JtquqQkLh3+2KMqKE6X/u9gv/5pl9tvIf7h64et7Xpfjll18+NDQU7Y3D9n+GAnTX0Lh+A8+GlW8NTO99FLI2WaeufON/D966ZNm59pkzp+4rX+no6SurB4FPTEzceOONsm8lH44KlVvx2Zd9Yn9x6tTI958YvHa+Oxxb+lA0G8CsI0CjCtntp66CAfrtt98uXngmeP1oaF6cYr7MZrFj6YoHNYY+/u7H1zV+S6akBWh/sBsb0srbVdvF3/Rn6WAFCm5xyoNeKvbuI2/Ze6xz8GSRx3jbERELFiyYhbhW/ByWfeMKtFa83F740dTfGNv8j5abj/7B4tHHNr7xo59c2B0GahwBGlVIu8bSri0RoDNYgN60aZNOcTfXPXjcu6qtd2aHfSFy1gO05mPb5837hqf9DmNrJTETx8Uzjeew7XmVBei4Mg/QZ/sGhh/8ruTmz37drVMu+A4DNY4AjSqUEaC11xEWAQ8dOnTNNdfIlPb29vila8kN1rG1tbVt2LBB/qNrlumtra133nnnZME5DQ0NTz/9tK5T9ff3r1mzRudKP+fOlWVlVbpdsWTJkp6eHpvl9qPZo7nltUDaflphr2o61xO/MUbasMjWvQJL71sho3qLtmbWh//h3+quqpeJv3vJ3D//q7/Xex4avnGfhVp3sJsibA0y5f4f/vSG2/5EJorfu/mPlq7768SSMvzt3qP3LD13j7glQtml3GNRpH2yyWePpqamyS38tnHSuGeOkF3q6OjQWbktnHgOazFbp5wDusL42sTOnTu1NeSk3bJlixZwA7QsldZiGdJeDrK23PNTzrQ333xTGzD+UirhZehVPK3RvMVF4rEocnrk1sXbJZ2SVrWMHZalSjg6AEIRoFGFMgK09VIWgnP7UStjZNnDhw97E1U8lxvpLPVakV3Hddlcb5eyR4uX9+h+xudmJIDpCtBeAftI43ETmytthR6toO2zfDrSxe24aIGCx8LE2ydtB7JZ9ePiZ47SKsQb0JtS/ByOn/+yttzDkd1iadJeDmmt552fkh11ukk7gZXOFbnbzWi0xMWVdyxMxsuneF10l7KrlrbDpR0dACUgQKMKxXsXYX2qexFaA5bbwcT/MOr2ZNJLuanl0Ucf7e3tldH+/n7ttyyI6D7IevR6lRRYtmyZrtNm6ajM0vVrF5jWjyaOFiyftp9WWFjVMlj3bI2ZvfXcAjYqyaOnp0dG7dhpa8QlriGtghaAbG3eES94LHSK1sjjlinO2sdja3N3SWuUFnnjU+LnsLWDXsKUda5YsSK+NhvNOBzZLZbGlvJeDrrF4udnYmuU8DK0NWc0mpWxiYde2fH79eea8SsXX/LRtn+P754umKhgXWTUrXtG1eI7LEo7OgBKQIBGFbJe3xXPfMbtXTL6Ue3ndGKcblS7Nwua8X4rnkGFprqMfjRtVJbNLeBx99MKZ1fNTHuAtmAXX2Falx/fhMetoI0mtm3xY1GwfTLYtkTanot4gwg39MerH58SP4dttZKbNZApb9ncw5HbYtGk89lSRWJc4vnptpj3EchT8GUY1Gha2dHHNg5eO/+Zy6+XKZfM+Z3XFt9rKylyeuTWJbGAyzux4ztc2tEBUBoCNKqQm5miSeezrjFeLCNAe92wTN+wYYPdoai0e0uMQcrdtCexH80elRUWKZC2n1a4SLIR8R66yNYzCmhrC7vFIneXEjeRVkGZ627COy7Fj0XB9kkj7VbwBuh4gwh3YmL1vSnxc1joi0LZfbHesrmHI7fFdClPxstByCZyz0+30TQRCt3JjMUzthtfc7zRzmv29z7QJ2Bsv+mPdWLbE096jZMtty7xAhlVk7nxHS7t6AAoDQEaVSg3QFvXqCwuiHi3lNhN2kRPbs+d0cnpDnv9aPaorLBgeY83t2BALMMAbaMe2wH3MqR38bL4sSjYPoncPcx9jF28QYQ70au+zI1PiZ/DQorZtwNF4smWezhyW0yX8mS8HGz9Hu/gWtVEYuj0aPki281oNLc1/q91qwbo1/7iL22i1zjZitfFq7snY4dLOzoASkOARhXKDtCWqBoaGrS/cbu0eLeU2E1a52p9s/sHVuvJ4j1rPIN60vrRxNHc8tn7aYULBsRpD9DxiJO7S94asivoTpHz4Tvf+Y47q/ixKNg+cbYGUSTEJGY+N/d71Ze58Snxc9glMVrmCtmEt2zu4chtsUQZL4eC56dVzQpo7Up+GRZpNLc1zvYNHH/4eyee/NG//vznVsxrnGy5dfEK5J7Y8R0u7egAKA0BGlVIe5q0vOLGES0prMuxfiv+eCm3m7RibW1tMmp9rXZvtoh1b/39/Q899JB7nUlm2fOwZO6aNWt0/V4/6o1KAa/TtSokli+4n0USgMgN0DIlaPdshXKwSvsSYXYFdREro+Qo6HRbVe6xKNg+HltcFEnPwhaR8nrmxGuU3cJSIH4Oy0rstg1bYfyqZ+7hsPJpLZbIXcp7ORQ8P4WsX6b8tsDChUM/+6fO53+pc0t+GWY0mpVJOxZWoMjpkVWX89emo9ktI1Mydjjo6AAoDQEaVch6fY90nBYRtEdxE4PmG5uipFhiN+kVM/HuzaXRzfpCj67f60e90cQ133PPPfJvYvns/UysWgZbW0aADto9KW9/xfak7VJQBb1FhBdkCx6Lgu3jkmXtPNQ8Gs3Ik3jmWARMLOC2sBSIn8Pxamo7lHA4slssTdrLoeD5GfcvC+8evHb+h9fc8vW5ddEkh1UnbbvxiscbLW1xOxZBp0dGXfRtwdul3BM7cYdLOzoASkCARhVKCwHSUbmXn7Ww9ZHuRWjrhGRiWjfZ399v3wxbsGBBa2ur/Me6NyGdmRVoOP/3HfSykG1F5ra1temCXj/qjeri7k9dyIJahbTyGfuZVrU01mdnBGgRtHtCymh5aYeOjg49Rmm7FFRBXUTYKRFfbZFjUUL+sPTsnmwFyS4tW3buJ2DUI4884uXvjBbWAt45LFOskUXalwgnF80/HBktliHt5VDk/JTRl19+2a3y0KImvSl5T/3N9/7h/HMLh7wMEysebzSRcSyCTo+MusQL6C5ltIwukrbDJRwdAKEI0ACqn0ZMoVf7UBESY646/c5/jXz/iZNbto39+Gefj4xGU8tYRl0AVCICNIDqp9eDS7gYjAuomkInARqoMgRoAFXO7jwhu1QWAjSAskWABlDl7P4N9zZ0lD8CNICyRYAGAAAAAhCgAQAAgAAEaAAAACAAARoAAAAIQIAGAAAAAhCgAQAAgAAEaAAAACAAARoAAAAIQIAGAAAAAhCgAQAAgAAEaAAAACAAARoAAAAIQIAGAAAAAhCgAQAAgAAEaAAAACAAARoAAAAIQIAGAAAAAhCgAQAAgAAEaAAAACAAARoAAAAIQIAGAAAAAhCgAQAAgAAEaAAAACAAARoAAAAIQIAGAAAAAhCgAQAAgAAEaAAAACAAARoAAAAIQIAGAAAAAhCgAQAAgAAEaAAAACAAARoAAAAIQIAGAAAAAhCgAQAAgAAEaAAAACAAARoAAAAIQIAGAAAAAhCgAQAAgAAEaAAAACAAARoAAAAIQIAGAAAAAhCgAQAAgAAEaAAAACAAARoAAAAIQIAGAAAAAhCgAQAAgAAEaAAAACAAARoAAAAIQIAGAAAAAhCgAQAAgAAEaAAAACAAARoAAAAIQIAGAAAAAhCgAQAAgAAEaAAAACAAARoAAAAIQIAGAAAAAhCgAQAAgAAEaAAAACAAARoAAAAIQIAGAAAAAhCgAQAAgAAEaAAAACAAARoAAAAIQIAGAAAAAhCgAQAAgAAEaAAAACAAARoAAAAIQIAGAAAAAhCgAQAAgAAEaAAAACAAARoAAAAIQIAGAAAAAhCgAQAAgAAEaAAAACAAARoAAAAIQIAGAAAAAhCgAQAAgAAEaAAAACAAARoAAAAIQIAGAAAAAhCgAQAAgAAEaAAAACAAARoAAAAIQIAGAAAAAhCgAQAAgAAEaAAAACAAARoAAAAIQIAGAAAAAhCgAQAAgAAEaAAAACAAARoAAAAIQIAGAAAAAhCgAQAAgAAEaAAAACAAARoAAAAIQIAGAAAAAhCgAQAAgAAEaAAAACAAARoAAAAIQIAGAAAAAhCgAQAAgAAEaAAAACAAARoAAAAIQIAGAAAAAhCgAQAAgAAEaAAAACAAARoAAAAIQIAGAAAAAhCgAQAAgAAEaAAAACAAARoAAAAIQIAGAAAAAhCgAQAAgAAEaAAAACAAARoAAAAIQIAGAAAAAhCgAQAAgAAEaAAAACAAARoAAAAIQIAGAAAAAhCgAQAAgAAEaAAAACAAARoAAAAIQIAGAAAAAhCgAQAAgAAEaAAAACAAARoAAAAIQIAGAAAAAhCgAQAAgAAEaAAAACAAARoAAAAIQIAGAAAAAhCgAQAAgAAEaAAAACAAARoAAAAIQIAGAAAAAhCgAQAAgAAEaAAAACAAARoAAAAIQIAGAAAAAhCgAQAAgAAEaAAAACAAARoAAAAIQIAGAAAAAhCgAQAAgAAEaAAAACAAARoAAAAIQIAGAAAAAhCgAQAAgAAEaAAAACAAARoAAAAIQIAGAAAAAhCgAQAAgAAEaAAAACAAARoAAAAIQIAGAAAAAhCgAQAAgAAEaAAAAKCwL7/8f7fHfJ2h1k0LAAAAAElFTkSuQmCC)"
      ],
      "metadata": {
        "id": "IvI5-yRRP9HE"
      }
    },
    {
      "cell_type": "markdown",
      "source": [
        "This video goes over the the lipid bilayer surrounding the cell real quick as a review as well."
      ],
      "metadata": {
        "id": "Ajw69eI5TOtm"
      }
    },
    {
      "cell_type": "code",
      "source": [
        "YouTubeVideo('x8ROEj2SFes')"
      ],
      "metadata": {
        "colab": {
          "base_uri": "https://localhost:8080/",
          "height": 322
        },
        "id": "cZ1guTpyTWxk",
        "outputId": "8f61c3a0-9e74-4393-9dab-69ada867a48a"
      },
      "execution_count": 4,
      "outputs": [
        {
          "output_type": "execute_result",
          "data": {
            "text/plain": [
              "<IPython.lib.display.YouTubeVideo at 0x7d14651baa70>"
            ],
            "text/html": [
              "\n",
              "        <iframe\n",
              "            width=\"400\"\n",
              "            height=\"300\"\n",
              "            src=\"https://www.youtube.com/embed/x8ROEj2SFes\"\n",
              "            frameborder=\"0\"\n",
              "            allowfullscreen\n",
              "            \n",
              "        ></iframe>\n",
              "        "
            ],
            "image/jpeg": "[encoded data removed]"
          },
          "metadata": {},
          "execution_count": 4
        }
      ]
    },
    {
      "cell_type": "markdown",
      "source": [
        "# From Drawings to Code\n",
        "So how do we create the soma with these things within NEURON? It's actually very simple. NEURON defines parts of the cell as sections. NEURON defines sections as cylindrical sections, with a diameter and a length.  A dendrite would be one section, the soma another, and the axon would be the last. When created, such sections are populated by default values.\n",
        "\n",
        "![image](https://raw.githubusercontent.com/chenziao/Software_Tutorials_Colab/main/S1_PassiveMembrane/cylinder.png)\n",
        "\n",
        "Every section can then be further subdivided into segments, which are equally lengthed segments that divide the section. Since nothing special is occuring in this notebook, we will divide the soma into three segments.\n",
        "\n"
      ],
      "metadata": {
        "id": "ud2WmGp_UdVe"
      }
    },
    {
      "cell_type": "code",
      "source": [
        "soma = h.Section(name='Soma') #creates soma\n",
        "soma.nseg = 3 #defines how many segments to divide soma into\n",
        "print(\"The default length is \" + str(soma.L) + \" microns\")\n",
        "print(\"The default diameter is \" + str(soma.diam) + \" microns\")\n",
        "print(\"The default capacitance is \" + str(soma.cm) + \" microFarad / cm^2\")\n",
        "print(\"The default cytoplasmic resistivity is \" + str(soma.Ra) + \" ohm-cm\")\n",
        "soma.L = 35\n",
        "soma.diam = 35\n",
        "soma_length = soma.L\n",
        "soma_diam = soma.diam\n"
      ],
      "metadata": {
        "id": "ICK852Tkq0tM",
        "colab": {
          "base_uri": "https://localhost:8080/"
        },
        "outputId": "eff1104f-115a-41e9-d102-f6d593e5234e"
      },
      "execution_count": 5,
      "outputs": [
        {
          "output_type": "stream",
          "name": "stdout",
          "text": [
            "The default length is 100.0 microns\n",
            "The default diameter is 500.0 microns\n",
            "The default capacitance is 1.0 microFarad / cm^2\n",
            "The default cytoplasmic resistivity is 35.4 ohm-cm\n"
          ]
        }
      ]
    },
    {
      "cell_type": "markdown",
      "source": [
        "These values are unrealistic for mammalian neurons since they come from Hodgkin and Huxley's experiments with a squid giant axon. However, we can always change them to something different. Here we change the diameter and length to be 35 microns.\n",
        "For more information on some neurons' typical geometries, click [here.](https://synapseweb.clm.utexas.edu/dimensions-dendrites)"
      ],
      "metadata": {
        "id": "EbXSEVWfBFLy"
      }
    },
    {
      "cell_type": "markdown",
      "source": [
        "# Adding Leak/Passive Channels\n",
        "One might notice that there is many things missing from our model so far. We have no channels, and as a result there is not even a resting membrane potential. So first, let's add the passive/leak channels to our soma.\n"
      ],
      "metadata": {
        "id": "AAa26wkHCHWP"
      }
    },
    {
      "cell_type": "code",
      "source": [
        "soma.insert('pas') #inserts passive channel\n",
        "print(\"Default E_leak = \" +str(soma.e_pas) + \" mV\")\n",
        "print(\"Default g_leak = \" + str(soma.g_pas) + \" S/cm^2\")"
      ],
      "metadata": {
        "id": "jECW0hoB8iiS",
        "colab": {
          "base_uri": "https://localhost:8080/"
        },
        "outputId": "77b79983-ab9f-4140-c57c-89ae931e5221"
      },
      "execution_count": 6,
      "outputs": [
        {
          "output_type": "stream",
          "name": "stdout",
          "text": [
            "Default E_leak = -70.0 mV\n",
            "Default g_leak = 0.001 S/cm^2\n"
          ]
        }
      ]
    },
    {
      "cell_type": "markdown",
      "source": [
        "The resting membrane potential is just e_leak. In this case, the default values are realistic."
      ],
      "metadata": {
        "id": "eeiC5qARFse-"
      }
    },
    {
      "cell_type": "markdown",
      "source": [
        "# Adding Active Channels\n",
        "We have everything to model a passive membrane. However, active channels do exist, and can also be added. We will be inserting Hodgkin-Huxley channels to the soma, so their defaults will also be based off the squid giant axon. These hh channels also include a leak channel based off the squid giant axon, which we will not be using since we already have leak channels.\n",
        "\n"
      ],
      "metadata": {
        "id": "44E9tu-6k1KB"
      }
    },
    {
      "cell_type": "code",
      "source": [
        "soma.insert('hh') #insert Hodgkin-Huxley channels\n",
        "print(\"Default El_hh = \" +str(soma.el_hh) + \" mV\")\n",
        "print(\"Default gl_hh = \" + str(soma.gl_hh) + \" S/cm^2\")\n",
        "print(\"Default Ek = \" +str(soma.ek) + \" mV\")\n",
        "print(\"Default gkbar_hh = \" + str(soma.gkbar_hh) + \" S/cm^2\")\n",
        "print(\"Default Ena = \" +str(soma.ena) + \" mV\")\n",
        "print(\"Default gnabar_hh = \" + str(soma.gnabar_hh) + \" S/cm^2\")\n",
        "soma.gl_hh = 0 #changing soma's gleak_hh to be 0 as we already have passive channels, effectively disabling it."
      ],
      "metadata": {
        "id": "FHbWMktSk1gx",
        "colab": {
          "base_uri": "https://localhost:8080/"
        },
        "outputId": "9c21b3de-86bd-4ea6-9f8d-840fafcb2783"
      },
      "execution_count": 7,
      "outputs": [
        {
          "output_type": "stream",
          "name": "stdout",
          "text": [
            "Default El_hh = -54.3 mV\n",
            "Default gl_hh = 0.0003 S/cm^2\n",
            "Default Ek = -77.0 mV\n",
            "Default gkbar_hh = 0.036 S/cm^2\n",
            "Default Ena = 50.0 mV\n",
            "Default gnabar_hh = 0.12 S/cm^2\n"
          ]
        }
      ]
    },
    {
      "cell_type": "markdown",
      "source": [
        "#Current Clamp\n",
        "A current clamp injects a steady current into the soma and is typically used to measure the change in voltage. Current Clamps have four parameters: the location(so where in the soma on a 0-1 scale), the duration(how long you will be injecting current for), the amplitude(how much current), and delay(how long will you wait until you inject)."
      ],
      "metadata": {
        "id": "Ci661pi0s69c"
      }
    },
    {
      "cell_type": "code",
      "source": [
        "ic = h.IClamp(soma(0.5)) # middle of soma\n",
        "ic.dur = 2.5 #ms\n",
        "ic.amp = 1 #nA\n",
        "ic.delay = 100 #ms"
      ],
      "metadata": {
        "id": "sb0a20OQtMpd"
      },
      "execution_count": 8,
      "outputs": []
    },
    {
      "cell_type": "markdown",
      "source": [
        "#Extras: Voltage Clamp\n",
        "A voltage clamp holds the voltage at a steady state value and is used to measure the current. Voltage clamps do not have a delay parameter. We will only be showcasing current clamp in this lab, but the commented code below shows how one could implement a voltage clamp."
      ],
      "metadata": {
        "id": "nZqPxIu4Itz8"
      }
    },
    {
      "cell_type": "code",
      "source": [
        "#vc = h.VClamp(soma(0.5)) #middle of soma\n",
        "#vc.dur[0] = 500 #ms\n",
        "#vc.amp[0] = -10 #mV"
      ],
      "metadata": {
        "id": "9wuIDocMNxtP"
      },
      "execution_count": 9,
      "outputs": []
    },
    {
      "cell_type": "markdown",
      "source": [
        "# Running a Simulation\n",
        "Now we have a full cell with the necessary things. But how is the voltage going to change due to our clamps? If we start a simulation, we can find out. But we need to define how long the simulation is, how long each step forward in the simulation, and record the values throughout the simulation."
      ],
      "metadata": {
        "id": "5aEP6mh72tzC"
      }
    },
    {
      "cell_type": "code",
      "source": [
        "h.v_init= soma.e_pas #initial voltage is the resting membrane potential of the soma\n",
        "h.tstop = tstop = 200 # how long to run the simulation in ms\n",
        "h.dt = 0.025 # time step (resolution) of the simulation in ms\n",
        "\n",
        "# define two vectors for recording variables\n",
        "t_vec = h.Vector()\n",
        "soma_v_vec = h.Vector()\n",
        "# record the voltage (_ref_v) and time (_ref_t) and voltage(_ref_v) into the vectors we just created\n",
        "t_vec.record(h._ref_t)\n",
        "soma_v_vec.record(soma(0.5)._ref_v)\n",
        "h.run()"
      ],
      "metadata": {
        "id": "7tNzaEcF2YzV",
        "colab": {
          "base_uri": "https://localhost:8080/"
        },
        "outputId": "1e2fbb45-45af-4bbc-c53d-c40fd373b0ff"
      },
      "execution_count": 10,
      "outputs": [
        {
          "output_type": "execute_result",
          "data": {
            "text/plain": [
              "0.0"
            ]
          },
          "metadata": {},
          "execution_count": 10
        }
      ]
    },
    {
      "cell_type": "markdown",
      "source": [
        "# Plotting Results\n",
        "Even though we've ran the simulation, we need to show the results. Matplotlib allows us to graph our results with respect to time.\n",
        "What do you think will happen to the soma's voltage throughout the simulation?\n"
      ],
      "metadata": {
        "id": "qTOR0-1f5Z7W"
      }
    },
    {
      "cell_type": "code",
      "source": [
        "fig, axs = plt.subplots(1,1,figsize=(6, 6))\n",
        "axs.plot(t_vec,soma_v_vec, color = 'black') #plotting time vs current\n",
        "axs.set_title(str(soma) + ' Voltage')\n",
        "axs.set_xlabel('Time(ms)')\n",
        "axs.set_ylabel('Current (mV)')\n",
        "plt.show()"
      ],
      "metadata": {
        "id": "NZcK8cR05ukC",
        "colab": {
          "base_uri": "https://localhost:8080/",
          "height": 564
        },
        "outputId": "9e25fd5c-c49f-496d-9dc6-dd914db0e847"
      },
      "execution_count": 11,
      "outputs": [
        {
          "output_type": "display_data",
          "data": {
            "text/plain": [
              "<Figure size 600x600 with 1 Axes>"
            ],
            "image/png": "[encoded data removed]"
          },
          "metadata": {}
        }
      ]
    },
    {
      "cell_type": "markdown",
      "source": [
        "An action potential occurs with the default values."
      ],
      "metadata": {
        "id": "uU8BvdJT9K4J"
      }
    },
    {
      "cell_type": "markdown",
      "source": [
        "#But What does the Soma with Channels Actually Look Like?\n",
        "Below is an interactive tool that allows you too see how the morphology of the soma changes depending on the soma's length, diameter, and what channels are inserted in. You can then also see how that will change what happens to the soma's voltage throughout the simulation.\n"
      ],
      "metadata": {
        "id": "nPRMrk_M52Uh"
      }
    },
    {
      "cell_type": "code",
      "source": [
        "#function for graphing soma morphology and voltage\n",
        "def graph(soma_length,soma_diam,leak_channel,k_channel,na_channel,t_vec,soma_v_vec,ileak_vec,ik_vec,ina_vec):\n",
        "  #Create the plot\n",
        "  fig, axs = plt.subplots(3,1,figsize=(10, 8)) # 3 subplots of the same size\n",
        "\n",
        "  #colors for the three different currents\n",
        "  leak_color = 'purple'\n",
        "  k_color = 'blue'\n",
        "  na_color = 'red'\n",
        "  soma_color = 'black'\n",
        "\n",
        "  #Soma morphology\n",
        "  #Make Soma\n",
        "  #outer lines\n",
        "  soma_xcoords = [0,soma_length]\n",
        "  soma_ycoords = [-soma_diam/2,soma_diam/2]\n",
        "  axs[0].plot(soma_xcoords,[-soma_diam/2,-soma_diam/2], color = soma_color) #bottom line\n",
        "  axs[0].plot(soma_xcoords,[soma_diam/2,soma_diam/2], color = soma_color) #upper line\n",
        "  axs[0].plot([0,0],soma_ycoords, color = soma_color) #left line\n",
        "  axs[0].plot([soma_length,soma_length],soma_ycoords, color = soma_color) #right line\n",
        "\n",
        "  #inner lines to indicate bilayer\n",
        "  in_soma_xcoords = [soma_length*0.01, soma_length*0.99]\n",
        "  in_soma_ycoords = [-soma_diam/2*0.77, soma_diam/2*0.77]\n",
        "  axs[0].plot(in_soma_xcoords,[soma_diam/2*0.77,soma_diam/2*0.77],color = soma_color) #upper line\n",
        "  axs[0].plot(in_soma_xcoords,[-soma_diam/2*0.77,-soma_diam/2*0.77],color = soma_color) #bottom line\n",
        "  axs[0].plot([soma_length*0.01,soma_length*0.01],in_soma_ycoords,color = soma_color) #left line\n",
        "  axs[0].plot([soma_length*0.99,soma_length*0.99],in_soma_ycoords,color = soma_color) #right line\n",
        "\n",
        "  #axs[0].fill_between(soma_xcoords, soma_diam/2,-soma_diam/2, color = soma_color) #soma rectangle\n",
        "\n",
        "\n",
        "\n",
        "  #Adding + and - to show that cell is naturally polarized.\n",
        "  for i in range(int(soma_length)):\n",
        "    if(i % int(soma_length/14+4) == 0 and i > 0 and i < (soma_length * 0.98)):\n",
        "      axs[0].plot(i, soma_diam/2+soma_diam/3, marker = '+', color = 'black') #upper +\n",
        "      axs[0].plot(i,soma_diam/2 * 0.25, marker = '_', color = 'black') #upper -\n",
        "\n",
        "      axs[0].plot(i, -(soma_diam/2+ soma_diam/3), marker= '+', color = 'black') #lower +\n",
        "      axs[0].plot(i,-(soma_diam/2 * 0.25), marker = '_', color = 'black') #lower -\n",
        "\n",
        "  #Adding + and - to the sides of the cell\n",
        "  axs[0].plot(soma_length*-0.025,0, marker = '+', color = 'black') #left +\n",
        "  axs[0].plot(soma_length* 0.030,0, marker = '_', color = 'black') #left -\n",
        "\n",
        "  axs[0].plot(soma_length* 1.025,0, marker = '+', color = 'black') #right +\n",
        "  axs[0].plot(soma_length* 0.970,0, marker = '_', color = 'black') #right -\n",
        "\n",
        "  #Add channels if they exist.\n",
        "  if(leak_channel == 'Leak Channels'):\n",
        "    for i in range(int(soma_length)):\n",
        "      if(i % int(soma_length / 6 + 1) == 0 and i > 0):\n",
        "        axs[0].plot(i, soma_diam/2*0.9, marker = 's', color = leak_color)\n",
        "        axs[0].plot(i, -(soma_diam/2*0.85), marker= 's', color = leak_color)\n",
        "  if(k_channel == 'K+ Channels'):\n",
        "    for i in range(int(soma_length)):\n",
        "      if(i % int(soma_length / 4 + 6) == 0 and i > 0):\n",
        "        axs[0].plot(i, soma_diam/2*0.9, marker = 's', color = k_color)\n",
        "        axs[0].plot(i, -(soma_diam/2*0.85), marker= 's', color = k_color)\n",
        "  if(na_channel == 'Na+ Channels'):\n",
        "    for i in range(int(soma_length)):\n",
        "      if(i % int(soma_length / 5 + 3) == 0 and i > 0):\n",
        "        axs[0].plot(i, soma_diam/2*0.9, marker = 's', color = na_color)\n",
        "        axs[0].plot(i, -(soma_diam/2*0.85), marker= 's', color = na_color)\n",
        "        continue\n",
        "\n",
        "\n",
        "  # Add title and labels\n",
        "  axs[0].set_title(str(soma) + ' Morphology')\n",
        "  axs[0].set_xlabel('Length(um)')\n",
        "  axs[0].set_ylabel('Height(um)')\n",
        "  axs[0].set_ylim(-soma_diam*2,soma_diam*2)\n",
        "  axs[0].set_xlim(-(soma_length*0.1),soma_length *1.1)\n",
        "\n",
        "\n",
        "\n",
        "  #Soma Voltage\n",
        "  axs[1].plot(t_vec,soma_v_vec, color = 'black') #plotting time vs voltage\n",
        "  axs[1].set_title(str(soma) + ' Voltage')\n",
        "  axs[1].set_xlabel('Time(ms)')\n",
        "  axs[1].set_ylabel('Voltage (mV)')\n",
        "\n",
        "\n",
        "  #Soma channel's currents.\n",
        "  axs[2].plot(t_vec,ina_vec, color = na_color, label = 'Na+')\n",
        "  axs[2].plot(t_vec,ik_vec, color = k_color, label = 'K+')\n",
        "  axs[2].plot(t_vec,ileak_vec, color = leak_color, label = 'Leak')\n",
        "  axs[2].legend(loc = 'upper right')\n",
        "  axs[2].set_title(str(soma) + ' Currents')\n",
        "  axs[2].set_xlabel('Time(ms)')\n",
        "  axs[2].set_ylabel('Current (nA)')\n",
        "\n",
        "  # Show the plot\n",
        "  plt.tight_layout()\n",
        "  plt.show()"
      ],
      "metadata": {
        "id": "_UN6q9j454y-"
      },
      "execution_count": 12,
      "outputs": []
    },
    {
      "cell_type": "code",
      "source": [
        "def activemodel(soma_length,soma_diam,tstop, ic_dur,ic_amp,ic_delay,leak_channel,k_channel,na_channel):\n",
        "  h.v_init= soma.e_pas #initial voltage is the resting membrane potential of the soma\n",
        "  soma.diam = soma_diam\n",
        "  soma.L = soma_length\n",
        "  h.dt = 0.025 # time step (resolution) of the simulation in ms\n",
        "  # define vectors for recording variables\n",
        "  t_vec = h.Vector()\n",
        "  soma_v_vec = h.Vector()\n",
        "  ileak_vec = h.Vector()\n",
        "  ik_vec = h.Vector()\n",
        "  ina_vec = h.Vector()\n",
        "\n",
        "  # record the voltage, time, and currents into the vectors we just created\n",
        "  t_vec.record(h._ref_t)\n",
        "  soma_v_vec.record(soma(0.5)._ref_v)\n",
        "  ileak_vec.record(soma(0.5)._ref_i_pas)\n",
        "  ik_vec.record(soma(0.5)._ref_ik)\n",
        "  ina_vec.record(soma(0.5)._ref_ina)\n",
        "\n",
        "\n",
        "  h.tstop = tstop\n",
        "  ic.dur = ic_dur\n",
        "  ic.amp = ic_amp\n",
        "  ic.delay = ic_delay\n",
        "\n",
        "  #check for if channels are open\n",
        "  if(leak_channel == 'Leak Channels'):\n",
        "    soma.g_pas = 0.001 #S/cm^2\n",
        "  else:\n",
        "    soma.g_pas = 0\n",
        "  if(k_channel == 'K+ Channels'):\n",
        "    soma.gkbar_hh = 0.036 #S/cm^2\n",
        "  else:\n",
        "    soma.gkbar_hh = 0\n",
        "  if(na_channel == 'Na+ Channels'):\n",
        "    soma.gnabar_hh = 0.12 #S/cm^2\n",
        "  else:\n",
        "    soma.gnabar_hh = 0\n",
        "  h.run()\n",
        "  plt.close('all')\n",
        "  graph(soma_length,soma_diam,leak_channel,k_channel,na_channel,t_vec,soma_v_vec,ileak_vec,ik_vec,ina_vec)\n"
      ],
      "metadata": {
        "id": "qWJt0nVcAHVi"
      },
      "execution_count": 13,
      "outputs": []
    },
    {
      "cell_type": "code",
      "source": [
        "import ipywidgets as widgets\n",
        "from ipywidgets import interactive_output,HBox,VBox,Label,Layout\n",
        "from IPython.display import display\n",
        "\n",
        "#default settings\n",
        "default_soma_length = 35 #microns\n",
        "default_soma_diam = 35 #microns\n",
        "default_leak_channel = 'No Leak Channels' #S/cm^2\n",
        "#default_g_pas = 0.001 #S/cm^2\n",
        "default_k_channel = 'No K+ Channels' #S/cm^2\n",
        "default_na_channel = 'No Na+ Channels' #S/cm^2\n",
        "default_tstop = 200 # how long to run the simulation in ms\n",
        "default_ic_dur = 2.5 #ms\n",
        "default_ic_amp = 1 #nA\n",
        "default_ic_delay = 100 #ms\n",
        "\n",
        "#Reset button\n",
        "w_reset = widgets.Button(description ='Reset', icon = 'history', button_style ='primary')\n",
        "\n",
        "#Textboxes\n",
        "w_soma_length = widgets.BoundedFloatText(value = default_soma_length, min = 1, max = 10000, description = 'Length(um)')\n",
        "w_soma_diam = widgets.BoundedFloatText(value = default_soma_diam, min = 1, max = 10000, description = 'Diameter(um)')\n",
        "w_tstop = widgets.BoundedFloatText(value = default_tstop, min = 5, max = 1000, description = 'Tstop(ms)')\n",
        "w_ic_dur = widgets.BoundedFloatText(value = default_ic_dur,min = 1, max = 500, description = 'Injection(ms)')\n",
        "w_ic_amp = widgets.BoundedFloatText(value = default_ic_amp, min = -100, max = 100, description = 'Amp(nA)')\n",
        "w_ic_delay = widgets.BoundedFloatText(value = default_ic_delay,min = 1, max = 400, description = 'Delay(ms)')\n",
        "\n",
        "#defining reset\n",
        "def reset_default(*args):\n",
        "  w_soma_length.value = default_soma_length\n",
        "  w_soma_diam.value = default_soma_diam\n",
        "  passive_select.value = 'No Leak Channels'\n",
        "  k_select.value = 'No K+ Channels'\n",
        "  na_select.value = 'No Na+ Channels'\n",
        "  w_tstop.value = default_tstop\n",
        "  w_ic_dur.value = default_ic_dur\n",
        "  w_ic_amp.value = default_ic_amp\n",
        "  w_ic_delay.value = default_ic_delay\n",
        "w_reset.on_click(reset_default)\n",
        "\n",
        "#radio buttons for channel selections\n",
        "passive_select = widgets.RadioButtons(options = ['Leak Channels', 'No Leak Channels'], value = 'No Leak Channels',description = 'Leak:', disabled = False)\n",
        "k_select = widgets.RadioButtons(options = ['K+ Channels', 'No K+ Channels'], value = 'No K+ Channels', description = 'K+:', disabled = False)\n",
        "na_select = widgets.RadioButtons(options = ['Na+ Channels', 'No Na+ Channels'], value = 'No Na+ Channels', description = 'Na+:', disabled = False)\n",
        "\n",
        "#saying what function to be done based on the widget values\n",
        "out = interactive_output(activemodel,{'soma_length': w_soma_length,'soma_diam':w_soma_diam,'tstop':w_tstop,'ic_dur':w_ic_dur,'ic_amp':w_ic_amp,'ic_delay':w_ic_delay,'leak_channel':passive_select,'k_channel':k_select,'na_channel':na_select})\n",
        "#how to display the buttons/widgets\n",
        "ui = HBox([w_reset,VBox([w_soma_length,w_soma_diam]),VBox([na_select,k_select,passive_select]),VBox([w_tstop,w_ic_dur,w_ic_amp,w_ic_delay])])\n",
        "\n",
        "\n",
        "display(ui,out)"
      ],
      "metadata": {
        "colab": {
          "base_uri": "https://localhost:8080/",
          "height": 999,
          "referenced_widgets": [
            "f1216b176d8a4268bb1b6efba9c109fc",
            "105edfb1222b4ca6a57bd9980d660462",
            "d8ab60834a8a47a699493d46f65a028c",
            "5843c46aaef040e68d40eec82010f1b4",
            "97e3e799b1034ad984e0453601f3bc0f",
            "7d780bbc295c49889ad8e66c1b932e6a",
            "1ce46fe80e0f4ee7a125bccbc3f67e7f",
            "e0130190a15c49979150396573e495be",
            "57aba89314ea4c96ad2940c5cbf10781",
            "a6e748933cb64010b94cc0d8aa4451b8",
            "1fa8676b7cf745caa6b26f73fd856750",
            "3336864de47c4fe6a9be30063cc746a7",
            "65075f31875040a188114b98c1c5b248",
            "2ba814f95aba447881617e4fdb7dc848",
            "92858b77f9994ffeb7d387afc46f3e14",
            "e33b6f315f39494a8ec87fcd83ed5995",
            "6ba7a2b702af4b449cf3cb1f2955e9cf",
            "8ee1711446764b60ba45b57a982fd09d",
            "d792eeb7058d4c44b029df5dcdee4b97",
            "6dbb0b450c89466f8fd96b7449766adf",
            "61977d008cde4a31ba6142615401213e",
            "d033b56aa6cc42d088664a64232dd7b8",
            "8efbb1fc902a4e49b0315b98a74f845a",
            "4a2619a0e63a4b2d995618e84156ac95",
            "4e2727da99a548b29de1c9d087fb389e",
            "5c3fc1e3d7d44a18899602f27591e9cd",
            "0bec89359f694798adf9f6eed267b95d",
            "eb7ffb6b8d1a44e6a52b01eb767654ab",
            "2f7217d719274d4cb807be2381a4cc7e",
            "4242926451a74cd2b2e79824238f6735",
            "a5394367fb5f4d818e635012661343fa",
            "107b5daa203249878f74f055be3e16cf",
            "4616ca3ce3634159b59f528952efadef",
            "f1519275a80e4ee0ad67abf4428a053a",
            "f39cc01b589d49ce860b80caf71ca567",
            "f86eb2a64802412fbb2974017b8746f1",
            "ce4af2cb6d8e4d43b2b451862b2ac9c4",
            "f97cc2a5a68749d293a585082fe7aee7",
            "adb00f7d8f6c43da881ef422d9e0f55a",
            "8791cba991ae4df3824cbf8636bec0f1"
          ]
        },
        "id": "S1KrXyo_55A4",
        "outputId": "7f3f113c-0d97-4062-f75e-e793d98bdbdf"
      },
      "execution_count": 14,
      "outputs": [
        {
          "output_type": "display_data",
          "data": {
            "text/plain": [
              "HBox(children=(Button(button_style='primary', description='Reset', icon='history', style=ButtonStyle()), VBox(…"
            ],
            "application/vnd.jupyter.widget-view+json": {
              "version_major": 2,
              "version_minor": 0,
              "model_id": "f1216b176d8a4268bb1b6efba9c109fc"
            }
          },
          "metadata": {}
        },
        {
          "output_type": "display_data",
          "data": {
            "text/plain": [
              "Output()"
            ],
            "application/vnd.jupyter.widget-view+json": {
              "version_major": 2,
              "version_minor": 0,
              "model_id": "adb00f7d8f6c43da881ef422d9e0f55a"
            }
          },
          "metadata": {}
        }
      ]
    },
    {
      "cell_type": "markdown",
      "source": [
        "# Questions\n",
        "1. What do the + and - signs represent for the soma morphology?\n",
        "2. Why is the soma divided into two parts?\n",
        "3. Why does the soma look like a rectangle when it is supposed to be modeled as a cylinder in NEURON?\n"
      ],
      "metadata": {
        "id": "k4QQfalGg6UQ"
      }
    },
    {
      "cell_type": "markdown",
      "source": [
        "# Extras: Adding More Sections\n",
        "A neuron is more than just a soma, why not add something else, like an axon.\n",
        "An axon is also just a section and can be created in the same way, but it does need to be connected to the soma. Here we demonstrate how to add an axon and connect it to the soma, but we will not be focusing on it really in this lab. A video going over the full structure of the neuron, including all the sections is available here though."
      ],
      "metadata": {
        "id": "MT33CSH3j4vo"
      }
    },
    {
      "cell_type": "code",
      "source": [
        "#axon = h.Section('axon')\n",
        "#axon.L = 40\n",
        "#axon.nseg = 3 # divided into 3 equally lengthed segments\n",
        "#axon.connect(soma(1)) #connect axon to the right end of the soma\n",
        "#h.topology() # shows topology of full cell\n",
        "YouTubeVideo('HZh0A-lWSmY')"
      ],
      "metadata": {
        "id": "J4pOjOrskPap",
        "colab": {
          "base_uri": "https://localhost:8080/",
          "height": 322
        },
        "outputId": "fd0de497-ea91-4038-b72a-83d0a8a7b959"
      },
      "execution_count": 15,
      "outputs": [
        {
          "output_type": "execute_result",
          "data": {
            "text/plain": [
              "<IPython.lib.display.YouTubeVideo at 0x7d14548d7250>"
            ],
            "text/html": [
              "\n",
              "        <iframe\n",
              "            width=\"400\"\n",
              "            height=\"300\"\n",
              "            src=\"https://www.youtube.com/embed/HZh0A-lWSmY\"\n",
              "            frameborder=\"0\"\n",
              "            allowfullscreen\n",
              "            \n",
              "        ></iframe>\n",
              "        "
            ],
            "image/jpeg": "[encoded data removed]"
          },
          "metadata": {},
          "execution_count": 15
        }
      ]
    },
    {
      "cell_type": "markdown",
      "source": [
        "# Conclusion\n",
        "You should now know how NEURON simulates a neuron, how to create a single cell model with channels using NEURON, the morphology of the soma, and how to use NEURON to conduct experiments/simulations of your own. For more help on how to use NEURON, click [here](http://web.mit.edu/neuron_v7.4/nrntuthtml/tutorial/tutA.html) and [here.](https://nrn.readthedocs.io/en/latest/tutorials/scripting-neuron-basics.html)"
      ],
      "metadata": {
        "id": "cTYQv8Ok-dWx"
      }
    }
  ]
}