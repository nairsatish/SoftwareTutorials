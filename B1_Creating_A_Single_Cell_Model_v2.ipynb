{
  "nbformat": 4,
  "nbformat_minor": 0,
  "metadata": {
    "colab": {
      "provenance": [],
      "authorship_tag": "ABX9TyNY7qkTMu3wYYPK8Xh9Q5DT",
      "include_colab_link": true
    },
    "kernelspec": {
      "name": "python3",
      "display_name": "Python 3"
    },
    "language_info": {
      "name": "python"
    },
    "widgets": {
      "application/vnd.jupyter.widget-state+json": {
        "c72bc676a3734acbae762af6ef2c4dda": {
          "model_module": "@jupyter-widgets/controls",
          "model_name": "HBoxModel",
          "model_module_version": "1.5.0",
          "state": {
            "_dom_classes": [],
            "_model_module": "@jupyter-widgets/controls",
            "_model_module_version": "1.5.0",
            "_model_name": "HBoxModel",
            "_view_count": null,
            "_view_module": "@jupyter-widgets/controls",
            "_view_module_version": "1.5.0",
            "_view_name": "HBoxView",
            "box_style": "",
            "children": [
              "IPY_MODEL_0d348254f634475da342c6f5e6c15615",
              "IPY_MODEL_e77529a340934df2b61624fe9edae5fe",
              "IPY_MODEL_7af87d250425462f9ceae87157db1483",
              "IPY_MODEL_e571a99a048942c89dc572c797ebab63"
            ],
            "layout": "IPY_MODEL_5c3d015cde344f7ab333d7c07d66b0db"
          }
        },
        "0d348254f634475da342c6f5e6c15615": {
          "model_module": "@jupyter-widgets/controls",
          "model_name": "ButtonModel",
          "model_module_version": "1.5.0",
          "state": {
            "_dom_classes": [],
            "_model_module": "@jupyter-widgets/controls",
            "_model_module_version": "1.5.0",
            "_model_name": "ButtonModel",
            "_view_count": null,
            "_view_module": "@jupyter-widgets/controls",
            "_view_module_version": "1.5.0",
            "_view_name": "ButtonView",
            "button_style": "primary",
            "description": "Reset",
            "disabled": false,
            "icon": "history",
            "layout": "IPY_MODEL_7bee0e1b010a40b78193a95289aa6c4e",
            "style": "IPY_MODEL_79fb791c0da2405b9099be416ea8af52",
            "tooltip": ""
          }
        },
        "e77529a340934df2b61624fe9edae5fe": {
          "model_module": "@jupyter-widgets/controls",
          "model_name": "VBoxModel",
          "model_module_version": "1.5.0",
          "state": {
            "_dom_classes": [],
            "_model_module": "@jupyter-widgets/controls",
            "_model_module_version": "1.5.0",
            "_model_name": "VBoxModel",
            "_view_count": null,
            "_view_module": "@jupyter-widgets/controls",
            "_view_module_version": "1.5.0",
            "_view_name": "VBoxView",
            "box_style": "",
            "children": [
              "IPY_MODEL_a32e933fb91b439f9d8ec6ff26142349",
              "IPY_MODEL_612f7c7b33b24c80b8caadeea02d329e"
            ],
            "layout": "IPY_MODEL_69f7d839d00742f19c8f55e5b1e7865f"
          }
        },
        "7af87d250425462f9ceae87157db1483": {
          "model_module": "@jupyter-widgets/controls",
          "model_name": "VBoxModel",
          "model_module_version": "1.5.0",
          "state": {
            "_dom_classes": [],
            "_model_module": "@jupyter-widgets/controls",
            "_model_module_version": "1.5.0",
            "_model_name": "VBoxModel",
            "_view_count": null,
            "_view_module": "@jupyter-widgets/controls",
            "_view_module_version": "1.5.0",
            "_view_name": "VBoxView",
            "box_style": "",
            "children": [
              "IPY_MODEL_84cb93c9d42f450c8264c28a3435e664",
              "IPY_MODEL_87552f1510dc4c37b0c35a742af2400c",
              "IPY_MODEL_d4c7e0173bcd48b29da2fc6a903bfcdd"
            ],
            "layout": "IPY_MODEL_51a243b83cff446b8c2528a0d2686cad"
          }
        },
        "e571a99a048942c89dc572c797ebab63": {
          "model_module": "@jupyter-widgets/controls",
          "model_name": "VBoxModel",
          "model_module_version": "1.5.0",
          "state": {
            "_dom_classes": [],
            "_model_module": "@jupyter-widgets/controls",
            "_model_module_version": "1.5.0",
            "_model_name": "VBoxModel",
            "_view_count": null,
            "_view_module": "@jupyter-widgets/controls",
            "_view_module_version": "1.5.0",
            "_view_name": "VBoxView",
            "box_style": "",
            "children": [
              "IPY_MODEL_00d43b8715104ab09f1dc33cd3d4ab4c",
              "IPY_MODEL_3313dffcf04a42ce88afb7f00d8819ce",
              "IPY_MODEL_dc8e89d93dbf4234939e3a6a16b1dec7",
              "IPY_MODEL_842a9d80e3ec459db3349f7071086ac5"
            ],
            "layout": "IPY_MODEL_9f590b2621e34fe9bc96eeeb4843e2fd"
          }
        },
        "5c3d015cde344f7ab333d7c07d66b0db": {
          "model_module": "@jupyter-widgets/base",
          "model_name": "LayoutModel",
          "model_module_version": "1.2.0",
          "state": {
            "_model_module": "@jupyter-widgets/base",
            "_model_module_version": "1.2.0",
            "_model_name": "LayoutModel",
            "_view_count": null,
            "_view_module": "@jupyter-widgets/base",
            "_view_module_version": "1.2.0",
            "_view_name": "LayoutView",
            "align_content": null,
            "align_items": null,
            "align_self": null,
            "border": null,
            "bottom": null,
            "display": null,
            "flex": null,
            "flex_flow": null,
            "grid_area": null,
            "grid_auto_columns": null,
            "grid_auto_flow": null,
            "grid_auto_rows": null,
            "grid_column": null,
            "grid_gap": null,
            "grid_row": null,
            "grid_template_areas": null,
            "grid_template_columns": null,
            "grid_template_rows": null,
            "height": null,
            "justify_content": null,
            "justify_items": null,
            "left": null,
            "margin": null,
            "max_height": null,
            "max_width": null,
            "min_height": null,
            "min_width": null,
            "object_fit": null,
            "object_position": null,
            "order": null,
            "overflow": null,
            "overflow_x": null,
            "overflow_y": null,
            "padding": null,
            "right": null,
            "top": null,
            "visibility": null,
            "width": null
          }
        },
        "7bee0e1b010a40b78193a95289aa6c4e": {
          "model_module": "@jupyter-widgets/base",
          "model_name": "LayoutModel",
          "model_module_version": "1.2.0",
          "state": {
            "_model_module": "@jupyter-widgets/base",
            "_model_module_version": "1.2.0",
            "_model_name": "LayoutModel",
            "_view_count": null,
            "_view_module": "@jupyter-widgets/base",
            "_view_module_version": "1.2.0",
            "_view_name": "LayoutView",
            "align_content": null,
            "align_items": null,
            "align_self": null,
            "border": null,
            "bottom": null,
            "display": null,
            "flex": null,
            "flex_flow": null,
            "grid_area": null,
            "grid_auto_columns": null,
            "grid_auto_flow": null,
            "grid_auto_rows": null,
            "grid_column": null,
            "grid_gap": null,
            "grid_row": null,
            "grid_template_areas": null,
            "grid_template_columns": null,
            "grid_template_rows": null,
            "height": null,
            "justify_content": null,
            "justify_items": null,
            "left": null,
            "margin": null,
            "max_height": null,
            "max_width": null,
            "min_height": null,
            "min_width": null,
            "object_fit": null,
            "object_position": null,
            "order": null,
            "overflow": null,
            "overflow_x": null,
            "overflow_y": null,
            "padding": null,
            "right": null,
            "top": null,
            "visibility": null,
            "width": null
          }
        },
        "79fb791c0da2405b9099be416ea8af52": {
          "model_module": "@jupyter-widgets/controls",
          "model_name": "ButtonStyleModel",
          "model_module_version": "1.5.0",
          "state": {
            "_model_module": "@jupyter-widgets/controls",
            "_model_module_version": "1.5.0",
            "_model_name": "ButtonStyleModel",
            "_view_count": null,
            "_view_module": "@jupyter-widgets/base",
            "_view_module_version": "1.2.0",
            "_view_name": "StyleView",
            "button_color": null,
            "font_weight": ""
          }
        },
        "a32e933fb91b439f9d8ec6ff26142349": {
          "model_module": "@jupyter-widgets/controls",
          "model_name": "BoundedFloatTextModel",
          "model_module_version": "1.5.0",
          "state": {
            "_dom_classes": [],
            "_model_module": "@jupyter-widgets/controls",
            "_model_module_version": "1.5.0",
            "_model_name": "BoundedFloatTextModel",
            "_view_count": null,
            "_view_module": "@jupyter-widgets/controls",
            "_view_module_version": "1.5.0",
            "_view_name": "FloatTextView",
            "continuous_update": false,
            "description": "Length (um)",
            "description_tooltip": null,
            "disabled": false,
            "layout": "IPY_MODEL_0ec289af99c647c3bc5a6055bd26a32b",
            "max": 10000,
            "min": 1,
            "step": null,
            "style": "IPY_MODEL_00a15d1dc81f4e20972eb56f43bc64b5",
            "value": 100
          }
        },
        "612f7c7b33b24c80b8caadeea02d329e": {
          "model_module": "@jupyter-widgets/controls",
          "model_name": "BoundedFloatTextModel",
          "model_module_version": "1.5.0",
          "state": {
            "_dom_classes": [],
            "_model_module": "@jupyter-widgets/controls",
            "_model_module_version": "1.5.0",
            "_model_name": "BoundedFloatTextModel",
            "_view_count": null,
            "_view_module": "@jupyter-widgets/controls",
            "_view_module_version": "1.5.0",
            "_view_name": "FloatTextView",
            "continuous_update": false,
            "description": "Diameter (um)",
            "description_tooltip": null,
            "disabled": false,
            "layout": "IPY_MODEL_2bf2e7e611424688afaa5bef897cd81c",
            "max": 10000,
            "min": 1,
            "step": null,
            "style": "IPY_MODEL_099c166c44ec4d1982981bb8e9435a33",
            "value": 500
          }
        },
        "69f7d839d00742f19c8f55e5b1e7865f": {
          "model_module": "@jupyter-widgets/base",
          "model_name": "LayoutModel",
          "model_module_version": "1.2.0",
          "state": {
            "_model_module": "@jupyter-widgets/base",
            "_model_module_version": "1.2.0",
            "_model_name": "LayoutModel",
            "_view_count": null,
            "_view_module": "@jupyter-widgets/base",
            "_view_module_version": "1.2.0",
            "_view_name": "LayoutView",
            "align_content": null,
            "align_items": null,
            "align_self": null,
            "border": null,
            "bottom": null,
            "display": null,
            "flex": null,
            "flex_flow": null,
            "grid_area": null,
            "grid_auto_columns": null,
            "grid_auto_flow": null,
            "grid_auto_rows": null,
            "grid_column": null,
            "grid_gap": null,
            "grid_row": null,
            "grid_template_areas": null,
            "grid_template_columns": null,
            "grid_template_rows": null,
            "height": null,
            "justify_content": null,
            "justify_items": null,
            "left": null,
            "margin": null,
            "max_height": null,
            "max_width": null,
            "min_height": null,
            "min_width": null,
            "object_fit": null,
            "object_position": null,
            "order": null,
            "overflow": null,
            "overflow_x": null,
            "overflow_y": null,
            "padding": null,
            "right": null,
            "top": null,
            "visibility": null,
            "width": null
          }
        },
        "84cb93c9d42f450c8264c28a3435e664": {
          "model_module": "@jupyter-widgets/controls",
          "model_name": "RadioButtonsModel",
          "model_module_version": "1.5.0",
          "state": {
            "_dom_classes": [],
            "_model_module": "@jupyter-widgets/controls",
            "_model_module_version": "1.5.0",
            "_model_name": "RadioButtonsModel",
            "_options_labels": [
              "Leak Channels",
              "No Leak Channels"
            ],
            "_view_count": null,
            "_view_module": "@jupyter-widgets/controls",
            "_view_module_version": "1.5.0",
            "_view_name": "RadioButtonsView",
            "description": "Leak:",
            "description_tooltip": null,
            "disabled": false,
            "index": 0,
            "layout": "IPY_MODEL_7984227e43a2489dad750f5c5ffc4b78",
            "style": "IPY_MODEL_cfa76b0dcd5e400ebdc842b73602c477"
          }
        },
        "87552f1510dc4c37b0c35a742af2400c": {
          "model_module": "@jupyter-widgets/controls",
          "model_name": "RadioButtonsModel",
          "model_module_version": "1.5.0",
          "state": {
            "_dom_classes": [],
            "_model_module": "@jupyter-widgets/controls",
            "_model_module_version": "1.5.0",
            "_model_name": "RadioButtonsModel",
            "_options_labels": [
              "K+ Channels",
              "No K+ Channels"
            ],
            "_view_count": null,
            "_view_module": "@jupyter-widgets/controls",
            "_view_module_version": "1.5.0",
            "_view_name": "RadioButtonsView",
            "description": "K+:",
            "description_tooltip": null,
            "disabled": false,
            "index": 0,
            "layout": "IPY_MODEL_dde0a4345dd7421c832471a7b9146cb7",
            "style": "IPY_MODEL_f4f18abedfc547579d7b48e38690bbf8"
          }
        },
        "d4c7e0173bcd48b29da2fc6a903bfcdd": {
          "model_module": "@jupyter-widgets/controls",
          "model_name": "RadioButtonsModel",
          "model_module_version": "1.5.0",
          "state": {
            "_dom_classes": [],
            "_model_module": "@jupyter-widgets/controls",
            "_model_module_version": "1.5.0",
            "_model_name": "RadioButtonsModel",
            "_options_labels": [
              "Na+ Channels",
              "No Na+ Channels"
            ],
            "_view_count": null,
            "_view_module": "@jupyter-widgets/controls",
            "_view_module_version": "1.5.0",
            "_view_name": "RadioButtonsView",
            "description": "Na+:",
            "description_tooltip": null,
            "disabled": false,
            "index": 0,
            "layout": "IPY_MODEL_3db97f6e2cf548f980532cf00921193b",
            "style": "IPY_MODEL_20b397bb85b748edbd52581206edb896"
          }
        },
        "51a243b83cff446b8c2528a0d2686cad": {
          "model_module": "@jupyter-widgets/base",
          "model_name": "LayoutModel",
          "model_module_version": "1.2.0",
          "state": {
            "_model_module": "@jupyter-widgets/base",
            "_model_module_version": "1.2.0",
            "_model_name": "LayoutModel",
            "_view_count": null,
            "_view_module": "@jupyter-widgets/base",
            "_view_module_version": "1.2.0",
            "_view_name": "LayoutView",
            "align_content": null,
            "align_items": null,
            "align_self": null,
            "border": null,
            "bottom": null,
            "display": null,
            "flex": null,
            "flex_flow": null,
            "grid_area": null,
            "grid_auto_columns": null,
            "grid_auto_flow": null,
            "grid_auto_rows": null,
            "grid_column": null,
            "grid_gap": null,
            "grid_row": null,
            "grid_template_areas": null,
            "grid_template_columns": null,
            "grid_template_rows": null,
            "height": null,
            "justify_content": null,
            "justify_items": null,
            "left": null,
            "margin": null,
            "max_height": null,
            "max_width": null,
            "min_height": null,
            "min_width": null,
            "object_fit": null,
            "object_position": null,
            "order": null,
            "overflow": null,
            "overflow_x": null,
            "overflow_y": null,
            "padding": null,
            "right": null,
            "top": null,
            "visibility": null,
            "width": null
          }
        },
        "00d43b8715104ab09f1dc33cd3d4ab4c": {
          "model_module": "@jupyter-widgets/controls",
          "model_name": "BoundedFloatTextModel",
          "model_module_version": "1.5.0",
          "state": {
            "_dom_classes": [],
            "_model_module": "@jupyter-widgets/controls",
            "_model_module_version": "1.5.0",
            "_model_name": "BoundedFloatTextModel",
            "_view_count": null,
            "_view_module": "@jupyter-widgets/controls",
            "_view_module_version": "1.5.0",
            "_view_name": "FloatTextView",
            "continuous_update": false,
            "description": "Tstop(ms)",
            "description_tooltip": null,
            "disabled": false,
            "layout": "IPY_MODEL_157e4fd104bb48ac99089dc9ed2b2b07",
            "max": 1000,
            "min": 5,
            "step": null,
            "style": "IPY_MODEL_ad9b3b34d26d4556abf334bfe5fcf093",
            "value": 200
          }
        },
        "3313dffcf04a42ce88afb7f00d8819ce": {
          "model_module": "@jupyter-widgets/controls",
          "model_name": "BoundedFloatTextModel",
          "model_module_version": "1.5.0",
          "state": {
            "_dom_classes": [],
            "_model_module": "@jupyter-widgets/controls",
            "_model_module_version": "1.5.0",
            "_model_name": "BoundedFloatTextModel",
            "_view_count": null,
            "_view_module": "@jupyter-widgets/controls",
            "_view_module_version": "1.5.0",
            "_view_name": "FloatTextView",
            "continuous_update": false,
            "description": "Injection(ms)",
            "description_tooltip": null,
            "disabled": false,
            "layout": "IPY_MODEL_fd6e3ee58e9a4ce3a612ce1ce6ec0f84",
            "max": 500,
            "min": 1,
            "step": null,
            "style": "IPY_MODEL_726081e783bf4352b9ff823dc60b515a",
            "value": 2.5
          }
        },
        "dc8e89d93dbf4234939e3a6a16b1dec7": {
          "model_module": "@jupyter-widgets/controls",
          "model_name": "BoundedFloatTextModel",
          "model_module_version": "1.5.0",
          "state": {
            "_dom_classes": [],
            "_model_module": "@jupyter-widgets/controls",
            "_model_module_version": "1.5.0",
            "_model_name": "BoundedFloatTextModel",
            "_view_count": null,
            "_view_module": "@jupyter-widgets/controls",
            "_view_module_version": "1.5.0",
            "_view_name": "FloatTextView",
            "continuous_update": false,
            "description": "Amp(nA)",
            "description_tooltip": null,
            "disabled": false,
            "layout": "IPY_MODEL_56ad3cd9a1164aca96292f0130223045",
            "max": 100,
            "min": -100,
            "step": null,
            "style": "IPY_MODEL_bc524716a16b4d9585857e4dcbf19052",
            "value": 50
          }
        },
        "842a9d80e3ec459db3349f7071086ac5": {
          "model_module": "@jupyter-widgets/controls",
          "model_name": "BoundedFloatTextModel",
          "model_module_version": "1.5.0",
          "state": {
            "_dom_classes": [],
            "_model_module": "@jupyter-widgets/controls",
            "_model_module_version": "1.5.0",
            "_model_name": "BoundedFloatTextModel",
            "_view_count": null,
            "_view_module": "@jupyter-widgets/controls",
            "_view_module_version": "1.5.0",
            "_view_name": "FloatTextView",
            "continuous_update": false,
            "description": "Delay(ms)",
            "description_tooltip": null,
            "disabled": false,
            "layout": "IPY_MODEL_34b78804426b4ad2bdd22d545c014cc0",
            "max": 400,
            "min": 1,
            "step": null,
            "style": "IPY_MODEL_df2476e1131644b4ad976c5b6aef6eaf",
            "value": 100
          }
        },
        "9f590b2621e34fe9bc96eeeb4843e2fd": {
          "model_module": "@jupyter-widgets/base",
          "model_name": "LayoutModel",
          "model_module_version": "1.2.0",
          "state": {
            "_model_module": "@jupyter-widgets/base",
            "_model_module_version": "1.2.0",
            "_model_name": "LayoutModel",
            "_view_count": null,
            "_view_module": "@jupyter-widgets/base",
            "_view_module_version": "1.2.0",
            "_view_name": "LayoutView",
            "align_content": null,
            "align_items": null,
            "align_self": null,
            "border": null,
            "bottom": null,
            "display": null,
            "flex": null,
            "flex_flow": null,
            "grid_area": null,
            "grid_auto_columns": null,
            "grid_auto_flow": null,
            "grid_auto_rows": null,
            "grid_column": null,
            "grid_gap": null,
            "grid_row": null,
            "grid_template_areas": null,
            "grid_template_columns": null,
            "grid_template_rows": null,
            "height": null,
            "justify_content": null,
            "justify_items": null,
            "left": null,
            "margin": null,
            "max_height": null,
            "max_width": null,
            "min_height": null,
            "min_width": null,
            "object_fit": null,
            "object_position": null,
            "order": null,
            "overflow": null,
            "overflow_x": null,
            "overflow_y": null,
            "padding": null,
            "right": null,
            "top": null,
            "visibility": null,
            "width": null
          }
        },
        "0ec289af99c647c3bc5a6055bd26a32b": {
          "model_module": "@jupyter-widgets/base",
          "model_name": "LayoutModel",
          "model_module_version": "1.2.0",
          "state": {
            "_model_module": "@jupyter-widgets/base",
            "_model_module_version": "1.2.0",
            "_model_name": "LayoutModel",
            "_view_count": null,
            "_view_module": "@jupyter-widgets/base",
            "_view_module_version": "1.2.0",
            "_view_name": "LayoutView",
            "align_content": null,
            "align_items": null,
            "align_self": null,
            "border": null,
            "bottom": null,
            "display": null,
            "flex": null,
            "flex_flow": null,
            "grid_area": null,
            "grid_auto_columns": null,
            "grid_auto_flow": null,
            "grid_auto_rows": null,
            "grid_column": null,
            "grid_gap": null,
            "grid_row": null,
            "grid_template_areas": null,
            "grid_template_columns": null,
            "grid_template_rows": null,
            "height": null,
            "justify_content": null,
            "justify_items": null,
            "left": null,
            "margin": null,
            "max_height": null,
            "max_width": null,
            "min_height": null,
            "min_width": null,
            "object_fit": null,
            "object_position": null,
            "order": null,
            "overflow": null,
            "overflow_x": null,
            "overflow_y": null,
            "padding": null,
            "right": null,
            "top": null,
            "visibility": null,
            "width": null
          }
        },
        "00a15d1dc81f4e20972eb56f43bc64b5": {
          "model_module": "@jupyter-widgets/controls",
          "model_name": "DescriptionStyleModel",
          "model_module_version": "1.5.0",
          "state": {
            "_model_module": "@jupyter-widgets/controls",
            "_model_module_version": "1.5.0",
            "_model_name": "DescriptionStyleModel",
            "_view_count": null,
            "_view_module": "@jupyter-widgets/base",
            "_view_module_version": "1.2.0",
            "_view_name": "StyleView",
            "description_width": ""
          }
        },
        "2bf2e7e611424688afaa5bef897cd81c": {
          "model_module": "@jupyter-widgets/base",
          "model_name": "LayoutModel",
          "model_module_version": "1.2.0",
          "state": {
            "_model_module": "@jupyter-widgets/base",
            "_model_module_version": "1.2.0",
            "_model_name": "LayoutModel",
            "_view_count": null,
            "_view_module": "@jupyter-widgets/base",
            "_view_module_version": "1.2.0",
            "_view_name": "LayoutView",
            "align_content": null,
            "align_items": null,
            "align_self": null,
            "border": null,
            "bottom": null,
            "display": null,
            "flex": null,
            "flex_flow": null,
            "grid_area": null,
            "grid_auto_columns": null,
            "grid_auto_flow": null,
            "grid_auto_rows": null,
            "grid_column": null,
            "grid_gap": null,
            "grid_row": null,
            "grid_template_areas": null,
            "grid_template_columns": null,
            "grid_template_rows": null,
            "height": null,
            "justify_content": null,
            "justify_items": null,
            "left": null,
            "margin": null,
            "max_height": null,
            "max_width": null,
            "min_height": null,
            "min_width": null,
            "object_fit": null,
            "object_position": null,
            "order": null,
            "overflow": null,
            "overflow_x": null,
            "overflow_y": null,
            "padding": null,
            "right": null,
            "top": null,
            "visibility": null,
            "width": null
          }
        },
        "099c166c44ec4d1982981bb8e9435a33": {
          "model_module": "@jupyter-widgets/controls",
          "model_name": "DescriptionStyleModel",
          "model_module_version": "1.5.0",
          "state": {
            "_model_module": "@jupyter-widgets/controls",
            "_model_module_version": "1.5.0",
            "_model_name": "DescriptionStyleModel",
            "_view_count": null,
            "_view_module": "@jupyter-widgets/base",
            "_view_module_version": "1.2.0",
            "_view_name": "StyleView",
            "description_width": ""
          }
        },
        "7984227e43a2489dad750f5c5ffc4b78": {
          "model_module": "@jupyter-widgets/base",
          "model_name": "LayoutModel",
          "model_module_version": "1.2.0",
          "state": {
            "_model_module": "@jupyter-widgets/base",
            "_model_module_version": "1.2.0",
            "_model_name": "LayoutModel",
            "_view_count": null,
            "_view_module": "@jupyter-widgets/base",
            "_view_module_version": "1.2.0",
            "_view_name": "LayoutView",
            "align_content": null,
            "align_items": null,
            "align_self": null,
            "border": null,
            "bottom": null,
            "display": null,
            "flex": null,
            "flex_flow": null,
            "grid_area": null,
            "grid_auto_columns": null,
            "grid_auto_flow": null,
            "grid_auto_rows": null,
            "grid_column": null,
            "grid_gap": null,
            "grid_row": null,
            "grid_template_areas": null,
            "grid_template_columns": null,
            "grid_template_rows": null,
            "height": null,
            "justify_content": null,
            "justify_items": null,
            "left": null,
            "margin": null,
            "max_height": null,
            "max_width": null,
            "min_height": null,
            "min_width": null,
            "object_fit": null,
            "object_position": null,
            "order": null,
            "overflow": null,
            "overflow_x": null,
            "overflow_y": null,
            "padding": null,
            "right": null,
            "top": null,
            "visibility": null,
            "width": null
          }
        },
        "cfa76b0dcd5e400ebdc842b73602c477": {
          "model_module": "@jupyter-widgets/controls",
          "model_name": "DescriptionStyleModel",
          "model_module_version": "1.5.0",
          "state": {
            "_model_module": "@jupyter-widgets/controls",
            "_model_module_version": "1.5.0",
            "_model_name": "DescriptionStyleModel",
            "_view_count": null,
            "_view_module": "@jupyter-widgets/base",
            "_view_module_version": "1.2.0",
            "_view_name": "StyleView",
            "description_width": ""
          }
        },
        "dde0a4345dd7421c832471a7b9146cb7": {
          "model_module": "@jupyter-widgets/base",
          "model_name": "LayoutModel",
          "model_module_version": "1.2.0",
          "state": {
            "_model_module": "@jupyter-widgets/base",
            "_model_module_version": "1.2.0",
            "_model_name": "LayoutModel",
            "_view_count": null,
            "_view_module": "@jupyter-widgets/base",
            "_view_module_version": "1.2.0",
            "_view_name": "LayoutView",
            "align_content": null,
            "align_items": null,
            "align_self": null,
            "border": null,
            "bottom": null,
            "display": null,
            "flex": null,
            "flex_flow": null,
            "grid_area": null,
            "grid_auto_columns": null,
            "grid_auto_flow": null,
            "grid_auto_rows": null,
            "grid_column": null,
            "grid_gap": null,
            "grid_row": null,
            "grid_template_areas": null,
            "grid_template_columns": null,
            "grid_template_rows": null,
            "height": null,
            "justify_content": null,
            "justify_items": null,
            "left": null,
            "margin": null,
            "max_height": null,
            "max_width": null,
            "min_height": null,
            "min_width": null,
            "object_fit": null,
            "object_position": null,
            "order": null,
            "overflow": null,
            "overflow_x": null,
            "overflow_y": null,
            "padding": null,
            "right": null,
            "top": null,
            "visibility": null,
            "width": null
          }
        },
        "f4f18abedfc547579d7b48e38690bbf8": {
          "model_module": "@jupyter-widgets/controls",
          "model_name": "DescriptionStyleModel",
          "model_module_version": "1.5.0",
          "state": {
            "_model_module": "@jupyter-widgets/controls",
            "_model_module_version": "1.5.0",
            "_model_name": "DescriptionStyleModel",
            "_view_count": null,
            "_view_module": "@jupyter-widgets/base",
            "_view_module_version": "1.2.0",
            "_view_name": "StyleView",
            "description_width": ""
          }
        },
        "3db97f6e2cf548f980532cf00921193b": {
          "model_module": "@jupyter-widgets/base",
          "model_name": "LayoutModel",
          "model_module_version": "1.2.0",
          "state": {
            "_model_module": "@jupyter-widgets/base",
            "_model_module_version": "1.2.0",
            "_model_name": "LayoutModel",
            "_view_count": null,
            "_view_module": "@jupyter-widgets/base",
            "_view_module_version": "1.2.0",
            "_view_name": "LayoutView",
            "align_content": null,
            "align_items": null,
            "align_self": null,
            "border": null,
            "bottom": null,
            "display": null,
            "flex": null,
            "flex_flow": null,
            "grid_area": null,
            "grid_auto_columns": null,
            "grid_auto_flow": null,
            "grid_auto_rows": null,
            "grid_column": null,
            "grid_gap": null,
            "grid_row": null,
            "grid_template_areas": null,
            "grid_template_columns": null,
            "grid_template_rows": null,
            "height": null,
            "justify_content": null,
            "justify_items": null,
            "left": null,
            "margin": null,
            "max_height": null,
            "max_width": null,
            "min_height": null,
            "min_width": null,
            "object_fit": null,
            "object_position": null,
            "order": null,
            "overflow": null,
            "overflow_x": null,
            "overflow_y": null,
            "padding": null,
            "right": null,
            "top": null,
            "visibility": null,
            "width": null
          }
        },
        "20b397bb85b748edbd52581206edb896": {
          "model_module": "@jupyter-widgets/controls",
          "model_name": "DescriptionStyleModel",
          "model_module_version": "1.5.0",
          "state": {
            "_model_module": "@jupyter-widgets/controls",
            "_model_module_version": "1.5.0",
            "_model_name": "DescriptionStyleModel",
            "_view_count": null,
            "_view_module": "@jupyter-widgets/base",
            "_view_module_version": "1.2.0",
            "_view_name": "StyleView",
            "description_width": ""
          }
        },
        "157e4fd104bb48ac99089dc9ed2b2b07": {
          "model_module": "@jupyter-widgets/base",
          "model_name": "LayoutModel",
          "model_module_version": "1.2.0",
          "state": {
            "_model_module": "@jupyter-widgets/base",
            "_model_module_version": "1.2.0",
            "_model_name": "LayoutModel",
            "_view_count": null,
            "_view_module": "@jupyter-widgets/base",
            "_view_module_version": "1.2.0",
            "_view_name": "LayoutView",
            "align_content": null,
            "align_items": null,
            "align_self": null,
            "border": null,
            "bottom": null,
            "display": null,
            "flex": null,
            "flex_flow": null,
            "grid_area": null,
            "grid_auto_columns": null,
            "grid_auto_flow": null,
            "grid_auto_rows": null,
            "grid_column": null,
            "grid_gap": null,
            "grid_row": null,
            "grid_template_areas": null,
            "grid_template_columns": null,
            "grid_template_rows": null,
            "height": null,
            "justify_content": null,
            "justify_items": null,
            "left": null,
            "margin": null,
            "max_height": null,
            "max_width": null,
            "min_height": null,
            "min_width": null,
            "object_fit": null,
            "object_position": null,
            "order": null,
            "overflow": null,
            "overflow_x": null,
            "overflow_y": null,
            "padding": null,
            "right": null,
            "top": null,
            "visibility": null,
            "width": null
          }
        },
        "ad9b3b34d26d4556abf334bfe5fcf093": {
          "model_module": "@jupyter-widgets/controls",
          "model_name": "DescriptionStyleModel",
          "model_module_version": "1.5.0",
          "state": {
            "_model_module": "@jupyter-widgets/controls",
            "_model_module_version": "1.5.0",
            "_model_name": "DescriptionStyleModel",
            "_view_count": null,
            "_view_module": "@jupyter-widgets/base",
            "_view_module_version": "1.2.0",
            "_view_name": "StyleView",
            "description_width": ""
          }
        },
        "fd6e3ee58e9a4ce3a612ce1ce6ec0f84": {
          "model_module": "@jupyter-widgets/base",
          "model_name": "LayoutModel",
          "model_module_version": "1.2.0",
          "state": {
            "_model_module": "@jupyter-widgets/base",
            "_model_module_version": "1.2.0",
            "_model_name": "LayoutModel",
            "_view_count": null,
            "_view_module": "@jupyter-widgets/base",
            "_view_module_version": "1.2.0",
            "_view_name": "LayoutView",
            "align_content": null,
            "align_items": null,
            "align_self": null,
            "border": null,
            "bottom": null,
            "display": null,
            "flex": null,
            "flex_flow": null,
            "grid_area": null,
            "grid_auto_columns": null,
            "grid_auto_flow": null,
            "grid_auto_rows": null,
            "grid_column": null,
            "grid_gap": null,
            "grid_row": null,
            "grid_template_areas": null,
            "grid_template_columns": null,
            "grid_template_rows": null,
            "height": null,
            "justify_content": null,
            "justify_items": null,
            "left": null,
            "margin": null,
            "max_height": null,
            "max_width": null,
            "min_height": null,
            "min_width": null,
            "object_fit": null,
            "object_position": null,
            "order": null,
            "overflow": null,
            "overflow_x": null,
            "overflow_y": null,
            "padding": null,
            "right": null,
            "top": null,
            "visibility": null,
            "width": null
          }
        },
        "726081e783bf4352b9ff823dc60b515a": {
          "model_module": "@jupyter-widgets/controls",
          "model_name": "DescriptionStyleModel",
          "model_module_version": "1.5.0",
          "state": {
            "_model_module": "@jupyter-widgets/controls",
            "_model_module_version": "1.5.0",
            "_model_name": "DescriptionStyleModel",
            "_view_count": null,
            "_view_module": "@jupyter-widgets/base",
            "_view_module_version": "1.2.0",
            "_view_name": "StyleView",
            "description_width": ""
          }
        },
        "56ad3cd9a1164aca96292f0130223045": {
          "model_module": "@jupyter-widgets/base",
          "model_name": "LayoutModel",
          "model_module_version": "1.2.0",
          "state": {
            "_model_module": "@jupyter-widgets/base",
            "_model_module_version": "1.2.0",
            "_model_name": "LayoutModel",
            "_view_count": null,
            "_view_module": "@jupyter-widgets/base",
            "_view_module_version": "1.2.0",
            "_view_name": "LayoutView",
            "align_content": null,
            "align_items": null,
            "align_self": null,
            "border": null,
            "bottom": null,
            "display": null,
            "flex": null,
            "flex_flow": null,
            "grid_area": null,
            "grid_auto_columns": null,
            "grid_auto_flow": null,
            "grid_auto_rows": null,
            "grid_column": null,
            "grid_gap": null,
            "grid_row": null,
            "grid_template_areas": null,
            "grid_template_columns": null,
            "grid_template_rows": null,
            "height": null,
            "justify_content": null,
            "justify_items": null,
            "left": null,
            "margin": null,
            "max_height": null,
            "max_width": null,
            "min_height": null,
            "min_width": null,
            "object_fit": null,
            "object_position": null,
            "order": null,
            "overflow": null,
            "overflow_x": null,
            "overflow_y": null,
            "padding": null,
            "right": null,
            "top": null,
            "visibility": null,
            "width": null
          }
        },
        "bc524716a16b4d9585857e4dcbf19052": {
          "model_module": "@jupyter-widgets/controls",
          "model_name": "DescriptionStyleModel",
          "model_module_version": "1.5.0",
          "state": {
            "_model_module": "@jupyter-widgets/controls",
            "_model_module_version": "1.5.0",
            "_model_name": "DescriptionStyleModel",
            "_view_count": null,
            "_view_module": "@jupyter-widgets/base",
            "_view_module_version": "1.2.0",
            "_view_name": "StyleView",
            "description_width": ""
          }
        },
        "34b78804426b4ad2bdd22d545c014cc0": {
          "model_module": "@jupyter-widgets/base",
          "model_name": "LayoutModel",
          "model_module_version": "1.2.0",
          "state": {
            "_model_module": "@jupyter-widgets/base",
            "_model_module_version": "1.2.0",
            "_model_name": "LayoutModel",
            "_view_count": null,
            "_view_module": "@jupyter-widgets/base",
            "_view_module_version": "1.2.0",
            "_view_name": "LayoutView",
            "align_content": null,
            "align_items": null,
            "align_self": null,
            "border": null,
            "bottom": null,
            "display": null,
            "flex": null,
            "flex_flow": null,
            "grid_area": null,
            "grid_auto_columns": null,
            "grid_auto_flow": null,
            "grid_auto_rows": null,
            "grid_column": null,
            "grid_gap": null,
            "grid_row": null,
            "grid_template_areas": null,
            "grid_template_columns": null,
            "grid_template_rows": null,
            "height": null,
            "justify_content": null,
            "justify_items": null,
            "left": null,
            "margin": null,
            "max_height": null,
            "max_width": null,
            "min_height": null,
            "min_width": null,
            "object_fit": null,
            "object_position": null,
            "order": null,
            "overflow": null,
            "overflow_x": null,
            "overflow_y": null,
            "padding": null,
            "right": null,
            "top": null,
            "visibility": null,
            "width": null
          }
        },
        "df2476e1131644b4ad976c5b6aef6eaf": {
          "model_module": "@jupyter-widgets/controls",
          "model_name": "DescriptionStyleModel",
          "model_module_version": "1.5.0",
          "state": {
            "_model_module": "@jupyter-widgets/controls",
            "_model_module_version": "1.5.0",
            "_model_name": "DescriptionStyleModel",
            "_view_count": null,
            "_view_module": "@jupyter-widgets/base",
            "_view_module_version": "1.2.0",
            "_view_name": "StyleView",
            "description_width": ""
          }
        },
        "adab24d136af49108990d1302e4a9607": {
          "model_module": "@jupyter-widgets/output",
          "model_name": "OutputModel",
          "model_module_version": "1.0.0",
          "state": {
            "_dom_classes": [],
            "_model_module": "@jupyter-widgets/output",
            "_model_module_version": "1.0.0",
            "_model_name": "OutputModel",
            "_view_count": null,
            "_view_module": "@jupyter-widgets/output",
            "_view_module_version": "1.0.0",
            "_view_name": "OutputView",
            "layout": "IPY_MODEL_b4190f8f9d654364af8cbd68eca33858",
            "msg_id": "",
            "outputs": [
              {
                "output_type": "display_data",
                "data": {
                  "text/plain": "<Figure size 1000x800 with 2 Axes>",
                  "image/png": "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\n"
                },
                "metadata": {}
              }
            ]
          }
        },
        "b4190f8f9d654364af8cbd68eca33858": {
          "model_module": "@jupyter-widgets/base",
          "model_name": "LayoutModel",
          "model_module_version": "1.2.0",
          "state": {
            "_model_module": "@jupyter-widgets/base",
            "_model_module_version": "1.2.0",
            "_model_name": "LayoutModel",
            "_view_count": null,
            "_view_module": "@jupyter-widgets/base",
            "_view_module_version": "1.2.0",
            "_view_name": "LayoutView",
            "align_content": null,
            "align_items": null,
            "align_self": null,
            "border": null,
            "bottom": null,
            "display": null,
            "flex": null,
            "flex_flow": null,
            "grid_area": null,
            "grid_auto_columns": null,
            "grid_auto_flow": null,
            "grid_auto_rows": null,
            "grid_column": null,
            "grid_gap": null,
            "grid_row": null,
            "grid_template_areas": null,
            "grid_template_columns": null,
            "grid_template_rows": null,
            "height": null,
            "justify_content": null,
            "justify_items": null,
            "left": null,
            "margin": null,
            "max_height": null,
            "max_width": null,
            "min_height": null,
            "min_width": null,
            "object_fit": null,
            "object_position": null,
            "order": null,
            "overflow": null,
            "overflow_x": null,
            "overflow_y": null,
            "padding": null,
            "right": null,
            "top": null,
            "visibility": null,
            "width": null
          }
        }
      }
    }
  },
  "cells": [
    {
      "cell_type": "markdown",
      "metadata": {
        "id": "view-in-github",
        "colab_type": "text"
      },
      "source": [
        "<a href=\"https://colab.research.google.com/github/KhuramC/SoftwareTutorials/blob/main/B1_Creating_A_Single_Cell_Model_v2.ipynb\" target=\"_parent\"><img src=\"https://colab.research.google.com/assets/colab-badge.svg\" alt=\"Open In Colab\"/></a>"
      ]
    },
    {
      "cell_type": "markdown",
      "source": [
        "# Creating A Single Cell in NEURON\n",
        "This lab will go over the morphology of a cell and how it is simulated in NEURON. It will also go over how to change the morphology by adding channels. Lastly it will go over how to make a simulation of the cell using either voltage/current clamps in NEURON."
      ],
      "metadata": {
        "id": "t9TP_julMyQE"
      }
    },
    {
      "cell_type": "markdown",
      "source": [
        "#Components of a Neuron\n",
        "Before we get to simulating a neuron, we need to know what to put in the soma of the neuron.\n",
        "Create a list of all the necessary components of the soma and then draw the\n",
        "\n",
        "1.   Create a list of the all necessary components for the soma.\n",
        "2.   Draw the soma and label it with all of the components.\n",
        "Hint: Draw the electrical circuit of the soma and show the 1:1 pairing to help make sure you have everything.\n",
        "\n",
        "In the meantime, we will install NEURON and import some libraries that will be useful later. A refresher on the electrical circuit model and how neurons are electrical circuits is provided below.\n"
      ],
      "metadata": {
        "id": "QGe4-V-8KSX1"
      }
    },
    {
      "cell_type": "code",
      "execution_count": 1,
      "metadata": {
        "colab": {
          "base_uri": "https://localhost:8080/",
          "height": 356
        },
        "id": "-7Ms6GYDvszj",
        "outputId": "ae8bb85e-bfee-4553-84ea-0a39855fff15"
      },
      "outputs": [
        {
          "output_type": "stream",
          "name": "stdout",
          "text": [
            "Requirement already satisfied: neuron in /usr/local/lib/python3.10/dist-packages (8.2.3)\n",
            "Requirement already satisfied: numpy>=1.9.3 in /usr/local/lib/python3.10/dist-packages (from neuron) (1.23.5)\n"
          ]
        },
        {
          "output_type": "execute_result",
          "data": {
            "text/plain": [
              "<IPython.lib.display.YouTubeVideo at 0x7b29d1354fd0>"
            ],
            "text/html": [
              "\n",
              "        <iframe\n",
              "            width=\"400\"\n",
              "            height=\"300\"\n",
              "            src=\"https://www.youtube.com/embed/LdumhvDBpzQ\"\n",
              "            frameborder=\"0\"\n",
              "            allowfullscreen\n",
              "            \n",
              "        ></iframe>\n",
              "        "
            ],
            "image/jpeg": "[encoded data removed]"
          },
          "metadata": {},
          "execution_count": 1
        }
      ],
      "source": [
        "RunningInCOLAB = 'google.colab' in str(get_ipython())\n",
        "if RunningInCOLAB:\n",
        "  !pip install neuron #installs NEURON if in google Colab\n",
        "\n",
        "from IPython.display import YouTubeVideo\n",
        "YouTubeVideo('LdumhvDBpzQ')"
      ]
    },
    {
      "cell_type": "code",
      "source": [
        "YouTubeVideo('YQsSrW5oX80')"
      ],
      "metadata": {
        "colab": {
          "base_uri": "https://localhost:8080/",
          "height": 322
        },
        "id": "oPyWPzu7AcAR",
        "outputId": "d36319b9-dcce-42b5-c64d-7cfa34c1c75e"
      },
      "execution_count": 2,
      "outputs": [
        {
          "output_type": "execute_result",
          "data": {
            "text/plain": [
              "<IPython.lib.display.YouTubeVideo at 0x7b29d04bfd90>"
            ],
            "text/html": [
              "\n",
              "        <iframe\n",
              "            width=\"400\"\n",
              "            height=\"300\"\n",
              "            src=\"https://www.youtube.com/embed/YQsSrW5oX80\"\n",
              "            frameborder=\"0\"\n",
              "            allowfullscreen\n",
              "            \n",
              "        ></iframe>\n",
              "        "
            ],
            "image/jpeg": "[encoded data removed]"
          },
          "metadata": {},
          "execution_count": 2
        }
      ]
    },
    {
      "cell_type": "code",
      "source": [
        "from neuron import h\n",
        "import matplotlib.pyplot as plt\n",
        "import numpy as np\n",
        "h.load_file('stdrun.hoc')"
      ],
      "metadata": {
        "colab": {
          "base_uri": "https://localhost:8080/"
        },
        "id": "YLqBiEU2qxGY",
        "outputId": "f89ff276-a619-4560-eb79-fe5f5aba90aa"
      },
      "execution_count": 3,
      "outputs": [
        {
          "output_type": "execute_result",
          "data": {
            "text/plain": [
              "1.0"
            ]
          },
          "metadata": {},
          "execution_count": 3
        }
      ]
    },
    {
      "cell_type": "markdown",
      "source": [
        "# Components of a Neuron Continued\n",
        "Your drawing should highlight the current injection into the soma, the neuron as a capacitor with liquid plates, the leak channel acting as a resistor and battery based off its reversal potential, amongst a couple of more concepts. An example of a drawing of the biological model of a neuron is given here:\n",
        "![thumbnail_4590 Neuron as an electrical circuit Jingsong Tan 2022-3.png](data:image/png;base64,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)"
      ],
      "metadata": {
        "id": "IvI5-yRRP9HE"
      }
    },
    {
      "cell_type": "markdown",
      "source": [
        "This video goes over the the lipid bilayer surrounding the cell real quick as a review as well."
      ],
      "metadata": {
        "id": "Ajw69eI5TOtm"
      }
    },
    {
      "cell_type": "code",
      "source": [
        "YouTubeVideo('x8ROEj2SFes')"
      ],
      "metadata": {
        "colab": {
          "base_uri": "https://localhost:8080/",
          "height": 322
        },
        "id": "cZ1guTpyTWxk",
        "outputId": "b734fbe6-177e-420f-ee23-5470f1ef6d01"
      },
      "execution_count": 4,
      "outputs": [
        {
          "output_type": "execute_result",
          "data": {
            "text/plain": [
              "<IPython.lib.display.YouTubeVideo at 0x7b29d13571c0>"
            ],
            "text/html": [
              "\n",
              "        <iframe\n",
              "            width=\"400\"\n",
              "            height=\"300\"\n",
              "            src=\"https://www.youtube.com/embed/x8ROEj2SFes\"\n",
              "            frameborder=\"0\"\n",
              "            allowfullscreen\n",
              "            \n",
              "        ></iframe>\n",
              "        "
            ],
            "image/jpeg": "[encoded data removed]"
          },
          "metadata": {},
          "execution_count": 4
        }
      ]
    },
    {
      "cell_type": "markdown",
      "source": [
        "# From Drawings to Code\n",
        "So how do we create the soma with these things within NEURON? It's actually very simple. NEURON defines parts of the cell as sections. NEURON defines sections as cylindrical sections, with a diameter and a length.  A dendrite would be one section, the soma another, and and axon as the last. When created, such sections are populated by default values.\n",
        "\n",
        "![image](https://raw.githubusercontent.com/chenziao/Software_Tutorials_Colab/main/S1_PassiveMembrane/cylinder.png)\n",
        "\n",
        "Every section can then be further subdivided into segments, which are equally lengthed segments that divide the section. Since nothing special is occuring in this notebook, we will divide the soma into three segments.\n",
        "\n"
      ],
      "metadata": {
        "id": "ud2WmGp_UdVe"
      }
    },
    {
      "cell_type": "code",
      "source": [
        "soma = h.Section(name='soma') #creates soma\n",
        "soma.nseg = 3 #defines how many segments to divide soma into\n",
        "print(\"The default length is \" + str(soma.L) + \" microns\")\n",
        "print(\"The default diameter is \" + str(soma.diam) + \" microns\")\n",
        "print(\"The default capacitance is \" + str(soma.cm) + \" microFarad / cm^2\")\n",
        "print(\"The default cytoplasmic resistivity is \" + str(soma.Ra) + \" ohm-cm\")\n",
        "soma_length = soma.L\n",
        "soma_diam = soma.diam"
      ],
      "metadata": {
        "id": "ICK852Tkq0tM",
        "colab": {
          "base_uri": "https://localhost:8080/"
        },
        "outputId": "980d9454-e867-4be6-c3aa-5e720757ebd9"
      },
      "execution_count": 5,
      "outputs": [
        {
          "output_type": "stream",
          "name": "stdout",
          "text": [
            "The default length is 100.0 microns\n",
            "The default diameter is 500.0 microns\n",
            "The default capacitance is 1.0 microFarad / cm^2\n",
            "The default cytoplasmic resistivity is 35.4 ohm-cm\n"
          ]
        }
      ]
    },
    {
      "cell_type": "markdown",
      "source": [
        "These values are unrealistic for mammalian neurons since they come from Hodgkin and Huxley's experiments with a squid giant axon. However, we can always change them to something different. Here we changed the diameter to be 20 microns.\n",
        "For more information on some neurons' typical geometries, click [here.](https://synapseweb.clm.utexas.edu/dimensions-dendrites)"
      ],
      "metadata": {
        "id": "EbXSEVWfBFLy"
      }
    },
    {
      "cell_type": "markdown",
      "source": [
        "# Adding Leak/Passive Channels\n",
        "One might notice that there is many things missing from our model so far. We have no channels, and as a result there is not even a resting membrane potential. So first, let's add the passive/leak channels to our soma.\n"
      ],
      "metadata": {
        "id": "AAa26wkHCHWP"
      }
    },
    {
      "cell_type": "code",
      "source": [
        "soma.insert('pas') #inserts passive channel\n",
        "print(\"Default E_leak = \" +str(soma.e_pas) + \" mV\")\n",
        "print(\"Default g_leak = \" + str(soma.g_pas) + \" S/cm^2\")"
      ],
      "metadata": {
        "id": "jECW0hoB8iiS",
        "colab": {
          "base_uri": "https://localhost:8080/"
        },
        "outputId": "eca6e358-21fe-461c-f553-6b5ad55aa703"
      },
      "execution_count": 6,
      "outputs": [
        {
          "output_type": "stream",
          "name": "stdout",
          "text": [
            "Default E_leak = -70.0 mV\n",
            "Default g_leak = 0.001 S/cm^2\n"
          ]
        }
      ]
    },
    {
      "cell_type": "markdown",
      "source": [
        "The resting membrane potential is just e_leak. In this case, the default values are realistic."
      ],
      "metadata": {
        "id": "eeiC5qARFse-"
      }
    },
    {
      "cell_type": "markdown",
      "source": [
        "# Adding Active Channels\n",
        "We have everything to model a passive membrane. However, active channels do exist, and can also be added. We will be inserting Hodgkin-Huxley channels to the soma, so their defaults will also be based off the squid giant axon. These hh channels also include a leak channel based off the squid giant axon, which we will not be using since we already have leak channels.\n",
        "\n"
      ],
      "metadata": {
        "id": "44E9tu-6k1KB"
      }
    },
    {
      "cell_type": "code",
      "source": [
        "soma.insert('hh') #insert Hodgkin-Huxley channels\n",
        "print(\"Default El_hh = \" +str(soma.el_hh) + \" mV\")\n",
        "print(\"Default gl_hh = \" + str(soma.gl_hh) + \" S/cm^2\")\n",
        "print(\"Default Ek = \" +str(soma.ek) + \" mV\")\n",
        "print(\"Default gkbar_hh = \" + str(soma.gkbar_hh) + \" S/cm^2\")\n",
        "print(\"Default Ena = \" +str(soma.ena) + \" mV\")\n",
        "print(\"Default gnabar_hh = \" + str(soma.gnabar_hh) + \" S/cm^2\")\n",
        "soma.gl_hh = 0 #changing soma's gleak_hh to be 0 as we already have passive channels, effectively not having it."
      ],
      "metadata": {
        "id": "FHbWMktSk1gx",
        "colab": {
          "base_uri": "https://localhost:8080/"
        },
        "outputId": "0cd2b5bb-5a8c-457b-e101-10689b6c33eb"
      },
      "execution_count": 7,
      "outputs": [
        {
          "output_type": "stream",
          "name": "stdout",
          "text": [
            "Default El_hh = -54.3 mV\n",
            "Default gl_hh = 0.0003 S/cm^2\n",
            "Default Ek = -77.0 mV\n",
            "Default gkbar_hh = 0.036 S/cm^2\n",
            "Default Ena = 50.0 mV\n",
            "Default gnabar_hh = 0.12 S/cm^2\n"
          ]
        }
      ]
    },
    {
      "cell_type": "markdown",
      "source": [
        "#Current Clamp\n",
        "A current clamp injects a steady current into the soma and is typically used to measure the change in voltage. Current Clamps have four parameters: the location(so where in the soma on a 0-1 scale), the duration(how long you will be injecting current for), the amplitude(how much current), and delay(how long will you wait until you inject)."
      ],
      "metadata": {
        "id": "Ci661pi0s69c"
      }
    },
    {
      "cell_type": "code",
      "source": [
        "ic = h.IClamp(soma(0.5)) # middle of soma\n",
        "ic.dur = 2.5 #ms\n",
        "ic.amp = 50 #nA\n",
        "ic.delay = 100 #ms"
      ],
      "metadata": {
        "id": "sb0a20OQtMpd"
      },
      "execution_count": 8,
      "outputs": []
    },
    {
      "cell_type": "markdown",
      "source": [
        "#Extras: Voltage Clamp\n",
        "A voltage clamp holds the voltage at a steady state value and is used to measure the current. Voltage clamps do not have a delay parameter. We will only be showcasing current clamp in this lab, but the commented code below shows how one could implement a voltage clamp."
      ],
      "metadata": {
        "id": "nZqPxIu4Itz8"
      }
    },
    {
      "cell_type": "code",
      "source": [
        "#vc = h.VClamp(soma(0.5)) #middle of soma\n",
        "#vc.dur[0] = 500 #ms\n",
        "#vc.amp[0] = -10 #mV"
      ],
      "metadata": {
        "id": "9wuIDocMNxtP"
      },
      "execution_count": 9,
      "outputs": []
    },
    {
      "cell_type": "markdown",
      "source": [
        "# Running a Simulation\n",
        "Now we have a full cell with the necessary things. But how is the voltage going to change due to our clamps? If we start a simulation, we can find out. But we need to define how long the simulation is, how long each step forward in the simulation, and record the values throughout the simulation."
      ],
      "metadata": {
        "id": "5aEP6mh72tzC"
      }
    },
    {
      "cell_type": "code",
      "source": [
        "h.v_init= soma.e_pas #initial voltage is the resting membrane potential of the soma\n",
        "h.tstop = tstop = 200 # how long to run the simulation in ms\n",
        "h.dt = 0.025 # time step (resolution) of the simulation in ms\n",
        "\n",
        "# define two vectors for recording variables\n",
        "t_vec = h.Vector()\n",
        "soma_v_vec = h.Vector()\n",
        "# record the voltage (_ref_v) and time (_ref_t) and voltage(_ref_v) into the vectors we just created\n",
        "t_vec.record(h._ref_t)\n",
        "soma_v_vec.record(soma(0.5)._ref_v)\n",
        "h.run()"
      ],
      "metadata": {
        "id": "7tNzaEcF2YzV",
        "colab": {
          "base_uri": "https://localhost:8080/"
        },
        "outputId": "bf8346cc-bcd5-4d45-989b-b8b85868691e"
      },
      "execution_count": 10,
      "outputs": [
        {
          "output_type": "execute_result",
          "data": {
            "text/plain": [
              "0.0"
            ]
          },
          "metadata": {},
          "execution_count": 10
        }
      ]
    },
    {
      "cell_type": "markdown",
      "source": [
        "# Plotting Results\n",
        "Even though we've ran the simulation, we need to show the results. Matplotlib allows us to graph our results with respect to time.\n",
        "What do you think will happen to the soma's voltage throughout the simulation?\n"
      ],
      "metadata": {
        "id": "qTOR0-1f5Z7W"
      }
    },
    {
      "cell_type": "code",
      "source": [
        "fig, axs = plt.subplots(1,1,figsize=(10, 8))\n",
        "axs.plot(t_vec,soma_v_vec) #plotting time vs current\n",
        "axs.set_title(str(soma) + ' voltage')\n",
        "axs.set_xlabel('Time(ms)')\n",
        "axs.set_ylabel('Current (mV)')\n",
        "plt.show()"
      ],
      "metadata": {
        "id": "NZcK8cR05ukC",
        "colab": {
          "base_uri": "https://localhost:8080/",
          "height": 718
        },
        "outputId": "912ef358-b710-48fd-f84f-3b7a8c371a1f"
      },
      "execution_count": 11,
      "outputs": [
        {
          "output_type": "display_data",
          "data": {
            "text/plain": [
              "<Figure size 1000x800 with 1 Axes>"
            ],
            "image/png": "[encoded data removed]"
          },
          "metadata": {}
        }
      ]
    },
    {
      "cell_type": "markdown",
      "source": [
        "An action potential occurs with the default values."
      ],
      "metadata": {
        "id": "uU8BvdJT9K4J"
      }
    },
    {
      "cell_type": "markdown",
      "source": [
        "#But What does the Soma with Channels Actually Look Like?\n",
        "Below is an interactive tool that allows you too see how the morphology of the soma changes depending on the soma's length, diameter, and what channels are inserted in. You can then also see how that will change what happens to the soma's voltage throughout the simulation.\n"
      ],
      "metadata": {
        "id": "nPRMrk_M52Uh"
      }
    },
    {
      "cell_type": "code",
      "source": [
        "#function for graphing soma morphology and voltage\n",
        "def graph(soma_length,soma_diam,leak_channel,k_channel,na_channel,t_vec,soma_v_vec):\n",
        "  #Create the plot\n",
        "  fig, axs = plt.subplots(2,1,figsize=(10, 8))\n",
        "  #plt.figure(figsize=(10, 6))\n",
        "  #Add channels if they exist.\n",
        "  if(leak_channel == 'Leak Channels'):\n",
        "    for i in range(int(soma_length)):\n",
        "      if(i % int(soma_length / 6 + 1) == 0 and i > 0):\n",
        "        axs[0].plot(i, soma_diam/2+1, marker = 'x', color = 'red')\n",
        "        axs[0].plot(i, -(soma_diam/2), marker= 'x', color = 'red')\n",
        "  if(k_channel == 'K+ Channels'):\n",
        "    for i in range(int(soma_length)):\n",
        "      if(i % int(soma_length / 4 + 1) == 0 and i > 0):\n",
        "        axs[0].plot(i, soma_diam/2+1, marker = 'o', color = 'blue')\n",
        "        axs[0].plot(i, -(soma_diam/2), marker= 'o', color = 'blue')\n",
        "  if(na_channel == 'Na+ Channels'):\n",
        "    for i in range(int(soma_length)):\n",
        "      if(i % int(soma_length / 5 + 1) == 0 and i > 0):\n",
        "        axs[0].plot(i, soma_diam/2+1, marker = 'D', color = 'purple')\n",
        "        axs[0].plot(i, -(soma_diam/2), marker= 'D', color = 'purple')\n",
        "        continue\n",
        "\n",
        "\n",
        "  # Add title and labels\n",
        "  axs[0].set_title('Soma morphology')\n",
        "  axs[0].set_xlabel('Length(in micrometers)')\n",
        "  axs[0].set_ylabel('Height(in micrometers)')\n",
        "  #ax = plt.gca()\n",
        "  axs[0].set_ylim(-soma_diam*10,soma_diam*10)\n",
        "  soma_xcoords = [0,soma_length]\n",
        "  axs[0].fill_between(soma_xcoords, soma_diam/2,-soma_diam/2, color = 'black') #soma rectangle\n",
        "\n",
        "\n",
        "\n",
        "  axs[1].plot(t_vec,soma_v_vec) #plotting time vs current\n",
        "  axs[1].set_title(str(soma) + ' voltage')\n",
        "  axs[1].set_xlabel('Time(ms)')\n",
        "  axs[1].set_ylabel('Current (mV)')\n",
        "  plt.tight_layout()\n",
        "  plt.show()\n",
        "  # Show the plot\n",
        "\n",
        "\n"
      ],
      "metadata": {
        "id": "_UN6q9j454y-"
      },
      "execution_count": 12,
      "outputs": []
    },
    {
      "cell_type": "code",
      "source": [
        "def activemodel(soma_length,soma_diam,tstop, ic_dur,ic_amp,ic_delay,leak_channel,k_channel,na_channel):\n",
        "  #ic = h.IClamp(soma(0.5)) # middle of soma\n",
        "  h.v_init= soma.e_pas #initial voltage is the resting membrane potential of the soma\n",
        "\n",
        "  h.dt = 0.025 # time step (resolution) of the simulation in ms\n",
        "  # define two vectors for recording variables\n",
        "  t_vec = h.Vector()\n",
        "  soma_v_vec = h.Vector()\n",
        "\n",
        "  # record the voltage (_ref_v) and time (_ref_t) and voltage(_ref_v) into the vectors we just created\n",
        "  t_vec.record(h._ref_t)\n",
        "  soma_v_vec.record(soma(0.5)._ref_v)\n",
        "\n",
        "  h.tstop = tstop\n",
        "  ic.dur = ic_dur\n",
        "  ic.amp = ic.amp\n",
        "  ic.delay = ic_delay\n",
        "  if(leak_channel == 'Leak Channels'):\n",
        "    soma.g_pas = 0.001 #S/cm^2\n",
        "  else:\n",
        "    soma.g_pas = 0\n",
        "  if(k_channel == 'K+ Channels'):\n",
        "    soma.gkbar_hh = 0.036 #S/cm^2\n",
        "  else:\n",
        "    soma.gkbar_hh = 0\n",
        "  if(na_channel == 'Na+ Channels'):\n",
        "    soma.gnabar_hh = 0.12 #S/cm^2\n",
        "  else:\n",
        "    soma.gnabar_hh = 0\n",
        "  h.run()\n",
        "  plt.close('all')\n",
        "  graph(soma_length,soma_diam,leak_channel,k_channel,na_channel,t_vec,soma_v_vec)\n"
      ],
      "metadata": {
        "id": "qWJt0nVcAHVi"
      },
      "execution_count": 13,
      "outputs": []
    },
    {
      "cell_type": "code",
      "source": [
        "import ipywidgets as widgets\n",
        "from ipywidgets import interactive_output,HBox,VBox,Label,Layout\n",
        "from IPython.display import display\n",
        "\n",
        "#default settings\n",
        "default_soma_length = 100 #microns\n",
        "default_soma_diam = 500 #microns\n",
        "default_leak_channel = 'No Leak Channels' #S/cm^2\n",
        "default_g_pas = 0.003 #S/cm^2\n",
        "default_k_channel = 'No K+ Channels' #S/cm^2\n",
        "default_na_channel = 'No Na+ Channels' #S/cm^2\n",
        "default_tstop = 200 # how long to run the simulation in ms\n",
        "default_ic_dur = 2.5 #ms\n",
        "default_ic_amp = 50 #nA\n",
        "default_ic_delay = 100 #ms\n",
        "\n",
        "#Reset button\n",
        "w_reset = widgets.Button(description ='Reset', icon = 'history', button_style ='primary')\n",
        "\n",
        "#Textboxes\n",
        "w_soma_length = widgets.BoundedFloatText(value = default_soma_length, min = 1, max = 10000, description = 'Length (um)')\n",
        "w_soma_diam = widgets.BoundedFloatText(value = default_soma_diam, min = 1, max = 10000, description = 'Diameter (um)')\n",
        "w_tstop = widgets.BoundedFloatText(value = default_tstop, min = 5, max = 1000, description = 'Tstop(ms)')\n",
        "w_ic_dur = widgets.BoundedFloatText(value = default_ic_dur,min = 1, max = 500, description = 'Injection(ms)')\n",
        "w_ic_amp = widgets.BoundedFloatText(value = default_ic_amp, min = -100, max = 100, description = 'Amp(nA)')\n",
        "w_ic_delay = widgets.BoundedFloatText(value = default_ic_delay,min = 1, max = 400, description = 'Delay(ms)')\n",
        "\n",
        "#defining reset\n",
        "def reset_default(*args):\n",
        "  w_soma_length.value = default_soma_length\n",
        "  w_soma_diam.value = default_soma_diam\n",
        "  passive_select.value = 'No Leak Channels'\n",
        "  k_select.value = 'No K+ Channels'\n",
        "  na_select.value = 'No Na+ Channels'\n",
        "  w_tstop.value = default_tstop\n",
        "  w_ic_dur.value = default_ic_dur\n",
        "  w_ic_amp.value = default_ic_amp\n",
        "  w_ic_delay.value = default_ic_delay\n",
        "w_reset.on_click(reset_default)\n",
        "\n",
        "#radio buttons for channel selections\n",
        "passive_select = widgets.RadioButtons(options = ['Leak Channels', 'No Leak Channels'], value = 'No Leak Channels',description = 'Leak:', disabled = False)\n",
        "k_select = widgets.RadioButtons(options = ['K+ Channels', 'No K+ Channels'], value = 'No K+ Channels', description = 'K+:', disabled = False)\n",
        "na_select = widgets.RadioButtons(options = ['Na+ Channels', 'No Na+ Channels'], value = 'No Na+ Channels', description = 'Na+:', disabled = False)\n",
        "\n",
        "#saying what function to be done based on the widget values\n",
        "out = interactive_output(activemodel,{'soma_length': w_soma_length,'soma_diam':w_soma_diam,'tstop':w_tstop,'ic_dur':w_ic_dur,'ic_amp':w_ic_amp,'ic_delay':w_ic_delay,'leak_channel':passive_select,'k_channel':k_select,'na_channel':na_select})\n",
        "#how to display the buttons/widgets\n",
        "ui = HBox([w_reset,VBox([w_soma_length,w_soma_diam]),VBox([passive_select,k_select,na_select]),VBox([w_tstop,w_ic_dur,w_ic_amp,w_ic_delay])])\n",
        "\n",
        "\n",
        "display(ui,out)"
      ],
      "metadata": {
        "colab": {
          "base_uri": "https://localhost:8080/",
          "height": 999,
          "referenced_widgets": [
            "c72bc676a3734acbae762af6ef2c4dda",
            "0d348254f634475da342c6f5e6c15615",
            "e77529a340934df2b61624fe9edae5fe",
            "7af87d250425462f9ceae87157db1483",
            "e571a99a048942c89dc572c797ebab63",
            "5c3d015cde344f7ab333d7c07d66b0db",
            "7bee0e1b010a40b78193a95289aa6c4e",
            "79fb791c0da2405b9099be416ea8af52",
            "a32e933fb91b439f9d8ec6ff26142349",
            "612f7c7b33b24c80b8caadeea02d329e",
            "69f7d839d00742f19c8f55e5b1e7865f",
            "84cb93c9d42f450c8264c28a3435e664",
            "87552f1510dc4c37b0c35a742af2400c",
            "d4c7e0173bcd48b29da2fc6a903bfcdd",
            "51a243b83cff446b8c2528a0d2686cad",
            "00d43b8715104ab09f1dc33cd3d4ab4c",
            "3313dffcf04a42ce88afb7f00d8819ce",
            "dc8e89d93dbf4234939e3a6a16b1dec7",
            "842a9d80e3ec459db3349f7071086ac5",
            "9f590b2621e34fe9bc96eeeb4843e2fd",
            "0ec289af99c647c3bc5a6055bd26a32b",
            "00a15d1dc81f4e20972eb56f43bc64b5",
            "2bf2e7e611424688afaa5bef897cd81c",
            "099c166c44ec4d1982981bb8e9435a33",
            "7984227e43a2489dad750f5c5ffc4b78",
            "cfa76b0dcd5e400ebdc842b73602c477",
            "dde0a4345dd7421c832471a7b9146cb7",
            "f4f18abedfc547579d7b48e38690bbf8",
            "3db97f6e2cf548f980532cf00921193b",
            "20b397bb85b748edbd52581206edb896",
            "157e4fd104bb48ac99089dc9ed2b2b07",
            "ad9b3b34d26d4556abf334bfe5fcf093",
            "fd6e3ee58e9a4ce3a612ce1ce6ec0f84",
            "726081e783bf4352b9ff823dc60b515a",
            "56ad3cd9a1164aca96292f0130223045",
            "bc524716a16b4d9585857e4dcbf19052",
            "34b78804426b4ad2bdd22d545c014cc0",
            "df2476e1131644b4ad976c5b6aef6eaf",
            "adab24d136af49108990d1302e4a9607",
            "b4190f8f9d654364af8cbd68eca33858"
          ]
        },
        "id": "S1KrXyo_55A4",
        "outputId": "8ba7dce6-37d6-46ed-f374-e8e3c837b473"
      },
      "execution_count": 19,
      "outputs": [
        {
          "output_type": "display_data",
          "data": {
            "text/plain": [
              "HBox(children=(Button(button_style='primary', description='Reset', icon='history', style=ButtonStyle()), VBox(…"
            ],
            "application/vnd.jupyter.widget-view+json": {
              "version_major": 2,
              "version_minor": 0,
              "model_id": "c72bc676a3734acbae762af6ef2c4dda"
            }
          },
          "metadata": {}
        },
        {
          "output_type": "display_data",
          "data": {
            "text/plain": [
              "Output()"
            ],
            "application/vnd.jupyter.widget-view+json": {
              "version_major": 2,
              "version_minor": 0,
              "model_id": "adab24d136af49108990d1302e4a9607"
            }
          },
          "metadata": {}
        }
      ]
    },
    {
      "cell_type": "markdown",
      "source": [
        "# Extras: Adding More Sections\n",
        "A neuron is more than just a soma, why not add something else, like an axon.\n",
        "An axon is also just a section and can be created in the same way, but it does need to be connected to the soma. Here we demonstrate how to add an axon and connect it to the soma, but we will not be focusing on it really in this lab. A video going over the full structure of the neuron, including all the sections is available here though."
      ],
      "metadata": {
        "id": "MT33CSH3j4vo"
      }
    },
    {
      "cell_type": "code",
      "source": [
        "#axon = h.Section('axon')\n",
        "#axon.L = 40\n",
        "#axon.nseg = 3 # divided into 3 equally lengthed segments\n",
        "#axon.connect(soma(1)) #connect axon to the right end of the soma\n",
        "#h.topology() # shows topology of full cell\n",
        "YouTubeVideo('HZh0A-lWSmY')"
      ],
      "metadata": {
        "id": "J4pOjOrskPap",
        "colab": {
          "base_uri": "https://localhost:8080/",
          "height": 322
        },
        "outputId": "da39cd7d-cef0-49a5-a037-bc377706b577"
      },
      "execution_count": 15,
      "outputs": [
        {
          "output_type": "execute_result",
          "data": {
            "text/plain": [
              "<IPython.lib.display.YouTubeVideo at 0x7b29d050bf70>"
            ],
            "text/html": [
              "\n",
              "        <iframe\n",
              "            width=\"400\"\n",
              "            height=\"300\"\n",
              "            src=\"https://www.youtube.com/embed/HZh0A-lWSmY\"\n",
              "            frameborder=\"0\"\n",
              "            allowfullscreen\n",
              "            \n",
              "        ></iframe>\n",
              "        "
            ],
            "image/jpeg": "[encoded data removed]"
          },
          "metadata": {},
          "execution_count": 15
        }
      ]
    },
    {
      "cell_type": "markdown",
      "source": [
        "# Conclusion\n",
        "You should now know how NEURON simulates a neuron, how to create a single cell model with channels using NEURON, the morphology of the soma, and how to use NEURON to conduct experiments/simulations of your own. For more help on how to use NEURON, click [here](http://web.mit.edu/neuron_v7.4/nrntuthtml/tutorial/tutA.html) and [here.](https://nrn.readthedocs.io/en/latest/tutorials/scripting-neuron-basics.html)"
      ],
      "metadata": {
        "id": "cTYQv8Ok-dWx"
      }
    }
  ]
}